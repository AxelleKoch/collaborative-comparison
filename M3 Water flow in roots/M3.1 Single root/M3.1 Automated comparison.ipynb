{
 "cells": [
  {
   "cell_type": "markdown",
   "metadata": {},
   "source": [
    "# Benchmark M3.1: A Single Root in a Static Soil\n",
    "\n",
    "by Daniel Leitner, Andrea Schnepf, Felicien Meunier\n",
    "\n",
    "##Comparison to numerical solutions\n",
    "\n",
    "We compare different numerical codes by solving the benchmarking problems. In the following we link to notebooks implement Benchmark M3.1.\n",
    "\n",
    "    [Python Code from Schnepf et al. 2018](Xylem flux - Python code.ipynb)\n",
    "    [Dumux](Xylem flux - Dumux.ipynb)\n",
    "\n",
    "For an automatic comparison of the numerical results, save the results in a text file with two lines, containing comma separated depth values [cm] in the first line, and pressure head [cm] in the second, located in the folder `/M31 Numerical results/simulatorname`."
   ]
  },
  {
   "cell_type": "code",
   "execution_count": 1,
   "metadata": {},
   "outputs": [],
   "source": [
    "import os\n",
    "import numpy as np\n",
    "import matplotlib.pyplot as plt\n",
    "from math import *"
   ]
  },
  {
   "cell_type": "code",
   "execution_count": 2,
   "metadata": {},
   "outputs": [],
   "source": [
    "L = 50            # length of single straight root [cm]\n",
    "a = 0.2           # radius  [cm]\n",
    "kx = 0.0432        # axial conductivity [cm^3 / day] \n",
    "kr = 1.73e-4       # radial conductivity [1 / day]\n",
    "p_s = -200        # static soil matric potiential [cm]\n",
    "p0 = -1000        # dirichlet bc at top [cm]"
   ]
  },
  {
   "cell_type": "code",
   "execution_count": 3,
   "metadata": {},
   "outputs": [],
   "source": [
    "# Analytical solution\n",
    "c = 2*a*pi*kr/kx\n",
    "p_r = lambda z: p_s + d[0]*exp(sqrt(c)*z) + d[1]*exp(-sqrt(c)*z)\n",
    "\n",
    "# Boundary conditions\n",
    "AA = np.array([[1,1], [sqrt(c)*exp(sqrt(c)*(-L)), -sqrt(c)*exp(-sqrt(c)*(-L))] ]) \n",
    "bb = np.array([p0-p_s, -1]) \n",
    "d = np.linalg.solve(AA, bb) "
   ]
  },
  {
   "cell_type": "code",
   "execution_count": 4,
   "metadata": {
    "scrolled": true
   },
   "outputs": [
    {
     "data": {
      "image/png": "[encoded data removed]",
      "text/plain": [
       "<Figure size 504x504 with 1 Axes>"
      ]
     },
     "metadata": {
      "needs_background": "light"
     },
     "output_type": "display_data"
    },
    {
     "name": "stdout",
     "output_type": "stream",
     "text": [
      "Name\t\t N\t Rsme\t\t R²\t\t R\n",
      "DuMux\t\t 99 \t 312.34870481 \t 1.03641252 \t 0.99998507\n",
      "OpenSimRoot\t\t 108 \t 0.00239900 \t 0.99859583 \t 0.99999932\n"
     ]
    }
   ],
   "source": [
    "fig=plt.figure(figsize=(7,7))   # analytical solution\n",
    "y = np.linspace(0,-50,10)\n",
    "plt.plot(list(map(p_r, y)),y,\"r*\")\n",
    "\n",
    "j = 0 # number of files\n",
    "r, rsme, rsquare, nn = [], [], [], []\n",
    "col=[\"C2\",\"C0\",\"b\"]\n",
    "l = [\"analytic\"]\n",
    "for dirname, dirnames, filenames in os.walk('M31 Numerical results/.'):\n",
    "    filenames.sort()\n",
    "    for i,f in enumerate(filenames):\n",
    "        try:\n",
    "            l.append(f)\n",
    "            data = np.loadtxt(\"M31 Numerical results/\"+f,delimiter=',')\n",
    "            plt.plot(data[1,:],data[0,:],col[i]) # numeric solution         \n",
    "            j += 1     \n",
    "            # Evaluate\n",
    "            n = len(data[1,:])\n",
    "            nn.append(n)\n",
    "            pr_ = list(map(p_r, data[0,:])) # exact solution at data depth points  \n",
    "            # calculate R\n",
    "            om = np.mean(data[1,:])\n",
    "            pm = np.mean(pr_)\n",
    "            r_ =  np.sum((data[1,:]-om)*(pr_-pm)) / (np.sqrt(np.sum(np.square(data[1,:]-om)))*np.sqrt(np.sum(np.square(pr_-pm))) )\n",
    "            r.append(r_*r_)\n",
    "            # calculate R^2\n",
    "            meany = np.mean(data[1,:])\n",
    "            r2 = np.sum(np.square(pr_-meany)) / np.sum(np.square(data[1,:]-meany))                         \n",
    "            rsquare.append(r2)            \n",
    "            # calculate RSME\n",
    "            rsme_ = np.square(np.sum(np.square(data[1,:]-pr_)/n))\n",
    "            rsme.append(rsme_)                \n",
    "        except Exception as ex:\n",
    "            print(\"Something went wrong with file \"+f)    \n",
    "            print(ex)            \n",
    "plt.xlabel(\"$\\\\psi_r$ (cm)\")\n",
    "plt.ylabel(\"z (cm)\")\n",
    "plt.legend(l)\n",
    "#plt.xticks(np.arange(-6,4,3))\n",
    "#plt.yticks(np.arange(-16,1,4))\n",
    "plt.rc('font', size=20)          # controls default text sizes\n",
    "plt.rc('axes', titlesize=22)     # fontsize of the axes title\n",
    "plt.rc('axes', labelsize=22)    # fontsize of the x and y labels\n",
    "plt.rc('xtick', labelsize=20)    # fontsize of the tick labels\n",
    "plt.rc('ytick', labelsize=20)    # fontsize of the tick labels\n",
    "plt.rc('legend', fontsize=20)    # legend fontsize\n",
    "plt.rc('figure', titlesize=22)  # fontsize of the figure title\n",
    "#plt.savefig('m31_results.png', dpi=300, bbox_inches = \"tight\")\n",
    "plt.show()\n",
    "print(\"Name\\t\\t\", \"N\\t\", \"Rsme\\t\\t\", \"R²\\t\\t\", \"R\")\n",
    "for i in range(0,j):\n",
    "    print(l[i+1]+\"\\t\\t\",nn[i],\"\\t\",'{:2.8f}'.format(rsme[i]),\"\\t\", '{:2.8f}'.format(rsquare[i]),\"\\t\",'{:2.8f}'.format(r[i]) ) "
   ]
  },
  {
   "cell_type": "markdown",
   "metadata": {},
   "source": [
    "## References\n",
    "\n",
    "Doussan, C., Pierret, A., Garrigues, E., and Pages, L. (2006). Water uptake by plant roots: II - Modelling of water transfer in the soil root-system with explicit account of flow within the root system - comparison with experiments. *Plant and Soil*, 283(1-2):99–117.\n",
    "\n",
    "Roose, T. and Fowler, A. C. (2004). A model for water uptake by plant roots. *Journal of Theoretical Biology*, 228(2):155–171.\n",
    "\n",
    "Schnepf, A., Leitner, D., Landl, M., Lobet, G., Mai, T.H., Morandage S., Sheng, C., Zoerner, M., Vanderborght, J., Vereecken, H. (2018) CRootBox: a structural-functional modelling framework for root systems. *Annals of Botany*, 121 (5), 1033-1053\n"
   ]
  }
 ],
 "metadata": {
  "kernelspec": {
   "display_name": "Python 3",
   "language": "python",
   "name": "python3"
  },
  "language_info": {
   "codemirror_mode": {
    "name": "ipython",
    "version": 3
   },
   "file_extension": ".py",
   "mimetype": "text/x-python",
   "name": "python",
   "nbconvert_exporter": "python",
   "pygments_lexer": "ipython3",
   "version": "3.7.4"
  },
  "latex_envs": {
   "LaTeX_envs_menu_present": true,
   "autoclose": false,
   "autocomplete": true,
   "bibliofile": "biblio.bib",
   "cite_by": "apalike",
   "current_citInitial": 1,
   "eqLabelWithNumbers": true,
   "eqNumInitial": 1,
   "hotkeys": {
    "equation": "Ctrl-E",
    "itemize": "Ctrl-I"
   },
   "labels_anchors": false,
   "latex_user_defs": false,
   "report_style_numbering": false,
   "user_envs_cfg": false
  }
 },
 "nbformat": 4,
 "nbformat_minor": 2
}
