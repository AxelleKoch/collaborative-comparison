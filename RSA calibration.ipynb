{
 "cells": [
  {
   "cell_type": "markdown",
   "metadata": {},
   "source": [
    "# Module 1.1: RSA calibration\n",
    "\n",
    "by _Benjamin Delory_,  _Guillaume Lobet_, and _Andrea Schnepf_\n",
    "\n",
    "## Benchmark\n",
    "\n",
    "This Jupyter Notebook contains the data analysis pipeline for Module 1.1 (RSA calibration). \n",
    "\n",
    "In the context of our collaborative comparison framework, all root architecture models being compared are parameterized using a common set of metrics derived from 2D images of dicotyledonous (_Lupinus albus_) and monocotyledonous (_Zea mays_) root systems. Our root architecture benchmarking dataset contains two distinct sets of images:\n",
    "- [Images of lupine roots grown for 11 days in an aeroponic setup](https://github.com/RSA-benchmarks/collaborative-comparison/tree/master/root_architecture/img/dicot/lupin) (Lobet et al, 2011)\n",
    "- [Images of maize roots grown for 8 days on filter papers](https://github.com/RSA-benchmarks/collaborative-comparison/tree/master/root_architecture/img/monocot/maize) (Hund et al, 2009)\n",
    "\n",
    "All images were analysed using the semi-automated root image analysis software [SmartRoot](https://smartroot.github.io/) (Lobet et al, 2011) and root tracings were saved as [RSML](https://rootsystemml.github.io/) (Lobet et al, 2015) files for further analysis.\n",
    "\n",
    "In Module 1.1, modellers simulate root systems for the same duration as our ground truth experimental data (i.e., 11 days for lupine and 8 days for maize). Additional information is provided in Table 1 of the supporting paper.\n",
    "\n",
    "_**The aim of this first benchmarking exercise is to determine if root architecture models currently available are able to reproduce realistic root architectures based on a parameter set derived from experimental data.**_\n",
    "\n",
    "For this benchmark scenario, **two data analysis pipelines** are used to compare simulation outputs with ground truth experimental data (reference root systems).\n",
    "\n",
    "**Pipeline 1**: _Comparison of traits computed at the root system level between simulated and reference root systems_\n",
    "\n",
    "1. Identifying key morphological, architectural, and topological (Fitter indices) traits explaining differences between simulated and reference root systems using multivariate data analysis techniques (e.g., principal component analysis)\n",
    "\n",
    "2. Looking at when simulated and reference root systems start to diverge/converge with regard to the key root system traits identified in step 1 and how large these differences are\n",
    "\n",
    "3. Assessing the degree of dissimilarity between simulated and reference root systems using dissimilarity metrics\n",
    "\n",
    "**Pipeline 2**: _Comparing dissimilarities in architecture between simulated and reference root systems using persistent homology analysis_\n",
    "\n",
    "1. Computing a persistence barcode for each simulated and reference root system using a geodesic distance function\n",
    "\n",
    "2. Computing dissimilarities between persistence barcodes using a bottleneck distance\n",
    "\n",
    "3. Visualizing dissimilarities between root systems using multidimensional scaling\n",
    "\n",
    "4. Testing specific hypotheses (e.g., PERMANOVA)\n",
    "\n",
    "\n",
    "## Requirements\n",
    "\n",
    "To run the code, IRkernel must be installed.\n",
    "\n",
    "The code provided in this Jupyter Notebook relies on the functions of the archiDART R package. More information about this package can be found in [Delory et al (2016)](https://link.springer.com/article/10.1007/s11104-015-2673-4) and [Delory et al (2018)](https://f1000research.com/articles/7-22/v1)."
   ]
  },
  {
   "cell_type": "markdown",
   "metadata": {},
   "source": [
    "## Install the R packages needed for the analysis\n",
    "\n",
    "This step is only necessary if the R packages are not available.\n",
    "\n",
    "1. Open Anaconda Prompt\n",
    "2. Type \"R\" and press \"Enter\"\n",
    "3. Execute: `install.packages(c(\"ggplot2\", \"gtools\", \"vegan\", \"FactoMineR\", \"devtools\", \"TDA\", \"geometry\", \"sp\"))`\n",
    "4. You can check that the packages have been correctly installed by executing `.packages(all.available=TRUE)`\n",
    "5. Close R using `q()`\n",
    "\n",
    "## Load R packages"
   ]
  },
  {
   "cell_type": "code",
   "execution_count": 1,
   "metadata": {},
   "outputs": [
    {
     "name": "stderr",
     "output_type": "stream",
     "text": [
      "Loading required package: permute\n",
      "\n",
      "Attaching package: 'permute'\n",
      "\n",
      "The following object is masked from 'package:gtools':\n",
      "\n",
      "    permute\n",
      "\n",
      "Loading required package: lattice\n",
      "This is vegan 2.4-4\n",
      "Loading required package: magic\n",
      "Loading required package: abind\n"
     ]
    }
   ],
   "source": [
    "# These packages are needed for this notebook. Additional packages can also be loaded as well.\n",
    "library(ggplot2)\n",
    "library(gtools)\n",
    "library(vegan)\n",
    "library(FactoMineR)\n",
    "library(TDA)\n",
    "library(geometry)\n",
    "library(sp)"
   ]
  },
  {
   "cell_type": "markdown",
   "metadata": {},
   "source": [
    "## Install and load archiDART\n",
    "\n",
    "Although archiDART is available on [CRAN](https://cran.r-project.org/package=archiDART), the latest version (under development) is available on [GitHub](https://github.com/archidart/archidart). To install archiDART from GitHub (this is the recommended version for this notebook), use the following code:"
   ]
  },
  {
   "cell_type": "code",
   "execution_count": 2,
   "metadata": {},
   "outputs": [
    {
     "name": "stderr",
     "output_type": "stream",
     "text": [
      "Downloading GitHub repo archidart/archidart@master\n",
      "from URL https://api.github.com/repos/archidart/archidart/zipball/master\n",
      "Installing archiDART\n",
      "\"C:/Users/benjamindelory/AppData/Local/conda/conda/envs/mro_env/lib/R/bin/x64/R\"  \\\n",
      "  --no-site-file --no-environ --no-save --no-restore --quiet CMD INSTALL  \\\n",
      "  \"C:/Users/benjamindelory/AppData/Local/Temp/Rtmp8sm7Uk/devtools1dd06bc3765b/archidart-archidart-7bcbcfd\"  \\\n",
      "  --library=\"C:/Users/benjamindelory/Documents/R/win-library/3.4\"  \\\n",
      "  --install-tests \n",
      "\n"
     ]
    }
   ],
   "source": [
    "#This command installs archiDART from its GitHub repository (remove the hashtag in front of \"devtools\" to install the package)\n",
    "devtools::install_github(\"archidart/archidart\")\n",
    "library(archiDART) #This command loads the archiDART package"
   ]
  },
  {
   "cell_type": "markdown",
   "metadata": {},
   "source": [
    "## Install and load postarchiDART\n",
    "\n",
    "postarchiDART is an R package containing functions developped for the post-processing of R objects created by archiDART functions. The functions of this package were created to perform the following tasks: correct root and plant identification numbers, correct root growth rate values, and correct the branching order of basal roots. These functions are only used on R objects created from RSML files exported by SmartRoot after tracing roots on reference images. To install postarchiDART from [GitHub](https://github.com/archidart/archidart-utilities/tree/master/postarchidart), use the following code:"
   ]
  },
  {
   "cell_type": "code",
   "execution_count": 3,
   "metadata": {},
   "outputs": [],
   "source": [
    "#This command installs post archiDART from its GitHub repository (remove the hashtag in front of \"devtools\" to install the package)\n",
    "#devtools::install_github(\"archidart/archidart-utilities/postarchidart\")\n",
    "library(postarchiDART) #This command loads the postarchiDART package"
   ]
  },
  {
   "cell_type": "markdown",
   "metadata": {},
   "source": [
    "## Set working directory to GitHub repository containing \"collaborative-comparison\""
   ]
  },
  {
   "cell_type": "code",
   "execution_count": 4,
   "metadata": {},
   "outputs": [],
   "source": [
    "setwd(\"C:/Users/benjamindelory/Documents/GitHub\")"
   ]
  },
  {
   "cell_type": "markdown",
   "metadata": {},
   "source": [
    "## Import RSML for reference images\n",
    "\n",
    "This can be done using the `rsmlToTable`function of archiDART.\n",
    "\n",
    "`rsmlToTable`creates a data frame (rsmlToTable object). Each line of the data frame gives the attributes of 1 segment (e.g., length, orientation, spatial coordinates, etc.)."
   ]
  },
  {
   "cell_type": "code",
   "execution_count": 5,
   "metadata": {},
   "outputs": [
    {
     "name": "stderr",
     "output_type": "stream",
     "text": [
      "Number of rsml files in inputrsml: 9\n"
     ]
    },
    {
     "name": "stdout",
     "output_type": "stream",
     "text": [
      "  |======================================================================| 100%"
     ]
    },
    {
     "name": "stderr",
     "output_type": "stream",
     "text": [
      "Number of rsml files in inputrsml: 24\n"
     ]
    },
    {
     "name": "stdout",
     "output_type": "stream",
     "text": [
      "  |======================================================================| 100%"
     ]
    }
   ],
   "source": [
    "###########################\n",
    "#Load RSML files for dicot\n",
    "###########################\n",
    "\n",
    "dicot<-rsmlToTable(inputrsml=\"collaborative-comparison/root_architecture/img/dicot/lupin\", unitlength=\"cm\",\n",
    "                   rsml.connect=TRUE, rsml.date=NULL, unitangle=\"d\", fitter=FALSE, show.progress=TRUE)\n",
    "\n",
    "dicot<-correctPlantID(dicot) #Correct plant ID number\n",
    "\n",
    "#############################\n",
    "#Load RSML files for monocot\n",
    "#############################\n",
    "\n",
    "monocot<-rsmlToTable(inputrsml=\"collaborative-comparison/root_architecture/img/monocot/maize\", unitlength=\"cm\",\n",
    "                     rsml.connect=TRUE, rsml.date=NULL, unitangle=\"d\", fitter=FALSE, show.progress=TRUE)"
   ]
  },
  {
   "cell_type": "markdown",
   "metadata": {},
   "source": [
    "## Give a name to the RSA models to be compared"
   ]
  },
  {
   "cell_type": "code",
   "execution_count": 6,
   "metadata": {},
   "outputs": [],
   "source": [
    "#Create one object for each RSA model\n",
    "mod1<-\"archisimple\"\n",
    "mod2<-\"crootbox\"\n",
    "#Etc."
   ]
  },
  {
   "cell_type": "markdown",
   "metadata": {},
   "source": [
    "## Import RSML for simulated root systems"
   ]
  },
  {
   "cell_type": "code",
   "execution_count": 17,
   "metadata": {},
   "outputs": [
    {
     "name": "stderr",
     "output_type": "stream",
     "text": [
      "Number of rsml files in inputrsml: 5\n"
     ]
    },
    {
     "name": "stdout",
     "output_type": "stream",
     "text": [
      "\r",
      "  |                                                                            \r",
      "  |                                                                      |   0%"
     ]
    },
    {
     "name": "stderr",
     "output_type": "stream",
     "text": [
      "No time unit found in crootbox-1 metadata (property-definition)\n"
     ]
    },
    {
     "name": "stdout",
     "output_type": "stream",
     "text": [
      "\r",
      "  |                                                                            \r",
      "  |==================                                                    |  25%"
     ]
    },
    {
     "name": "stderr",
     "output_type": "stream",
     "text": [
      "No time unit found in crootbox-2 metadata (property-definition)\n"
     ]
    },
    {
     "name": "stdout",
     "output_type": "stream",
     "text": [
      "\r",
      "  |                                                                            \r",
      "  |===================================                                   |  50%"
     ]
    },
    {
     "name": "stderr",
     "output_type": "stream",
     "text": [
      "No time unit found in crootbox-3 metadata (property-definition)\n"
     ]
    },
    {
     "name": "stdout",
     "output_type": "stream",
     "text": [
      "\r",
      "  |                                                                            \r",
      "  |====================================================                  |  75%"
     ]
    },
    {
     "name": "stderr",
     "output_type": "stream",
     "text": [
      "No time unit found in crootbox-4 metadata (property-definition)\n"
     ]
    },
    {
     "name": "stdout",
     "output_type": "stream",
     "text": [
      "\r",
      "  |                                                                            \r",
      "  |======================================================================| 100%"
     ]
    },
    {
     "name": "stderr",
     "output_type": "stream",
     "text": [
      "No time unit found in crootbox-5 metadata (property-definition)\n",
      "Number of rsml files in inputrsml: 5\n"
     ]
    },
    {
     "name": "stdout",
     "output_type": "stream",
     "text": [
      "\r",
      "  |                                                                            \r",
      "  |                                                                      |   0%"
     ]
    },
    {
     "name": "stderr",
     "output_type": "stream",
     "text": [
      "No time unit found in crootbox-1 metadata (property-definition)\n"
     ]
    },
    {
     "name": "stdout",
     "output_type": "stream",
     "text": [
      "\r",
      "  |                                                                            \r",
      "  |==================                                                    |  25%"
     ]
    },
    {
     "name": "stderr",
     "output_type": "stream",
     "text": [
      "No time unit found in crootbox-2 metadata (property-definition)\n"
     ]
    },
    {
     "name": "stdout",
     "output_type": "stream",
     "text": [
      "\r",
      "  |                                                                            \r",
      "  |===================================                                   |  50%"
     ]
    },
    {
     "name": "stderr",
     "output_type": "stream",
     "text": [
      "No time unit found in crootbox-3 metadata (property-definition)\n"
     ]
    },
    {
     "name": "stdout",
     "output_type": "stream",
     "text": [
      "\r",
      "  |                                                                            \r",
      "  |====================================================                  |  75%"
     ]
    },
    {
     "name": "stderr",
     "output_type": "stream",
     "text": [
      "No time unit found in crootbox-4 metadata (property-definition)\n"
     ]
    },
    {
     "name": "stdout",
     "output_type": "stream",
     "text": [
      "\r",
      "  |                                                                            \r",
      "  |======================================================================| 100%"
     ]
    },
    {
     "name": "stderr",
     "output_type": "stream",
     "text": [
      "No time unit found in crootbox-5 metadata (property-definition)\n"
     ]
    }
   ],
   "source": [
    "#Set paths to RSML for simulated root systems\n",
    "#Create one path for each combination of RSA model and plant species simulated\n",
    "\n",
    "#################################\n",
    "#Set paths for dicot simulations\n",
    "#################################\n",
    "\n",
    "path1.dicot<-\"collaborative-comparison/root_architecture/results/b1/dicot/lupin/archisimple\" #Path for archisimple simulations for dicot\n",
    "path2.dicot<-\"collaborative-comparison/root_architecture/results/b1/dicot/lupin/crootbox\" #Path for crootbox simulations for dicot\n",
    "#Add one path for each model\n",
    "\n",
    "##################################\n",
    "#Set paths for monocot simulations\n",
    "##################################\n",
    "\n",
    "path1.monocot<-\"collaborative-comparison/root_architecture/results/b1/monocot/maize/archisimple\" #Path for archisimple simulations for monocot\n",
    "path2.monocot<-\"collaborative-comparison/root_architecture/results/b1/monocot/maize/crootbox\" #Path for crootbox simulations for monocot\n",
    "#Add one path for each model\n",
    "\n",
    "######################################################################################################################\n",
    "#If the root system age is stored as a continuous function along the root segments, what is the name of that function?\n",
    "######################################################################################################################\n",
    "\n",
    "#age<-\"NAME_OF_THE_FUNCTION\"\n",
    "age<-\"emergence_time\"\n",
    "\n",
    "###########################\n",
    "#What is the vertical axis?\n",
    "###########################\n",
    "\n",
    "vertical<-\"z\"\n",
    "\n",
    "####################################\n",
    "#Import RSML for dicot root systems\n",
    "####################################\n",
    "\n",
    "#mod1.dicot<-rsmlToTable(inputrsml=paste(getwd(), path1.dicot, sep=\"/\"), unitlength=\"cm\", rsml.connect=TRUE, \n",
    "                        #rsml.date=age, unitangle=\"d\", fitter=FALSE, show.progress=TRUE, vertical3d=vertical)\n",
    "\n",
    "mod2.dicot<-rsmlToTable(inputrsml=paste(getwd(), path2.dicot, sep=\"/\"), unitlength=\"cm\", rsml.connect=TRUE, \n",
    "                        rsml.date=age, unitangle=\"d\", fitter=FALSE, show.progress=TRUE, vertical3d=vertical)\n",
    "\n",
    "#Etc.\n",
    "\n",
    "#####################################\n",
    "#Import RSML for monocot root systems\n",
    "#####################################\n",
    "\n",
    "#mod1.monocot<-rsmlToTable(inputrsml=paste(getwd(), path1.monocot, sep=\"/\"), unitlength=\"cm\", rsml.connect=TRUE, \n",
    "                          #rsml.date=age, unitangle=\"d\", fitter=FALSE, show.progress=TRUE, vertical3d=vertical)\n",
    "\n",
    "mod2.monocot<-rsmlToTable(inputrsml=paste(getwd(), path2.monocot, sep=\"/\"), unitlength=\"cm\", rsml.connect=TRUE, \n",
    "                          rsml.date=age, unitangle=\"d\", fitter=FALSE, show.progress=TRUE, vertical3d=vertical)\n",
    "\n",
    "#Etc."
   ]
  },
  {
   "cell_type": "markdown",
   "metadata": {},
   "source": [
    "## Pipeline 1: _Comparison of traits computed at the root system level between simulated and reference root systems_"
   ]
  },
  {
   "cell_type": "markdown",
   "metadata": {},
   "source": [
    "### 1.1. Identifying key morphological, architectural, and topological traits explaining differences between simulated and reference root systems\n",
    "\n",
    "In archiDART, the `architect` function can be used to compute root system traits. For each root system and each observation date, the following parameters will be calculated:\n",
    "\n",
    "- **TRL**: total root length\n",
    "- **GRTR**: growth rate of the root system\n",
    "- **L1R**: first-order root length\n",
    "- **GR1R**: first-order root growth rate\n",
    "- **TN1R**: total number of first-order roots\n",
    "- **TNLR**: total number of lateral roots\n",
    "- **TLRL**: total lateral root length\n",
    "- **NxLR**: total number of lateral roots with a branching order equal to x\n",
    "- **LxLR**: total length of lateral roots with a branching order equal to x\n",
    "- **MLxLR**: mean length of lateral roots with a branching order equal to x\n",
    "- **GRxL**: growth rate of roots with a branching order equal to x\n",
    "- **D2LR**: density of secondary roots on first-order roots\n",
    "- **Height**: root system height\n",
    "- **Width**: root system width\n",
    "- **Convexhull**: area of the convex hull\n",
    "- **Magnitude**: the magnitude of the root system (Fitter, 1986, 1987)\n",
    "- **Altitude**: the altitude of the root system (Fitter, 1986, 1987)\n",
    "- **ExtPathLength**: the total exterior path length of the root system (Fitter, 1986, 1987)\n",
    "\n",
    "If diameter values are provided in the RSML files, the following parameters will be calculated for each root system at the last observation date:\n",
    "\n",
    "- **MDx**: mean diameter of roots with a branching order equal to x\n",
    "- **MDLR**: mean lateral root diameter\n",
    "- **Sx**: total surface area of roots with a branching order equal to x\n",
    "- **Stot**: total root surface area\n",
    "- **Vx**: total volume of roots with a branching order equal to x\n",
    "- **Vtot**: the root system volume\n",
    "\n",
    "The rsmlToTable objects created earlier can directly be used as an input of the `architect` function. Root system traits can be calculated using the following code:"
   ]
  },
  {
   "cell_type": "code",
   "execution_count": 18,
   "metadata": {},
   "outputs": [],
   "source": [
    "######################################################\n",
    "#Compute root system traits for reference root systems\n",
    "######################################################\n",
    "\n",
    "#For the dicot\n",
    "plant.dicot<-architect(inputrsml=dicot, fitter=TRUE)\n",
    "plant.dicot$Time<-as.numeric(sapply(strsplit(sapply(strsplit(plant.dicot$FileName, split=\"_\"), \"[[\", 2), split=\"d\"), \"[[\", 2))\n",
    "plant.dicot<-plant.dicot[order(plant.dicot$Time, plant.dicot$FileName),]\n",
    "plant.dicot<-correctGrowthRateDicot(plant.dicot)\n",
    "plant.dicot$model<-\"reference\"\n",
    "\n",
    "#For the monocot\n",
    "plant.monocot<-architect(inputrsml=monocot, fitter=TRUE)\n",
    "plant.monocot<-correctFirstOrderRoots(x=monocot, y=plant.monocot)\n",
    "plant.monocot$Time<-rep(1:8, 3)\n",
    "plant.monocot<-plant.monocot[order(plant.monocot$Time, plant.monocot$FileName),]\n",
    "plant.monocot<-correctGrowthRateMonocot(plant.monocot)\n",
    "plant.monocot$model<-\"reference\"\n",
    "\n",
    "######################################################\n",
    "#Compute root system traits for simulated root systems\n",
    "######################################################\n",
    "\n",
    "#For the dicot\n",
    "#plant.mod1.dicot<-architect(inputrsml=mod1.dicot, vertical3d=vertical, fitter=TRUE)\n",
    "#plant.mod1.dicot$model<-mod1\n",
    "plant.mod2.dicot<-architect(inputrsml=mod2.dicot, vertical3d=vertical, fitter=TRUE)\n",
    "plant.mod2.dicot$model<-mod2\n",
    "#Etc.\n",
    "\n",
    "#For the monocot\n",
    "#plant.mod1.monocot<-architect(inputrsml=mod1.monocot, vertical3d=vertical, fitter=TRUE)\n",
    "#plant.mod1.monocot$model<-mod1\n",
    "plant.mod2.monocot<-architect(inputrsml=mod2.monocot, vertical3d=vertical, fitter=TRUE)\n",
    "plant.mod2.monocot$model<-mod2\n",
    "#Etc."
   ]
  },
  {
   "cell_type": "markdown",
   "metadata": {},
   "source": [
    "We will now use **principal component analysis (PCA)** to identify the root system traits explaining the greatest amount of variation between simulated root systems. To do this, we first need to create new objects containing root system traits calculated at the last observation date (11 days for lupin and 8 days for maize). We can do this using the following code:"
   ]
  },
  {
   "cell_type": "code",
   "execution_count": 12,
   "metadata": {},
   "outputs": [
    {
     "data": {},
     "metadata": {},
     "output_type": "display_data"
    },
    {
     "name": "stderr",
     "output_type": "stream",
     "text": [
      "Warning message in arrows(0, 0, coord.var[v, 1], coord.var[v, 2], length = 0.1, :\n",
      "\"zero-length arrow is of indeterminate angle and so skipped\""
     ]
    },
    {
     "data": {
      "image/png": "[encoded data removed]",
      "text/plain": [
       "plot without title"
      ]
     },
     "metadata": {},
     "output_type": "display_data"
    },
    {
     "data": {
      "image/png": "[encoded data removed]",
      "text/plain": [
       "Plot with title \"Variables factor map (PCA)\""
      ]
     },
     "metadata": {},
     "output_type": "display_data"
    }
   ],
   "source": [
    "#In rsml from reference images, y is the vertical axis by default\n",
    "#If z is the vertical axis of simulated root systems, then ConvexhullXY in plant.dicot becomes ConvexhullXZ\n",
    "\n",
    "if (vertical==\"z\"){plant.dicot$ConvexhullXZ<-plant.dicot$ConvexhullXY}\n",
    "\n",
    "#######################\n",
    "#Create table for dicot\n",
    "#######################\n",
    "\n",
    "#datadicot<-smartbind(plant.dicot, plant.mod1.dicot, plant.mod2.dicot) #Add more objects if needed\n",
    "datadicot<-smartbind(plant.dicot, plant.mod1.dicot)\n",
    "datadicot<-datadicot[datadicot$Time==11,] #Select traits measured at the last observation date\n",
    "\n",
    "#################\n",
    "#Do PCA for dicot\n",
    "#################\n",
    "\n",
    "#Select variables for PCA\n",
    "if (vertical==\"y\"){\n",
    "    datapca<-datadicot[,c(\"TRL\", \"L1R\", \"TN1R\", \"TNLR\", \"TLRL\", \"N2LR\", \"L2LR\", \"D2LR\", \"Height\", \"Width\", \"ConvexhullXY\",\n",
    "                          \"Magnitude\", \"Altitude\", \"ExtPathLength\", \"model\")]}\n",
    "\n",
    "if (vertical==\"z\"){\n",
    "    datapca<-datadicot[,c(\"TRL\", \"L1R\", \"TN1R\", \"TNLR\", \"TLRL\", \"N2LR\", \"L2LR\", \"D2LR\", \"Height\", \"Width\", \"ConvexhullXZ\",\n",
    "                          \"Magnitude\", \"Altitude\", \"ExtPathLength\", \"model\")]}\n",
    "\n",
    "#PCA dicot\n",
    "pca<-PCA(datapca, scale.unit=TRUE, ncp=3, quali.sup=which(colnames(datapca)==\"model\"), graph=FALSE)\n",
    "indpca<-as.data.frame(pca$ind$coord)\n",
    "indpca<-as.data.frame(lapply(indpca, function(x) as.numeric(as.character(x))))\n",
    "indpca$model<-datadicot$model\n",
    "\n",
    "#Plot PCA dicot\n",
    "ggplot(indpca)+\n",
    "geom_point(aes(Dim.1, Dim.2, colour=model))+\n",
    "xlab(paste(\"PC1 (\", round(pca$eig[1,2], 1), \"%)\", sep=\"\"))+\n",
    "ylab(paste(\"PC2 (\", round(pca$eig[2,2], 1), \"%)\", sep=\"\"))+\n",
    "ggtitle(\"PCA dicot\")+\n",
    "geom_hline(yintercept=0)+\n",
    "geom_vline(xintercept=0)+\n",
    "theme_bw()+\n",
    "theme(axis.title=element_text(size=18), text=element_text(size=18))\n",
    "\n",
    "#Plot correlation circle\n",
    "par(ps = 18, cex = 1, cex.main = 1)\n",
    "plot(pca, choix=\"var\")"
   ]
  },
  {
   "cell_type": "code",
   "execution_count": 13,
   "metadata": {},
   "outputs": [
    {
     "data": {},
     "metadata": {},
     "output_type": "display_data"
    },
    {
     "data": {
      "image/png": "[encoded data removed]",
      "text/plain": [
       "plot without title"
      ]
     },
     "metadata": {},
     "output_type": "display_data"
    },
    {
     "data": {
      "image/png": "[encoded data removed]",
      "text/plain": [
       "Plot with title \"Variables factor map (PCA)\""
      ]
     },
     "metadata": {},
     "output_type": "display_data"
    }
   ],
   "source": [
    "#In rsml from reference images, y is the vertical axis by default\n",
    "#If z is the vertical axis of simulated root systems, then ConvexhullXY in plant.monocot becomes ConvexhullXZ\n",
    "\n",
    "if (vertical==\"z\"){plant.monocot$ConvexhullXZ<-plant.monocot$ConvexhullXY}\n",
    "\n",
    "#########################\n",
    "#Create table for monocot\n",
    "#########################\n",
    "\n",
    "#datamonocot<-smartbind(plant.monocot, plant.mod1.monocot, plant.mod2.monocot) #Add more objects if needed\n",
    "datamonocot<-smartbind(plant.monocot, plant.mod1.monocot)\n",
    "datamonocot<-datamonocot[datamonocot$Time==8,] #Select traits measured at the last observation date\n",
    "\n",
    "####################\n",
    "#Do PCA for monocot\n",
    "####################\n",
    "\n",
    "#Select variables for PCA\n",
    "if (vertical==\"y\"){\n",
    "    datapca<-datamonocot[,c(\"TRL\", \"L1R\", \"TN1R\", \"TNLR\", \"TLRL\", \"N2LR\", \"L2LR\", \"D2LR\", \"Height\", \"Width\", \"ConvexhullXY\",\n",
    "                            \"Magnitude\", \"Altitude\", \"ExtPathLength\", \"model\")]}\n",
    "\n",
    "if (vertical==\"z\"){\n",
    "    datapca<-datamonocot[,c(\"TRL\", \"L1R\", \"TN1R\", \"TNLR\", \"TLRL\", \"N2LR\", \"L2LR\", \"D2LR\", \"Height\", \"Width\", \"ConvexhullXZ\",\n",
    "                            \"Magnitude\", \"Altitude\", \"ExtPathLength\", \"model\")]}\n",
    "\n",
    "#PCA monocot\n",
    "pca<-PCA(datapca, scale.unit=TRUE, ncp=3, quali.sup=which(colnames(datapca)==\"model\"), graph=FALSE)\n",
    "indpca<-as.data.frame(pca$ind$coord)\n",
    "indpca<-as.data.frame(lapply(indpca, function(x) as.numeric(as.character(x))))\n",
    "indpca$model<-datamonocot$model\n",
    "\n",
    "#Plot PCA monocot\n",
    "ggplot(indpca)+\n",
    "geom_point(aes(Dim.1, Dim.2, colour=model))+\n",
    "xlab(paste(\"PC1 (\", round(pca$eig[1,2], 1), \"%)\", sep=\"\"))+\n",
    "ylab(paste(\"PC2 (\", round(pca$eig[2,2], 1), \"%)\", sep=\"\"))+\n",
    "ggtitle(\"PCA monocot\")+\n",
    "geom_hline(yintercept=0)+\n",
    "geom_vline(xintercept=0)+\n",
    "theme_bw()+\n",
    "theme(axis.title=element_text(size=18), text=element_text(size=18))\n",
    "\n",
    "#Plot correlation circle\n",
    "par(ps = 18, cex = 1, cex.main = 1)\n",
    "plot(pca, choix=\"var\")"
   ]
  },
  {
   "cell_type": "markdown",
   "metadata": {},
   "source": [
    "### 1.2. Looking at when simulated and reference root systems start to diverge/converge with regard to the key root system traits identified in step 1 and how large these differences are"
   ]
  },
  {
   "cell_type": "code",
   "execution_count": 14,
   "metadata": {},
   "outputs": [],
   "source": [
    "plant.dicot$FileName<-paste(\"lupin_\", sapply(strsplit(plant.dicot$FileName, split=\"_\"), \"[[\", 3))\n",
    "if (vertical==\"z\"){plant.dicot$ConvexhullXY<-NA}\n",
    "#datadicot<-smartbind(plant.dicot, plant.mod1.dicot, plant.mod2.dicot) #Add more objects if needed\n",
    "datadicot<-smartbind(plant.dicot, plant.mod1.dicot)"
   ]
  },
  {
   "cell_type": "code",
   "execution_count": null,
   "metadata": {},
   "outputs": [],
   "source": [
    "#####################\n",
    "#Plot trait for dicot\n",
    "#####################\n",
    "\n",
    "#Plot results for all simulations\n",
    "ggplot(datadicot[datadicot$Time<=11,])+\n",
    "geom_line(aes(x=Time, y=TRL, colour=model, group=FileName), size=2)+\n",
    "xlab(\"Time (days)\")+\n",
    "ylab(\"Total root length (cm)\")+\n",
    "theme_bw()+\n",
    "theme(axis.title=element_text(size=18), text=element_text(size=18))\n",
    "\n",
    "#Plot average per simulation\n",
    "ggplot(datadicot[datadicot$Time<=11,])+\n",
    "stat_smooth(aes(x=Time, y=TRL, colour=model), size=2)+\n",
    "xlab(\"Time (days)\")+\n",
    "ylab(\"Total root length (cm)\")+\n",
    "theme_bw()+\n",
    "theme(axis.title=element_text(size=18), text=element_text(size=18))"
   ]
  },
  {
   "cell_type": "code",
   "execution_count": null,
   "metadata": {},
   "outputs": [],
   "source": [
    "plant.monocot$FileName<-sapply(strsplit(plant.monocot$FileName, split=\"_\"), \"[[\", 1)\n",
    "#datamonocot<-smartbind(plant.monocot, plant.mod1.monocot, plant.mod2.monocot) #Add more objects if needed\n",
    "datamonocot<-smartbind(plant.monocot, plant.mod1.monocot)"
   ]
  },
  {
   "cell_type": "code",
   "execution_count": null,
   "metadata": {},
   "outputs": [],
   "source": [
    "########################\n",
    "#Plot trait for monocot\n",
    "########################\n",
    "\n",
    "#Plot results for all simulations\n",
    "ggplot(datamonocot[datamonocot$Time<=8,])+\n",
    "geom_line(aes(x=Time, y=TRL, colour=model, group=FileName), size=2)+\n",
    "xlab(\"Time (days)\")+\n",
    "ylab(\"Total root length (cm)\")+\n",
    "theme_bw()+\n",
    "theme(axis.title=element_text(size=18), text=element_text(size=18))\n",
    "\n",
    "#Plot average per simulation\n",
    "ggplot(datamonocot[datamonocot$Time<=8,])+\n",
    "stat_smooth(aes(x=Time, y=TRL, colour=model), size=2)+\n",
    "xlab(\"Time (days)\")+\n",
    "ylab(\"Total root length (cm)\")+\n",
    "theme_bw()+\n",
    "theme(axis.title=element_text(size=18), text=element_text(size=18))"
   ]
  },
  {
   "cell_type": "markdown",
   "metadata": {},
   "source": [
    "### 1.3. Assessing the degree of dissimilarity between simulated and reference root systems using dissimilarity metrics\n",
    "\n",
    "The deviation between model predictions and ground truth experimental data will be quantified using performance measures listed in Table 1 of [Janssen and Heuberger (1995)](https://www.sciencedirect.com/science/article/pii/0304380095000849)."
   ]
  },
  {
   "cell_type": "markdown",
   "metadata": {},
   "source": [
    "## Pipeline 2: _Comparing dissimilarities in architecture between simulated and reference root systems using persistent homology analysis_"
   ]
  },
  {
   "cell_type": "markdown",
   "metadata": {},
   "source": [
    "### 2.1. Computing a persistence barcode for each simulated and reference root system using a geodesic distance function\n",
    "\n",
    "Persistent homology is a mathematical framework allowing the topological analysis of branching structures, such as shoot and root systems. Recently, a new data analysis pipeline was implemented in archiDART to analyse root system architectures using persistent homology. More information can be found in [Li et al (2017)](https://onlinelibrary.wiley.com/doi/abs/10.3732/ajb.1700046) and [Delory et al (2018)](https://f1000research.com/articles/7-22/v1).\n",
    "\n",
    "The main output of a persistent homology analysis is a persistence barcode recording the birth (apparition of a new connected component) and death (fusion of two connected components) of each branch when a distance function traverses the branching structure. For a given mathematical function, one persistence barcode can be computed for each simulated root system. Look at Figure 1 and interactive Figure 3 [in this paper](https://f1000research.com/articles/7-22/v1) for a more accurate description of a persistence barcode. Barcodes can be computed using the following code:"
   ]
  },
  {
   "cell_type": "code",
   "execution_count": null,
   "metadata": {},
   "outputs": [],
   "source": [
    "#######################################\n",
    "#Compute persistence barcodes for dicot\n",
    "#######################################\n",
    "\n",
    "#table.dicot<-rbind(dicot[dicot$file==\"lupin_d11\",], mod1.dicot, mod2.dicot) #Add rsmlToTable objects if necessary\n",
    "table.dicot<-rbind(dicot[dicot$file==\"lupin_d11\",], mod1.dicot)\n",
    "ph.dicot<-perhomology(table.dicot, show.progress=TRUE)\n",
    "\n",
    "#########################################\n",
    "#Compute persistence barcodes for monocot\n",
    "#########################################\n",
    "\n",
    "#table.monocot<-rbind(monocot[monocot$file==\"PL01_DAS08\"|monocot$file==\"PL08_DAS08\"|monocot$file==\"PL10_DAS08\",], mod1.monocot, mod2.monocot) #Add rsmlToTable objects if necessary\n",
    "table.monocot<-rbind(monocot[monocot$file==\"PL01_DAS08\"|monocot$file==\"PL08_DAS08\"|monocot$file==\"PL10_DAS08\",], mod1.monocot) #Add rsmlToTable objects if necessary\n",
    "ph.monocot<-perhomology(table.monocot, show.progress=TRUE)"
   ]
  },
  {
   "cell_type": "markdown",
   "metadata": {},
   "source": [
    "### 2.2. Computing dissimilarities between persistence barcodes using a bottleneck distance\n",
    "\n",
    "To compare persistence barcodes against each other, a pairwise distance matrix is needed and the bottleneck distance is one possible option. The **bottleneck distance** is considered as a robust dissimilarity metric between two persistence barcodes, and its interpretation is quite straightforward: the greater the distance between two persistence barcodes, the greater will be the dissimilarity between them. Such pairwise bottleneck distance matrix can be calculated with the `bottleneckdist` function of the archiDART package. This function only requires a perhomology object as an input. It has to be noted that the computation time required to compute a bottleneck distance matrix is highly dependent on the number and complexity of root systems being compared."
   ]
  },
  {
   "cell_type": "code",
   "execution_count": null,
   "metadata": {},
   "outputs": [],
   "source": [
    "#############################################\n",
    "#Compute bottleneck distance matrix for dicot\n",
    "#############################################\n",
    "\n",
    "distance.dicot<-bottleneckdist(ph.dicot, show.progress=TRUE)\n",
    "\n",
    "###############################################\n",
    "#Compute bottleneck distance matrix for monocot\n",
    "###############################################\n",
    "\n",
    "distance.monocot<-bottleneckdist(ph.monocot, show.progress=TRUE)"
   ]
  },
  {
   "cell_type": "markdown",
   "metadata": {},
   "source": [
    "### 2.3. Visualizing dissimilarities between root systems using multidimensional scaling"
   ]
  },
  {
   "cell_type": "code",
   "execution_count": null,
   "metadata": {},
   "outputs": [],
   "source": [
    "###################################\n",
    "#Multidimensional scaling for dicot\n",
    "###################################\n",
    "\n",
    "#k is the number of dimensions\n",
    "k<-3\n",
    "mds.dicot<-cmdscale(distance.dicot, k=k, eig=TRUE, add=TRUE)\n",
    "\n",
    "#Evaluate quality of representation using a Shepard plot\n",
    "realdist<-as.vector(as.dist(distance.dicot))\n",
    "confdist<-as.vector(dist(mds.dicot$points))\n",
    "par(ps=18, cex=1, cex.main=1)\n",
    "plot(realdist, confdist, xlab=\"Real distances\", ylab=\"Distances in configuration\", pch=16, main=\"Shepard plot\", las=1)\n",
    "abline(a=0, b=1, col=\"red\", lwd=2)\n",
    "\n",
    "#Plot MDS for dicot\n",
    "model<-datadicot[datadicot$Time==11, \"model\"]\n",
    "datamds<-data.frame(mds.dicot$points, model=model)\n",
    "colnames(datamds)<-c(paste(rep(\"MDS\", k), c(1:k), sep=\"\"), \"model\")\n",
    "\n",
    "ggplot(datamds)+\n",
    "geom_point(aes(MDS1, MDS2, colour=model))+\n",
    "geom_hline(yintercept=0)+\n",
    "geom_vline(xintercept=0)+\n",
    "ggtitle(\"Metric multidimensional scaling\")+\n",
    "xlab(\"MDS1\")+\n",
    "ylab(\"MDS2\")+\n",
    "theme_bw()+\n",
    "theme(axis.title=element_text(size=18), text=element_text(size=18))"
   ]
  },
  {
   "cell_type": "code",
   "execution_count": null,
   "metadata": {},
   "outputs": [],
   "source": [
    "#####################################\n",
    "#Multidimensional scaling for monocot\n",
    "#####################################\n",
    "\n",
    "#k is the number of dimensions\n",
    "k<-3\n",
    "mds.monocot<-cmdscale(distance.monocot, k=k, eig=TRUE, add=TRUE)\n",
    "\n",
    "#Evaluate quality of representation using a Shepard plot\n",
    "realdist<-as.vector(as.dist(distance.monocot))\n",
    "confdist<-as.vector(dist(mds.monocot$points))\n",
    "par(ps=18, cex=1, cex.main=1)\n",
    "plot(realdist, confdist, xlab=\"Real distances\", ylab=\"Distances in configuration\", pch=16, main=\"Shepard plot\", las=1)\n",
    "abline(a=0, b=1, col=\"red\", lwd=2)\n",
    "\n",
    "#Plot MDS for dicot\n",
    "model<-datamonocot[datamonocot$Time==8, \"model\"]\n",
    "datamds<-data.frame(mds.monocot$points, model=model)\n",
    "colnames(datamds)<-c(paste(rep(\"MDS\", k), c(1:k), sep=\"\"), \"model\")\n",
    "\n",
    "ggplot(datamds)+\n",
    "geom_point(aes(MDS1, MDS2, colour=model))+\n",
    "geom_hline(yintercept=0)+\n",
    "geom_vline(xintercept=0)+\n",
    "ggtitle(\"Metric multidimensional scaling\")+\n",
    "xlab(\"MDS1\")+\n",
    "ylab(\"MDS2\")+\n",
    "theme_bw()+\n",
    "theme(axis.title=element_text(size=18), text=element_text(size=18))"
   ]
  },
  {
   "cell_type": "markdown",
   "metadata": {},
   "source": [
    "### 2.4. Testing specific hypotheses"
   ]
  },
  {
   "cell_type": "code",
   "execution_count": null,
   "metadata": {},
   "outputs": [],
   "source": [
    "################\n",
    "#PERMANOVA dicot\n",
    "################\n",
    "\n",
    "permanova.dicot<-adonis(as.dist(distance.dicot)~model, data=data.frame(file=rownames(distance.dicot), model=model),\n",
    "                        permutations = 10000, sqrt.dist=TRUE)\n",
    "permanova.dicot\n",
    "\n",
    "#Chech PERMANOVA assumption (multivariate homogeneity of group dispersions)\n",
    "bd<-betadisper(as.dist(distance.dicot), model)\n",
    "par(ps=18, cex=1, cex.main=1)\n",
    "boxplot(bd)\n",
    "permutest(bd, permutations=1000)"
   ]
  },
  {
   "cell_type": "code",
   "execution_count": null,
   "metadata": {},
   "outputs": [],
   "source": [
    "##################\n",
    "#PERMANOVA monocot\n",
    "##################\n",
    "\n",
    "permanova.monocot<-adonis(as.dist(distance.monocot)~model, data=data.frame(file=rownames(distance.monocot), model=model), \n",
    "                          permutations = 10000, sqrt.dist=TRUE)\n",
    "permanova.monocot\n",
    "\n",
    "#Chech PERMANOVA assumption (multivariate homogeneity of group dispersions)\n",
    "bd<-betadisper(as.dist(distance.monocot), model)\n",
    "par(ps=18, cex=1, cex.main=1)\n",
    "boxplot(bd)\n",
    "permutest(bd, permutations=1000)"
   ]
  },
  {
   "cell_type": "markdown",
   "metadata": {},
   "source": [
    "## References\n",
    "\n",
    "Delory, B. M., Baudson, C., Brostaux, Y., Lobet, G., du Jardin, P., Pagès, L., and Delaplace,P. (2016). [archiDART: an R package for the automated computation of plant root architectural traits](https://link.springer.com/article/10.1007/s11104-015-2673-4). _Plant and Soil_, 398(1):351–365.\n",
    "\n",
    "Delory, B. B. M., Li, M., Topp, C. C. N., and Lobet, G. (2018). [archiDART v3.0: A new data analysis pipeline allowing the topological analysis of plant root systems](https://f1000research.com/articles/7-22/v1). _F1000Research_, 7:22.\n",
    "\n",
    "Fitter, A.H. (1986). [The topology and geometry of plant root systems: influence of watering rate on root system topology in _Trifolium pratense_](https://academic.oup.com/aob/article/58/1/91/174778). _Annals of Botany_, 58(1):91–101.\n",
    "\n",
    "Fitter, A.H. (1987). [An architectural approach to the comparative ecology of plant root systems](https://nph.onlinelibrary.wiley.com/doi/abs/10.1111/j.1469-8137.1987.tb04683.x). _New Phytologist_, 106(s1):61–77.\n",
    "\n",
    "Hund, A., Trachsel, S., and Stamp, P. (2009). [Growth of axile and lateral roots of maize: Idevelopment of a phenotying platform](https://link.springer.com/article/10.1007/s11104-009-9984-2). _Plant and Soil_, 325(1):335–349.\n",
    "\n",
    "Janssen, P.H.M. and Heuberger, P.S.C. (1995). [Calibration of process-oriented models](https://www.sciencedirect.com/science/article/pii/0304380095000849). _Ecological Modelling_, 83:55-66.\n",
    "\n",
    "Lobet, G., Pagès, L., and Draye, X. (2011). [A novel image-analysis toolbox enabling quantitative analysis of root system architecture](http://www.plantphysiol.org/content/157/1/29). _Plant Physiology_, 157:29–39.\n",
    "\n",
    "Lobet, G., Pound, M. P., Diener, J., Pradal, C., Draye, X., Godin, C., Javaux, M., Leitner, D.,Meunier, F., Nacry, P., Pridmore, T. P., and Schnepf, A. (2015). [Root System Markup Language: toward an unified root architecture description language](http://www.plantphysiol.org/content/167/3/617). _Plant Physiology_, 167:617–627."
   ]
  }
 ],
 "metadata": {
  "kernelspec": {
   "display_name": "R",
   "language": "R",
   "name": "ir"
  },
  "language_info": {
   "codemirror_mode": "r",
   "file_extension": ".r",
   "mimetype": "text/x-r-source",
   "name": "R",
   "pygments_lexer": "r",
   "version": "3.4.3"
  }
 },
 "nbformat": 4,
 "nbformat_minor": 2
}
