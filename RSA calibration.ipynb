{
 "cells": [
  {
   "cell_type": "markdown",
   "metadata": {},
   "source": [
    "# Module 1.1: RSA calibration\n",
    "\n",
    "by _Benjamin Delory_,  _Guillaume Lobet_, and _Andrea Schnepf_\n",
    "\n",
    "## Benchmark\n",
    "\n",
    "This Jupyter Notebook contains the data analysis pipeline for Module 1.1 (RSA calibration). \n",
    "\n",
    "In the context of our collaborative comparison framework, all root architecture models being compared are parameterized using a common set of metrics derived from 2D images of dicotyledonous (_Lupinus albus_) and monocotyledonous (_Zea mays_) root systems. Our root architecture benchmarking dataset contains two distinct sets of images: (1) [images of lupine roots grown for 11 days in an aeroponic setup](https://github.com/RSA-benchmarks/collaborative-comparison/tree/master/root_architecture/img/dicot/lupin) (Lobet et al, 2011), and (2) [images of maize roots grown for 8 days on filter papers](https://github.com/RSA-benchmarks/collaborative-comparison/tree/master/root_architecture/img/monocot/maize) (Hund et al, 2009). All images were analysed using the semi-automated root image analysis software [SmartRoot](https://smartroot.github.io/) (Lobet et al, 2011) and root tracings were saved as [RSML](https://rootsystemml.github.io/) (Lobet et al, 2015) files for further analysis.\n",
    "\n",
    "In Module 1.1, modellers simulate root systems for the same duration as our ground truth experimental data (i.e., 11 days for lupine and 8 days for maize). During the simulation, one RSML must be exported each day. Additional information is provided in Table 1 of the supporting paper.\n",
    "<br>\n",
    "<font color='green'>**The aim of this first benchmarking exercise is to determine if root architecture models currently available are able to reproduce realistic root architectures based on a parameter set derived from experimental data.**</font>\n",
    "<br>\n",
    "<br>\n",
    "For this benchmark scenario, **two data analysis pipelines** are used to compare simulation outputs with ground truth experimental data (reference root systems).\n",
    "\n",
    "**Pipeline 1**: _Comparison of traits computed at the root system level between simulated and reference root systems_\n",
    "\n",
    "1. Identifying key morphological, architectural, and topological (Fitter indices) traits explaining differences between simulated and reference root systems using multivariate data analysis techniques (e.g., principal component analysis);\n",
    "\n",
    "2. Looking at when simulated and reference root systems start to diverge/converge with regard to the key root system traits identified in step 1 and how large these differences are;\n",
    "\n",
    "3. Assessing the degree of dissimilarity between simulated and reference root systems using dissimilarity metrics\n",
    "\n",
    "**Pipeline 2**: _Comparing dissimilarities in architecture between simulated and reference root systems using persistent homology analysis_\n",
    "\n",
    "1. Computing a persistence barcode for each simulated and reference root system using a geodesic distance function;\n",
    "\n",
    "2. Computing dissimilarities between persistence barcodes using a bottleneck distance;\n",
    "\n",
    "3. Visualizing dissimilarities between root systems using multidimensional scaling;\n",
    "\n",
    "4. Testing specific hypotheses (e.g., PERMANOVA)\n",
    "\n",
    "\n",
    "## Requirements\n",
    "\n",
    "To run the code, IRkernel must be installed.\n",
    "\n",
    "The code provided in this Jupyter Notebook relies on the functions of the archiDART R package. More information about this package can be found in [Delory et al (2016)](https://link.springer.com/article/10.1007/s11104-015-2673-4) and [Delory et al (2018)](https://f1000research.com/articles/7-22/v1)."
   ]
  },
  {
   "cell_type": "markdown",
   "metadata": {},
   "source": [
    "## Install R packages needed for the analysis\n",
    "\n",
    "This step is only necessary if the R packages are not available.\n",
    "\n",
    "1. Open Anaconda Prompt\n",
    "2. Type \"R\" and press \"Enter\"\n",
    "3. Execute: `install.packages(c(\"permute\", \"lattice\", \"ggplot2\", \"beanplot\", \"gtools\", \"vegan\", \"FactoMineR\", \"devtools\"))`\n",
    "4. You can check that the packages have been correctly installed by executing `.packages(all.available=TRUE)`\n",
    "5. Close R using `q()`\n",
    "\n",
    "## Load R packages"
   ]
  },
  {
   "cell_type": "code",
   "execution_count": 1,
   "metadata": {},
   "outputs": [
    {
     "name": "stderr",
     "output_type": "stream",
     "text": [
      "\n",
      "Attaching package: 'gtools'\n",
      "\n",
      "The following object is masked from 'package:permute':\n",
      "\n",
      "    permute\n",
      "\n",
      "This is vegan 2.4-4\n"
     ]
    }
   ],
   "source": [
    "#These packages are needed for this notebook. Additional packages can also be loaded as well.\n",
    "library(permute)\n",
    "library(lattice)\n",
    "library(ggplot2)\n",
    "library(beanplot)\n",
    "library(gtools)\n",
    "library(vegan)\n",
    "library(FactoMineR)\n",
    "library(plyr)"
   ]
  },
  {
   "cell_type": "markdown",
   "metadata": {},
   "source": [
    "## Install and load archiDART\n",
    "\n",
    "Although archiDART is available on [CRAN](https://cran.r-project.org/package=archiDART), the latest version (under development) is available on [GitHub](https://github.com/archidart/archidart). To install archiDART from GitHub (this is the recommended version for this notebook), use the following code:"
   ]
  },
  {
   "cell_type": "code",
   "execution_count": null,
   "metadata": {},
   "outputs": [],
   "source": [
    "#This command installs archiDART from its GitHub repository (remove the hashtag in front of \"devtools\" to install the package)\n",
    "#devtools::install_github(\"archidart/archidart\")\n",
    "library(archiDART) #This command loads the archiDART package"
   ]
  },
  {
   "cell_type": "markdown",
   "metadata": {},
   "source": [
    "## References\n",
    "\n",
    "Delory, B. M., Baudson, C., Brostaux, Y., Lobet, G., du Jardin, P., Pagès, L., and Delaplace,P. (2016). [archiDART: an R package for the automated computation of plant root architectural traits](https://link.springer.com/article/10.1007/s11104-015-2673-4). _Plant and Soil_, 398(1):351–365.\n",
    "\n",
    "Delory, B. B. M., Li, M., Topp, C. C. N., and Lobet, G. (2018). [archiDART v3.0: A new data analysis pipeline allowing the topological analysis of plant root systems](https://f1000research.com/articles/7-22/v1). _F1000Research_, 7:22.\n",
    "\n",
    "Hund, A., Trachsel, S., and Stamp, P. (2009). [Growth of axile and lateral roots of maize: Idevelopment of a phenotying platform](https://link.springer.com/article/10.1007/s11104-009-9984-2). _Plant and Soil_, 325(1):335–349.\n",
    "\n",
    "Lobet, G., Pagès, L., and Draye, X. (2011). [A novel image-analysis toolbox enabling quantitative analysis of root system architecture](http://www.plantphysiol.org/content/157/1/29). _Plant Physiology_, 157:29–39.\n",
    "\n",
    "Lobet, G., Pound, M. P., Diener, J., Pradal, C., Draye, X., Godin, C., Javaux, M., Leitner, D.,Meunier, F., Nacry, P., Pridmore, T. P., and Schnepf, A. (2015). [Root System Markup Language: toward an unified root architecture description language](http://www.plantphysiol.org/content/167/3/617). _Plant Physiology_, 167:617–627."
   ]
  },
  {
   "cell_type": "code",
   "execution_count": null,
   "metadata": {},
   "outputs": [],
   "source": []
  }
 ],
 "metadata": {
  "kernelspec": {
   "display_name": "R",
   "language": "R",
   "name": "ir"
  },
  "language_info": {
   "codemirror_mode": "r",
   "file_extension": ".r",
   "mimetype": "text/x-r-source",
   "name": "R",
   "pygments_lexer": "r",
   "version": "3.4.3"
  }
 },
 "nbformat": 4,
 "nbformat_minor": 2
}
