{
 "cells": [
  {
   "cell_type": "code",
   "execution_count": null,
   "metadata": {
    "code_folding": [],
    "slideshow": {
     "slide_type": "skip"
    }
   },
   "outputs": [],
   "source": [
    "%%javascript\n",
    "MathJax.Hub.Config({\n",
    "  TeX: { equationNumbers: { autoNumber: \"AMS\" } }\n",
    "});\n",
    ";"
   ]
  },
  {
   "cell_type": "code",
   "execution_count": 2,
   "metadata": {},
   "outputs": [
    {
     "data": {
      "application/javascript": [
       "$.getScript('https://kmahelona.github.io/ipython_notebook_goodies/ipython_notebook_toc.js')"
      ],
      "text/plain": [
       "<IPython.core.display.Javascript object>"
      ]
     },
     "metadata": {},
     "output_type": "display_data"
    }
   ],
   "source": [
    "%%javascript\n",
    "$.getScript('https://kmahelona.github.io/ipython_notebook_goodies/ipython_notebook_toc.js')"
   ]
  },
  {
   "cell_type": "markdown",
   "metadata": {},
   "source": [
    "\n",
    "## Benchmarking root solute uptake models\n",
    "Text to explain the root solute uptake benchmarking.\n",
    "The following code is the analytical solution of the 1D radially symmetric root nutrient uptake model (Roose et al. 2001). "
   ]
  },
  {
   "cell_type": "markdown",
   "metadata": {},
   "source": [
    "\n",
    "### The following cell contains code to compute and plot the analytical solution of Roose et al. (2001)."
   ]
  },
  {
   "cell_type": "code",
   "execution_count": 4,
   "metadata": {},
   "outputs": [
    {
     "name": "stdout",
     "output_type": "stream",
     "text": [
      "[8640.000000000002, 259200, 604800]\n"
     ]
    },
    {
     "data": {
      "image/png": "[encoded data removed]",
      "text/plain": [
       "<matplotlib.figure.Figure at 0xa99ecf8>"
      ]
     },
     "metadata": {},
     "output_type": "display_data"
    }
   ],
   "source": [
    "'''\n",
    "Created on 05.12.2016\n",
    "\n",
    "@author: a.schnepf\n",
    "'''\n",
    "import numpy as np\n",
    "import matplotlib.pyplot as plt\n",
    "import math\n",
    "import scipy.integrate\n",
    "import scipy.special as sp\n",
    "\n",
    "\n",
    "r0=0.02; theta=0.32; Phi= 0.45; rho=1; b=39; f=theta**(7/3)/Phi**2; C0=0.046; Cinf=C0; D=1e-5;\n",
    "Jmax=3e-5/10; Km=0.014; tt=[0.1*24*3600,3*24*3600,7*24*3600]; r1=5.5;\n",
    "C0=0.0029; b=239;\n",
    "Jmax = 3.26e-6/10; Km = 0.0058 ;\n",
    "\n",
    "# compute Roose analytical solution\n",
    "De=D*f*theta/(theta+b);\n",
    "Cinf_dl=Cinf/Km;\n",
    "lambda_=Jmax*r0/(theta*D*f*Km);\n",
    "\n",
    "x=np.linspace(r0,r1,500);\n",
    "\n",
    "print(tt)\n",
    "\n",
    "for k in range(len(tt)):\n",
    "    d=tt[k]\n",
    "    L=lambda_/2*np.log(4*np.exp(-0.5772)*De/(r0**2)*d+1)\n",
    "    C=C0-C0*lambda_/(1+Cinf_dl+L+np.sqrt(4*Cinf_dl+(1-Cinf_dl+L)**2))*sp.expn(1,x**2/(4*De*d));\n",
    "\n",
    "# plots\n",
    "plt.figure\n",
    "plt.plot(x-r0,C,'m-',label=\"r0=0.02 cm\")\n",
    "plt.xlabel('distance froom root surface (cm)',fontsize=20);\n",
    "plt.ylabel('concentration ($\\mu$mol cm$^{-3}$)',fontsize=20);\n",
    "plt.xlim((0,1))\n",
    "plt.legend()\n",
    "plt.show()"
   ]
  },
  {
   "cell_type": "markdown",
   "metadata": {},
   "source": [
    "# References\n",
    "\n",
    "<mark> <b>The bib file biblio.bib was not found\n",
    "\n",
    "</b> </mark>(<a id=\"cit-Doussan-06\" href=\"#call-Doussan-06\">?</a>) !! _This reference was not found in biblio.bib _ !!\n",
    "\n",
    "(<a id=\"cit-Roose-04a\" href=\"#call-Roose-04a\">?</a>) !! _This reference was not found in biblio.bib _ !!\n",
    "\n"
   ]
  }
 ],
 "metadata": {
  "celltoolbar": "Slideshow",
  "kernelspec": {
   "display_name": "Python 3",
   "language": "python",
   "name": "python3"
  },
  "language_info": {
   "codemirror_mode": {
    "name": "ipython",
    "version": 3
   },
   "file_extension": ".py",
   "mimetype": "text/x-python",
   "name": "python",
   "nbconvert_exporter": "python",
   "pygments_lexer": "ipython3",
   "version": "3.6.4"
  },
  "latex_envs": {
   "LaTeX_envs_menu_present": true,
   "autoclose": false,
   "autocomplete": true,
   "bibliofile": "biblio.bib",
   "cite_by": "apalike",
   "current_citInitial": 1,
   "eqLabelWithNumbers": true,
   "eqNumInitial": 1,
   "hotkeys": {
    "equation": "Ctrl-E",
    "itemize": "Ctrl-I"
   },
   "labels_anchors": false,
   "latex_user_defs": false,
   "report_style_numbering": false,
   "user_envs_cfg": false
  }
 },
 "nbformat": 4,
 "nbformat_minor": 2
}
