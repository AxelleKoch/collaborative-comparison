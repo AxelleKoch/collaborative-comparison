{
 "cells": [
  {
   "cell_type": "markdown",
   "metadata": {},
   "source": [
    "# Module 3: Water flow in roots\n",
    "\n",
    "by Daniel Leitner, Andrea Schnepf "
   ]
  },
  {
   "cell_type": "markdown",
   "metadata": {},
   "source": [
    "## Theory\n",
    "\n",
    "\n",
    "Roughly based on Roose and Fowler (2004) and Doussan et al. (2006).\n",
    "\n",
    "\n",
    "The axial water flux in a xylem is given by \n",
    "\\begin{eqnarray} \n",
    "q_z = - k_z \\left( \\frac{\\partial \\psi_r}{\\partial z} - e_z \\cdot v \\right), \\label{axialflux}\n",
    "\\end{eqnarray}\n",
    "with units [cm$^3$ day$^{-1}$], see Eqn 3.1 Roose and Fowler, 2004. \n",
    "The parameter $k_z$ is the axial conductance [cm$^3$ day$^{-1}$], \n",
    "$\\psi_r$ is the pressure inside the xylem [cm], \n",
    "$e_z$ the downward unit vector [1],\n",
    "and $v$ the normed direction of the xylem [1]. Thus Eqn \\ref{axialflux} can be expressed as\n",
    "\\begin{eqnarray}\n",
    "q_z = - k_z \\left( \\frac{\\partial \\psi_r}{\\partial z} + v_3 \\right), \\label{axialflux2}\n",
    "\\end{eqnarray}\n",
    "where $v_3$ is the $z$-component of the normed xylem direction. \\\\\n",
    "\n",
    "\\noindent\n",
    "The radial flux is given by \n",
    "\\begin{eqnarray}\n",
    "q_r = - 2 a \\pi l k_r (\\psi_s - \\psi_r),\n",
    "\\end{eqnarray}\n",
    "with units [cm$^3$ day$^{-1}$] (based on Eqn 3.3 Roose and Fowler, 2004), \n",
    "where $a$ is the root radius [cm], \n",
    "$l$ is the segments length [cm], \n",
    "$k_r$ is the radial conductance [day$^{-1}$], \n",
    "and $\\psi_s$ is the soil matric potential of the surrounding soil [cm]. \\\\\n",
    "\n",
    "\\noindent\n",
    "The net flux is given by\n",
    "\\begin{eqnarray}\n",
    "q = q_z + q_r,\n",
    "\\end{eqnarray} \n",
    "and mass conservation yields\n",
    "\\begin{eqnarray}\n",
    "2 a \\pi k_r (\\psi_s - \\psi_r) = - k_z \\frac{\\partial^2 \\psi_r}{\\partial z^2} \\label{masscons}\n",
    "\\end{eqnarray}\n",
    "(see Eqn 3.4 Roose and Fowler, 2004).\n",
    "\n",
    "\\noindent\n",
    "For discretisation we use first Kirchhoff's law: In a graph that represents the root system for each node $i$ the sum of fluxes must be zero \n",
    "\\begin{eqnarray}\n",
    "\\sum_{j \\in N(i)} q_{ij} = 0,  \\label{KH}\n",
    "\\end{eqnarray}\n",
    "where $N(i)$ are the nodes that are connected to node $i$ and $q_{ij}$ is the net flux of the edge connecting node $i$ and node $j$.\n"
   ]
  },
  {
   "cell_type": "markdown",
   "metadata": {},
   "source": [
    "## Benchmarks\n"
   ]
  },
  {
   "cell_type": "code",
   "execution_count": 1,
   "metadata": {},
   "outputs": [],
   "source": [
    "import numpy as np\n",
    "import matplotlib.pyplot as plt\n",
    "from math import *\n",
    "import os"
   ]
  },
  {
   "cell_type": "markdown",
   "metadata": {},
   "source": [
    "### Benchmark M3.1: Single Root\n",
    "\n",
    "For the first benchmark problem we assume a vertical single root segment surrounded by a static soil with constant soil matric potential. At the root collar we prescribe constant pressure, at the root tip a no-flux boundary condition is applied.   \n",
    "\n",
    "We pick the following parameters defining Benchmark 1: "
   ]
  },
  {
   "cell_type": "code",
   "execution_count": 2,
   "metadata": {},
   "outputs": [],
   "source": [
    "L = 50            # length of single straight root (cm)\n",
    "a = 0.2           # radius (cm)\n",
    "kz = 4.32e-2      # axial conductivity (cm^3 / day) \n",
    "kr = 1.728e-4     # radial conductivity (1 / day) \n",
    "p_s = -200        # static soil matric potiential (cm) \n",
    "p0 = -1000        # dirichlet bc at top (cm)"
   ]
  },
  {
   "cell_type": "markdown",
   "metadata": {},
   "source": [
    "### Analytical solution\n",
    "\n",
    "For constant $k_r$ and $k_z$ we can solve Eqn \\ref{masscons} yielding \n",
    "\\begin{eqnarray}\n",
    "\\psi_r(z) := \\psi_s + d_1 e^{\\sqrt{c} z } + d_2 e^{-\\sqrt{c} z} \\label{analytic_flux}\n",
    "\\end{eqnarray} \n",
    "with $c = 2 a \\pi k_r / k_z$. \n",
    "\n",
    "In the following the constants $d_1$, and $d_2$ [cm] are calculated from the boundary conditions.\n",
    "The Dirichlet boundary conditions at the top $\\psi_r(0) =\\psi_0$ is inserted into the analytic solution Eqn \\ref{analytic_flux}, and yields\n",
    "\\begin{eqnarray}\n",
    "\\psi_s + d_1  + d_2  = \\psi_0.\n",
    "\\end{eqnarray}\n",
    "\n",
    "The Neumann boundary conition $q_z(L) = 0$ (Eqn \\ref{axialflux2}) leads to \n",
    "\\begin{eqnarray}\n",
    "\\frac{\\partial \\psi_r}{\\partial z} (L) = v_3.\n",
    "\\end{eqnarray}\n",
    "Using the derivation of the analytical solution yields\n",
    "\\begin{eqnarray}\n",
    "d_1 \\sqrt{c} e^{\\sqrt{c} L } - d_2 \\sqrt{c} e^{-\\sqrt{c} L}  = v_3.\n",
    "\\end{eqnarray}\n",
    "\n",
    "\n",
    "For a straight segment $v_3 = -1$. Therefore, we solve \n",
    "\\begin{align}\n",
    "\\left(\\begin{array}{cc}\n",
    "  1 & 1  \\\\\n",
    " \\sqrt{c} \\exp{(\\sqrt{c} L)} & -\\sqrt{c} \\exp{(-\\sqrt{c} L)} \\\\\n",
    "\\end{array}\\right)\n",
    "\\left(\\begin{array}{c}\n",
    "  d_{1}  \\\\\n",
    "  d_{2}  \\\\\n",
    "\\end{array}\\right)\n",
    "{} &= \n",
    "\\left(\\begin{array}{c}  \n",
    "  \\psi_0-\\psi_s \\\\\n",
    "  -1 \\\\\n",
    "\\end{array}\\right)\n",
    "\\end{align}\n",
    "\n",
    "We solve for the constants $d_1$, and $d_2$, and plot the results"
   ]
  },
  {
   "cell_type": "code",
   "execution_count": 3,
   "metadata": {},
   "outputs": [
    {
     "data": {
      "image/png": "[encoded data removed]",
      "text/plain": [
       "<Figure size 504x504 with 1 Axes>"
      ]
     },
     "metadata": {
      "needs_background": "light"
     },
     "output_type": "display_data"
    }
   ],
   "source": [
    "# Analytical solution\n",
    "c = 2*a*pi*kr/kz\n",
    "p_r = lambda z: p_s + d[0]*exp(sqrt(c)*z) + d[1]*exp(-sqrt(c)*z)\n",
    "\n",
    "# Boundary conditions\n",
    "AA = np.array([[1,1], [sqrt(c)*exp(sqrt(c)*(-L)), -sqrt(c)*exp(-sqrt(c)*(-L))] ]) \n",
    "bb = np.array([p0-p_s, -1]) \n",
    "d = np.linalg.solve(AA, bb) \n",
    "\n",
    "# Plot results\n",
    "fig=plt.figure(figsize=(7, 7))\n",
    "za_ = np.linspace(0,-L,100)\n",
    "pr = list(map(p_r, za_))\n",
    "plt.plot(pr,za_)\n",
    "plt.xlabel(\"Xylem pressure [cm]\")\n",
    "plt.ylabel(\"Depth [cm]\")\n",
    "plt.show()"
   ]
  },
  {
   "cell_type": "markdown",
   "metadata": {},
   "source": [
    "### Benchmark M3.2: Root System\n",
    "\n",
    "In the following we will give a small static root system which is eight days old described by nodes (in cm) and segments (two node indices) which is located in a static soil with constant soil matric potential. For each node we give the age (in days), and for each segment the type which is either 0 for tap root or 1 for lateral root. Furthermore, the radius is constant for tap, and lateral roots (in cm). "
   ]
  },
  {
   "cell_type": "code",
   "execution_count": 4,
   "metadata": {},
   "outputs": [],
   "source": [
    "nodes = np.array([ [0.00,0.00,-3.00], [-0.00,-0.01,-3.48], [-0.85,0.48,-3.71], [-1.69,0.99,-3.90], [-2.58,1.32,-4.21], [-3.48,1.67,-4.49], [-4.38,2.00,-4.77], [-5.24,2.40,-5.09], [-6.08,2.82,-5.42], [-6.93,3.27,-5.69], [-6.96,3.29,-5.70], [-0.00,0.01,-3.97], [0.20,-0.95,-4.20], [0.43,-1.88,-4.49], [0.65,-2.81,-4.77], [0.84,-3.75,-5.06], [1.04,-4.70,-5.31], [1.27,-5.64,-5.54], [1.43,-6.58,-5.84], [1.48,-6.91,-5.94], [-0.01,0.03,-4.45], [0.75,0.68,-4.48], [1.52,1.32,-4.50], [2.30,1.94,-4.46], [3.07,2.58,-4.41], [3.88,3.16,-4.46], [4.73,3.69,-4.50], [5.34,4.05,-4.53], [-0.03,0.06,-4.97], [-0.73,0.63,-5.40], [-1.46,1.20,-5.79], [-2.15,1.80,-6.18], [-2.76,2.48,-6.59], [-3.16,3.16,-7.21], [-3.63,3.90,-7.64], [-0.06,0.07,-5.42], [0.07,1.04,-5.61], [0.23,2.00,-5.82], [0.46,2.93,-6.11], [0.72,3.85,-6.40], [0.99,4.77,-6.69], [1.06,5.11,-6.78], [-0.10,0.08,-5.96], [0.35,0.90,-6.31], [0.80,1.72,-6.65], [1.23,2.55,-7.01], [1.62,3.41,-7.34], [1.70,3.58,-7.41], [-0.14,0.10,-6.46], [0.05,-0.81,-6.83], [0.29,-1.72,-7.18], [0.43,-2.62,-7.59], [0.50,-3.12,-7.84], [-0.19,0.12,-7.02], [0.32,0.98,-7.03], [0.82,1.84,-6.95], [1.07,2.23,-6.88], [-0.23,0.17,-7.56], [0.68,-0.18,-7.80], [1.12,-0.35,-7.93], [-0.24,0.21,-8.14], [-0.01,0.36,-8.22], [-0.25,0.24,-8.69], [-0.24,0.25,-9.25], [-0.24,0.26,-9.71], [-0.26,0.26,-10.09], [-0.28,0.25,-10.57], [-0.26,0.24,-11.05], [-0.26,0.21,-11.58], [-0.25,0.19,-12.06], [-0.25,0.17,-12.55], [-0.23,0.15,-13.00], [-0.23,0.12,-13.46], [-0.22,0.12,-13.99], [-0.21,0.15,-14.54], [-0.19,0.20,-15.07], [-0.17,0.24,-15.60], [-0.17,0.31,-16.17], [-0.15,0.36,-16.64], [-0.12,0.43,-17.18], [-0.11,0.48,-17.70], [-0.07,0.52,-18.23], [-0.06,0.53,-18.53] ])\n",
    "seg = np.array([ [0,1], [1,11], [11,20], [20,28], [28,35], [35,42], [42,48], [48,53], [53,57], [57,60], [60,62], [62,63], [63,64], [64,65], [65,66], [66,67], [67,68], [68,69], [69,70], [70,71], [71,72], [72,73], [73,74], [74,75], [75,76], [76,77], [77,78], [78,79], [79,80], [80,81], [81,82], [1,2], [2,3], [3,4], [4,5], [5,6], [6,7], [7,8], [8,9], [9,10], [11,12], [12,13], [13,14], [14,15], [15,16], [16,17], [17,18], [18,19], [20,21], [21,22], [22,23], [23,24], [24,25], [25,26], [26,27], [28,29], [29,30], [30,31], [31,32], [32,33], [33,34], [35,36], [36,37], [37,38], [38,39], [39,40], [40,41], [42,43], [43,44], [44,45], [45,46], [46,47], [48,49], [49,50], [50,51], [51,52], [53,54], [54,55], [55,56], [57,58], [58,59], [60,61] ])\n",
    "age = np.array([ 8.00,7.76,7.52,7.29,7.03,6.80,6.53,6.28,6.00,5.73,5.43,5.16,4.87,4.64,4.44,4.20,3.95,3.68,3.43,3.17,2.94,2.70,2.42,2.14,1.85,1.57,1.27,1.02,0.73,0.45,0.16,-0.00,2.29,2.02,1.74,1.43,1.11,0.77,0.41,0.01,0.00,2.04,1.77,1.48,1.18,0.85,0.51,0.14,0.00,1.78,1.51,1.22,0.92,0.60,0.26,0.00,1.51,1.24,0.96,0.66,0.34,0.00,1.28,1.01,0.73,0.43,0.12,0.00,0.97,0.69,0.39,0.07,0.00,0.72,0.45,0.17,0.00,0.41,0.14,0.00,0.13,0.00,0.00 ])\n",
    "types = np.array([ 1,1,1,1,1,1,1,1,1,1,1,1,1,1,1,1,1,1,1,1,1,1,1,1,1,1,1,1,1,1,1,2,2,2,2,2,2,2,2,2,2,2,2,2,2,2,2,2,2,2,2,2,2,2,2,2,2,2,2,2,2,2,2,2,2,2,2,2,2,2,2,2,2,2,2,2,2,2,2,2,2,2 ])\n",
    "a_tap = 0.2 # tap root radius (cm)\n",
    "a_lateral = 0.1 # lateral root radius (cm)"
   ]
  },
  {
   "cell_type": "markdown",
   "metadata": {},
   "source": [
    "We can visualize this small root system by the following script, where colors denote the root type:"
   ]
  },
  {
   "cell_type": "code",
   "execution_count": 5,
   "metadata": {},
   "outputs": [
    {
     "data": {
      "image/png": "[encoded data removed]",
      "text/plain": [
       "<Figure size 504x504 with 1 Axes>"
      ]
     },
     "metadata": {
      "needs_background": "light"
     },
     "output_type": "display_data"
    }
   ],
   "source": [
    "fig=plt.figure(figsize=(7, 7))\n",
    "cols = ['r','b'] \n",
    "for i,s in enumerate(seg): \n",
    "    n1 = nodes[s[0]]\n",
    "    n2 = nodes[s[1]]\n",
    "    plt.plot([n1[0], n2[0]], [n1[2], n2[2]], cols[types[i]-1])    \n",
    "plt.axis('equal')\n",
    "plt.xlabel(\"Width [cm]\")\n",
    "plt.ylabel(\"Depth [cm]\")\n",
    "plt.show()"
   ]
  },
  {
   "cell_type": "markdown",
   "metadata": {},
   "source": [
    "For benchmark M3.2(a) we first neglect root age and define static conductivities according to Javaux et al. (2008), and define boundary conditions as in Benchmark M3.1: At the root collar we assume -1000 cm pressure head located at node index 0, and a no-flux boundary condition at the root tips. The soil is assumed to be static with a matric potential of -200 cm pressure head. \n",
    "\n",
    "Aim is to calculate the pressure at the segments or nodes. "
   ]
  },
  {
   "cell_type": "code",
   "execution_count": 6,
   "metadata": {},
   "outputs": [],
   "source": [
    "kz = 4.32e-2      # axial conductivity (cm^3 / day) \n",
    "kr = 1.728e-4     # radial conductivity (1 / day) \n",
    "p_s = -200        # static soil matric potiential (cm) \n",
    "p0 = -1000        # dirichlet bc at top (cm)"
   ]
  },
  {
   "cell_type": "markdown",
   "metadata": {},
   "source": [
    "Since there is no analytical solution available to this problem, we can validate numerical codes by inter-comparison. The root collar is at node index 0, root tip node indices are given by:"
   ]
  },
  {
   "cell_type": "code",
   "execution_count": 7,
   "metadata": {},
   "outputs": [
    {
     "name": "stdout",
     "output_type": "stream",
     "text": [
      "tip node indices = [10, 19, 27, 34, 41, 47, 52, 56, 59, 61, 82]\n",
      "node root numbers = [ 1.  1.  2.  2.  2.  2.  2.  2.  2.  2.  2.  1.  3.  3.  3.  3.  3.  3.\n",
      "  3.  3.  1.  4.  4.  4.  4.  4.  4.  4.  1.  5.  5.  5.  5.  5.  5.  1.\n",
      "  6.  6.  6.  6.  6.  6.  1.  7.  7.  7.  7.  7.  1.  8.  8.  8.  8.  1.\n",
      "  9.  9.  9.  1. 10. 10.  1. 11.  1.  1.  1.  1.  1.  1.  1.  1.  1.  1.\n",
      "  1.  1.  1.  1.  1.  1.  1.  1.  1.  1.  1.]\n"
     ]
    }
   ],
   "source": [
    "def isTip(nid):\n",
    "    for s in seg[:,0]:\n",
    "        if s==nid:\n",
    "            return False\n",
    "    return True\n",
    "\n",
    "tipsI = []\n",
    "for i in range(0, len(nodes)):\n",
    "    if isTip(i): \n",
    "        tipsI.append(i)    \n",
    "print(\"tip node indices = \"+str(tipsI))   \n",
    "\n",
    "def segId(nid):\n",
    "    for i,s in enumerate(seg[:,1]):\n",
    "        if s==nid:\n",
    "            return i\n",
    "\n",
    "numbers = np.ones(len(nodes))        \n",
    "n=2\n",
    "for i in tipsI:\n",
    "    sid = segId(i)\n",
    "    while types[sid] == 2:\n",
    "        numbers[seg[sid,1]] = n\n",
    "        sid = segId(seg[sid,0])\n",
    "        # print(i,sid,str(seg[sid,:]),types[sid],n)\n",
    "    n += 1\n",
    "print(\"node root numbers = \" + str(numbers))    \n",
    "        "
   ]
  },
  {
   "cell_type": "markdown",
   "metadata": {},
   "source": [
    "In Benchmark M3.2(b) we are interested in the influence of age dependent radial and axial conductivities. We define these conductivities as: "
   ]
  },
  {
   "cell_type": "code",
   "execution_count": 8,
   "metadata": {},
   "outputs": [
    {
     "data": {
      "image/png": "[encoded data removed]",
      "text/plain": [
       "<Figure size 432x288 with 2 Axes>"
      ]
     },
     "metadata": {
      "needs_background": "light"
     },
     "output_type": "display_data"
    }
   ],
   "source": [
    "kz0, kz1 = 4.32e-2, 4.32e-1, # (cm^3 / day) \n",
    "kr0, kr1 = 1.728e-4, 1.728e-5 # (1 / day)\n",
    "kz = lambda age: kz0*(age<=3)+kz1*(age>3)\n",
    "kr = lambda age: kr0*(age<=3)+kr1*(age>3)\n",
    "\n",
    "# Plot function\n",
    "age_ = np.linspace(0,8,100)\n",
    "fig, ax1 = plt.subplots()\n",
    "ax1.plot(age_,list(map(kr, age_)), \"b--\")\n",
    "ax1.set_xlabel(\"age [days]\")\n",
    "ax1.set_ylabel(\"blue: radial conductivity $k_r$ [1/day]\")\n",
    "ax2 = ax1.twinx()\n",
    "ax2.plot(age_,list(map(kz, age_)), \"r.\")\n",
    "ax2.set_ylabel(\"red: axial conductivity $k_z$ [cm$^3$/day]\")\n",
    "fig.tight_layout()\n",
    "plt.show()"
   ]
  },
  {
   "cell_type": "markdown",
   "metadata": {},
   "source": [
    "## Comparison to numerical solutions\n",
    "\n",
    "We validate various numerical codes by solving the benchmarking problems. In the following we link to notebooks already containing Benchmark M3.1, M3.2, and M3.3\n",
    "\n",
    "* [Homegrown Python Code from Schnepf et al. 2018](Xylem flux - Python code.ipynb)\n",
    "* [Dumux](Xylem flux - Dumux.ipynb)"
   ]
  },
  {
   "cell_type": "markdown",
   "metadata": {},
   "source": [
    "### Benchmark M3.1 \n",
    "\n",
    "For an automatic comparison of the numerical results, save the results in a text file with two lines, containing comma separated depth values (cm) in the first line, and pressure head (cm) in the second, located in the folder `/xylem_flux/b1/simulatorname`.\n",
    "\n",
    "TODO m -> cm, convert files, change below (remove *100)"
   ]
  },
  {
   "cell_type": "code",
   "execution_count": 36,
   "metadata": {},
   "outputs": [
    {
     "data": {
      "image/png": "[encoded data removed]",
      "text/plain": [
       "<Figure size 504x504 with 1 Axes>"
      ]
     },
     "metadata": {
      "needs_background": "light"
     },
     "output_type": "display_data"
    },
    {
     "name": "stdout",
     "output_type": "stream",
     "text": [
      "Name\t\t N\t Rsme\t\t R²\n",
      "dumux\t\t 100 \t 14.77822373 \t 0.99988822\n",
      "python\t\t 100 \t 0.00000035 \t 0.99998960\n"
     ]
    }
   ],
   "source": [
    "fig=plt.figure(figsize=(7, 7)) \n",
    "plt.plot(pr,za_) # analytical solution\n",
    "j = 0\n",
    "col = [\"r*\", \"g*\", \"b*\",\"rv\", \"gv\", \"bv\"]\n",
    "rsme = []\n",
    "rsquare = []\n",
    "nn = []\n",
    "l = [\"analytic\"]\n",
    "for dirname, dirnames, filenames in os.walk('xylem_flux/b1/.'):\n",
    "    filenames.sort()\n",
    "    for i,f in enumerate(filenames):\n",
    "        try:\n",
    "            l.append(f)\n",
    "            data = np.loadtxt(\"xylem_flux/b1/\"+f,delimiter=',')\n",
    "            plt.plot(data[1,:],data[0,:]*100,col[j%5]) # numeric solution         \n",
    "            j += 1     \n",
    "            # Evaluate\n",
    "            n = len(data[1,:])\n",
    "            nn.append(n)\n",
    "            pr_ = list(map(p_r, data[0,:]*100)) # exact solution at data depth points  \n",
    "            # calculate R^2\n",
    "            meany = np.mean(data[1,:])\n",
    "            r = np.sum(np.square(pr_-meany)) / np.sum(np.square(data[1,:]-meany))                         \n",
    "            rsquare.append(r)            \n",
    "            # calculate RSME\n",
    "            r = np.square(np.sum(np.square(data[1,:]-pr_)/n))\n",
    "            rsme.append(r)                \n",
    "        except Exception as ex:\n",
    "            print(\"Something went wrong with file \"+f)    \n",
    "            print(ex)\n",
    "plt.xlabel(\"Xylem pressure [cm]\")\n",
    "plt.ylabel(\"Depth [cm]\")\n",
    "plt.legend(l)\n",
    "plt.show()\n",
    "\n",
    "print(\"Name\\t\\t\", \"N\\t\", \"Rsme\\t\\t\", \"R²\")\n",
    "for i in range(0,j):\n",
    "    print(l[i+1]+\"\\t\\t\",nn[i],\"\\t\",'{:2.8f}'.format(rsme[i]),\"\\t\", '{:2.8f}'.format(rsquare[i])) "
   ]
  },
  {
   "cell_type": "markdown",
   "metadata": {},
   "source": [
    "### Benchmark M3.2(a)\n",
    "\n",
    "For an inter-comparison of the numerical results save the results in a text file with two lines, containing comma separated depth values (cm) in the first line, and pressure head (cm) in the second line. Locate the file in the folder `/xylem_flux/b2/simulatorname`."
   ]
  },
  {
   "cell_type": "code",
   "execution_count": null,
   "metadata": {},
   "outputs": [],
   "source": [
    "fig=plt.figure(figsize=(7, 7))\n",
    "col = [\"r*\", \"g*\", \"b*\",\"rv\", \"gv\", \"bv\"]\n",
    "for dirname, dirnames, filenames in os.walk('xylem_flux/b2/.'):\n",
    "    filenames.sort()\n",
    "    for i,f in enumerate(filenames):\n",
    "        try:\n",
    "            data = np.loadtxt(\"xylem_flux/b2/\"+f,delimiter=',')        \n",
    "            print(str(i+1)+\". \"+f+\" (\"+col[i]+\"):\")\n",
    "            print(\"from \", min(data[1,:]), \"to\", max(data[1,:]), \" cm pressure head\\n\")        \n",
    "            plt.plot(data[1,:],data[0,:],col[i])\n",
    "        except Exception as ex:\n",
    "            print(\"Something went wrong with file \"+f)    \n",
    "            print(ex)             \n",
    "            \n",
    "plt.xlabel(\"Xylem pressure [cm]\")\n",
    "plt.ylabel(\"Depth [cm]\")        \n",
    "plt.show()    "
   ]
  },
  {
   "cell_type": "markdown",
   "metadata": {},
   "source": [
    "### Benchmark M3.2(b)\n",
    "\n",
    "For an inter-comparison of the numerical results save the results in a text file with two lines, containing comma separated depth values (cm) in the first line, and pressure head (cm) in the second line. Locate the file in the folder `/xylem_flux/b3/simulatorname`."
   ]
  },
  {
   "cell_type": "code",
   "execution_count": null,
   "metadata": {},
   "outputs": [],
   "source": [
    "fig=plt.figure(figsize=(7, 7))\n",
    "col = [\"r*\", \"g*\", \"b*\",\"rv\", \"gv\", \"bv\"]\n",
    "for dirname, dirnames, filenames in os.walk('xylem_flux/b3/.'):\n",
    "    filenames.sort()\n",
    "    for i,f in enumerate(filenames):\n",
    "        try:\n",
    "            data = np.loadtxt(\"xylem_flux/b3/\"+f,delimiter=',')        \n",
    "            print(str(i+1)+\". \"+f+\" (\"+col[i]+\"):\")\n",
    "            print(\"from \", min(data[1,:]), \"to\", max(data[1,:]), \" cm pressure head\\n\")        \n",
    "            plt.plot(data[1,:],data[0,:],col[i])\n",
    "        except Exception as ex:\n",
    "            print(\"Something went wrong with file \"+f)    \n",
    "            print(ex)\n",
    "    \n",
    "plt.xlabel(\"Xylem pressure [cm]\")\n",
    "plt.ylabel(\"Depth [cm]\")        \n",
    "plt.show()"
   ]
  },
  {
   "cell_type": "markdown",
   "metadata": {},
   "source": [
    "## References\n",
    "\n",
    "Doussan, C., Pierret, A., Garrigues, E., and Pages, L. (2006). Water uptake by plant roots: II - Modelling of water transfer in the soil root-system with explicit account of flow within the root system - comparison with experiments. *Plant and Soil*, 283(1-2):99–117.\n",
    "\n",
    "Roose, T. and Fowler, A. C. (2004). A model for water uptake by plant roots. *Journal of Theoretical Biology*, 228(2):155–171.\n",
    "\n",
    "Schnepf, A., Leitner, D., Landl, M., Lobet, G., Mai, T.H., Morandage S., Sheng, C., Zoerner, M., Vanderborght, J., Vereecken, H. (2018) CRootBox: a structural-functional modelling framework for root systems. *Annals of Botany*, 121 (5), 1033-1053\n"
   ]
  }
 ],
 "metadata": {
  "kernelspec": {
   "display_name": "Python 3",
   "language": "python",
   "name": "python3"
  },
  "language_info": {
   "codemirror_mode": {
    "name": "ipython",
    "version": 3
   },
   "file_extension": ".py",
   "mimetype": "text/x-python",
   "name": "python",
   "nbconvert_exporter": "python",
   "pygments_lexer": "ipython3",
   "version": "3.6.8"
  },
  "latex_envs": {
   "LaTeX_envs_menu_present": true,
   "autoclose": false,
   "autocomplete": true,
   "bibliofile": "biblio.bib",
   "cite_by": "apalike",
   "current_citInitial": 1,
   "eqLabelWithNumbers": true,
   "eqNumInitial": 1,
   "hotkeys": {
    "equation": "Ctrl-E",
    "itemize": "Ctrl-I"
   },
   "labels_anchors": false,
   "latex_user_defs": false,
   "report_style_numbering": false,
   "user_envs_cfg": false
  }
 },
 "nbformat": 4,
 "nbformat_minor": 2
}
