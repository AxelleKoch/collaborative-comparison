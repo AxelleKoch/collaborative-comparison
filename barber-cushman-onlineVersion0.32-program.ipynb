{
 "cells": [
  {
   "cell_type": "markdown",
   "metadata": {},
   "source": [
    "```\n",
    "title: \"barber-cushman.rmd\"\n",
    "author: \"Johannes Postma\" (with slight adaptations by Andrea Schnepf)\n",
    "date: \"May 14, 2018\"\n",
    "output: \n",
    "  pdf_document:\n",
    "     latex_engine: xelatex\n",
    "license: gpl\n",
    "```"
   ]
  },
  {
   "cell_type": "code",
   "execution_count": 12,
   "metadata": {
    "attributes": {
     "classes": [],
     "id": "",
     "include": "FALSE"
    }
   },
   "outputs": [],
   "source": [
    "knitr::opts_chunk$set(echo = TRUE)"
   ]
  },
  {
   "cell_type": "markdown",
   "metadata": {},
   "source": [
    "## Baber-Cushman model \n",
    "\n",
    "Itoh S, Barber SA. 1983. A numerical solution of whole plant nutrient uptake for soil-root systems with root hairs. Plant and Soil 70: 403-413.\n",
    "\n",
    "requirements: the barber-cushman-onlineVersion0.1-function-library.r in the working dir of R"
   ]
  },
  {
   "cell_type": "code",
   "execution_count": 13,
   "metadata": {
    "attributes": {
     "classes": [],
     "echo": "FALSE",
     "id": ""
    }
   },
   "outputs": [],
   "source": [
    "#load model functions\n",
    "source(\"barber-cushman-onlineVersion0.32-function-library.r\")\n"
   ]
  },
  {
   "cell_type": "markdown",
   "metadata": {},
   "source": [
    "## Set parameters"
   ]
  },
  {
   "cell_type": "code",
   "execution_count": 14,
   "metadata": {
    "attributes": {
     "classes": [],
     "echo": "TRUE",
     "id": ""
    }
   },
   "outputs": [
    {
     "name": "stdout",
     "output_type": "stream",
     "text": [
      "List of 20\n",
      " $ v0       : num 1e-07\n",
      " $ De       : num 2.3e-09\n",
      " $ b        : num 163\n",
      " $ Cli      : num 0.0136\n",
      " $ Imax     : num 3.21e-07\n",
      " $ Km       : num 0.00545\n",
      " $ E        : num 0\n",
      " $ Cmin     : num 2e-04\n",
      " $ r0       : num 0.05\n",
      " $ r1       : num 0.55\n",
      " $ k        : num 60\n",
      " $ small    : num 0.01\n",
      " $ dt       : num 0.1\n",
      " $ case     : num 2\n",
      " $ endtime  : num 30\n",
      " $ tcfactor : num 86400\n",
      " $ roothairs: num 1\n",
      " $ rh       : num 5e-04\n",
      " $ Nh       : num 1000\n",
      " $ lh       : num 0.2\n"
     ]
    }
   ],
   "source": [
    "#set parameter set\n",
    "#param=roothairPublication1983\n",
    "param=paramBarberBookP\n",
    "\n",
    "#param is a list\n",
    "str(param)\n",
    "\n",
    "#change for example b\n",
    "param$b=163\n"
   ]
  },
  {
   "cell_type": "markdown",
   "metadata": {},
   "source": [
    "## Run the model\n",
    "The function barber returns the matrix m which contains for every position and time the concentration"
   ]
  },
  {
   "cell_type": "code",
   "execution_count": 15,
   "metadata": {
    "attributes": {
     "classes": [],
     "echo": "TRUE",
     "id": ""
    }
   },
   "outputs": [
    {
     "name": "stdout",
     "output_type": "stream",
     "text": [
      "[1] \"my test run\"\n"
     ]
    }
   ],
   "source": [
    "#run model, m\n",
    "m<-barber(param,msg=\"my test run\")"
   ]
  },
  {
   "cell_type": "markdown",
   "metadata": {},
   "source": [
    "##Integrate"
   ]
  },
  {
   "cell_type": "code",
   "execution_count": 16,
   "metadata": {
    "attributes": {
     "classes": [],
     "echo": "TRUE",
     "id": ""
    }
   },
   "outputs": [
    {
     "data": {
      "text/html": [
       "<ol class=list-inline>\n",
       "\t<li>'Nupt'</li>\n",
       "\t<li>'Nupth'</li>\n",
       "\t<li>'TNupt'</li>\n",
       "\t<li>'TNupth'</li>\n",
       "\t<li>'TotNupt'</li>\n",
       "\t<li>'TotNupth'</li>\n",
       "</ol>\n"
      ],
      "text/latex": [
       "\\begin{enumerate*}\n",
       "\\item 'Nupt'\n",
       "\\item 'Nupth'\n",
       "\\item 'TNupt'\n",
       "\\item 'TNupth'\n",
       "\\item 'TotNupt'\n",
       "\\item 'TotNupth'\n",
       "\\end{enumerate*}\n"
      ],
      "text/markdown": [
       "1. 'Nupt'\n",
       "2. 'Nupth'\n",
       "3. 'TNupt'\n",
       "4. 'TNupth'\n",
       "5. 'TotNupt'\n",
       "6. 'TotNupth'\n",
       "\n",
       "\n"
      ],
      "text/plain": [
       "[1] \"Nupt\"     \"Nupth\"    \"TNupt\"    \"TNupth\"   \"TotNupt\"  \"TotNupth\""
      ]
     },
     "metadata": {},
     "output_type": "display_data"
    }
   ],
   "source": [
    "#integrate the results\n",
    "res<-barberTotN(param,m)\n",
    "names(res)"
   ]
  },
  {
   "cell_type": "code",
   "execution_count": null,
   "metadata": {},
   "outputs": [],
   "source": []
  },
  {
   "cell_type": "markdown",
   "metadata": {},
   "source": [
    "##Plot results"
   ]
  },
  {
   "cell_type": "markdown",
   "metadata": {},
   "source": [
    "##Run the classical barber sensitivity analysis"
   ]
  },
  {
   "cell_type": "code",
   "execution_count": 17,
   "metadata": {},
   "outputs": [
    {
     "data": {
      "image/png": "[encoded data removed]",
      "text/plain": [
       "Plot with title \"Cum. uptake\""
      ]
     },
     "metadata": {},
     "output_type": "display_data"
    }
   ],
   "source": [
    "plotbarber<-function(param,m,filename=\"none\"){\n",
    "   #if(filename!=\"none\") png(filename=paste(filename,\".png\"),width=1200,height=1200)\n",
    "   if(filename!=\"none\") svg(filename=paste(filename,\".svg\"),width=10,height=7)\n",
    "   #calculate constants\n",
    "   const<-setConstants(param)\n",
    "   k=const$k\n",
    "   dt=const$dt\n",
    "   l=length(const$time)\n",
    "   jm=l+1\n",
    "   time=c(0,const$time*const$dt)\n",
    "   fr=8 #number of lines per plot\n",
    "   \n",
    "   #unit\n",
    "   unit=const$unit\n",
    "\n",
    "   #calculate nutrient uptake\n",
    "   data<-barberTotN(param,m)   \n",
    "\n",
    "   #4 graphs\n",
    "   oldpar=par(no.readonly=TRUE)\n",
    "   par(mfcol=c(2,3),ps=11,lwd=2 ) #one graph with large text\n",
    "\n",
    "   #plot the m matrix\n",
    "   ylim=range(pretty(c(0,1.1*max(m))))\n",
    "   plot(const$r,m[,l+1], main=\"Concentration/Space\",xlab=\"Distance from the root\",ylab=\"Concentration\", type='l',ylim=ylim)\n",
    "   a=as.integer(l/fr)\n",
    "   for(i in c(1,(1:(l/a))*a)){\n",
    "      lines(const$r,m[,i])\n",
    "   }\n",
    "\n",
    "   #plot the depletion \n",
    "   plot (time,m[1,], main=\"Concentration/Time\",xlab=\"Time\",ylab=\"Concentration\", type='l', ylim=ylim) #plot\n",
    "   a=as.integer(k/fr)\n",
    "   for(i in c(1,(1:(k/a))*a)){\n",
    "      lines(time,m[i,]) #plot\n",
    "   }\n",
    "\n",
    "   #plot the uptake rate by time\n",
    "   sumNupt=100*(data$Nupt+data$Nupth)\n",
    "   plot (time,sumNupt, main=\"Uptake rate\",xlab=\"Time (day)\",ylab=paste(\"Nutrient uptake rate (\",unit,\"/m/day)\",sep=\"\"), type='l', ylim=range(pretty(c(0,max(sumNupt))))) #plot\n",
    "   lines(time,100*data$Nupt, lty=2)\n",
    "   lines(time,100*data$Nupth, lty=3)\n",
    "   legend(\"topright\", legend = c(\"total\",\"root\",\"roothairs\"),lty=c(1,2,3),bty='n')\n",
    "\n",
    "   #plot the michaelis mente uptake curve\n",
    "   crm=max(10*const$Km, 1.1*max(m))\n",
    "   cr=seq(const$Cmin,crm,(crm-const$Cmin)/100) #concentration range\n",
    "   vm=100*const$r0*pi*2*const$Imax/const$dt\n",
    "   \n",
    "   ylab=paste(\"Nutrient uptake (\",unit,\"/m/day)\",sep=\"\")\n",
    "   plot(cr,100*MMuptake(const,cr), main=\"Michaelis Menten\",xlab=\"Concentration uM\",ylab=ylab, type='l',ylim=range(pretty(c(0,vm))), xlim=range(pretty(c(0,crm))) ) #plot\n",
    "   lines(m[1,],100*data$Nupt,col=2,lty=3,lwd=4)\n",
    "   lines(range(cr),c(vm,vm),col=2,lty=1,lwd=2)\n",
    "   \n",
    "   #plot uptake curves\n",
    "   sumNupt=100*(data$TotNupt+data$TotNupth)\n",
    "   plot (time,sumNupt, main=\"Cum. uptake\",xlab=\"Time (day)\",ylab=ylab, type='l', ylim=range(pretty(c(0,max(sumNupt))))) #plot\n",
    "   lines(time,100*data$TotNupt, lty=2)\n",
    "   lines(time,100*data$TotNupth, lty=3)\n",
    "   legend(\"topleft\", legend = c(\"total\",\"root\",\"roothairs\"),lty=c(1,2,3),bty='n')\n",
    "\n",
    "   #total change in mass ()\n",
    "   #sumNupt=100*(data$TotNupt+data$TotNupth)\n",
    "   dc=const$Cli - m #concentration change\n",
    "   mv=sweep(dc,MARGIN=1,(const$b)*const$vol,`*`) #mulitply concentration with volume and buffer to get amounts\n",
    "   dcs=100*colSums(mv)\n",
    "   #dcs=100*colSums((mv[1:(k-1),]+mv[2:k,])/2) #spatial integration\n",
    "   plot (time,sumNupt, main=\"Cum. uptake\",xlab=\"Time (day)\",ylab=ylab, type='l', ylim=range(pretty(c(0,max(sumNupt,dcs))))) #plot\n",
    "   lines(time,dcs, lty=2)\n",
    "   legend(\"topleft\", legend = c(\"total uptake\",\"total solute change\"),lty=c(1,2),bty='n')\n",
    "   \n",
    "   \n",
    "   par(oldpar)\n",
    "   if(filename!=\"none\") dev.off()\n",
    "\n",
    "}\n",
    "plotbarber(param,m)\n"
   ]
  },
  {
   "cell_type": "code",
   "execution_count": 19,
   "metadata": {},
   "outputs": [
    {
     "data": {
      "image/png": "[encoded data removed]",
      "text/plain": [
       "Plot with title \"Sensitivity Analysis Barber-Cushman Model\""
      ]
     },
     "metadata": {},
     "output_type": "display_data"
    }
   ],
   "source": [
    "#do a sensitivity analysis (may take a long time, depending on the list or parameters!)\n",
    "invisible(capture.output(dat<-sensitivityBarber(param, sensitivity_names=c(\"Imax\",\"Km\",\"De\"))))\n",
    "#(\\\"Cli\\\",\\\"r0\\\",\\\"r1\\\",\\\"Imax\\\",\\\"Km\\\",\\\"De\\\",\\\"b\\\",\\\"v0\\\",\\\"Imaxh\\\",\\\"lh\\\",\\\"rh\\\",\\\"Nh\\\",\\\"Nh~lh\\\"))\n",
    " plotSensitivityBarber(dat)"
   ]
  },
  {
   "cell_type": "code",
   "execution_count": null,
   "metadata": {},
   "outputs": [],
   "source": []
  },
  {
   "cell_type": "code",
   "execution_count": null,
   "metadata": {},
   "outputs": [],
   "source": []
  }
 ],
 "metadata": {
  "kernelspec": {
   "display_name": "R",
   "language": "R",
   "name": "ir"
  },
  "language_info": {
   "codemirror_mode": "r",
   "file_extension": ".r",
   "mimetype": "text/x-r-source",
   "name": "R",
   "pygments_lexer": "r",
   "version": "3.4.3"
  }
 },
 "nbformat": 4,
 "nbformat_minor": 2
}
