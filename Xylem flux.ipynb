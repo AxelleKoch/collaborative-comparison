{
 "cells": [
  {
   "cell_type": "markdown",
   "metadata": {},
   "source": [
    "# Water flux within the root \n",
    "\n",
    "by Daniel Leitner, Andrea Schnepf "
   ]
  },
  {
   "cell_type": "markdown",
   "metadata": {},
   "source": [
    "## Model derivation\n",
    "\n",
    "\n",
    "Roughly based on Roose and Fowler (2004) and Doussan et al. (2006)\n",
    "\n",
    "\n",
    "The axial water flux in a xylem is given by \n",
    "\\begin{eqnarray} \n",
    "q_z = - k_z \\left( \\frac{\\partial p_r}{\\partial z} - \\rho g e_z \\cdot v \\right), \\label{axialflux}\n",
    "\\end{eqnarray}\n",
    "with units [L$^3$ T$^{-1}$] (see Eqn 3.1 Roose and Fowler, 2004). \n",
    "The parameter $k_z$ is the axial conductance [$L^5$ T M$^{-1}$], \n",
    "$p_r$ is the pressure inside the xylem [M L$^{-1}$ T$^{-2}$], \n",
    "$\\rho$ is the density of water [M L$^{-3}$], \n",
    "$g$ is the gravitational acceleration [L T$^{-2}$], \n",
    "$e_z$ the downward unit vector [1],\n",
    "and $v$ the normed direction of the xylem [1]. Thus Eqn \\ref{axialflux} can be expressed as\n",
    "\\begin{eqnarray}\n",
    "q_z = - k_z \\left( \\frac{\\partial p_r}{\\partial z} - \\rho g v_3 \\right), \\label{axialflux2}\n",
    "\\end{eqnarray}\n",
    "where $v_3$ is the $z$-component of the normed xylem direction. \\\\\n",
    "\n",
    "\\noindent\n",
    "The radial flux is given by \n",
    "\\begin{eqnarray}\n",
    "q_r = - 2 a \\pi l k_r (p_s - p_r) \n",
    "\\end{eqnarray}\n",
    "with units [L$^3$ T$^{-1}$] (based on Eqn 3.3 Roose and Fowler, 2004), \n",
    "where $a$ is the root radius [L], $l$ is the segments length [L], \n",
    "$k_r$ is the radial conductance [L$^2$ T M$^{-1}$], \n",
    "and $p_s$ is the pressure of the surrounding soil [M L$^{-1}$ T$^{-2}$]. \\\\\n",
    "\n",
    "\\noindent\n",
    "The net flux is given by\n",
    "\\begin{eqnarray}\n",
    "q = q_z + q_r,\n",
    "\\end{eqnarray} \n",
    "and mass conservation yields\n",
    "\\begin{eqnarray}\n",
    "2 a \\pi k_r (p_s - p_r) = - k_z \\frac{\\partial^2 p_r}{\\partial z^2} \\label{masscons}\n",
    "\\end{eqnarray}\n",
    "(see Eqn 3.4 Roose and Fowler, 2004).\n",
    "\n",
    "\\noindent\n",
    "For discretisation we use first Kirchhoff's law: In a graph that represents the root system for each node $i$ the sum of fluxes must be zero \n",
    "\\begin{eqnarray}\n",
    "\\sum_{j \\in N(i)} q_{ij} = 0,  \\label{KH}\n",
    "\\end{eqnarray}\n",
    "where $N(i)$ are the nodes that are connected to node $i$ and $q_{ij}$ is the net flux of the edge connecting node $i$ and node $j$.\n"
   ]
  },
  {
   "cell_type": "markdown",
   "metadata": {},
   "source": [
    "## Benchmark 1: A single root in static soil \n",
    "\n",
    "For the first benchmark problem we assume a vertical single straight root segment surrounded by a soil with a constant soil pressure. \n",
    "\n",
    "For constant $k_r$ and $k_z$ we can solve Eqn \\ref{masscons} yielding \n",
    "\\begin{eqnarray}\n",
    "p_r(z) := p_s + d_1 e^{\\sqrt{c} z } + d_2 e^{-\\sqrt{c} z} \\label{analytic_flux}\n",
    "\\end{eqnarray} \n",
    "with $c = 2 a \\pi k_r / k_z$. \n",
    "\n",
    "The constants $d_1$, and $d_2$ [M L$^{-1}$ T$^{-2}$] are calculated from the boundary conditions."
   ]
  },
  {
   "cell_type": "markdown",
   "metadata": {},
   "source": [
    "### Scenario 1: Dirichlet top and bot\n",
    "\n",
    "Inserting $p_r(0)= p_0$, and $p_r(L)=p_L$ into Eqn \\ref{analytic_flux}, leads to \n",
    "\n",
    "\\begin{align}\n",
    "\\left(\\begin{array}{cc}\n",
    "  1 & 1  \\\\\n",
    "  \\exp{(\\sqrt{c} L)} & \\exp{(-\\sqrt{c} L)} \\\\\n",
    "\\end{array}\\right)\n",
    "\\left(\\begin{array}{c}\n",
    "  d_{1}  \\\\\n",
    "  d_{2}  \\\\\n",
    "\\end{array}\\right)\n",
    "{} &= \n",
    "\\left(\\begin{array}{c}  \n",
    "  p0-p_s \\\\\n",
    "  p0-p_L \\\\\n",
    "\\end{array}\\right)\n",
    "\\end{align}\n",
    "\n",
    "Therefore the constants are given by\n",
    "$ d = A^{-1} b $."
   ]
  },
  {
   "cell_type": "markdown",
   "metadata": {},
   "source": [
    "First some imports..."
   ]
  },
  {
   "cell_type": "code",
   "execution_count": 2,
   "metadata": {},
   "outputs": [],
   "source": [
    "from math import *\n",
    "import numpy as np\n",
    "import matplotlib.pylab as plt\n",
    "\n",
    "g = 9.81                 # gravitational acceleration (m/s^2)   \n",
    "rho = 1.e3               # density of water, (kg/m^3)      \n",
    "ref = 1.e5               # reference pressure (kg/ (m s^2))\n",
    "\n",
    "def toPa(ph): # cm pressure head to Pascal (kg/ (m s^2))\n",
    "    return ref + ph/100. * rho * g\n",
    "\n",
    "def toHead(pa): # Pascal (kg/ (m s^2)) to cm pressure head\n",
    "    return (pa-ref) * 100 / rho / g"
   ]
  },
  {
   "cell_type": "markdown",
   "metadata": {},
   "source": [
    "Next we pick the parameters"
   ]
  },
  {
   "cell_type": "code",
   "execution_count": 3,
   "metadata": {},
   "outputs": [],
   "source": [
    "# Parameters\n",
    "L = 0.5                # length of single straight root (m)\n",
    "a = 2.e-3              # radius (m)\n",
    "kz = 5.e-13            # axial conductivity (m^5 s / kg) (mal rho ergibt die alten einheiten)\n",
    "kr = 2.e-9             # radial conductivity per root type (m^2 s / kg) \n",
    "p_s = toPa(-200)       # static soil pressure (cm) \n",
    "p0 = toPa(-1000)       # dircichlet bc at top\n",
    "pL = toPa(-500)        # dircichlet bc at bot\n",
    "\n",
    "# Analytical solution\n",
    "c = 2*a*pi*kr/kz\n",
    "p_r = lambda z: toHead( p_s + d[0]*exp(sqrt(c)*z) + d[1]*exp(-sqrt(c)*z) )"
   ]
  },
  {
   "cell_type": "markdown",
   "metadata": {},
   "source": [
    "And finally, we calculate the constants $d_1$, and $d_2$, and plot the results"
   ]
  },
  {
   "cell_type": "code",
   "execution_count": 4,
   "metadata": {},
   "outputs": [
    {
     "data": {
      "image/png": "[encoded data removed]",
      "text/plain": [
       "<matplotlib.figure.Figure at 0x7f18ac145b70>"
      ]
     },
     "metadata": {},
     "output_type": "display_data"
    }
   ],
   "source": [
    "# Boundary conditions\n",
    "AA = np.array([[1,1], [exp(-sqrt(c)*L), exp(sqrt(c)*L)] ]) # dirichlet top & bot\n",
    "bb = np.array([p0-p_s, pL-p_s]) \n",
    "d = np.linalg.solve(AA, bb) # compute constants d_1 and d_2 from bc\n",
    "\n",
    "# plot results\n",
    "za_ = np.linspace(0,-L,100)\n",
    "pr = list(map(p_r, za_))\n",
    "plt.plot(pr,za_)\n",
    "plt.xlabel(\"Xylem pressure (cm)\")\n",
    "plt.ylabel(\"Depth (m)\")\n",
    "plt.show()"
   ]
  },
  {
   "cell_type": "markdown",
   "metadata": {},
   "source": [
    "### Scenario 2: Dirichlet top, Neumann bot\n",
    "\n",
    "Inserting $p_r(0) = p_0$ as before, and $q_z(L) = 0$ (Eqn \\ref{axialflux2}) leads to \n",
    "\\begin{eqnarray}\n",
    "\\frac{\\partial p_r}{\\partial z}(L) = \\rho g v_3.\n",
    "\\end{eqnarray}\n",
    "Using the analytical solution yields\n",
    "\\begin{eqnarray}\n",
    "d_1 \\sqrt{c} e^{\\sqrt{c} L } - d_2 \\sqrt{c} e^{-\\sqrt{c} L}  = \\rho g v_3.\n",
    "\\end{eqnarray}\n",
    "\n",
    "\n",
    "Therefore, we solve \n",
    "\\begin{align}\n",
    "\\left(\\begin{array}{cc}\n",
    "  1 & 1  \\\\\n",
    " \\sqrt{c} \\exp{(\\sqrt{c} L)} & -\\sqrt{c} \\exp{(-\\sqrt{c} L)} \\\\\n",
    "\\end{array}\\right)\n",
    "\\left(\\begin{array}{c}\n",
    "  d_{1}  \\\\\n",
    "  d_{2}  \\\\\n",
    "\\end{array}\\right)\n",
    "{} &= \n",
    "\\left(\\begin{array}{c}  \n",
    "  p0-p_s \\\\\n",
    "  \\rho g \\\\\n",
    "\\end{array}\\right)\n",
    "\\end{align}"
   ]
  },
  {
   "cell_type": "markdown",
   "metadata": {},
   "source": [
    "We recalculate the constants $d_1$, and $d_2$, and plot the results"
   ]
  },
  {
   "cell_type": "code",
   "execution_count": 5,
   "metadata": {},
   "outputs": [
    {
     "data": {
      "image/png": "[encoded data removed]",
      "text/plain": [
       "<matplotlib.figure.Figure at 0x7f18ac1456d8>"
      ]
     },
     "metadata": {},
     "output_type": "display_data"
    }
   ],
   "source": [
    "# Boundary conditions\n",
    "AA = np.array([[1,1], [sqrt(c)*exp(-sqrt(c)*L), -sqrt(c)*exp(sqrt(c)*L)] ]) # dirichlet top, neumann bot\n",
    "bb = np.array([p0-p_s, rho*g]) #\n",
    "d = np.linalg.solve(AA, bb) # compute constants d_1 and d_2 from bc\n",
    "\n",
    "# plot results\n",
    "za_ = np.linspace(0,-L,100)\n",
    "pr = list(map(p_r, za_))\n",
    "plt.plot(pr,za_)\n",
    "plt.xlabel(\"Xylem pressure (cm)\")\n",
    "plt.ylabel(\"Depth (m)\")\n",
    "plt.show()"
   ]
  },
  {
   "cell_type": "markdown",
   "metadata": {},
   "source": [
    "## Benchmark 2: A small root system in a static soil\n",
    "\n",
    "In the following we will give a small static root system which is eight days old described by nodes (in cm) and segments. For each segment we give its age (in days) and its type which is either 0 for tap root or 1 for lateral root. Furthermore, the radius is constant for tap, and lateral roots (in cm). "
   ]
  },
  {
   "cell_type": "code",
   "execution_count": 6,
   "metadata": {},
   "outputs": [],
   "source": [
    "nodes = [ [0.00,0.00,3.00], [0.00,0.00,-3.00], [-0.00,-0.01,-3.48], [-0.85,0.48,-3.71], [-1.69,0.99,-3.90], [-2.58,1.32,-4.21], [-3.48,1.67,-4.49], [-4.38,2.00,-4.77], [-5.24,2.40,-5.09], [-6.08,2.82,-5.42], [-6.93,3.27,-5.69], [-6.96,3.29,-5.70], [-0.00,0.01,-3.97], [0.20,-0.95,-4.20], [0.43,-1.88,-4.49], [0.65,-2.81,-4.77], [0.84,-3.75,-5.06], [1.04,-4.70,-5.31], [1.27,-5.64,-5.54], [1.43,-6.58,-5.84], [1.48,-6.91,-5.94], [-0.01,0.03,-4.45], [0.75,0.68,-4.48], [1.52,1.32,-4.50], [2.30,1.94,-4.46], [3.07,2.58,-4.41], [3.88,3.16,-4.46], [4.73,3.69,-4.50], [5.34,4.05,-4.53], [-0.03,0.06,-4.97], [-0.73,0.63,-5.40], [-1.46,1.20,-5.79], [-2.15,1.80,-6.18], [-2.76,2.48,-6.59], [-3.16,3.16,-7.21], [-3.63,3.90,-7.64], [-0.06,0.07,-5.42], [0.07,1.04,-5.61], [0.23,2.00,-5.82], [0.46,2.93,-6.11], [0.72,3.85,-6.40], [0.99,4.77,-6.69], [1.06,5.11,-6.78], [-0.10,0.08,-5.96], [0.35,0.90,-6.31], [0.80,1.72,-6.65], [1.23,2.55,-7.01], [1.62,3.41,-7.34], [1.70,3.58,-7.41], [-0.14,0.10,-6.46], [0.05,-0.81,-6.83], [0.29,-1.72,-7.18], [0.43,-2.62,-7.59], [0.50,-3.12,-7.84], [-0.19,0.12,-7.02], [0.32,0.98,-7.03], [0.82,1.84,-6.95], [1.07,2.23,-6.88], [-0.23,0.17,-7.56], [0.68,-0.18,-7.80], [1.12,-0.35,-7.93], [-0.24,0.21,-8.14], [-0.01,0.36,-8.22], [-0.25,0.24,-8.69], [-0.24,0.25,-9.25], [-0.24,0.26,-9.71], [-0.26,0.26,-10.09], [-0.28,0.25,-10.57], [-0.26,0.24,-11.05], [-0.26,0.21,-11.58], [-0.25,0.19,-12.06], [-0.25,0.17,-12.55], [-0.23,0.15,-13.00], [-0.23,0.12,-13.46], [-0.22,0.12,-13.99], [-0.21,0.15,-14.54], [-0.19,0.20,-15.07], [-0.17,0.24,-15.60], [-0.17,0.31,-16.17], [-0.15,0.36,-16.64], [-0.12,0.43,-17.18], [-0.11,0.48,-17.70], [-0.07,0.52,-18.23], [-0.06,0.53,-18.53] ]\n",
    "seg = [ [1,2], [2,12], [12,21], [21,29], [29,36], [36,43], [43,49], [49,54], [54,58], [58,61], [61,63], [63,64], [64,65], [65,66], [66,67], [67,68], [68,69], [69,70], [70,71], [71,72], [72,73], [73,74], [74,75], [75,76], [76,77], [77,78], [78,79], [79,80], [80,81], [81,82], [82,83], [2,3], [3,4], [4,5], [5,6], [6,7], [7,8], [8,9], [9,10], [10,11], [12,13], [13,14], [14,15], [15,16], [16,17], [17,18], [18,19], [19,20], [21,22], [22,23], [23,24], [24,25], [25,26], [26,27], [27,28], [29,30], [30,31], [31,32], [32,33], [33,34], [34,35], [36,37], [37,38], [38,39], [39,40], [40,41], [41,42], [43,44], [44,45], [45,46], [46,47], [47,48], [49,50], [50,51], [51,52], [52,53], [54,55], [55,56], [56,57], [58,59], [59,60], [61,62] ]\n",
    "age = [ 7.76,7.52,7.29,7.03,6.80,6.53,6.28,6.00,5.73,5.43,5.16,4.87,4.64,4.44,4.20,3.95,3.68,3.43,3.17,2.94,2.70,2.42,2.14,1.85,1.57,1.27,1.02,0.73,0.45,0.16,-0.00,2.29,2.02,1.74,1.43,1.11,0.77,0.41,0.01,0.00,2.04,1.77,1.48,1.18,0.85,0.51,0.14,0.00,1.78,1.51,1.22,0.92,0.60,0.26,0.00,1.51,1.24,0.96,0.66,0.34,0.00,1.28,1.01,0.73,0.43,0.12,0.00,0.97,0.69,0.39,0.07,0.00,0.72,0.45,0.17,0.00,0.41,0.14,0.00,0.13,0.00,0.00 ]\n",
    "types = [ 1,1,1,1,1,1,1,1,1,1,1,1,1,1,1,1,1,1,1,1,1,1,1,1,1,1,1,1,1,1,1,2,2,2,2,2,2,2,2,2,2,2,2,2,2,2,2,2,2,2,2,2,2,2,2,2,2,2,2,2,2,2,2,2,2,2,2,2,2,2,2,2,2,2,2,2,2,2,2,2,2,2 ]\n",
    "a_tap = 0.2 # tap root radius (cm)\n",
    "a_lateral = 0.1 # lateral root radius (cm)"
   ]
  },
  {
   "cell_type": "markdown",
   "metadata": {},
   "source": [
    "We can visualize the small root system by the following script, where colors denote the root type:"
   ]
  },
  {
   "cell_type": "code",
   "execution_count": 7,
   "metadata": {},
   "outputs": [
    {
     "data": {
      "image/png": "[encoded data removed]",
      "text/plain": [
       "<matplotlib.figure.Figure at 0x7f18ac1450b8>"
      ]
     },
     "metadata": {},
     "output_type": "display_data"
    }
   ],
   "source": [
    "cols = ['r','b'] \n",
    "for i,s in enumerate(seg): \n",
    "    n1 = nodes[s[0]]\n",
    "    n2 = nodes[s[1]]\n",
    "    plt.plot([n1[0], n2[0]], [n1[2], n2[2]], cols[types[i]-1])    \n",
    "plt.axis('equal')\n",
    "plt.xlabel(\"cm\")\n",
    "plt.ylabel(\"cm\")\n",
    "plt.show()"
   ]
  },
  {
   "cell_type": "markdown",
   "metadata": {},
   "source": [
    "Lets define age dependent $k_z$ and $k_r$:"
   ]
  },
  {
   "cell_type": "code",
   "execution_count": 8,
   "metadata": {},
   "outputs": [
    {
     "data": {
      "image/png": "[encoded data removed]",
      "text/plain": [
       "<matplotlib.figure.Figure at 0x7f18a04d2b70>"
      ]
     },
     "metadata": {},
     "output_type": "display_data"
    }
   ],
   "source": [
    "kz0, kz1 = 0.5e-19, 1.e-18 # m^4 / (Pa s)\n",
    "kr0, kr1 = 1.7e-13, 0.2e-13 # m / (Pa s)\n",
    "kz = lambda age: kz0*(age<=3)+kz1*(age>3)\n",
    "kr = lambda age: kr0*(age<=3)+kr1*(age>3)\n",
    "\n",
    "#Plot function\n",
    "age_ = np.linspace(0,8,100)\n",
    "fig, ax1 = plt.subplots()\n",
    "ax1.plot(age_,list(map(kr, age_)), \"b--\")\n",
    "ax1.set_xlabel(\"age (days)\")\n",
    "ax1.set_ylabel(\"blue: radial conductivity $k_r$ [$m/(Pa \\ s)$]\")\n",
    "ax2 = ax1.twinx()\n",
    "ax2.plot(age_,list(map(kz, age_)), \"r.\")\n",
    "ax2.set_ylabel(\"red: axial conductivity $k_z$ [$m^4/(Pa \\ s)$]\")\n",
    "fig.tight_layout()\n",
    "plt.show()"
   ]
  },
  {
   "cell_type": "markdown",
   "metadata": {},
   "source": [
    "At the root collar we assume -500 cm pressure head, and a no-flux boundary condition at the root tips. The tip indices are given by:"
   ]
  },
  {
   "cell_type": "code",
   "execution_count": 9,
   "metadata": {},
   "outputs": [
    {
     "name": "stdout",
     "output_type": "stream",
     "text": [
      "tips = [,11,20,28,35,42,48,53,57,60,62,83]\n"
     ]
    }
   ],
   "source": [
    "def isTip(nid,seg):\n",
    "    for s in seg[:,0]:\n",
    "        if s==nid:\n",
    "            return False\n",
    "    return True\n",
    "\n",
    "tipsI = \"\"\n",
    "for i in range(0, len(nodes)):\n",
    "    if isTip(i,np.array(seg)): \n",
    "        tipsI += str(i)+\",\"    \n",
    "print(\"tips = [\"+tipsI[1:-1]+\"]\")                    "
   ]
  },
  {
   "cell_type": "code",
   "execution_count": null,
   "metadata": {},
   "outputs": [],
   "source": []
  },
  {
   "cell_type": "markdown",
   "metadata": {},
   "source": [
    "The soil is assumed to be static with a matric potential of -200 cm pressure head. The task of Benchmark 2 is to calculate the pressure in the segments and or nodes. \n",
    "\n",
    "Since there is no analytical solution available to the problem, we can validate numerical codes by inter-comparison. "
   ]
  },
  {
   "cell_type": "markdown",
   "metadata": {},
   "source": [
    "TO DISCUSS: Actually, I can not think of anymore benchmarks concerning flux within the root system only. Since the flux model is static, root growth does not give any more information regarding the flux codes (or am i missing something)."
   ]
  },
  {
   "cell_type": "markdown",
   "metadata": {},
   "source": [
    "## Comparison to numerical solutions\n",
    "\n",
    "We plan to validate various numerical codes by solving the benchmarking problems. In the following we link to notebooks, containing Benchmark 1 and 2\n",
    "\n",
    "* [Homegrown Python Code from Schnepf et al. ](Xylem flux - Python code.ipynb)\n",
    "* [Dumux](Xylem flux - Dumux.ipynb)\n"
   ]
  },
  {
   "cell_type": "markdown",
   "metadata": {},
   "source": [
    "## References\n",
    "\n",
    "Doussan, C., Pierret, A., Garrigues, E., and Pages, L. (2006). Water uptake by plant roots: II - Modelling of water transfer in the soil root-system with explicit account of flow within the root system - comparison with experiments. *Plant and Soil*, 283(1-2):99–117.\n",
    "\n",
    "Roose, T. and Fowler, A. C. (2004). A model for water uptake by plant roots. *Journal of Theoretical Biology*, 228(2):155–171.\n",
    "\n",
    "Schnepf, A., Leitner, D., Landl, M., Lobet, G., Mai, T.H., Morandage S., Sheng, C., Zoerner, M., Vanderborght, J., Vereecken, H. (accepted) CRootBox: a structural-functional modelling framework for root systems. *Annals of Botany*\n"
   ]
  },
  {
   "cell_type": "code",
   "execution_count": null,
   "metadata": {},
   "outputs": [],
   "source": []
  }
 ],
 "metadata": {
  "kernelspec": {
   "display_name": "Python 3",
   "language": "python",
   "name": "python3"
  },
  "language_info": {
   "codemirror_mode": {
    "name": "ipython",
    "version": 3
   },
   "file_extension": ".py",
   "mimetype": "text/x-python",
   "name": "python",
   "nbconvert_exporter": "python",
   "pygments_lexer": "ipython3",
   "version": "3.6.4"
  },
  "latex_envs": {
   "LaTeX_envs_menu_present": true,
   "autoclose": false,
   "autocomplete": true,
   "bibliofile": "biblio.bib",
   "cite_by": "apalike",
   "current_citInitial": 1,
   "eqLabelWithNumbers": true,
   "eqNumInitial": 1,
   "hotkeys": {
    "equation": "Ctrl-E",
    "itemize": "Ctrl-I"
   },
   "labels_anchors": false,
   "latex_user_defs": false,
   "report_style_numbering": false,
   "user_envs_cfg": false
  }
 },
 "nbformat": 4,
 "nbformat_minor": 2
}
