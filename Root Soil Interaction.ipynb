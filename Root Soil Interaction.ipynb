{
 "cells": [
  {
   "cell_type": "markdown",
   "metadata": {},
   "source": [
    "# Root  Soil Interaction\n",
    "\n",
    "*by Daniel Leitner, Andrea Schnepf*\n",
    "\n",
    "\n",
    "Suitable benchmarks will be discussed at the workshop. "
   ]
  },
  {
   "cell_type": "markdown",
   "metadata": {},
   "source": [
    "## Idea for Benchmark 1 \n",
    "\n",
    "A static root system in a dynamic soil, where the roots act as sink in the soil domain (e.g. as in CITE).\n",
    "\n",
    "We take the root system from _Xylem Flux Benchmark 2_  (lets make it twice as big by multiplying the nodes with 2) and put it in the 1D (or 3D) soil, described by _Soil Water Flow Benchmark 2_. \n",
    "\n",
    "At the root collar we predescribe flux or pressure, and can analyse the water depletion in soil over time. "
   ]
  },
  {
   "cell_type": "markdown",
   "metadata": {},
   "source": [
    "## Benchmark 2 \n",
    "\n",
    "Same setting, but growing root system."
   ]
  },
  {
   "cell_type": "markdown",
   "metadata": {},
   "source": [
    "## more Benchmarks \n",
    "\n",
    "rainfall boundary conditions over a growth season. (we would should add a benchmark for climate Soil Water Flow\n",
    "\n"
   ]
  },
  {
   "cell_type": "code",
   "execution_count": null,
   "metadata": {
    "collapsed": true
   },
   "outputs": [],
   "source": []
  },
  {
   "cell_type": "code",
   "execution_count": null,
   "metadata": {
    "collapsed": true
   },
   "outputs": [],
   "source": []
  },
  {
   "cell_type": "code",
   "execution_count": null,
   "metadata": {
    "collapsed": true
   },
   "outputs": [],
   "source": []
  },
  {
   "cell_type": "code",
   "execution_count": null,
   "metadata": {
    "collapsed": true
   },
   "outputs": [],
   "source": []
  }
 ],
 "metadata": {
  "kernelspec": {
   "display_name": "Python 3",
   "language": "python",
   "name": "python3"
  },
  "language_info": {
   "codemirror_mode": {
    "name": "ipython",
    "version": 3
   },
   "file_extension": ".py",
   "mimetype": "text/x-python",
   "name": "python",
   "nbconvert_exporter": "python",
   "pygments_lexer": "ipython3",
   "version": "3.6.3"
  },
  "latex_envs": {
   "LaTeX_envs_menu_present": true,
   "autoclose": false,
   "autocomplete": true,
   "bibliofile": "biblio.bib",
   "cite_by": "apalike",
   "current_citInitial": 1,
   "eqLabelWithNumbers": true,
   "eqNumInitial": 1,
   "hotkeys": {
    "equation": "Ctrl-E",
    "itemize": "Ctrl-I"
   },
   "labels_anchors": false,
   "latex_user_defs": false,
   "report_style_numbering": false,
   "user_envs_cfg": false
  }
 },
 "nbformat": 4,
 "nbformat_minor": 2
}
