{
 "cells": [
  {
   "cell_type": "markdown",
   "metadata": {},
   "source": [
    "# Root  Soil Interaction\n",
    "\n",
    "*by Daniel Leitner, Andrea Schnepf, Felicien Meunier, Timo Koch*\n"
   ]
  },
  {
   "cell_type": "markdown",
   "metadata": {},
   "source": [
    "## Benchmark 1 \n",
    "\n",
    "A static single root in a small soil domain. Transpiration is predescribed and we analyse cumulative transpiration, and water stress. Simulation time is a week, and we compare different softwares, and optionally various spatial and temporal resolutions.  \n",
    "\n",
    "**Root** \n",
    "\n",
    "Straight 20 cm long in the z-direction at the center of the domain, 100 segments, radius = 0.1 cm \n",
    "\n",
    "Radial conductivity Kr =1.8e-4 cm/hPa/d, Axial conductivity Kx = 3.2 cm4/hPa/d\n",
    "\n",
    "Stress appears when pressure in the collar is -15000 hPa \n",
    "\n",
    "*Root boundary condition:* Transpiration is a day/night cycle with max = 10 mm/d, min = 0 mm/d and daily total is 5 mm\n",
    "\n",
    "**Soil**\n",
    "\n",
    "Domain size is 8x4x24cm³ , we use various spatial resolutions (e.g,: 2³  cm³ , 1cm³, 0.25³ cm³)\n",
    "\n",
    "*Van Genuchten Parameters:*\n",
    "\n",
    "theta_r = 0.067 [1]      \n",
    "\n",
    "theta_s = 0.45 [1]   \n",
    "\n",
    "alpha = 0.02 [cm-1] (per cm pressure head)      \n",
    "\n",
    "n = 1.41 [1], m=1-1/n\n",
    "\n",
    "Ks = 10.8 [cm/d]\n",
    "\n",
    "lambda = 0.5 [1] \n",
    "\n",
    "\n",
    "*Soil boundary conditions:* \n",
    "no flux verywhere \n",
    "\n",
    "*Initial conditions:* A wet and a dry scenario, -100 or -1000 cm everywhere in the domain.\n"
   ]
  },
  {
   "cell_type": "markdown",
   "metadata": {},
   "source": [
    "## Idea for Benchmark 2 \n",
    "\n",
    "A static root system in a dynamic soil, where the roots act as sink in the soil domain (e.g. as in CITE).\n",
    "\n",
    "We take the root system from _Xylem Flux Benchmark 2_  (lets make it twice as big by multiplying the nodes with 2) and put it in the 1D (or 3D) soil, described by _Soil Water Flow Benchmark 2_. \n",
    "\n",
    "At the root collar we predescribe flux or pressure, and can analyse the water depletion in soil over time. "
   ]
  },
  {
   "cell_type": "markdown",
   "metadata": {},
   "source": [
    "## more Benchmarks \n",
    "\n",
    "rainfall boundary conditions over a growth season. (we would should add a benchmark for climate Soil Water Flow\n",
    "\n"
   ]
  },
  {
   "cell_type": "code",
   "execution_count": null,
   "metadata": {
    "collapsed": true
   },
   "outputs": [],
   "source": []
  },
  {
   "cell_type": "code",
   "execution_count": null,
   "metadata": {
    "collapsed": true
   },
   "outputs": [],
   "source": []
  },
  {
   "cell_type": "code",
   "execution_count": null,
   "metadata": {
    "collapsed": true
   },
   "outputs": [],
   "source": []
  },
  {
   "cell_type": "code",
   "execution_count": null,
   "metadata": {
    "collapsed": true
   },
   "outputs": [],
   "source": []
  }
 ],
 "metadata": {
  "kernelspec": {
   "display_name": "Python 3",
   "language": "python",
   "name": "python3"
  },
  "language_info": {
   "codemirror_mode": {
    "name": "ipython",
    "version": 3
   },
   "file_extension": ".py",
   "mimetype": "text/x-python",
   "name": "python",
   "nbconvert_exporter": "python",
   "pygments_lexer": "ipython3",
   "version": "3.6.3"
  },
  "latex_envs": {
   "LaTeX_envs_menu_present": true,
   "autoclose": false,
   "autocomplete": true,
   "bibliofile": "biblio.bib",
   "cite_by": "apalike",
   "current_citInitial": 1,
   "eqLabelWithNumbers": true,
   "eqNumInitial": 1,
   "hotkeys": {
    "equation": "Ctrl-E",
    "itemize": "Ctrl-I"
   },
   "labels_anchors": false,
   "latex_user_defs": false,
   "report_style_numbering": false,
   "user_envs_cfg": false
  }
 },
 "nbformat": 4,
 "nbformat_minor": 2
}
