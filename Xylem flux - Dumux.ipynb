{
 "cells": [
  {
   "cell_type": "markdown",
   "metadata": {},
   "source": [
    "# Water flux within the root - Numerical solutions in Dumux\n",
    "\n",
    "by Timo Koch (?), Daniel Leitner, Andrea Schnepf\n",
    "\n",
    "\n",
    "In the following we will give some hints how to solve Benchmark 1 & 2, using Dumux. The source code is available at the rosi GIT repository (TODO link).\n",
    "\n",
    "\n",
    "We base the problem on porousmediumflow/1p/model.hh meaning there is only one phase (water). "
   ]
  },
  {
   "cell_type": "markdown",
   "metadata": {},
   "source": [
    "## General remarks"
   ]
  },
  {
   "cell_type": "markdown",
   "metadata": {},
   "source": [
    "Using Dumux we have to do some C++ programming specifying the exact problem. This is done by calculating the permeability from our parameters (in the RootsParams class in rootsparams.hh), and by defining the boundary conditions and the source term (in the problem class, in rootsproblem.hh)."
   ]
  },
  {
   "cell_type": "markdown",
   "metadata": {},
   "source": [
    "We set the permeability by (TODO) "
   ]
  },
  {
   "cell_type": "markdown",
   "metadata": {},
   "source": [
    "```C++\n",
    "    Scalar permeability(const Element& element, const SubControlVolume& scv, const ElementSolution& elemSol) const \n",
    "    {\n",
    "    \tScalar mu = Water::liquidViscosity(0.,0.); // temperature, pressure [Pa s] = 1.e-3\n",
    "        return kz_*mu/(radius_*radius_*M_PI); // [m^2]\n",
    "    }\n",
    "```"
   ]
  },
  {
   "cell_type": "markdown",
   "metadata": {},
   "source": [
    "The definition of boundary conditions is performed by first choosing the type which is either Neumann or Dirichlet, and then define the Neumann flux, or Dirichlet value for the boundary. "
   ]
  },
  {
   "cell_type": "markdown",
   "metadata": {},
   "source": [
    "```C++\n",
    "    /*!\n",
    "\t * \\brief Specifies which kind of boundary condition should be used\n",
    "\t */\n",
    "\tBoundaryTypes boundaryTypesAtPos(const GlobalPosition &pos) const\n",
    "\t{\n",
    "\t\tBoundaryTypes bcTypes;\n",
    "\t\tbcTypes.setAllNeumann(); // default\n",
    "\t\tif (onUpperBoundary_(pos)) { // top bc\n",
    "\t\t\tbcTypes.setAllDirichlet();\n",
    "\t\t} else if(onLowerBoundary_(pos)) {\n",
    "\t\t\tif (scenario_==1) {\n",
    "\t\t\t\tbcTypes.setAllDirichlet();\n",
    "\t\t\t} else {\n",
    "\t\t\t\tbcTypes.setAllNeumann();\n",
    "\t\t\t}\n",
    "\t\t}\n",
    "\t\treturn bcTypes;\n",
    "\t}\n",
    "    \n",
    "    /*!\n",
    "     * \\brief Evaluate the boundary conditions Neumann\n",
    "     * E.g. for the mass balance that would the mass flux in \\f$ [ kg / (m^2 \\cdot s)] \\f$.\n",
    "     */\n",
    "    ResidualVector neumann(const Element& element,\n",
    "                           const FVElementGeometry& fvGeometry,\n",
    "                           const ElementVolumeVariables& elemVolVars,\n",
    "                           const SubControlVolumeFace& scvf) const\n",
    "    {\n",
    "    \tScalar rho = 1.e3; // kg / m^3\n",
    "    \tScalar g = 9.8; // m/ s^2\n",
    "\t\tScalar l = element.geometry().volume(); // length of element (m)\n",
    "    \tconst RootsParams<TypeTag>& params = this->spatialParams();\n",
    "\t\tScalar r = params.radius(SubControlVolume()); // root radius (m)\n",
    "\t \tScalar kz = params.axialConductivity(); // (m^5 s / kg) == ( m^4 / (s Pa) )\n",
    "\n",
    "    \tResidualVector values;\n",
    "\n",
    "    \tvalues[conti0EqIdx] = rho*g*kz; // m^3 / s\n",
    "    \tvalues[conti0EqIdx] /= (r*r*M_PI);\n",
    "\n",
    "    \tvalues[conti0EqIdx] /= rho; // ???? should be *\n",
    "\n",
    "    \treturn values[conti0EqIdx];\n",
    "    }\n",
    "    \n",
    "    /*!\n",
    "\t * \\brief Evaluate the boundary conditions for Dirichlet\n",
    "\t */\n",
    "\tPrimaryVariables dirichletAtPos(const GlobalPosition &pos) const\n",
    "\t{\n",
    "\t\tScalar p0 = 0.;\n",
    "\t\tstd::cout << \"Dirichlet \" << p0 << \" [Pa] \\n\";\n",
    "\t\tif (onUpperBoundary_(pos)) { // top bc\n",
    "\t\t\treturn p0_;\n",
    "\t\t} else if(onLowerBoundary_(pos)) {\n",
    "\t\t\treturn pL_;\n",
    "\t\t}\n",
    "\t\treturn PrimaryVariables(p0);\n",
    "\t}   \n",
    "    \n",
    "```"
   ]
  },
  {
   "cell_type": "code",
   "execution_count": null,
   "metadata": {
    "collapsed": true
   },
   "outputs": [],
   "source": []
  },
  {
   "cell_type": "markdown",
   "metadata": {},
   "source": [
    "```C++\n",
    "/*!\n",
    "\t * \\brief Evaluate the source term for all phases within a given\n",
    "\t *        sub-control-volume.\n",
    "\t *\n",
    "\t * This is the method for the case where the source term is\n",
    "\t * potentially solution dependent and requires some quantities that\n",
    "\t * are specific to the fully-implicit method.\n",
    "\t *\n",
    "\t * \\param element The finite element\n",
    "\t * \\param fvGeometry The finite-volume geometry\n",
    "\t * \\param elemVolVars All volume variables for the element\n",
    "\t * \\param scv The sub control volume\n",
    "\t *\n",
    "\t * For this method, the return parameter stores the conserved quantity rate\n",
    "\t * generated or annihilate per volume unit. Positive values mean\n",
    "\t * that the conserved quantity is created, negative ones mean that it vanishes.\n",
    "\t * E.g. for the mass balance that would be a mass rate in \\f$ [ kg / (m^3 \\cdot s)] \\f$.\n",
    "\t */\n",
    "\tResidualVector source(const Element &element,\n",
    "\t\t\tconst FVElementGeometry& fvGeometry,\n",
    "\t\t\tconst ElementVolumeVariables& elemVolVars,\n",
    "\t\t\tconst SubControlVolume &scv) const\n",
    "\t{\n",
    "\t\tResidualVector values;\n",
    "\t\tScalar rho = 1.e3; // kg / m^3\n",
    "\t\tScalar l = element.geometry().volume(); // length of element (m)\n",
    "\t\tconst RootsParams<TypeTag>& params = this->spatialParams();\n",
    "\t\tScalar r = params.radius(scv); // root radius (m)\n",
    "\t\tScalar phx = elemVolVars[0].pressure(); // kg/m/s^2\n",
    "\t\tScalar phs = soilP_; // kg/m/s^2\n",
    "\n",
    "\t\tvalues[conti0EqIdx] = kr_ * 2*r*M_PI*l* (phs - phx); // m^3/s\n",
    "\t\tvalues[conti0EqIdx] /= (M_PI*r*r*l);\n",
    "    \tvalues[conti0EqIdx] /= rho;  // ???? should be *\n",
    "\n",
    "\t\treturn values;//\n",
    "\t}   \n",
    "```    "
   ]
  },
  {
   "cell_type": "markdown",
   "metadata": {},
   "source": [
    "### Benchmark 1"
   ]
  },
  {
   "cell_type": "markdown",
   "metadata": {},
   "source": [
    "First we create the geometry by writing a DGF (Dune Grid file) using the following function"
   ]
  },
  {
   "cell_type": "code",
   "execution_count": 1,
   "metadata": {
    "collapsed": true
   },
   "outputs": [],
   "source": [
    "import numpy as np\n",
    "\n",
    "def createDGF_1Droots(filename, nodes, seg):        \n",
    "    file = open(filename,\"w\") # write file \n",
    "\n",
    "    file.write(\"DGF\\n\") \n",
    "    file.write('Vertex\\n')\n",
    "    # file.write('parameters 2\\n'); \n",
    "    for i in range(0,len(nodes)):\n",
    "        file.write('{:g} {:g} {:g} \\n'.format(nodes[i,0], nodes[i,1], nodes[i,2]))\n",
    "             \n",
    "    file.write('#\\n');\n",
    "    file.write('Simplex\\n'); \n",
    "    # file.write('parameters 2\\n'); \n",
    "    for i in range(0,len(seg)):\n",
    "        file.write('{:g} {:g} \\n'.format(seg[i,0], seg[i,1]));\n",
    "        \n",
    "    # not used...        \n",
    "    file.write('#\\nBOUNDARYSEGMENTS\\n2 0\\n')          \n",
    "    file.write('3 {:g}\\n'.format(len(seg))) \n",
    "    file.write('#\\nBOUNDARYDOMAIN\\ndefault 1\\n')\n",
    "    file.write('#\\n')\n",
    "    \n",
    "    file.close() "
   ]
  },
  {
   "cell_type": "markdown",
   "metadata": {},
   "source": [
    "TODO we might add all the parameters we need for Benchmark 2"
   ]
  },
  {
   "cell_type": "markdown",
   "metadata": {},
   "source": [
    "We call it to create a straight single root "
   ]
  },
  {
   "cell_type": "code",
   "execution_count": 2,
   "metadata": {
    "collapsed": true
   },
   "outputs": [],
   "source": [
    "    nnz = 100 # resolution\n",
    "    L = 0.5 # length of single straight root (m)\n",
    "    \n",
    "    nodes = np.zeros((nnz,3))    # create grid\n",
    "    seg = np.zeros(((nnz-1),2), dtype=int) \n",
    "    for i in range(1, nnz):\n",
    "        seg[i-1,0] = i-1\n",
    "        seg[i-1,1] = i\n",
    "        nodes[i,:] = [0.,0.,-i*L/(nnz-1)]  \n",
    " \n",
    "    createDGF_1Droots(\"singleroot.dgf\", nodes, seg)"
   ]
  },
  {
   "cell_type": "markdown",
   "metadata": {},
   "source": [
    "The rest of the parameters of Benchmark 1, we move to the Dumux input file. These parameters are parsed by Dumux, and can be easily retrieved within the C++ code. The input file singleroot.input is given by: "
   ]
  },
  {
   "cell_type": "markdown",
   "metadata": {},
   "source": [
    "[TimeLoop]\n",
    "DtInitial = 1 # [s]\n",
    "TEnd = 1 # [s]\n",
    "\n",
    "[Grid]\n",
    "File = singleroot.dgf\n",
    "\n",
    "[Parameter]\n",
    "SoilP = -200 # cm pressure head\n",
    "Kr = 2.e-9  # radial conductivity (m^2 s / kg) \n",
    "Kz = 5.e-13 # axial conductivity (m^5 s / kg)\n",
    "Radius = 2.e-3 # radius (m)  \n",
    "\n",
    "[Problem]\n",
    "Name = benchmark1\n",
    "EnableGravity = 1"
   ]
  },
  {
   "cell_type": "markdown",
   "metadata": {},
   "source": [
    "The file holds the following information:\n",
    "* [TimeLoop] is not important, since it is a static proplem \n",
    "* [Grid] is the geometry file we just created, and \n",
    "* [Parameter] all the parameter we supply for Benchmark 1 \n",
    "* [Prolbem] the name of our problem, and we want to enable gravitation"
   ]
  },
  {
   "cell_type": "code",
   "execution_count": null,
   "metadata": {
    "collapsed": true
   },
   "outputs": [],
   "source": []
  },
  {
   "cell_type": "code",
   "execution_count": null,
   "metadata": {
    "collapsed": true
   },
   "outputs": [],
   "source": []
  },
  {
   "cell_type": "code",
   "execution_count": null,
   "metadata": {
    "collapsed": true
   },
   "outputs": [],
   "source": []
  }
 ],
 "metadata": {
  "kernelspec": {
   "display_name": "Python 3",
   "language": "python",
   "name": "python3"
  },
  "language_info": {
   "codemirror_mode": {
    "name": "ipython",
    "version": 3
   },
   "file_extension": ".py",
   "mimetype": "text/x-python",
   "name": "python",
   "nbconvert_exporter": "python",
   "pygments_lexer": "ipython3",
   "version": "3.6.3"
  },
  "latex_envs": {
   "LaTeX_envs_menu_present": true,
   "autoclose": false,
   "autocomplete": true,
   "bibliofile": "biblio.bib",
   "cite_by": "apalike",
   "current_citInitial": 1,
   "eqLabelWithNumbers": true,
   "eqNumInitial": 1,
   "hotkeys": {
    "equation": "Ctrl-E",
    "itemize": "Ctrl-I"
   },
   "labels_anchors": false,
   "latex_user_defs": false,
   "report_style_numbering": false,
   "user_envs_cfg": false
  }
 },
 "nbformat": 4,
 "nbformat_minor": 2
}
