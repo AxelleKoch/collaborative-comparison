{
 "cells": [
  {
   "cell_type": "markdown",
   "metadata": {},
   "source": [
    "# Water flux within the root - Numerical solutions in Dumux\n",
    "\n",
    "by Timo Koch (?), Daniel Leitner, Andrea Schnepf\n",
    "\n",
    "In the following we will give some hints how to solve Benchmark 1 & 2, using [Dumux](www.dumux.org). The source code is available at the Github at the repository [dumux-rosi](https://github.com/Plant-Root-Soil-Interactions-Modelling/dumux-rosi.git).\n"
   ]
  },
  {
   "cell_type": "markdown",
   "metadata": {},
   "source": [
    "## General remarks"
   ]
  },
  {
   "cell_type": "markdown",
   "metadata": {},
   "source": [
    "\n",
    "In Dumux we base the problem on `porousmediumflow/1p/model.hh` meaning there is only one phase (water). \n",
    "\n",
    "Next we have to do some C++ programming specifying the exact problem. This is done by calculating the permeability from our parameters (in the spatial parameters class `RootsParams` in `rootsparams.hh`), and by defining the boundary conditions and the source term (in the problem class `RootsProblem` in `rootsproblem.hh`)."
   ]
  },
  {
   "cell_type": "markdown",
   "metadata": {},
   "source": [
    "In the spatial parameter class `RootsParams` we set the permeability by extending the class `FVSpatialParamsOneP` and overwriting the following method"
   ]
  },
  {
   "cell_type": "markdown",
   "metadata": {},
   "source": [
    "```C++\n",
    "Scalar permeability(const Element& element, const SubControlVolume& scv, const ElementSolution& elemSol) const \n",
    "{\n",
    "    Scalar mu = Water::liquidViscosity(0.,0.); // mu = 1.e-3 [Pa s]\n",
    "    return kz_*mu/(radius_*radius_*M_PI); // [m^2]\n",
    "}\n",
    "```"
   ]
  },
  {
   "cell_type": "markdown",
   "metadata": {},
   "source": [
    "We convert the root axial conductivity [$m^5 s / kg$] = [$\\frac{m^4}{Pa \\ s}$] or [$\\frac{m^3}{s} / \\frac{Pa}{m}$] to permeability [$m^2$]."
   ]
  },
  {
   "cell_type": "markdown",
   "metadata": {},
   "source": [
    "The rest of the methods are overwritten in the class `RootsProblem` which is extended from `PorousMediumFlowProblem`.\n",
    "\n",
    "First, the definition of boundary conditions is performed by choosing the boundary type, which is either Neumann or Dirichlet. In the next step Neumann flux, and Dirichlet value for the boundaries are defined"
   ]
  },
  {
   "cell_type": "markdown",
   "metadata": {},
   "source": [
    "```C++\n",
    "BoundaryTypes boundaryTypesAtPos(const GlobalPosition &pos) const\n",
    "{\n",
    "\tBoundaryTypes bcTypes;\n",
    "\tbcTypes.setAllNeumann(); // default\n",
    "\tif (onUpperBoundary_(pos)) { // root collar\n",
    "\t\tbcTypes.setAllDirichlet();\n",
    "\t} else { // for all other (i.e. root tips)\n",
    "\t\tif (scenario_==1) {\n",
    "\t\t\tbcTypes.setAllDirichlet();\n",
    "\t\t} else {\n",
    "\t\t\tbcTypes.setAllNeumann();\n",
    "\t\t}\n",
    "\t}\n",
    "\treturn bcTypes;\n",
    "}\n",
    "```    "
   ]
  },
  {
   "cell_type": "markdown",
   "metadata": {
    "collapsed": true
   },
   "source": [
    "For the collar we pick always a Dirichlet boundary condition (i.e we set the pressure). For the root tips we set a pressure only for Scenario 1, for other scenarios we assume a no-flux boundary condition.\n",
    "\n",
    "Next we define the Dirichlet and Neumann boundary conditions:"
   ]
  },
  {
   "cell_type": "markdown",
   "metadata": {},
   "source": [
    "```C++\n",
    "PrimaryVariables dirichletAtPos(const GlobalPosition &pos) const\n",
    "{\n",
    "\tScalar p0 = 0.;\n",
    "\tif (onUpperBoundary_(pos)) { // root collar\n",
    "\t\treturn p0_;\n",
    "\t} else { // for all other (i.e. root tips)\n",
    "\t\treturn pL_;\n",
    "\t}\n",
    "\treturn PrimaryVariables(p0);\n",
    "}   \n",
    "\n",
    "ResidualVector neumann(const Element& element,\n",
    "                       const FVElementGeometry& fvGeometry,\n",
    "                       const ElementVolumeVariables& elemVolVars,\n",
    "                       const SubControlVolumeFace& scvf) const\n",
    "{\n",
    "    Scalar rho = 1.e3; // kg / m^3\n",
    "    Scalar g = 9.8; // m/ s^2\n",
    "\tScalar l = element.geometry().volume(); // length of element (m)\n",
    "    const RootsParams<TypeTag>& params = this->spatialParams();\n",
    "\tScalar r = params.radius(SubControlVolume()); // root radius (m)\n",
    " \tScalar kz = params.axialConductivity(); // (m^5 s / kg) == ( m^4 / (s Pa) )\n",
    "\n",
    "    ResidualVector values;\n",
    "\n",
    "    values[conti0EqIdx] = rho*g*kz; // m^3 / s\n",
    "    values[conti0EqIdx] /= (r*r*M_PI);\n",
    "\n",
    "    values[conti0EqIdx] /= rho; // ???? should be *\n",
    "\n",
    "    return values[conti0EqIdx];\n",
    "}  // TODO\n",
    "    \n",
    "```"
   ]
  },
  {
   "cell_type": "markdown",
   "metadata": {},
   "source": [
    "Note that for the no-flux boundary condition the term $\\rho g k_z$ enters because of Eqn 2 in the model description [Xylem flux](Xylem flux.ipynb).\n",
    "\n",
    "\n",
    "Finally, we need to define the uptake by the root as a source term in the model, following Eqn 3 from [Xylem flux](Xylem flux.ipynb)."
   ]
  },
  {
   "cell_type": "markdown",
   "metadata": {},
   "source": [
    "```C++\n",
    "ResidualVector source(const Element &element,\n",
    "\t\t\tconst FVElementGeometry& fvGeometry,\n",
    "\t\t\tconst ElementVolumeVariables& elemVolVars,\n",
    "\t\t\tconst SubControlVolume &scv) const\n",
    "{\n",
    "\tResidualVector values;\n",
    "\tScalar rho = 1.e3; // kg / m^3\n",
    "\tScalar l = element.geometry().volume(); // length of element (m)\n",
    "\tconst RootsParams<TypeTag>& params = this->spatialParams();\n",
    "\tScalar r = params.radius(scv); // root radius (m)\n",
    "\tScalar phx = elemVolVars[0].pressure(); // kg/m/s^2\n",
    "\tScalar phs = soilP_; // kg/m/s^2\n",
    "\n",
    "\tvalues[conti0EqIdx] = kr_ * 2*r*M_PI*l* (phs - phx); // m^3/s\n",
    "\tvalues[conti0EqIdx] /= (M_PI*r*r*l);\n",
    "   \tvalues[conti0EqIdx] /= rho;  // ???? should be *\n",
    "\n",
    "\treturn values;\n",
    "}   \n",
    "```    "
   ]
  },
  {
   "cell_type": "markdown",
   "metadata": {},
   "source": [
    "Now the model is implemented in Dumux, and after compilation we can use it to solve Benchmark 1 & 2"
   ]
  },
  {
   "cell_type": "markdown",
   "metadata": {},
   "source": [
    "### Benchmark 1"
   ]
  },
  {
   "cell_type": "markdown",
   "metadata": {},
   "source": [
    "First we create the geometry by writing a DGF (Dune Grid file) using the following Python function"
   ]
  },
  {
   "cell_type": "code",
   "execution_count": 1,
   "metadata": {
    "collapsed": true
   },
   "outputs": [],
   "source": [
    "import numpy as np\n",
    "\n",
    "def createDGF_1Droots(filename, nodes, seg):        \n",
    "    file = open(filename,\"w\") # write file \n",
    "\n",
    "    file.write(\"DGF\\n\") \n",
    "    file.write('Vertex\\n')\n",
    "    # file.write('parameters 2\\n'); \n",
    "    for i in range(0,len(nodes)):\n",
    "        file.write('{:g} {:g} {:g} \\n'.format(nodes[i,0], nodes[i,1], nodes[i,2]))\n",
    "             \n",
    "    file.write('#\\n');\n",
    "    file.write('Simplex\\n'); \n",
    "    # file.write('parameters 2\\n'); \n",
    "    for i in range(0,len(seg)):\n",
    "        file.write('{:g} {:g} \\n'.format(seg[i,0], seg[i,1]));\n",
    "        \n",
    "    # not used...        \n",
    "    file.write('#\\nBOUNDARYSEGMENTS\\n2 0\\n')          \n",
    "    file.write('3 {:g}\\n'.format(len(seg))) \n",
    "    file.write('#\\nBOUNDARYDOMAIN\\ndefault 1\\n')\n",
    "    file.write('#\\n')\n",
    "    \n",
    "    file.close() "
   ]
  },
  {
   "cell_type": "markdown",
   "metadata": {},
   "source": [
    "TODO we might add all the parameters we need for Benchmark 2"
   ]
  },
  {
   "cell_type": "markdown",
   "metadata": {},
   "source": [
    "We call it to create a straight single root "
   ]
  },
  {
   "cell_type": "code",
   "execution_count": 2,
   "metadata": {
    "collapsed": true
   },
   "outputs": [],
   "source": [
    "    nnz = 100 # resolution\n",
    "    L = 0.5 # length of single straight root (m)\n",
    "    \n",
    "    nodes = np.zeros((nnz,3)) # create grid\n",
    "    seg = np.zeros(((nnz-1),2), dtype=int) \n",
    "    for i in range(1, nnz):\n",
    "        seg[i-1,0] = i-1\n",
    "        seg[i-1,1] = i\n",
    "        nodes[i,:] = [0.,0.,-i*L/(nnz-1)]  \n",
    " \n",
    "    createDGF_1Droots(\"singleroot.dgf\", nodes, seg)"
   ]
  },
  {
   "cell_type": "markdown",
   "metadata": {},
   "source": [
    "The rest of the parameters of Benchmark 1, we move to the Dumux input file. These parameters are parsed by Dumux, and can be easily retrieved within the C++ code. The input file singleroot.input is given by: "
   ]
  },
  {
   "cell_type": "markdown",
   "metadata": {},
   "source": [
    "```\n",
    "[TimeLoop]\n",
    "DtInitial = 1 # [s]\n",
    "TEnd = 1 # [s]\n",
    "\n",
    "[Grid]\n",
    "File = singleroot.dgf\n",
    "\n",
    "[Parameter]\n",
    "SoilP = -200 # cm pressure head\n",
    "Kr = 2.e-9  # radial conductivity (m^2 s / kg) \n",
    "Kz = 5.e-13 # axial conductivity (m^5 s / kg)\n",
    "Radius = 2.e-3 # radius (m)  \n",
    "P0 = -1000 # cm pressure head\n",
    "PL = -500 # cm pressure head\n",
    "Scenario = 1 # 1 or 2  \n",
    "\n",
    "[Problem]\n",
    "Name = roots # name passed to the output routines\n",
    "EnableGravity = 1\n",
    "```"
   ]
  },
  {
   "cell_type": "markdown",
   "metadata": {},
   "source": [
    "The file holds the following information:\n",
    "* [TimeLoop] is not important, since it is a static proplem \n",
    "* [Grid] is the geometry file we just created, and \n",
    "* [Parameter] all the parameter we supply for Benchmark 1, Scenario 1 and 2\n",
    "* [Prolbem] the name of our problem, and we want to enable gravitation"
   ]
  },
  {
   "cell_type": "markdown",
   "metadata": {
    "collapsed": true
   },
   "source": [
    "With this two files (`.dgf`, and `.input`) we can run DUMUX (if you insert the correct path):"
   ]
  },
  {
   "cell_type": "code",
   "execution_count": 5,
   "metadata": {},
   "outputs": [
    {
     "data": {
      "text/plain": [
       "0"
      ]
     },
     "execution_count": 5,
     "metadata": {},
     "output_type": "execute_result"
    }
   ],
   "source": [
    "import os\n",
    "path = \"/home/daniel/workspace/DUMUX/dumux-rosi/build-cmake/rosi_benchmarking/rootsystem/\" \n",
    "os.chdir(path)\n",
    "os.system( \"./rootsystem input/singleroot.input\")"
   ]
  },
  {
   "cell_type": "markdown",
   "metadata": {
    "collapsed": true
   },
   "source": [
    "In order to look at the results in Python, VTK is needed (to open the Dumux VTP output). The following methods help to plot the results: "
   ]
  },
  {
   "cell_type": "code",
   "execution_count": 1,
   "metadata": {},
   "outputs": [],
   "source": [
    "import vtk\n",
    "import numpy as np\n",
    "\n",
    "def read_polydata(name):\n",
    "    reader = vtk.vtkXMLPolyDataReader()\n",
    "    reader.SetFileName(name)\n",
    "    reader.Update()   \n",
    "    polydata = reader.GetOutput() \n",
    "    return polydata\n",
    "\n",
    "def read1D_vtp_data(name, cell = True):\n",
    "    polydata = read_polydata(name)     \n",
    "    if cell: \n",
    "        data = polydata.GetCellData()\n",
    "    else:\n",
    "        data = polydata.GetPointData()        \n",
    "    nocd = data.GetNumberOfArrays()\n",
    "    sw = data.GetArray(0) # saturation   \n",
    "    noa = sw.GetNumberOfTuples()    \n",
    "    sw_ = np.ones(noa,)\n",
    "    for i in range(0,noa):    \n",
    "        d = sw.GetTuple(i)\n",
    "        sw_[i] = d[0]            \n",
    "    return sw_"
   ]
  },
  {
   "cell_type": "markdown",
   "metadata": {},
   "source": [
    "Now we can read the DUMUX output convert units to cm pressure head an plot the results:"
   ]
  },
  {
   "cell_type": "code",
   "execution_count": 2,
   "metadata": {},
   "outputs": [
    {
     "ename": "NameError",
     "evalue": "name 'path' is not defined",
     "output_type": "error",
     "traceback": [
      "\u001b[0;31m---------------------------------------------------------------------------\u001b[0m",
      "\u001b[0;31mNameError\u001b[0m                                 Traceback (most recent call last)",
      "\u001b[0;32m<ipython-input-2-5e7abf9e0a4e>\u001b[0m in \u001b[0;36m<module>\u001b[0;34m()\u001b[0m\n\u001b[1;32m     11\u001b[0m     \u001b[0;32mreturn\u001b[0m \u001b[0;34m-\u001b[0m\u001b[0;34m(\u001b[0m\u001b[0mpa\u001b[0m\u001b[0;34m-\u001b[0m\u001b[0mref\u001b[0m\u001b[0;34m)\u001b[0m \u001b[0;34m*\u001b[0m \u001b[0;36m100\u001b[0m \u001b[0;34m/\u001b[0m \u001b[0mrho\u001b[0m \u001b[0;34m/\u001b[0m \u001b[0mg\u001b[0m\u001b[0;34m\u001b[0m\u001b[0m\n\u001b[1;32m     12\u001b[0m \u001b[0;34m\u001b[0m\u001b[0m\n\u001b[0;32m---> 13\u001b[0;31m \u001b[0mp_\u001b[0m \u001b[0;34m=\u001b[0m \u001b[0mread1D_vtp_data\u001b[0m\u001b[0;34m(\u001b[0m\u001b[0mpath\u001b[0m\u001b[0;34m+\u001b[0m\u001b[0;34m\"roots-00001.vtp\"\u001b[0m\u001b[0;34m,\u001b[0m \u001b[0;32mFalse\u001b[0m\u001b[0;34m)\u001b[0m\u001b[0;34m\u001b[0m\u001b[0m\n\u001b[0m\u001b[1;32m     14\u001b[0m \u001b[0mz_\u001b[0m \u001b[0;34m=\u001b[0m \u001b[0mnp\u001b[0m\u001b[0;34m.\u001b[0m\u001b[0mlinspace\u001b[0m\u001b[0;34m(\u001b[0m\u001b[0;36m0\u001b[0m\u001b[0;34m,\u001b[0m\u001b[0;34m-\u001b[0m\u001b[0;36m0.5\u001b[0m\u001b[0;34m,\u001b[0m\u001b[0mlen\u001b[0m\u001b[0;34m(\u001b[0m\u001b[0mp_\u001b[0m\u001b[0;34m)\u001b[0m\u001b[0;34m)\u001b[0m\u001b[0;34m\u001b[0m\u001b[0m\n\u001b[1;32m     15\u001b[0m \u001b[0mh_\u001b[0m \u001b[0;34m=\u001b[0m \u001b[0mtoHead\u001b[0m\u001b[0;34m(\u001b[0m\u001b[0mp_\u001b[0m\u001b[0;34m)\u001b[0m\u001b[0;34m\u001b[0m\u001b[0m\n",
      "\u001b[0;31mNameError\u001b[0m: name 'path' is not defined"
     ]
    }
   ],
   "source": [
    "import matplotlib.pyplot as plt\n",
    "\n",
    "g = 9.8 # gravitational acceleration (m/s^2)   \n",
    "rho = 1.e3 # density of water (kg/m^3)      \n",
    "ref = 1.e5 # reference pressure (Pa)\n",
    "\n",
    "def toPa(ph): # cm pressure head to Pascal (kg/ (m s^2))\n",
    "    return ref + ph/100. * rho * g\n",
    "\n",
    "def toHead(pa): # Pascal (kg/ (m s^2)) to cm pressure head\n",
    "    return (pa-ref) * 100 / rho / g\n",
    "\n",
    "p_ = read1D_vtp_data(path+\"roots-00001.vtp\", False)\n",
    "z_ = np.linspace(0,-0.5,len(p_))\n",
    "h_ = toHead(p_) \n",
    "plt.plot(h_,z_, \"r+\")\n",
    "plt.ylabel(\"Depth (m)\")\n",
    "plt.xlabel(\"Xylem pressure (cm)\")\n",
    "plt.show()"
   ]
  },
  {
   "cell_type": "code",
   "execution_count": null,
   "metadata": {
    "collapsed": true
   },
   "outputs": [],
   "source": []
  },
  {
   "cell_type": "code",
   "execution_count": null,
   "metadata": {
    "collapsed": true
   },
   "outputs": [],
   "source": []
  },
  {
   "cell_type": "code",
   "execution_count": null,
   "metadata": {
    "collapsed": true
   },
   "outputs": [],
   "source": []
  },
  {
   "cell_type": "code",
   "execution_count": null,
   "metadata": {
    "collapsed": true
   },
   "outputs": [],
   "source": []
  }
 ],
 "metadata": {
  "kernelspec": {
   "display_name": "Python 3",
   "language": "python",
   "name": "python3"
  },
  "language_info": {
   "codemirror_mode": {
    "name": "ipython",
    "version": 3
   },
   "file_extension": ".py",
   "mimetype": "text/x-python",
   "name": "python",
   "nbconvert_exporter": "python",
   "pygments_lexer": "ipython3",
   "version": "3.6.4"
  },
  "latex_envs": {
   "LaTeX_envs_menu_present": true,
   "autoclose": false,
   "autocomplete": true,
   "bibliofile": "biblio.bib",
   "cite_by": "apalike",
   "current_citInitial": 1,
   "eqLabelWithNumbers": true,
   "eqNumInitial": 1,
   "hotkeys": {
    "equation": "Ctrl-E",
    "itemize": "Ctrl-I"
   },
   "labels_anchors": false,
   "latex_user_defs": false,
   "report_style_numbering": false,
   "user_envs_cfg": false
  }
 },
 "nbformat": 4,
 "nbformat_minor": 2
}
