{
 "cells": [
  {
   "cell_type": "markdown",
   "metadata": {},
   "source": [
    "# Water flux within the root &mdash; Numerical solutions in DuMu${}^x$\n",
    "\n",
    "_by Daniel Leitner, Andrea Schnepf, Timo Koch_"
   ]
  },
  {
   "cell_type": "markdown",
   "metadata": {},
   "source": [
    "In the following we will give some hints how to solve Benchmark 1 & 2, using [DuMu${}^x$](www.dumux.org). The source code is available on [Github](https://github.com/Plant-Root-Soil-Interactions-Modelling/dumux-rosi.git)."
   ]
  },
  {
   "cell_type": "markdown",
   "metadata": {},
   "source": [
    "## General remarks"
   ]
  },
  {
   "cell_type": "markdown",
   "metadata": {},
   "source": [
    "\n",
    "In DuMu${}^x$ we base the problem on the one-phase porous medium model (`porousmediumflow/1p/model.hh`) meaning there is one fluid phase (water) inside a porous medium (root). Hence, the root is modeled as a porous medium, where the root xylem is the pore space filled with water and all other root components constitute the solid matrix.\n",
    "\n",
    "Next we have to do some C++ programming specifying the exact benchmark scenario. This is done by calculating the permeability from our parameters (in the _spatial parameters_ class $\\rightarrow$ `RootsParams` in `rootsparams.hh`), and by defining the boundary conditions and the source term (in the _problem_ class $\\rightarrow$ `RootsProblem` in `rootsproblem.hh`)."
   ]
  },
  {
   "cell_type": "markdown",
   "metadata": {},
   "source": [
    "In the spatial parameter class (`RootsParams`) we set the permeability by extending the class `FVSpatialParamsOneP` (finite volume spatial parameters for one-phase models) and overwriting the following member function"
   ]
  },
  {
   "cell_type": "markdown",
   "metadata": {},
   "source": [
    "```C++\n",
    "Scalar extrusionFactor(const Element& element,\n",
    "                       const SubControlVolume& scv,\n",
    "                       const ElementSolution& elemSol) const\n",
    "{\n",
    "    const Scalar r = spatialParams().radius(scv); // root radius (m)\n",
    "    return M_PI * r * r;\n",
    "}\n",
    "```"
   ]
  },
  {
   "cell_type": "markdown",
   "metadata": {},
   "source": [
    "The function allows to specify the intrinsic permeability ($m^2$). We convert the root axial conductivity ($\\frac{m^5 s}{kg} = \\frac{m^4}{Pa \\ s} $) to the intrinsic permeability by multiplication with the dynamic viscosity ($Pa \\ s$) and division by the cross-section area $\\pi r^2$ ($m^2$). The intrinsic permeability is a resistance coefficient that is only dependent on the root xylem and not the properties of the fluid (water)."
   ]
  },
  {
   "cell_type": "markdown",
   "metadata": {},
   "source": [
    "Boundary conditions and the source term are implemented in the problem class by overwriting member functions in the class `RootsProblem` which is extended from `PorousMediumFlowProblem`.\n",
    "\n",
    "First, the boundary conditions are defined by choosing the boundary condition type, which is either Neumann or Dirichlet. In the next step the Neumann flux, and the Dirichlet value for the boundaries are defined."
   ]
  },
  {
   "cell_type": "markdown",
   "metadata": {},
   "source": [
    "```C++\n",
    "BoundaryTypes boundaryTypesAtPos(const GlobalPosition &pos) const\n",
    "{\n",
    "\tBoundaryTypes bcTypes; // create a boundary types object\n",
    "\tbcTypes.setAllNeumann(); // default to Neumann\n",
    "\n",
    "\t// set Dirichlet boundaries at the root collar\n",
    "    if (onUpperBoundary_(pos))\n",
    "\t\tbcTypes.setAllDirichlet();\n",
    "\n",
    "    // for all other (i.e. root tips) set either Dirichlet or Neumann depending on the scenario\n",
    "    else\n",
    "    { \n",
    "\t\tif (scenario_==1)\n",
    "\t\t\tbcTypes.setAllDirichlet();\n",
    "\t\telse\n",
    "\t\t\tbcTypes.setAllNeumann();\n",
    "\t}\n",
    "    \n",
    "\treturn bcTypes;\n",
    "}\n",
    "```    "
   ]
  },
  {
   "cell_type": "markdown",
   "metadata": {
    "collapsed": true
   },
   "source": [
    "For the collar we pick always a Dirichlet boundary condition (i.e we set the pressure). For the root tips we set a pressure only for Scenario 1, for other scenarios we assume a no-flux boundary condition.\n",
    "\n",
    "Next we specify the actual values for the Dirichlet and Neumann boundary conditions:"
   ]
  },
  {
   "cell_type": "markdown",
   "metadata": {},
   "source": [
    "```C++\n",
    "PrimaryVariables dirichletAtPos(const GlobalPosition &pos) const\n",
    "{\n",
    "    PrimaryVariables priVar(0.0); // create a primary variable object\n",
    "    \n",
    "    // root collar\n",
    "    if (onUpperBoundary_(pos)) \n",
    "\t    priVar = p0_;\n",
    "        \n",
    "    // for all other (i.e. root tips)\n",
    "    else \n",
    "        priVar = pL_;\n",
    "\n",
    "    return priVar;\n",
    "}   \n",
    "\n",
    "ResidualVector neumann(const Element& element,\n",
    "                       const FVElementGeometry& fvGeometry,\n",
    "                       const ElementVolumeVariables& elemVolVars,\n",
    "                       const SubControlVolumeFace& scvf) const\n",
    "{\n",
    "    return ResidualVector(0.);\n",
    "}  \n",
    "    \n",
    "```"
   ]
  },
  {
   "cell_type": "markdown",
   "metadata": {},
   "source": [
    "Finally, we need to define the uptake by the root as a source term in the model, following Eqn 3 from [Xylem flux](Xylem flux.ipynb)."
   ]
  },
  {
   "cell_type": "markdown",
   "metadata": {},
   "source": [
    "```C++\n",
    "//! return the mass source in units kg/(s m^3)\n",
    "ResidualVector source(const Element &element,\n",
    "\t\t\t          const FVElementGeometry& fvGeometry,\n",
    "\t\t\t          const ElementVolumeVariables& elemVolVars,\n",
    "\t\t\t          const SubControlVolume &scv) const\n",
    "{\n",
    "\tResidualVector values; // create a residual vector (size 1 because we solve only one equation)\n",
    "\tconst auto& params = this->spatialParams();\n",
    "\tconst Scalar l = scv.volume(); // length of element as the control volume is one-dimensional (m)\n",
    "\tconst Scalar r = params.radius(scv); // root radius (m)\n",
    "\tconst Scalar kr = params.radialConductivity(scv); //  radial conductivity (m^2 s / kg)\n",
    "\tconst Scalar phx = elemVolVars[scv].pressure(); // xylem water pressure kg/m/s^2 or Pa\n",
    "\tconst Scalar phs = soilP_; // soil water pressure kg/m/s^2 or Pa\n",
    "\n",
    "\tvalues = rho_*kr * 2*r*M_PI*l * (phs - phx); // kg/s\n",
    "\tvalues /= (r*r*M_PI)*l; // divide by volume because Dumux expects volume specific source rates (kg/s/m^3)\n",
    "\treturn values;\n",
    "}   \n",
    "```    "
   ]
  },
  {
   "cell_type": "markdown",
   "metadata": {},
   "source": [
    "As a last thing, which is specific to DuMu${}^x$, we have to set the domain extrusion factor. DuMu${}^x$ always thinks in terms of three-dimensional domains and units. A one-dimensional grid is actually thought of representing a tube or channel with a cross-section area equal to $1$. (A two-dimensional grid would be interpreted as a three-dimensional domain with depth $1$). For the root, we set the extrusion factor to the actual cross-section area of the root, i.e. $A = \\pi r^2$:"
   ]
  },
  {
   "cell_type": "markdown",
   "metadata": {},
   "source": [
    "```C++\n",
    "Scalar extrusionFactorAtPos(const GlobalPosition& globalPos)\n",
    "{\n",
    "    const Scalar r = params.radius(SubControlVolume()); // root radius (m)\n",
    "    return M_PI * r * r;\n",
    "}\n",
    "```"
   ]
  },
  {
   "cell_type": "markdown",
   "metadata": {},
   "source": [
    "Now the model is implemented in Dumux, and after compilation we can use it to solve Benchmark 1 & 2"
   ]
  },
  {
   "cell_type": "markdown",
   "metadata": {},
   "source": [
    "### Benchmark 1"
   ]
  },
  {
   "cell_type": "markdown",
   "metadata": {},
   "source": [
    "First we create the geometry by writing a DGF (Dune Grid file) using the following Python function"
   ]
  },
  {
   "cell_type": "code",
   "execution_count": 18,
   "metadata": {
    "collapsed": true
   },
   "outputs": [],
   "source": [
    "import numpy as np\n",
    "\n",
    "def createDGF_1Droots(filename, nodes, seg, params = np.zeros((0,0))):        \n",
    "    file = open(filename,\"w\") # write file \n",
    "    \n",
    "    nop = params.shape[0] # number of parameters    \n",
    "    file.write(\"DGF\\n\") \n",
    "    file.write('Vertex\\n')\n",
    "    for i in range(0,len(nodes)):\n",
    "        file.write('{:g} {:g} {:g} \\n'.format(nodes[i,0], nodes[i,1], nodes[i,2]))\n",
    "             \n",
    "    file.write('#\\n');\n",
    "    file.write('Simplex\\n'); \n",
    "    if nop>0:\n",
    "        file.write('parameters {:d}\\n'.format(nop)) \n",
    "    for i in range(0,len(seg)):\n",
    "        file.write('{:g} {:g}'.format(seg[i,0], seg[i,1]))\n",
    "        for j in range(0,nop): \n",
    "            file.write(' {:g}'.format(params[j,i]))        \n",
    "        file.write(' \\n')\n",
    "        \n",
    "    # not used...        \n",
    "    file.write('#\\nBOUNDARYSEGMENTS\\n2 0\\n')          \n",
    "    file.write('3 {:g}\\n'.format(len(seg))) \n",
    "    file.write('#\\nBOUNDARYDOMAIN\\ndefault 1\\n')\n",
    "    file.write('#\\n')\n",
    "    \n",
    "    file.close() "
   ]
  },
  {
   "cell_type": "markdown",
   "metadata": {},
   "source": [
    "Optionally, we can attach parameters to the segments. This will be used in Benchmark 2."
   ]
  },
  {
   "cell_type": "markdown",
   "metadata": {},
   "source": [
    "We call the function to create a straight single root "
   ]
  },
  {
   "cell_type": "code",
   "execution_count": 19,
   "metadata": {
    "collapsed": true
   },
   "outputs": [],
   "source": [
    "    nnz = 100 # resolution\n",
    "    L = 0.5 # length of single straight root (m)\n",
    "    \n",
    "    nodes = np.zeros((nnz,3)) # create grid\n",
    "    seg = np.zeros(((nnz-1),2), dtype=int) \n",
    "    for i in range(1, nnz):\n",
    "        seg[i-1,0] = i-1\n",
    "        seg[i-1,1] = i\n",
    "        nodes[i,:] = [0.,0.,-i*L/(nnz-1)]  \n",
    " \n",
    "    createDGF_1Droots(\"singleroot.dgf\", nodes, seg)"
   ]
  },
  {
   "cell_type": "markdown",
   "metadata": {},
   "source": [
    "The rest of the parameters of Benchmark 1, we move to the Dumux input file. These parameters are parsed by Dumux, and can be easily retrieved within the C++ code. The input file singleroot.input is given by: "
   ]
  },
  {
   "cell_type": "markdown",
   "metadata": {},
   "source": [
    "```\n",
    "[Grid]\n",
    "File = singleroot.dgf\n",
    "\n",
    "[Parameter]\n",
    "SoilP = -200 # cm pressure head\n",
    "Kr = 2.e-9  # radial conductivity (m^2 s / kg) \n",
    "Kz = 5.e-13 # axial conductivity (m^5 s / kg)\n",
    "Radius = 2.e-3 # radius (m)  \n",
    "P0 = -1000 # cm pressure head\n",
    "PL = -500 # cm pressure head\n",
    "Scenario = 1 # 1 or 2  \n",
    "\n",
    "[Problem]\n",
    "Name = roots # name passed to the output routines\n",
    "EnableGravity = true # optionally turn on/off gravity\n",
    "```"
   ]
  },
  {
   "cell_type": "markdown",
   "metadata": {},
   "source": [
    "The file holds the following information sorted in three parameter groups:\n",
    "* [Grid] is the geometry file we just created, and \n",
    "* [Parameter] all the parameter we supply for Benchmark 1, Scenario 1 and 2\n",
    "* [Prolbem] the name of our problem, and we want to enable gravitation"
   ]
  },
  {
   "cell_type": "markdown",
   "metadata": {
    "collapsed": true
   },
   "source": [
    "With this two files (`.dgf`, and `.input`) we can run DUMUX for both scenarios (if you insert the correct path):"
   ]
  },
  {
   "cell_type": "code",
   "execution_count": 20,
   "metadata": {
    "collapsed": true
   },
   "outputs": [],
   "source": [
    "import os\n",
    "path = \"/home/daniel/workspace/DUMUX/dumux-rosi/build-cmake/rosi_benchmarking/rootsystem/\" \n",
    "wd = os.getcwd()\n",
    "os.chdir(path)\n",
    "os.system( \"./rootsystem input/singleroot_S1.input\")\n",
    "os.system( \"./rootsystem input/singleroot_S2.input\")\n",
    "os.chdir(wd)"
   ]
  },
  {
   "cell_type": "markdown",
   "metadata": {
    "collapsed": true
   },
   "source": [
    "In order to look at the results in Python, VTK is needed (to open the Dumux VTP output). The following methods help to plot the results: "
   ]
  },
  {
   "cell_type": "code",
   "execution_count": 21,
   "metadata": {
    "collapsed": true
   },
   "outputs": [],
   "source": [
    "import vtk\n",
    "import numpy as np\n",
    "\n",
    "def read_polydata(name):\n",
    "    reader = vtk.vtkXMLPolyDataReader()\n",
    "    reader.SetFileName(name)\n",
    "    reader.Update()   \n",
    "    polydata = reader.GetOutput() \n",
    "    return polydata\n",
    "\n",
    "def read1D_vtp_data(name, cell = True):\n",
    "    polydata = read_polydata(name)     \n",
    "    if cell: \n",
    "        data = polydata.GetCellData()\n",
    "    else:\n",
    "        data = polydata.GetPointData()        \n",
    "    nocd = data.GetNumberOfArrays()\n",
    "    p = data.GetArray(0) # pressure   \n",
    "    noa = p.GetNumberOfTuples()    \n",
    "    p_ = np.ones(noa,)\n",
    "    for i in range(0,noa):    \n",
    "        d = p.GetTuple(i)\n",
    "        p_[i] = d[0]            \n",
    "    return p_"
   ]
  },
  {
   "cell_type": "markdown",
   "metadata": {},
   "source": [
    "Now we can read the DuMu${}^x$ output convert units to cm pressure head an plot the results:"
   ]
  },
  {
   "cell_type": "code",
   "execution_count": 22,
   "metadata": {},
   "outputs": [
    {
     "data": {
      "image/png": "[encoded data removed]",
      "text/plain": [
       "<matplotlib.figure.Figure at 0x7f76a54e6c88>"
      ]
     },
     "metadata": {},
     "output_type": "display_data"
    }
   ],
   "source": [
    "import matplotlib.pyplot as plt\n",
    "\n",
    "g = 9.81 # gravitational acceleration (m/s^2)   \n",
    "rho = 1.e3 # density of water (kg/m^3)      \n",
    "ref = 1.e5 # reference pressure (Pa)\n",
    "\n",
    "def toPa(ph): # cm pressure head to Pascal (kg/ (m s^2))\n",
    "    return ref + ph/100. * rho * g\n",
    "\n",
    "def toHead(pa): # Pascal (kg/ (m s^2)) to cm pressure head\n",
    "    return (pa-ref) * 100 / rho / g\n",
    "\n",
    "h1_ = toHead(read1D_vtp_data(path+\"singleroot_S1-00001.vtp\", False))\n",
    "h2_ = toHead(read1D_vtp_data(path+\"singleroot_S2-00001.vtp\", False))\n",
    "z_ = np.linspace(0,-0.5,len(h1_))\n",
    "\n",
    "f, (ax1, ax2) = plt.subplots(1, 2, sharey=True)\n",
    "ax1.plot(h1_,z_, \"r+\")\n",
    "ax2.plot(h2_,z_, \"r+\")\n",
    "ax1.set_ylabel(\"Depth (m)\")\n",
    "ax1.set_xlabel(\"Xylem pressure (cm)\")\n",
    "ax2.set_xlabel(\"Xylem pressure (cm)\")\n",
    "plt.show()"
   ]
  },
  {
   "cell_type": "markdown",
   "metadata": {},
   "source": [
    "For comparison, we prepare the analytical solution for Scenario 1 and 2"
   ]
  },
  {
   "cell_type": "code",
   "execution_count": 23,
   "metadata": {},
   "outputs": [
    {
     "data": {
      "image/png": "[encoded data removed]",
      "text/plain": [
       "<matplotlib.figure.Figure at 0x7f769df6dbe0>"
      ]
     },
     "metadata": {},
     "output_type": "display_data"
    }
   ],
   "source": [
    "from math import *\n",
    "# Parameters\n",
    "L = 0.5                # length of single straight root (m)\n",
    "a = 2.e-3              # radius (m)\n",
    "kz = 5.e-13            # axial conductivity (m^5 s / kg) (mal rho ergibt die alten einheiten)\n",
    "kr = 2.e-9             # radial conductivity per root type (m^2 s / kg) \n",
    "p_s = toPa(-200)       # static soil pressure (cm) \n",
    "p0 = toPa(-1000)       # dircichlet bc at top\n",
    "pL = toPa(-500)        # dircichlet bc at bot\n",
    "# Analytical solution\n",
    "c = 2*a*pi*kr/kz\n",
    "p_r = lambda z: toHead( p_s + d[0]*exp(sqrt(c)*z) + d[1]*exp(-sqrt(c)*z) )\n",
    "za_ = np.linspace(0,-L,100)\n",
    "# Scenario 1\n",
    "AA = np.array([[1,1], [exp(-sqrt(c)*L), exp(sqrt(c)*L)] ]) # dirichlet top & bot\n",
    "bb = np.array([p0-p_s, pL-p_s]) \n",
    "d = np.linalg.solve(AA, bb) \n",
    "pr1 = list(map(p_r, za_))\n",
    "# Scenario 2\n",
    "AA = np.array([[1,1], [sqrt(c)*exp(-sqrt(c)*L), -sqrt(c)*exp(sqrt(c)*L)] ]) # dirichlet top, neumann bot\n",
    "bb = np.array([p0-p_s, -rho*g]) \n",
    "d = np.linalg.solve(AA, bb) \n",
    "pr2 = list(map(p_r, za_))\n",
    "# The final plot\n",
    "f, (ax1, ax2) = plt.subplots(1, 2, sharey=True)\n",
    "ax1.plot(pr1,za_)\n",
    "ax1.plot(h1_,z_, \"r+\")\n",
    "ax2.plot(pr2,za_)\n",
    "ax2.plot(h2_,z_, \"r+\")\n",
    "ax1.set_ylabel(\"Depth (m)\")\n",
    "ax1.set_xlabel(\"Xylem pressure (cm)\")\n",
    "ax2.set_xlabel(\"Xylem pressure (cm)\")\n",
    "plt.show()"
   ]
  },
  {
   "cell_type": "markdown",
   "metadata": {
    "collapsed": true
   },
   "source": [
    "## Benchmark 2 \n",
    "\n",
    "We start by creating a DGF file containing the small rootsystem, and attaching all segment dependent data to the segments. \n",
    "\n",
    "The root system data of Benchmark 2 is given by"
   ]
  },
  {
   "cell_type": "code",
   "execution_count": 24,
   "metadata": {
    "collapsed": true
   },
   "outputs": [],
   "source": [
    "nodes = [ [0.00,0.00,-2.9], [0.00,0.00,-3.00], [-0.00,-0.01,-3.48], [-0.85,0.48,-3.71], [-1.69,0.99,-3.90], [-2.58,1.32,-4.21], [-3.48,1.67,-4.49], [-4.38,2.00,-4.77], [-5.24,2.40,-5.09], [-6.08,2.82,-5.42], [-6.93,3.27,-5.69], [-6.96,3.29,-5.70], [-0.00,0.01,-3.97], [0.20,-0.95,-4.20], [0.43,-1.88,-4.49], [0.65,-2.81,-4.77], [0.84,-3.75,-5.06], [1.04,-4.70,-5.31], [1.27,-5.64,-5.54], [1.43,-6.58,-5.84], [1.48,-6.91,-5.94], [-0.01,0.03,-4.45], [0.75,0.68,-4.48], [1.52,1.32,-4.50], [2.30,1.94,-4.46], [3.07,2.58,-4.41], [3.88,3.16,-4.46], [4.73,3.69,-4.50], [5.34,4.05,-4.53], [-0.03,0.06,-4.97], [-0.73,0.63,-5.40], [-1.46,1.20,-5.79], [-2.15,1.80,-6.18], [-2.76,2.48,-6.59], [-3.16,3.16,-7.21], [-3.63,3.90,-7.64], [-0.06,0.07,-5.42], [0.07,1.04,-5.61], [0.23,2.00,-5.82], [0.46,2.93,-6.11], [0.72,3.85,-6.40], [0.99,4.77,-6.69], [1.06,5.11,-6.78], [-0.10,0.08,-5.96], [0.35,0.90,-6.31], [0.80,1.72,-6.65], [1.23,2.55,-7.01], [1.62,3.41,-7.34], [1.70,3.58,-7.41], [-0.14,0.10,-6.46], [0.05,-0.81,-6.83], [0.29,-1.72,-7.18], [0.43,-2.62,-7.59], [0.50,-3.12,-7.84], [-0.19,0.12,-7.02], [0.32,0.98,-7.03], [0.82,1.84,-6.95], [1.07,2.23,-6.88], [-0.23,0.17,-7.56], [0.68,-0.18,-7.80], [1.12,-0.35,-7.93], [-0.24,0.21,-8.14], [-0.01,0.36,-8.22], [-0.25,0.24,-8.69], [-0.24,0.25,-9.25], [-0.24,0.26,-9.71], [-0.26,0.26,-10.09], [-0.28,0.25,-10.57], [-0.26,0.24,-11.05], [-0.26,0.21,-11.58], [-0.25,0.19,-12.06], [-0.25,0.17,-12.55], [-0.23,0.15,-13.00], [-0.23,0.12,-13.46], [-0.22,0.12,-13.99], [-0.21,0.15,-14.54], [-0.19,0.20,-15.07], [-0.17,0.24,-15.60], [-0.17,0.31,-16.17], [-0.15,0.36,-16.64], [-0.12,0.43,-17.18], [-0.11,0.48,-17.70], [-0.07,0.52,-18.23], [-0.06,0.53,-18.53] ]\n",
    "seg = [ [0,1], [1,2], [2,12], [12,21], [21,29], [29,36], [36,43], [43,49], [49,54], [54,58], [58,61], [61,63], [63,64], [64,65], [65,66], [66,67], [67,68], [68,69], [69,70], [70,71], [71,72], [72,73], [73,74], [74,75], [75,76], [76,77], [77,78], [78,79], [79,80], [80,81], [81,82], [82,83], [2,3], [3,4], [4,5], [5,6], [6,7], [7,8], [8,9], [9,10], [10,11], [12,13], [13,14], [14,15], [15,16], [16,17], [17,18], [18,19], [19,20], [21,22], [22,23], [23,24], [24,25], [25,26], [26,27], [27,28], [29,30], [30,31], [31,32], [32,33], [33,34], [34,35], [36,37], [37,38], [38,39], [39,40], [40,41], [41,42], [43,44], [44,45], [45,46], [46,47], [47,48], [49,50], [50,51], [51,52], [52,53], [54,55], [55,56], [56,57], [58,59], [59,60], [61,62] ]\n",
    "age = [ 8,7.76,7.52,7.29,7.03,6.80,6.53,6.28,6.00,5.73,5.43,5.16,4.87,4.64,4.44,4.20,3.95,3.68,3.43,3.17,2.94,2.70,2.42,2.14,1.85,1.57,1.27,1.02,0.73,0.45,0.16,-0.00,2.29,2.02,1.74,1.43,1.11,0.77,0.41,0.01,0.00,2.04,1.77,1.48,1.18,0.85,0.51,0.14,0.00,1.78,1.51,1.22,0.92,0.60,0.26,0.00,1.51,1.24,0.96,0.66,0.34,0.00,1.28,1.01,0.73,0.43,0.12,0.00,0.97,0.69,0.39,0.07,0.00,0.72,0.45,0.17,0.00,0.41,0.14,0.00,0.13,0.00,0.00 ]\n",
    "types = [ 1,1,1,1,1,1,1,1,1,1,1,1,1,1,1,1,1,1,1,1,1,1,1,1,1,1,1,1,1,1,1,1,2,2,2,2,2,2,2,2,2,2,2,2,2,2,2,2,2,2,2,2,2,2,2,2,2,2,2,2,2,2,2,2,2,2,2,2,2,2,2,2,2,2,2,2,2,2,2,2,2,2,2 ]\n",
    "\n",
    "a_tap = 0.2 # tap root radius (cm)\n",
    "a_lateral = 0.1 # lateral root radius (cm)\n",
    "\n",
    "kz0, kz1 = 0.5e-19, 1.e-18 # m^4 / (Pa s)\n",
    "kr0, kr1 = 1.7e-13, 0.2e-13 # m / (Pa s)\n",
    "kz = lambda age: kz0*(age<=3)+kz1*(age>3)\n",
    "kr = lambda age: kr0*(age<=3)+kr1*(age>3)"
   ]
  },
  {
   "cell_type": "markdown",
   "metadata": {},
   "source": [
    "We prepare the parameters that we want to pass via the DGF file and store it in the file 'rootsystem.dgf'"
   ]
  },
  {
   "cell_type": "code",
   "execution_count": 25,
   "metadata": {
    "collapsed": true
   },
   "outputs": [],
   "source": [
    "a = lambda t: 1.e-2*(a_tap*(t==1)+a_lateral*(t==2)) # cm->m \n",
    "a_ = list(map(a, types)) \n",
    "kr_ = list(map(kr, age)) # m / (Pa s)\n",
    "kz_ = list(map(kz, age)) # m^4 / (Pa s)\n",
    "nodes = np.array(nodes)*1.e-2 # cm->m, and convert from list to numpy array\n",
    "seg = np.array(seg) # convert from list to numpy array \n",
    "    \n",
    "params = np.vstack((a_,kr_,kz_))\n",
    "createDGF_1Droots(\"rootsystem.dgf\", nodes, seg, params)"
   ]
  },
  {
   "cell_type": "markdown",
   "metadata": {},
   "source": [
    "The rest of the parameter stays in the Dumux input file:"
   ]
  },
  {
   "cell_type": "markdown",
   "metadata": {},
   "source": [
    "```\n",
    "[Grid]\n",
    "File = rootsystem.dgf\n",
    "\n",
    "[Parameter]\n",
    "SoilP = -200 # cm pressure head\n",
    "P0 = -1000 # cm pressure head\n",
    "Scenario = 2 # 1 or 2  \n",
    "\n",
    "[Problem]\n",
    "Name = rootsystem # name passed to the output routines\n",
    "EnableGravity = 1\n",
    "```"
   ]
  },
  {
   "cell_type": "markdown",
   "metadata": {
    "collapsed": true
   },
   "source": [
    "Next we can run the simulation"
   ]
  },
  {
   "cell_type": "code",
   "execution_count": 26,
   "metadata": {
    "collapsed": true
   },
   "outputs": [],
   "source": [
    "os.chdir(path)\n",
    "os.system( \"./rootsystem input/rootsytem.input\")\n",
    "os.chdir(wd)"
   ]
  },
  {
   "cell_type": "markdown",
   "metadata": {
    "collapsed": true
   },
   "source": [
    "Now we can open the output using "
   ]
  },
  {
   "cell_type": "code",
   "execution_count": 27,
   "metadata": {
    "collapsed": true
   },
   "outputs": [],
   "source": [
    "def read3D_vtp_data(name, cell = True):\n",
    "    polydata = read_polydata(name)     \n",
    "    if cell: \n",
    "        data = polydata.GetCellData()\n",
    "    else:\n",
    "        data = polydata.GetPointData()        \n",
    "    nocd = data.GetNumberOfArrays() \n",
    "    p = data.GetArray(0) # pressure\n",
    "    noa = p.GetNumberOfTuples()\n",
    "    p_ = np.ones(noa,)\n",
    "    for i in range(0,noa):    \n",
    "        d = p.GetTuple(i)\n",
    "        p_[i] = d[0]\n",
    "    Np = polydata.GetNumberOfPoints()\n",
    "    z_ = np.zeros((Np,3))   \n",
    "    points = polydata.GetPoints()    \n",
    "    for i in range(0,Np):\n",
    "        p = np.zeros(3,)\n",
    "        points.GetPoint(i,p)\n",
    "        z_[i,:] = p                    \n",
    "    return p_, z_"
   ]
  },
  {
   "cell_type": "code",
   "execution_count": 28,
   "metadata": {
    "collapsed": true
   },
   "outputs": [],
   "source": [
    "x, nodes = read3D_vtp_data(path+\"rootsystem-00001.vtp\", False)\n",
    "x = toHead(x)"
   ]
  },
  {
   "cell_type": "code",
   "execution_count": 29,
   "metadata": {},
   "outputs": [
    {
     "name": "stdout",
     "output_type": "stream",
     "text": [
      "from  -1000.0 to -183.454622197  cm pressure head\n"
     ]
    },
    {
     "data": {
      "image/png": "[encoded data removed]",
      "text/plain": [
       "<matplotlib.figure.Figure at 0x7f769e2e3e48>"
      ]
     },
     "metadata": {},
     "output_type": "display_data"
    }
   ],
   "source": [
    "xmin = min(x)\n",
    "xmax = max(x)\n",
    "print(\"from \", xmin, \"to\", xmax, \" cm pressure head\")\n",
    "\n",
    "for i,n in enumerate(nodes): \n",
    "    c = (x[i]-xmin)/(xmax-xmin)\n",
    "    plt.plot([n[0], n[0]], [n[2], n[2]],\"*\",color = plt.cm.jet(c))    \n",
    "plt.axis('equal')\n",
    "plt.xlabel(\"cm\")\n",
    "plt.ylabel(\"cm\")\n",
    "plt.show()"
   ]
  },
  {
   "cell_type": "markdown",
   "metadata": {},
   "source": [
    "TODO get segments from vtk polydata."
   ]
  },
  {
   "cell_type": "code",
   "execution_count": null,
   "metadata": {
    "collapsed": true
   },
   "outputs": [],
   "source": []
  },
  {
   "cell_type": "code",
   "execution_count": null,
   "metadata": {
    "collapsed": true
   },
   "outputs": [],
   "source": []
  },
  {
   "cell_type": "code",
   "execution_count": null,
   "metadata": {
    "collapsed": true
   },
   "outputs": [],
   "source": []
  }
 ],
 "metadata": {
  "kernelspec": {
   "display_name": "Python 3",
   "language": "python",
   "name": "python3"
  },
  "language_info": {
   "codemirror_mode": {
    "name": "ipython",
    "version": 3
   },
   "file_extension": ".py",
   "mimetype": "text/x-python",
   "name": "python",
   "nbconvert_exporter": "python",
   "pygments_lexer": "ipython3",
   "version": "3.6.3"
  },
  "latex_envs": {
   "LaTeX_envs_menu_present": true,
   "autoclose": false,
   "autocomplete": true,
   "bibliofile": "biblio.bib",
   "cite_by": "apalike",
   "current_citInitial": 1,
   "eqLabelWithNumbers": true,
   "eqNumInitial": 1,
   "hotkeys": {
    "equation": "Ctrl-E",
    "itemize": "Ctrl-I"
   },
   "labels_anchors": false,
   "latex_user_defs": false,
   "report_style_numbering": false,
   "user_envs_cfg": false
  }
 },
 "nbformat": 4,
 "nbformat_minor": 2
}
