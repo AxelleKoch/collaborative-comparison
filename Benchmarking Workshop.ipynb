{
 "cells": [
  {
   "cell_type": "markdown",
   "metadata": {},
   "source": [
    "# Benchmarking examples for water movement"
   ]
  },
  {
   "cell_type": "code",
   "execution_count": null,
   "metadata": {},
   "outputs": [],
   "source": []
  },
  {
   "cell_type": "markdown",
   "metadata": {},
   "source": [
    "## Soil only (Richards equation)\n",
    "\n",
    "The Richards equations is given by \n",
    "\n",
    "Following Jan benchmarking example (1-4) and compare numerical to analytical solutions\n",
    "\n",
    "Link to another [Notebook 2](Untitled.ipynb)\n",
    "\n",
    "### Scenario 1 \n",
    "\n",
    "### Scenario 2 \n",
    "\n",
    "### Scenario 3\n",
    "\n",
    "### Scenario 4\n",
    "\n",
    "### Discussion\n",
    "\n",
    "There are many softwares solving Richards equation, that can be used to validate own developments. Important features are \n",
    "* supported dimensions: 1D, 1D axial symmetric, 3D\n",
    "* mass conservative method \n",
    "* runs parallel \n",
    "* supports mesh refinement\n"
   ]
  },
  {
   "cell_type": "code",
   "execution_count": null,
   "metadata": {},
   "outputs": [],
   "source": []
  },
  {
   "cell_type": "markdown",
   "metadata": {},
   "source": [
    "## Roots only (Doussan, Roose)\n",
    "\n",
    "Model equation (derivation in Roose 2004)\n",
    "\n",
    "\n",
    "\n",
    "### Scenario 1: Static single root in a static soil\n",
    "\n",
    "Compare numerical analytical solution.\n",
    "\n",
    "#### Analytical solution\n",
    "\n",
    "\n",
    "### Scenario 2: Static branched root system in a static soil \n",
    "\n",
    "No analytic solution available (to my knowledge). \n",
    "Compare different numerical solutions\n"
   ]
  },
  {
   "cell_type": "code",
   "execution_count": null,
   "metadata": {},
   "outputs": [],
   "source": []
  },
  {
   "cell_type": "markdown",
   "metadata": {},
   "source": [
    "## Roots in soil \n",
    "\n",
    "### Scenario 1: Static root sytem in soil coupled with a sink term \n",
    "\n",
    "There are no analytic examples, furthermore different approaches of coupling via the sink term will lead to slightly different results. We could discuss pros and cons of different approaches. \n",
    "\n",
    "Compare the results of different numerical codes for the exact same soil and root system.  \n",
    "\n",
    "In the evaluation of the most feasible sink term for a certain scenario a comparison to a full explicit 3D model would be of high interest. This is technically feasible for small root systems (e.g. using Comsol). Can someone prepare an example?\n",
    "\n",
    "\n",
    "### Scenario 2: Growing root sytem in soil coupled with a sink term \n",
    "\n",
    "Same points of interest like in Scenario 1. \n",
    "\n",
    "Additionally, we could focus on the analysis of dynamic effects, and the modelling of root responses (e.g. hydrotropism, or adapiton of conductivities) \n"
   ]
  },
  {
   "cell_type": "code",
   "execution_count": null,
   "metadata": {},
   "outputs": [],
   "source": []
  },
  {
   "cell_type": "code",
   "execution_count": null,
   "metadata": {},
   "outputs": [],
   "source": []
  },
  {
   "cell_type": "code",
   "execution_count": null,
   "metadata": {},
   "outputs": [],
   "source": []
  },
  {
   "cell_type": "code",
   "execution_count": null,
   "metadata": {},
   "outputs": [],
   "source": []
  }
 ],
 "metadata": {
  "kernelspec": {
   "display_name": "Python 3",
   "language": "python",
   "name": "python3"
  },
  "language_info": {
   "codemirror_mode": {
    "name": "ipython",
    "version": 3
   },
   "file_extension": ".py",
   "mimetype": "text/x-python",
   "name": "python",
   "nbconvert_exporter": "python",
   "pygments_lexer": "ipython3",
   "version": "3.6.4"
  }
 },
 "nbformat": 4,
 "nbformat_minor": 2
}
