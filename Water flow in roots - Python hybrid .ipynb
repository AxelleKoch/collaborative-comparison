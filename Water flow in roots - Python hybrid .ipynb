{
 "cells": [
  {
   "cell_type": "markdown",
   "metadata": {},
   "source": [
    "# Water flow in roots - Hybrid numerical scheme based on analytic solution in Pyhton\n",
    "\n",
    "by Daniel Leitner, Felicien Meunier, Andrea Schnepf\n",
    "\n",
    "In the following we will first describe the derivation of the numerical method (based on Meunier et al. ), the resulting Python code (available as single file at the CRootBox git repository), and finally we demonstrate Benchmark M31 and M32a,b."
   ]
  },
  {
   "cell_type": "markdown",
   "metadata": {},
   "source": [
    "## Numerical derivation\n",
    "\n",
    "based on the analytical solution \n",
    "\n",
    "For constant $k_r$ and $k_z$ we can solve Eqn (5) yielding \n",
    "\\begin{eqnarray}\n",
    "\\psi_r(z) := \\psi_s + d_1 e^{\\sqrt{c} z } + d_2 e^{-\\sqrt{c} z} \\label{analytic_flux}\n",
    "\\end{eqnarray} \n",
    "with \n",
    "\\begin{eqnarray}\n",
    "c = 2 a \\pi k_r / k_z. \n",
    "\\end{eqnarray} \n",
    "Now, for two given pressures $\\psi_1$, and $\\psi_2$ at two nodes the segment in between $z \\in [0,L]$ will have above pressure $\\psi_r(z)$ with the constants $d_1$, and $d_2$ calculated as:\n",
    "\n",
    "\\begin{align}\n",
    "\\left(\\begin{array}{cc}\n",
    "  1 & 1  \\\\\n",
    " \\exp{(\\sqrt{c} L)} & \\exp{(-\\sqrt{c} L)} \\\\\n",
    "\\end{array}\\right)\n",
    "\\left(\\begin{array}{c}\n",
    "  d_{1}  \\\\\n",
    "  d_{2}  \\\\\n",
    "\\end{array}\\right)\n",
    "{} &= \n",
    "\\left(\\begin{array}{c}  \n",
    "  \\psi_1-\\psi_s \\\\\n",
    "  \\psi_2-\\psi_s \\\\\n",
    "\\end{array}\\right)\n",
    "\\end{align}\n",
    "\n",
    "solving for $d_1$ and $d_2$ yields\n",
    "\n",
    "\\begin{align}\n",
    "\\left(\\begin{array}{c}\n",
    "  d_{1}  \\\\\n",
    "  d_{2}  \\\\\n",
    "\\end{array}\\right)\n",
    "{} &= d^{-1}\n",
    "\\left(\\begin{array}{cc}\n",
    "  \\exp{(-\\sqrt{c} L)} & -1  \\\\\n",
    " -\\exp{(\\sqrt{c} L)} & 1 \\\\\n",
    "\\end{array}\\right)\n",
    "\\left(\\begin{array}{c}  \n",
    "  \\bar\\psi_1 \\\\\n",
    "  \\bar\\psi_2 \\\\\n",
    "\\end{array}\\right),\n",
    "\\end{align}\n",
    "\n",
    "with $\\bar\\psi_1 := \\psi_1-\\psi_s$, $\\bar\\psi_2 := \\psi_2-\\psi_s$, and \n",
    "\\begin{align}\n",
    "d = \\exp{(-\\sqrt{c} L)} - \\exp{(\\sqrt{c} L)}.\n",
    "\\end{align}\n",
    "\n",
    "We will need the axial flux at $z=0$ and $z=L$. \n",
    "\\begin{align}\n",
    "q_z &= - k_z \\left( \\frac{\\partial \\psi_r}{\\partial z} + v_3 \\right) \\\\\n",
    "q_z &= - k_z \\left( d_1 \\sqrt{c} e^{\\sqrt{c} z } - d_2 \\sqrt{c} e^{-\\sqrt{c} z}  + v_3 \\right) \\\\\n",
    "q_0 &= - k_z \\left( d_1 \\sqrt{c} - d_2 \\sqrt{c} + v_3 \\right) \\\\\n",
    "q_L &= - k_z \\left( d_1 \\sqrt{c} e^{\\sqrt{c} L } - d_2 \\sqrt{c} e^{-\\sqrt{c} L}  + v_3 \\right)\n",
    "\\end{align}\n",
    "where $v_3$ is the $z$-component of the normed xylem direction."
   ]
  },
  {
   "cell_type": "markdown",
   "metadata": {},
   "source": [
    "With \n",
    "\\begin{align}\n",
    " d_{1} &= d^{-1}\\exp{(-\\sqrt{c} L)}\\bar\\psi_i  - d^{-1}\\bar\\psi_j  \\\\\n",
    " d_{2} &= -d^{-1}\\exp{(\\sqrt{c} L)}\\bar\\psi_i  + d^{-1}\\bar\\psi_j  \\\\\n",
    "\\end{align}\n",
    "$q_0$ is written as  \n",
    "\\begin{align}\n",
    "q_{ij,0} &= - k_z \\left( d_1 \\sqrt{c} - d_2 \\sqrt{c} + v_3 \\right) \\\\\n",
    "q_{ij,0} &= - k_z \\left( (\\exp{(-\\sqrt{c} L)}\\bar\\psi_i-\\bar\\psi_j) d^{-1} \\sqrt{c} - (-\\exp{(\\sqrt{c} L)}\\bar\\psi_i + \\bar\\psi_j) d^{-1} \\sqrt{c} + v_3 \\right) \\\\\n",
    "q_{ij,0} &= - k_z \\left( d^{-1} \\sqrt{c}\\left( (\\exp{(-\\sqrt{c} L)}+\\exp{(\\sqrt{c} L)} ) \\bar\\psi_i - 2 \\bar\\psi_j \\right) + v_3 \\right) \\\\\n",
    "\\end{align}\n"
   ]
  },
  {
   "cell_type": "markdown",
   "metadata": {},
   "source": [
    "Now in each node $i$ the summed fluxes have to equal to zero:\n",
    "\\begin{align}\n",
    "\\sum_{j \\in N(i)} q_{ij} = 0\n",
    "\\end{align}\n",
    "where N(i) are the indices of the segments $s_{i,j}$ starting from node $i$"
   ]
  },
  {
   "cell_type": "markdown",
   "metadata": {},
   "source": [
    "IGNORE FOR NOW\n",
    "\n",
    "The constants are linear given by:\n",
    "\\begin{align}\n",
    " d_{1} &= d^{-1}\\exp{(-\\sqrt{c} L)}(\\psi_1-\\psi_s) - d^{-1}(\\psi_2-\\psi_s) \\\\\n",
    " d_{2} &= -d^{-1}\\exp{(\\sqrt{c} L)}(\\psi_1-\\psi_s) + d^{-1}(\\psi_2-\\psi_s) \\\\\n",
    "\\end{align}\n",
    "\n",
    "Furthermore the radial flux along the segment is given by \n",
    "\\begin{align}\n",
    "q_r &= - 2 a \\pi k_r (L\\psi_s - \\int_0^L \\psi_r dz) \\\\\n",
    "q_r &= \\frac{2 a \\pi k_r}{\\sqrt{c}} ( d_1 e^{\\sqrt{c} z } - d_2 e^{-\\sqrt{c} z} ) \\vert_{0}^{L} \\\\\n",
    "q_r &= \\frac{2 a \\pi k_r}{\\sqrt{c}} ( d_1 e^{\\sqrt{c} L } - d_2 e^{-\\sqrt{c} L} - d_1+ d_2 ) \\\\\n",
    "\\frac{q_r}{k_z} &= \\sqrt{c} (d_1 (e^{\\sqrt{c} L}-1) - d_2 (e^{-\\sqrt{c} L}-1) )\n",
    "\\end{align}\n",
    "\n",
    "and the equation for a segment is given by mass conservation\n",
    "\\begin{eqnarray}\n",
    "q = 0 = (q_0 - q_L) + q_r \\\\\n",
    "\\end{eqnarray}\n",
    "\n",
    "\\begin{eqnarray}\n",
    "\\frac{q_0 - q_L}{k_z} = d_1 (\\sqrt{c} -\\sqrt{c} e^{\\sqrt{c} L}) - d_2 (\\sqrt{c} - \\sqrt{c} e^{-\\sqrt{c} L}) \n",
    "\\end{eqnarray}\n",
    "\n",
    "it actually adds up to zero, which is good. "
   ]
  },
  {
   "cell_type": "markdown",
   "metadata": {},
   "source": [
    "## Implementation in Python "
   ]
  },
  {
   "cell_type": "markdown",
   "metadata": {},
   "source": [
    "We start wtih some imports:"
   ]
  },
  {
   "cell_type": "code",
   "execution_count": 7,
   "metadata": {},
   "outputs": [],
   "source": [
    "from math import *\n",
    "import numpy as np\n",
    "from numpy.linalg.linalg import norm\n",
    "import matplotlib.pylab as plt\n",
    "from scipy import sparse\n",
    "import scipy.sparse.linalg as LA\n",
    "from rsml import * # located in the same directory "
   ]
  },
  {
   "cell_type": "markdown",
   "metadata": {},
   "source": [
    "### Creating the linear system \n",
    "\n",
    "The following code builds the linear system as described above. Therefore we loop over each segment $e_{ij}$, and add its share to the system (i.e. $c_{ii}, c_{ij}, c_{jj}, c_{ji}, b_{i}, b_{j}$)\n",
    "\n",
    "The inputs are all parameters that are needed: \n",
    "* `seg`: numpy array ($N_s$,2) of segment indices [1]\n",
    "* `nodes`: numpy array ($N$,3) of the node coordinates [L]\n",
    "* `radius`: segment radii [L]\n",
    "* `kr` radial conductivity for each segment [L2 T M−1] \n",
    "* `kz` axial conductivity for each segment [L5 T M-1]\n",
    "* `rho` density of soil water [M L-3]\n",
    "* `g` gravitational acceleration [L T−2]\n",
    "* `soil_p` lambda function returning the soil matric potential at a given location, p=soil_p(x,y,z) [M L−1 T−2]\n",
    " \n",
    "The output is the linear system $Qx=b$"
   ]
  },
  {
   "cell_type": "code",
   "execution_count": 17,
   "metadata": {},
   "outputs": [],
   "source": [
    "def linear_system(seg, nodes, radius, kr, kz, rho, g, soil_p):\n",
    "    \n",
    "    Ns, N = seg.shape[0], nodes.shape[0]\n",
    "    I,J = np.zeros(4*Ns, dtype = np.int64), np.zeros(4*Ns, dtype = np.int64)    \n",
    "    V = np.zeros(4*Ns)\n",
    "    b = np.zeros(N)        \n",
    "    k = 0 # entry counter\n",
    "    \n",
    "    for s in range(0, Ns):        \n",
    "        \n",
    "        i,j = seg[s,0], seg[s,1]\n",
    "        n1, n2 = nodes[i,:], nodes[j,:]\n",
    "        mid = 0.5*(n1+n2)        \n",
    "        p_s = soil_p(mid[0],mid[1],mid[2]) # evaluate soil matric potential\n",
    "        v = n2-n1\n",
    "        l = norm(v)        \n",
    "        vz = v[2] / l # normed direction                \n",
    "        a = radius[s]\n",
    "        \n",
    "        c = 2.*a*pi*kr[s]/kz[s] # Eqn (2)\n",
    "        d = exp(-sqrt(c)*l)-exp(sqrt(c)*l) # Eqn (5)\n",
    "        di = 1./d\n",
    "        \n",
    "         # edge ij\n",
    "        # q_{ij,0} = - kz[s]* di * ( \\sqrt{c}  (\\exp{(-\\sqrt{c} L)}+\\exp{(\\sqrt{c} L)} ) I - 2 J ) + v_3)\n",
    "        \n",
    "        cij = 2*kz[s]*di*sqrt(c)  # Eqn 14\n",
    "        cii = -kz[s]*di*sqrt(c)*(exp(-sqrt(c)*l)+exp(sqrt(c)*l)) # Eqn 14\n",
    "        bi = -kz[s]*rho*g*vz # Eqn 14\n",
    "               \n",
    "        b[i] += bi         \n",
    "        I[k], J[k], V[k]  = i, i, cii\n",
    "        k += 1                        \n",
    "        I[k], J[k], V[k]  = i, j, cij\n",
    "        k += 1         \n",
    "        \n",
    "        # edge ji\n",
    "        i, j = j, i\n",
    "        b[i] -= bi # Eqn 14 with changed sign        \n",
    "        I[k], J[k], V[k]  = i, i, cii\n",
    "        k += 1                          \n",
    "        I[k], J[k], V[k]  = i, j, cij\n",
    "        k += 1 \n",
    "         \n",
    "    Q = sparse.coo_matrix((V,(I,J)))    \n",
    "    Q = sparse.csr_matrix(Q)     \n",
    "    return (Q, b)"
   ]
  },
  {
   "cell_type": "markdown",
   "metadata": {},
   "source": [
    "Modifies the linear system $Q, b$ to describe Diriclet boundary conditions at the node indices `n0` as described above.\n",
    "\n",
    "Input parameter are \n",
    "* `n0`: node indices where to apply the boundary condition\n",
    "* `d`: fixed potential at n0"
   ]
  },
  {
   "cell_type": "code",
   "execution_count": 18,
   "metadata": {},
   "outputs": [],
   "source": [
    "def bc_dirichlet(Q, b, n0, d):\n",
    "    c = 0\n",
    "    for c in range(0, len(n0)):\n",
    "        i = n0[c]          \n",
    "        e0 = np.zeros((1,Q.shape[1])) # build zero vector\n",
    "        Q[i,:] = sparse.csr_matrix(e0) # replace row i with ei\n",
    "        Q[i,i] = 1\n",
    "        b[i] = d[c]    \n",
    "    return Q, b "
   ]
  },
  {
   "cell_type": "markdown",
   "metadata": {},
   "source": [
    "Modifies the linear system $Q, b$ to describe a Neumann boundary conditions at the node indices `n0` as described above.\n",
    "\n",
    "Input parameter are \n",
    "* `n0`: node indices where to apply the boundary condition\n",
    "* `f`: flux at n0"
   ]
  },
  {
   "cell_type": "code",
   "execution_count": 19,
   "metadata": {},
   "outputs": [],
   "source": [
    "def bc_neumann(Q, b, n0, f):\n",
    "    c = 0\n",
    "    for c in range(0, len(n0)):                \n",
    "        i = n0[c]  # print(\"Neumann BC at node \"+str(i))       \n",
    "        b[i] += f[c]        \n",
    "    return Q, b "
   ]
  },
  {
   "cell_type": "markdown",
   "metadata": {},
   "source": [
    "## Benchmark 1 \n",
    "\n",
    "We compare the Pyhton numerical implementation to the analytical solution. First, some additional definitions"
   ]
  },
  {
   "cell_type": "code",
   "execution_count": 20,
   "metadata": {},
   "outputs": [],
   "source": [
    "g = 9.81                 # gravitational acceleration [m/s^2]\n",
    "rho = 1.e3               # density of water, [kg/m^3]\n",
    "ref = 1.e5               # reference pressure [kg/ (m s^2)]\n",
    "\n",
    "def toPa(ph): # [cm] pressure head to Pascal [kg/ (m s^2)]\n",
    "    return ref + ph / 100. * rho * g\n",
    "\n",
    "def toHead(pa): # Pascal [kg/ (m s^2)] to [cm] pressure head\n",
    "    return (pa-ref) * 100. / rho / g"
   ]
  },
  {
   "cell_type": "markdown",
   "metadata": {
    "collapsed": true
   },
   "source": [
    "Next we pick the parameters "
   ]
  },
  {
   "cell_type": "code",
   "execution_count": 21,
   "metadata": {},
   "outputs": [],
   "source": [
    "# Parameters\n",
    "L = 0.5                          # length of single straight root [m]\n",
    "a = 2.e-3                        # radius [m]\n",
    "kz0 = 0.173                      # [cm^3/day]\n",
    "kz = 1e-6*kz0/(rho*g)/(24*3600)  # axial conductivity [m^5 s / kg] \n",
    "kr0 = 2.6e-3                     # [1/day]\n",
    "kr = kr0/(rho*g)/(24* 3600)      # radial conductivity per root type [m^2 s / kg] \n",
    "p_s = toPa(-200)                 # static soil pressure [cm] \n",
    "p0 = toPa(-1000)                 # dircichlet bc at top"
   ]
  },
  {
   "cell_type": "markdown",
   "metadata": {},
   "source": [
    "First we recalculate the analytical solution (for later comparison)"
   ]
  },
  {
   "cell_type": "code",
   "execution_count": 22,
   "metadata": {},
   "outputs": [],
   "source": [
    "# Analytical solution\n",
    "c = 2*a*pi*kr/kz\n",
    "p_r = lambda z: toHead( p_s + d[0]*exp(sqrt(c)*z) + d[1]*exp(-sqrt(c)*z) )\n",
    "# Boundary conditions\n",
    "AA = np.array([[1,1], [sqrt(c)*exp(-sqrt(c)*L), -sqrt(c)*exp(sqrt(c)*L)] ]) # dirichlet top, neumann bot\n",
    "bb = np.array([p0-p_s, -rho*g]) #\n",
    "d = np.linalg.solve(AA, bb) # compute constants d_1 and d_2 from bc\n",
    "# Evaluate function\n",
    "za_ = np.linspace(0,-L,100)\n",
    "pr = list(map(p_r, za_))"
   ]
  },
  {
   "cell_type": "markdown",
   "metadata": {},
   "source": [
    "For the numerical solution we first create a grid. nnz denotes the resolution."
   ]
  },
  {
   "cell_type": "code",
   "execution_count": 23,
   "metadata": {},
   "outputs": [],
   "source": [
    "nnz = 100\n",
    "nodes = np.zeros((nnz,3))\n",
    "seg = np.zeros(((nnz-1),2), dtype=int) \n",
    "c = 0\n",
    "for i in range(1, nnz):\n",
    "    seg[c,0] = i-1\n",
    "    seg[c,1] = i\n",
    "    c += 1    \n",
    "    nodes[i,:] = [0.,0.,-i*L/(nnz-1)]"
   ]
  },
  {
   "cell_type": "markdown",
   "metadata": {},
   "source": [
    "Next we copy the constant values to lists, so that we have a value per segment, and create a call back function for the soil matric potential."
   ]
  },
  {
   "cell_type": "code",
   "execution_count": 24,
   "metadata": {},
   "outputs": [],
   "source": [
    "kr_ = [kr] * (nnz-1)\n",
    "kz_ = [kz] * (nnz-1)\n",
    "a_ = [a] * (nnz-1)            \n",
    "soil = lambda x,y,z : p_s # call back function for soil potential"
   ]
  },
  {
   "cell_type": "markdown",
   "metadata": {},
   "source": [
    "Now we create the linear system, and apply the boundary conditions"
   ]
  },
  {
   "cell_type": "code",
   "execution_count": 27,
   "metadata": {},
   "outputs": [],
   "source": [
    "Q, b = linear_system(seg, nodes, a_, kr_, kz_, rho, g, soil) #  \n",
    "Q, b = bc_dirichlet(Q, b, np.array([0]), np.array([p0])) # dirichlet top\n",
    "Q, b = bc_neumann(Q, b, [nnz-1], [0]) # neumann bot\n",
    "x = LA.spsolve(Q, b, use_umfpack = True) # direct\n",
    "x = x+p_s"
   ]
  },
  {
   "cell_type": "markdown",
   "metadata": {},
   "source": [
    "And, the result:"
   ]
  },
  {
   "cell_type": "code",
   "execution_count": 28,
   "metadata": {},
   "outputs": [
    {
     "data": {
      "image/png": "[encoded data removed]",
      "text/plain": [
       "<Figure size 504x504 with 1 Axes>"
      ]
     },
     "metadata": {
      "needs_background": "light"
     },
     "output_type": "display_data"
    }
   ],
   "source": [
    "fig=plt.figure(figsize=(7, 7))\n",
    "plt.plot(list(map(toHead, x)),za_,\"r*\")\n",
    "plt.plot(pr,za_)\n",
    "plt.xlabel(\"Xylem pressure (cm)\")\n",
    "plt.ylabel(\"Depth (m)\")\n",
    "plt.legend([\"numeric\", \"analytic\"])\n",
    "plt.show()\n",
    "# for automatic evalutation\n",
    "np.savetxt(\"root_water_flow/M31/python\", np.vstack((100*za_,list(map(toHead, x)))),delimiter=',')"
   ]
  },
  {
   "cell_type": "markdown",
   "metadata": {
    "collapsed": true
   },
   "source": [
    "## Benchmark 2\n",
    "\n",
    "\n",
    "The benchmark is given by a static small root system, static conductivities, a predefined pressure (-1000 cm) at the root collar, and no-flux at the root tips."
   ]
  },
  {
   "cell_type": "code",
   "execution_count": 12,
   "metadata": {},
   "outputs": [],
   "source": [
    "simtime = 14 # [day]\n",
    "polylines, props, funcs = read_rsml(\"root_grid/RootSystem.rsml\") # in rmsl.py located in the same directory \n",
    "nodes, segs = get_segments(polylines, props) # in rmsl.py located in the same directory      \n",
    "nodes = np.array(nodes)*1.e-3 # [mm] -> [m], and convert from list to numpy array\n",
    "segs = np.array(segs, dtype = np.int64) # convert from list to numpy array \n",
    "radii, cts, types = get_parameter(polylines, funcs, props)\n",
    "radii = np.array(radii)*1.e-3 # [mm]->[m] \n",
    "age = 14 - np.array(cts) # [day]<"
   ]
  },
  {
   "cell_type": "markdown",
   "metadata": {
    "collapsed": true
   },
   "source": [
    "We prepare the parameters to use the aboves numerical scheme, and create the linear system:"
   ]
  },
  {
   "cell_type": "code",
   "execution_count": 13,
   "metadata": {},
   "outputs": [],
   "source": [
    "# Parameters\n",
    "kx0 = 0.173                      # [cm^3 day-1]\n",
    "kx = 1e-6*kz0/(rho*g)/(24*3600)  # axial conductivity ->[m^5 s / kg]\n",
    "kr0 = 2.6e-3                     # 1/day\n",
    "kr = kr0/(rho*g)/(24* 3600)      # radial conductivity per root type -> [m^2 s / kg]\n",
    "kx_ = [kx] * (len(age))\n",
    "kr_ = [kr] * (len(age))\n",
    "p_s = toPa(-200)                 # [cm]->[Pa]\n",
    "soil = lambda x,y,z : p_s        # [cm] pressure head\n",
    "rho = 1.e3                       # [kg/m^3]\n",
    "g = 9.81                         # [m/s^2]\n",
    "#  Create linear system\n",
    "Q, b = linear_system(segs, nodes, radii, kr_, kx_, rho, g, soil) "
   ]
  },
  {
   "cell_type": "markdown",
   "metadata": {},
   "source": [
    "Next, we need to set the boundary conditions by modifying the linear system:"
   ]
  },
  {
   "cell_type": "code",
   "execution_count": 14,
   "metadata": {},
   "outputs": [],
   "source": [
    "tips = [len(polylines[0])-1] # calculate tip indices\n",
    "for p in polylines[1:]:\n",
    "    tips.append(tips[-1]+1+len(p)-1)\n",
    "\n",
    "p0 = toPa(-500) # [cm]->[Pa], pressure at root collar \n",
    "\n",
    "Q, b = bc_dirichlet(Q, b, np.array([0]), np.array([p0])) # Dirichlet top\n",
    "Q, b = bc_neumann(Q, b, np.array(tips), np.zeros(len(tips))) # Neumann at tips"
   ]
  },
  {
   "cell_type": "markdown",
   "metadata": {},
   "source": [
    "Finally, we can solve the system"
   ]
  },
  {
   "cell_type": "code",
   "execution_count": 15,
   "metadata": {},
   "outputs": [
    {
     "name": "stdout",
     "output_type": "stream",
     "text": [
      "net collar flux is 78.15652850425707 mm^3/day;  axial 80.41921030603318 , radial -2.262681801776111\n"
     ]
    }
   ],
   "source": [
    "x = LA.spsolve(Q, b, use_umfpack = True) # direct\n",
    "x = toHead(x)\n",
    "\n",
    "qz = -kx*((x[1]-x[0])/0.001-rho*g) *24*3600*1e9 # m^3 s^-1 -> mm^3 day^-1 \n",
    "qr = -0.001*2*pi*radii[0]*1.e-2*kr*(p_s-x[0]) *24*3600*1e9 # m^3 s^-1 -> mm^3 day^-1 \n",
    "print(\"net collar flux is\", qr+qz, \"mm^3/day; \", \"axial\", qz, \", radial\", qr) "
   ]
  },
  {
   "cell_type": "markdown",
   "metadata": {},
   "source": [
    "and plot the final result:"
   ]
  },
  {
   "cell_type": "code",
   "execution_count": 16,
   "metadata": {},
   "outputs": [
    {
     "name": "stdout",
     "output_type": "stream",
     "text": [
      "from  -500.0 to -201.48431550804284  cm pressure head\n"
     ]
    },
    {
     "data": {
      "image/png": "[encoded data removed]",
      "text/plain": [
       "<Figure size 432x288 with 1 Axes>"
      ]
     },
     "metadata": {
      "needs_background": "light"
     },
     "output_type": "display_data"
    },
    {
     "data": {
      "image/png": "[encoded data removed]",
      "text/plain": [
       "<Figure size 504x504 with 1 Axes>"
      ]
     },
     "metadata": {
      "needs_background": "light"
     },
     "output_type": "display_data"
    }
   ],
   "source": [
    "xmin, xmax = min(x), max(x)\n",
    "print(\"from \", xmin, \"to\", xmax, \" cm pressure head\")\n",
    "# Plot\n",
    "plt.plot(x, nodes[:,2], \"r*\")\n",
    "plt.show()\n",
    "\n",
    "fig=plt.figure(figsize=(7, 7))\n",
    "y_ = []\n",
    "x_ = []\n",
    "for i,s in enumerate(segs): \n",
    "    n = 0.5*(nodes[s[0]]+nodes[s[1]]) # mid point\n",
    "    c = (x[s[0]]-xmin)/(xmax-xmin)\n",
    "    plt.plot([n[0]*100, n[0]*100], [n[2]*100, n[2]*100], \"*\", color = plt.cm.jet(c))    \n",
    "    nn=n[2]*100;\n",
    "    y_.append(nn) # todo \n",
    "    x_.append(x[s[0]])\n",
    "plt.axis('equal')\n",
    "plt.xlabel(\"cm\")\n",
    "plt.ylabel(\"cm\")\n",
    "plt.show()\n",
    "\n",
    "# Save file\n",
    "np.savetxt(\"root_water_flow/M32a/python\", np.vstack((y_,x_)),delimiter=',')"
   ]
  },
  {
   "cell_type": "markdown",
   "metadata": {
    "collapsed": true
   },
   "source": [
    "## Benchmark 3\n",
    "\n",
    "\n",
    "Same as before but with age depending conductivities:"
   ]
  },
  {
   "cell_type": "code",
   "execution_count": 17,
   "metadata": {},
   "outputs": [
    {
     "name": "stdout",
     "output_type": "stream",
     "text": [
      "done.\n"
     ]
    }
   ],
   "source": [
    "from scipy import interpolate\n",
    "\n",
    "kx0 = np.array([[0,6.74E-02],[2,7.48E-02],[4,8.30E-02],[6,9.21E-02],[8,1.02E-01],[10,1.13E-01],[12,1.26E-01],[14,1.40E-01],[16,1.55E-01],[18,1.72E-01],[20,1.91E-01],[22,2.12E-01],[24,2.35E-01],[26,2.61E-01],[28,2.90E-01],[30,3.21E-01],[32,3.57E-01]])\n",
    "kr0 = np.array([[0,1.14E-03],[2,1.09E-03],[4,1.03E-03],[6,9.83E-04],[8,9.35E-04],[10,8.90E-04],[12,8.47E-04],[14,8.06E-04],[16,7.67E-04],[18,7.30E-04],[20,6.95E-04],[22,6.62E-04],[24,6.30E-04],[26,5.99E-04],[28,5.70E-04],[30,5.43E-04],[32,5.17E-04]])\n",
    "kx1 = np.array([[0,4.07E-04],[1,5.00E-04],[2,6.15E-04],[3,7.56E-04],[4,9.30E-04],[5,1.14E-03],[6,1.41E-03],[7,1.73E-03],[8,2.12E-03],[9,2.61E-03],[10,3.21E-03],[11,3.95E-03],[12,4.86E-03],[13,5.97E-03],[14,7.34E-03],[15,9.03E-03],[16,1.11E-02],[17,1.36E-02]])\n",
    "kr1 = np.array([[0,4.11E-03],[1,3.89E-03],[2,3.67E-03],[3,3.47E-03],[4,3.28E-03],[5,3.10E-03],[6,2.93E-03],[7,2.77E-03],[8,2.62E-03],[9,2.48E-03],[10,2.34E-03],[11,2.21E-03],[12,2.09E-03],[13,1.98E-03],[14,1.87E-03],[15,1.77E-03],[16,1.67E-03],[17,1.58E-03]])\n",
    "kx0_ = interpolate.interp1d(kx0[:,0], kx0[:,1]) # ,assume_sorted=False\n",
    "kr0_ = interpolate.interp1d(kr0[:,0], kr0[:,1],assume_sorted=False)\n",
    "kx1_ = interpolate.interp1d(kx1[:,0], kx1[:,1], fill_value = 1.36E-02, bounds_error = False)\n",
    "kr1_ = interpolate.interp1d(kr1[:,0], kr1[:,1], fill_value = 1.58E-03, bounds_error = False)\n",
    "\n",
    "kx_ = np.zeros(len(segs))\n",
    "kr_ = np.zeros(len(segs))\n",
    "for i in range(0, len(segs)):\n",
    "    if types[i]==1:\n",
    "        kx_[i] = kx0_(age[i]) /(24*3600) /1e6/ (rho*g)\n",
    "        kr_[i] = kr0_(age[i]) /(24*3600) / (rho*g)      \n",
    "    else:\n",
    "        kx_[i] = kx1_(age[i]) /(24*3600) /1e6/ (rho*g)\n",
    "        kr_[i] = kr1_(age[i]) /(24*3600) / (rho*g)\n",
    "    \n",
    "#  Create linear system\n",
    "Q, b = linear_system(segs, nodes, radii, kr_, kx_, rho, g, soil) \n",
    "\n",
    "# BC\n",
    "p0 = toPa(-500) # cm->Pa, pressure at root collar \n",
    "Q, b = bc_dirichlet(Q, b, np.array([0]), np.array([p0])) # dirichlet top\n",
    "Q, b = bc_neumann(Q, b, np.array(tips), np.zeros(len(tips))) # neumann at tips\n",
    "\n",
    "x = LA.spsolve(Q, b, use_umfpack = True) # direct\n",
    "x = toHead(x)\n",
    "\n",
    "qz = -kx_[0]*((x[1]-x[0])/0.001-rho*g) *24*3600*1e9 # m^3 s^-1 -> mm^3 day^-1 \n",
    "qr = -0.001*2*pi*radii[0]*1.e-2*kr1*(p_s-x[0]) *24*3600*1e9 # m^3 s^-1 -> mm^3 day^-1 \n",
    "# print(\"net collar flux is\", qr+qz, \"mm^3/day; \", \"axial\", qz, \", radial\", qr) \n",
    "print(\"done.\")"
   ]
  },
  {
   "cell_type": "code",
   "execution_count": 18,
   "metadata": {},
   "outputs": [
    {
     "name": "stdout",
     "output_type": "stream",
     "text": [
      "from  -500.0 to -198.8636922687196  cm pressure head\n"
     ]
    },
    {
     "data": {
      "image/png": "[encoded data removed]",
      "text/plain": [
       "<Figure size 432x288 with 1 Axes>"
      ]
     },
     "metadata": {
      "needs_background": "light"
     },
     "output_type": "display_data"
    },
    {
     "data": {
      "image/png": "[encoded data removed]",
      "text/plain": [
       "<Figure size 504x504 with 1 Axes>"
      ]
     },
     "metadata": {
      "needs_background": "light"
     },
     "output_type": "display_data"
    }
   ],
   "source": [
    "xmin = min(x)\n",
    "xmax = max(x)\n",
    "print(\"from \", xmin, \"to\", xmax, \" cm pressure head\")\n",
    "# Plot\n",
    "plt.plot(x, nodes[:,2], \"r*\")\n",
    "plt.show()\n",
    "\n",
    "fig=plt.figure(figsize=(7, 7))\n",
    "y_ = []\n",
    "x_ = []\n",
    "for i,s in enumerate(segs): \n",
    "    n = 0.5*(nodes[s[0]]+nodes[s[1]]) # mid point\n",
    "    c = (x[s[0]]-xmin)/(xmax-xmin)\n",
    "    plt.plot([n[0]*100, n[0]*100], [n[2]*100, n[2]*100], \"*\", color = plt.cm.jet(c))  \n",
    "    nn=n[2]*100;\n",
    "    y_.append(nn) # todo     \n",
    "    x_.append(x[s[0]])\n",
    "plt.axis('equal')\n",
    "plt.xlabel(\"cm\")\n",
    "plt.ylabel(\"cm\")\n",
    "plt.show()\n",
    "\n",
    "# Save file\n",
    "np.savetxt(\"root_water_flow/M32b/python\", np.vstack((y_,x_)),delimiter=',')"
   ]
  },
  {
   "cell_type": "markdown",
   "metadata": {},
   "source": [
    "## References\n",
    "\n",
    "Schnepf, A., Leitner, D., Landl, M., Lobet, G., Mai, T.H., Morandage S., Sheng, C., Zoerner, M., Vanderborght, J., Vereecken, H. (2018) CRootBox: a structural-functional modelling framework for root systems. *Annals of Botany*, 121 (5), 1033-1053\n"
   ]
  },
  {
   "cell_type": "code",
   "execution_count": null,
   "metadata": {},
   "outputs": [],
   "source": []
  }
 ],
 "metadata": {
  "kernelspec": {
   "display_name": "Python 3",
   "language": "python",
   "name": "python3"
  },
  "language_info": {
   "codemirror_mode": {
    "name": "ipython",
    "version": 3
   },
   "file_extension": ".py",
   "mimetype": "text/x-python",
   "name": "python",
   "nbconvert_exporter": "python",
   "pygments_lexer": "ipython3",
   "version": "3.7.3"
  },
  "latex_envs": {
   "LaTeX_envs_menu_present": true,
   "autoclose": false,
   "autocomplete": true,
   "bibliofile": "biblio.bib",
   "cite_by": "apalike",
   "current_citInitial": 1,
   "eqLabelWithNumbers": true,
   "eqNumInitial": 1,
   "hotkeys": {
    "equation": "Ctrl-E",
    "itemize": "Ctrl-I"
   },
   "labels_anchors": false,
   "latex_user_defs": false,
   "report_style_numbering": false,
   "user_envs_cfg": false
  }
 },
 "nbformat": 4,
 "nbformat_minor": 2
}
