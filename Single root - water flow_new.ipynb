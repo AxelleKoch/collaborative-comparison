{
 "cells": [
  {
   "cell_type": "markdown",
   "metadata": {},
   "source": [
    "# Water uptake by a single root\n",
    "\n",
    "by Andrea Schnepf\n",
    "\n",
    "\n",
    "This benchmark follows the paper of Schröder et al. (2008). It is based on the analytical solutions of the 1D radially symmetric problem of water uptake by a single root. Based on the steady-rate assumption and using the matric flux potential $\\Phi(h_c)=\\int_{-\\infty}^{h_c}  K(h) dh$ that linearizes the Richards equation, the radial pressure head profiles for non-stressed and stressed conditions are given by $$\\Phi(r)=\\Phi_{r_{out}} + (q_{root}r_{root}-q_{out}r_{out})\\left[ \\frac{r^2/r_{root}^2}{2(1-\\rho^2)} + \\frac{\\rho^2}{1-\\rho^2}\\left(\\text{ln}  \\frac{r_{out}}{r}-\\frac{1}{2} \\right) \\right] + q_{out}r_{out} \\text{ln} \\frac{r}{r_{out}}$$\n",
    "and $$\\Phi(r) = \\left(\\Phi_{r_{out}} - \\Phi_{r_{root}} + q_{out}r_{out}\\text{ln} \\frac{1}{\\rho}\\right)\\frac{r^2/r_{root}^2 - 1 + 2\\rho^2 \\text{ln}  r_{root}/r}{\\rho^2 -1 + 2\\rho^2 ln 1/\\rho} + q_{out}r_{out}\\text{ln} \\frac{r}{r_{root}} + \\Phi_{root}$$,\n",
    "where $\\rho=\\frac{r_{out}}{r_{root}}$."
   ]
  },
  {
   "cell_type": "markdown",
   "metadata": {},
   "source": [
    "Given the pressure head at the outer boundary, the solution computes the pressure head profile towards the root. Due to the steady-rate assumption, the problem has become a stationary boundary value problem. However, under non-stressed conditions, we can calculate the time that corresponds to a given radial pressure head profile by dividing the volume of water removed from the soil domain by the water flow rate. The water remaining in a 1 cm high hollow cylinder around the root is given by $$V = \\int_0^{2\\pi} \\int_{r_{root}} ^{r_{out}} r \\theta dr d\\phi$$. The initially available water volume in the soil domain is given by $$V_i = (r_{out}^2-r_{root}^2) \\pi \\theta_{initial}$$. Thus, the corresponding time at which a given radial profile is reached is given by $$t =\\frac{(V_i-V)}{2 r_{root} \\pi q_{root}}$$."
   ]
  },
  {
   "cell_type": "markdown",
   "metadata": {},
   "source": [
    "## Benchmarks for the 1D radially symmetric problem\n",
    "\n",
    "Schröder et al. (2008).  "
   ]
  },
  {
   "cell_type": "markdown",
   "metadata": {},
   "source": [
    "In the following benchmarks soil properties are described by the van Genuchten model (Van Genuchten, 1980). In the following we first import libraries and define some auxiliary functions:"
   ]
  },
  {
   "cell_type": "code",
   "execution_count": 66,
   "metadata": {
    "collapsed": true
   },
   "outputs": [],
   "source": [
    "import numpy as np\n",
    "from scipy import optimize\n",
    "from scipy import integrate\n",
    "from scipy.interpolate import interp1d\n",
    "import matplotlib.pyplot as plt\n",
    "from math import * \n",
    "import os"
   ]
  },
  {
   "cell_type": "code",
   "execution_count": 67,
   "metadata": {
    "collapsed": true
   },
   "outputs": [],
   "source": [
    "# Mualem - van Genuchten model, equations from van Genuchten, MT (1980)\n",
    "\n",
    "# class containing the van genuchten parameters\n",
    "class Parameters:\n",
    "    def __init__(self, R, S, alpha, n, Ksat, lambda_ = 0.5):\n",
    "        self.theta_R = R\n",
    "        self.theta_S = S        \n",
    "        self.alpha = alpha # [1/cm]         \n",
    "        self.n = n\n",
    "        self.m = 1.-1./n\n",
    "        self.Ksat = Ksat       \n",
    "        self.lambda_ = lambda_\n",
    "\n",
    "# returns the volumetric water content at a given pressure head  according to the van genuchten model (Eqn 21)\n",
    "def water_content(h, sp):\n",
    "    return sp.theta_R + (sp.theta_S-sp.theta_R)/pow(1. + pow(sp.alpha*abs(h),sp.n),sp.m)\n",
    "\n",
    "# returns pressure head at a given volumetric water content according to the van genuchten model\n",
    "def pressure_head(theta, sp): \n",
    "    theta = min(theta,sp.theta_S) # saturated water conent is the maximum \n",
    "    return - pow( pow( (sp.theta_S - sp.theta_R)/(theta - sp.theta_R), (1./sp.m))-1., 1./sp.n) / sp.alpha\n",
    "\n",
    "# returns the effective saturation according to the van genuchten model (dimensionless water content, Eqn 2)\n",
    "def effective_saturation(h,sp):\n",
    "    h = min(h,0) # pressure head is negative, zero the maximum\n",
    "    theta = water_content(h,sp)\n",
    "    se = (theta-sp.theta_R)/(sp.theta_S-sp.theta_R)\n",
    "    return se\n",
    "\n",
    "# returns the hydraulic conductivity according to the van genuchten model (Eqn 8)\n",
    "def hydraulic_conductivity(h,sp):\n",
    "    se = effective_saturation(h,sp) \n",
    "    K = sp.Ksat*pow(se,sp.lambda_)*( (1. - pow(1. - pow(se, 1. / sp.m),sp.m)) ** 2 )\n",
    "    return K \n",
    "\n",
    "# returns the specific moisture storage according to the van genuchten model\n",
    "def specific_moisture_storage(h,sp):\n",
    "    C = -sp.alpha*sp.n*np.sign(h)*(1. / sp.n - 1.) * pow(sp.alpha*abs(h), sp.n-1.) * (sp.theta_R-sp.theta_S) * pow(pow(sp.alpha*abs(h),sp.n) + 1., 1./sp.n-2.)\n",
    "    return C\n",
    "\n",
    "# returns the water diffusivity (Eqn 11)\n",
    "def water_diffusivity(TH, theta_i, theta_sur, sp):\n",
    "    theta = TH * (theta_i - theta_sur) + theta_sur\n",
    "    Se = (theta - sp.theta_R) / (sp.theta_S - sp.theta_R)\n",
    "    m = sp.m\n",
    "    D = (1 - m) * sp.Ksat / (sp.alpha * m * (sp.theta_S - sp.theta_R)) * pow(Se, 0.5 - 1. / m) * (pow(1 - pow(Se, 1. / m), -m) + pow(1 - pow(Se, 1 / m), m) - 2)\n",
    "    return D\n",
    "\n",
    "# returns the matric flux potential\n",
    "def MFP(h,sp):\n",
    "    K = lambda h: hydraulic_conductivity(h,sp) # integrand \n",
    "    MFP, err = integrate.quad(K,-15000, h)\n",
    "    return MFP\n",
    "\n",
    "# returns the matric potential from matric flux potential\n",
    "def h(MFP_given,sp):\n",
    "    MFP_root = lambda psi: MFP(psi,sp)-MFP_given\n",
    "    h = optimize.brentq(MFP_root, -15000, 0)\n",
    "    return h"
   ]
  },
  {
   "cell_type": "markdown",
   "metadata": {},
   "source": [
    "The benchmarks use three types of soil with parameters $\\theta_r$, $\\theta_s$, $\\alpha$, $n$, and $K_s$ given by:"
   ]
  },
  {
   "cell_type": "code",
   "execution_count": 68,
   "metadata": {
    "collapsed": true
   },
   "outputs": [],
   "source": [
    "sand = Parameters(0.02, 0.46, 0.0144, 1.534, 15.42, -0.215) \n",
    "clay = Parameters(0.01, 0.59, 0.0195, 1.109, 4.53, -5.901)\n",
    "loam = Parameters(0.01, 0.42, 0.0084, 1.441, 12.98, -1.497)"
   ]
  },
  {
   "cell_type": "markdown",
   "metadata": {},
   "source": [
    "### Scenario with high, medium and low transpiration rate\n",
    "and we look for\n",
    "- the time of onset of stress and the actual transpiration rate\n",
    "- the pressure at the interface over time\n",
    "\n",
    "Under non-stressed conditions, we can calculate the time that corresponds to a given radial pressure head profile by dividing the volume of water removed from the soil domain by the water flow rate. The water remaining in the 1 cm high hollow cylinder around the root is given by $$V = \\int_0^{2\\pi} \\int_{r_{root}} ^{r_{out}} r \\theta dr d\\phi$$. The initially available water volume in the soil domain is given by $$V_i = (r_{out}^2-r_{root}^2) \\pi \\theta_{initial}$$. Thus, the corresponding time at which a given radial profile is reached is given by $$t =\\frac{V_i-V}{2 r_{root} \\pi q_{root}}$$."
   ]
  },
  {
   "cell_type": "code",
   "execution_count": 70,
   "metadata": {},
   "outputs": [
    {
     "data": {
      "image/png": "[encoded data removed]",
      "text/plain": [
       "<matplotlib.figure.Figure at 0x7f7f84530e80>"
      ]
     },
     "metadata": {},
     "output_type": "display_data"
    }
   ],
   "source": [
    "r_root = 0.05   # cm OK\n",
    "r_out = 1       # cm OK\n",
    "\n",
    "q_root = 0.5  # [cm/d] OK (0.5 high demand, 0.1 low demand)\n",
    "q_out = 0 # q_root * (r_root/(2*r_out)) # does not work TODO\n",
    "\n",
    "h_lim = -15000   # cm OK\n",
    "h_out = [-500, -1000,  -3000, -7000, -10000, -13000, -15000];   #cm\n",
    "\n",
    "soil = sand\n",
    "\n",
    "rho = r_out/r_root\n",
    "r = np.linspace(r_root, r_out, 100)\n",
    "q_r_act = np.zeros(len(h_out))\n",
    "\n",
    "for k in range(len(h_out)):\n",
    "    \n",
    "    MFP_nostress = MFP(h_out[k],soil) + (q_root*r_root-q_out*r_out)*(r**2/r_root**2/(2*(1-rho**2))+rho**2/(1-rho**2)*(np.log(r_out/r)-0.5)) + q_out*r_out*np.log(r/r_out)\n",
    "    MFP_stress = (MFP(h_out[k],soil)+q_out*r_out*np.log(1/rho))*( (r**2/r_root**2 - 1 + 2*rho**2*np.log(r_root/r))/(rho**2 - 1+2*rho**2*np.log(1/rho)) ) + q_out*r_out*np.log(r/r_root)\n",
    "    \n",
    "    h_radial = np.zeros(len(r)) \n",
    "    wc_radial = np.zeros(len(r))\n",
    "    \n",
    "    if np.amin(MFP_nostress)>0: # no stress\n",
    "        q_r_act[k] = q_root        \n",
    "        for i in range(len(r)):\n",
    "            h_radial[i] = h(MFP_nostress[i],soil)\n",
    "            wc_radial[i] = water_content(h_radial[i],soil)\n",
    "    else:               # stress\n",
    "        for i in range(len(r)):      \n",
    "            if MFP_stress[i]<0:\n",
    "                print(\"warning (stress)\")\n",
    "                h_radial[i] = -15000\n",
    "            else:                    \n",
    "                h_radial[i] = h(MFP_stress[i],soil)                \n",
    "            wc_radial[i] = water_content(h_radial[i],soil)   \n",
    "        \n",
    "        q_r_act[k] = q_root  # TODO ?\n",
    "    \n",
    "    # plots\n",
    "    V = 2*pi*np.trapz(wc_radial*r,x=r)\n",
    "    Vi = (r_out**2-r_root**2)*pi*water_content(-100,soil)\n",
    "    simtime=(Vi - V)/(2*r_root*pi*q_root)\n",
    "    plt.plot(r,h_radial,label=\"{:.1f} days\".format(simtime))\n",
    "\n",
    "plt.legend()\n",
    "plt.show()"
   ]
  },
  {
   "cell_type": "code",
   "execution_count": null,
   "metadata": {
    "collapsed": true
   },
   "outputs": [],
   "source": []
  },
  {
   "cell_type": "code",
   "execution_count": null,
   "metadata": {
    "collapsed": true
   },
   "outputs": [],
   "source": []
  }
 ],
 "metadata": {
  "kernelspec": {
   "display_name": "Python 3",
   "language": "python",
   "name": "python3"
  },
  "language_info": {
   "codemirror_mode": {
    "name": "ipython",
    "version": 3
   },
   "file_extension": ".py",
   "mimetype": "text/x-python",
   "name": "python",
   "nbconvert_exporter": "python",
   "pygments_lexer": "ipython3",
   "version": "3.6.3"
  },
  "latex_envs": {
   "LaTeX_envs_menu_present": true,
   "autoclose": false,
   "autocomplete": true,
   "bibliofile": "biblio.bib",
   "cite_by": "apalike",
   "current_citInitial": 1,
   "eqLabelWithNumbers": true,
   "eqNumInitial": 1,
   "hotkeys": {
    "equation": "Ctrl-E",
    "itemize": "Ctrl-I"
   },
   "labels_anchors": false,
   "latex_user_defs": false,
   "report_style_numbering": false,
   "user_envs_cfg": false
  }
 },
 "nbformat": 4,
 "nbformat_minor": 2
}
