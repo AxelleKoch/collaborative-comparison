{
 "cells": [
  {
   "cell_type": "markdown",
   "metadata": {},
   "source": [
    "# Water flow in soil - Numerical solutions in DuMu${}^x$\n",
    "\n",
    "_by Daniel Leitner, Timo Koch, Andrea Schnepf_"
   ]
  },
  {
   "cell_type": "markdown",
   "metadata": {},
   "source": [
    "In the following we will give some hints how to solve Benchmarks 1-4, using [DuMu${}^x$](www.dumux.org). The source code of the following 1D benchmarking examples is available on [Github](https://github.com/Plant-Root-Soil-Interactions-Modelling/dumux-rosi.git), in the folder dumux-rosi/rosi_benchmarking/richards1d/.\n",
    "\n",
    "## Theory\n",
    "\n",
    "We base our Dumux implementation on the [Richards Problem](http://www.dumux.uni-stuttgart.de/doxygen-stable/html-2.12/a01911.php) which states the Richards equation in the following form:\n",
    "\\begin{eqnarray} \n",
    "\\frac{\\partial}{\\partial t} \\left( \\phi S \\rho \\right) - \\frac{\\partial}{\\partial z}  \\left[\\rho \\frac{\\kappa}{\\mu} K_s \\left(\\frac{\\partial \\psi}{\\partial z} - \\rho g \\right) \\right] = 0,\n",
    "\\end{eqnarray}\n",
    "where $\\rho$ is the fluid density, $S$ is the fluid saturation, $\\phi$ is the porosity, $\\kappa$ is the relative permeability, $\\mu$ the dynamic viscosity, $K_s$ the intrinsic permeability, $\\psi$ the fluid pressure and $g$ the gravitational acceleration. The quantities $S$ and $\\psi$ are related by the water retention curve, i.e. $S=f^{-1}(\\psi_{ref}-\\psi) $\n",
    "\n",
    "Introducing the hydraulic conductivity $K_c = K \\ \\rho \\ g / \\mu$, with $K = \\kappa \\ K_s$, and the water content $\\theta = \\phi \\ S$ the equation takes the form \n",
    "\\begin{eqnarray} \n",
    "\\frac{\\partial}{\\partial t} \\left( \\rho \\theta \\right) = \\frac{\\partial}{\\partial z}  \\left[ K_c \\frac{1}{g} \\left(\\frac{\\partial \\psi}{\\partial z} - \\rho g \\right) \\right].\n",
    "\\end{eqnarray}\n",
    "\n",
    "Using the pressure head $h = (\\psi-\\psi_{ref})/(\\rho \\ g)$ leads to\n",
    "\\begin{eqnarray} \n",
    "\\frac{\\partial}{\\partial t} \\left( \\rho \\theta \\right) = \\frac{\\partial}{\\partial z}  \\left[ \\rho K_c \\left(\\frac{\\partial h}{\\partial z} - 1 \\right) \\right],\n",
    "\\end{eqnarray}\n",
    "and dividing the equation by $\\rho$ leads to the Richards equation, as presented in [Water flow in soil](Soil water flow.ipynb) (the fluid density $\\rho$ must be constant in space and time). \n",
    "\n",
    "## Implementation\n",
    "\n",
    "For implementation of the Benchmarks 1-4, we have to convert the parameters, overwrite the problem class defining initial conditions and boundary conditions, and manage the parameters using an input file. \n",
    "\n",
    "\n",
    "TODO description of relevant C++ code pieces "
   ]
  },
  {
   "cell_type": "markdown",
   "metadata": {},
   "source": [
    "## 1D"
   ]
  },
  {
   "cell_type": "markdown",
   "metadata": {},
   "source": [
    "First the path must be set to the build-cmake/ folder, if we want to run Dumux from the Jupyter notebook. "
   ]
  },
  {
   "cell_type": "code",
   "execution_count": 1,
   "metadata": {
    "collapsed": true
   },
   "outputs": [],
   "source": [
    "path = \"/home/daniel/workspace/DUMUX/dumux-rosi/build-cmake/rosi_benchmarking/richards1d/\" "
   ]
  },
  {
   "cell_type": "markdown",
   "metadata": {},
   "source": [
    "For producing the 1D geometries used in Benchmarks 1-4, we use the following function, where _N_ is the resolution, _depth_ (m) is the soil profile length, _top_ and _bot_ define the initial soil potential with a linear slope in cm pressure head, and _domainId_ is the index used if the soil profile consists of layers with different soil types. "
   ]
  },
  {
   "cell_type": "code",
   "execution_count": 2,
   "metadata": {
    "collapsed": true
   },
   "outputs": [],
   "source": [
    "import numpy as np\n",
    "\n",
    "def createDGF_1D(filename, N, depth, top, bot, domainId):\n",
    "    z_ = np.linspace(0,-depth,N)\n",
    "    initial = np.linspace(top,bot,N) # per node\n",
    "    initialC = np.linspace(top,bot,N-1) # per cell    \n",
    "    id = range(0,N)               \n",
    "        \n",
    "    file = open(filename,\"w\")     \n",
    "    file.write(\"DGF\\nVertex\\n\")\n",
    "    file.write('parameters 2\\n') # initial data, domain index \n",
    "    for i in range(0,N):\n",
    "        file.write('{:g} {:g} {:g}\\n'.format(z_[i], initial[i], domainId[i]))\n",
    "             \n",
    "    file.write('#\\nSimplex\\n') \n",
    "    file.write('parameters 2\\n') # initial data, domain index \n",
    "    for i in range(0,N-1):\n",
    "        file.write('{:g} {:g} {:g} {:g}\\n'.format(id[i], id[i+1], initialC[i], domainId[i]));\n",
    "                   \n",
    "    file.write('#\\nBOUNDARYSEGMENTS\\n') # not used... \n",
    "    file.write('2 0\\n')            \n",
    "    file.write('3 {:g}\\n'.format(N-1)) # vertex id, index starts with 0\n",
    "    file.write('#\\nBOUNDARYDOMAIN\\ndefault 1\\n#\\n')\n",
    "    file.close() "
   ]
  },
  {
   "cell_type": "markdown",
   "metadata": {},
   "source": [
    "For analysing the results we must read the DuMu${}^x$ VTP output. VTK for Pyhton is needed, to execute the follwoing code:"
   ]
  },
  {
   "cell_type": "code",
   "execution_count": 3,
   "metadata": {
    "collapsed": true
   },
   "outputs": [],
   "source": [
    "import vtk\n",
    "\n",
    "def read_polydata(name):\n",
    "    reader = vtk.vtkXMLPolyDataReader()\n",
    "    reader.SetFileName(name)\n",
    "    reader.Update()   \n",
    "    polydata = reader.GetOutput() \n",
    "    return polydata\n",
    "\n",
    "def read1D_vtp_data(name, cell = True):\n",
    "    polydata = read_polydata(name)     \n",
    "    if cell: \n",
    "        data = polydata.GetCellData()\n",
    "    else:\n",
    "        data = polydata.GetPointData()        \n",
    "    nocd = data.GetNumberOfArrays()\n",
    "    p = data.GetArray(2) # pressure   \n",
    "    noa = p.GetNumberOfTuples()    \n",
    "    p_ = np.ones(noa,)\n",
    "    for i in range(0,noa):    \n",
    "        d = p.GetTuple(i)\n",
    "        p_[i] = d[0]            \n",
    "    return p_"
   ]
  },
  {
   "cell_type": "markdown",
   "metadata": {},
   "source": [
    "and auxiliary functions for later conversions:"
   ]
  },
  {
   "cell_type": "code",
   "execution_count": 4,
   "metadata": {
    "collapsed": true
   },
   "outputs": [],
   "source": [
    "g = 9.81 # gravitational acceleration (m/s^2)   \n",
    "rho = 1.e3 # density of water, (kg/m^3)      \n",
    "ref = 1.e5 # reference pressure (kg/ (m s^2))\n",
    "\n",
    "def toHead(pa): # Pascal (kg/ (m s^2)) to cm pressure head\n",
    "    return (pa-ref) * 100 / rho / g\n",
    "\n",
    "# class containing the van genuchten parameters\n",
    "class Parameters:\n",
    "    def __init__(self, R, S, alpha, n, Ksat):\n",
    "        self.theta_R = R\n",
    "        self.theta_S = S        \n",
    "        self.alpha = alpha # [1/cm]         \n",
    "        self.n = n\n",
    "        self.m = 1.-1./n\n",
    "        self.Ksat = Ksat       \n",
    "\n",
    "# returns the volumetric water content at a given pressure head  according to the van genuchten model (Eqn 21)\n",
    "def water_content(h, sp):\n",
    "    return sp.theta_R + (sp.theta_S-sp.theta_R)/pow(1. + pow(sp.alpha*abs(h),sp.n),sp.m)\n",
    "\n",
    "sand = Parameters(0.045, 0.43, 0.15, 3, 1000) \n",
    "loam = Parameters(0.08, 0.43, 0.04, 1.6, 50)\n",
    "clay = Parameters(0.1, 0.4, 0.01, 1.1, 10)"
   ]
  },
  {
   "cell_type": "markdown",
   "metadata": {},
   "source": [
    "### Benchmark 1"
   ]
  },
  {
   "cell_type": "markdown",
   "metadata": {
    "collapsed": true
   },
   "source": [
    "First we create a suitable geometry by writing a DGF (Dune Grid file) using the function defined above"
   ]
  },
  {
   "cell_type": "code",
   "execution_count": 5,
   "metadata": {
    "collapsed": true
   },
   "outputs": [],
   "source": [
    "domain_b1 = np.hstack((np.ones(50,), 2*np.ones(151,)))\n",
    "createDGF_1D(path+\"grids/b1.dgf\",201,2.,-200,-200.,domain_b1)"
   ]
  },
  {
   "cell_type": "markdown",
   "metadata": {},
   "source": [
    "The input file must contain the the types boundary conditons used in the Benchmark 1"
   ]
  },
  {
   "cell_type": "markdown",
   "metadata": {},
   "source": [
    "```\n",
    "[BC_Top]\n",
    "Type = 2 # constant flux\n",
    "Value = 0.5 # [cm day-1]\n",
    "\n",
    "[BC_Bot]\n",
    "Type = 5 # free drainage\n",
    "```"
   ]
  },
  {
   "cell_type": "markdown",
   "metadata": {},
   "source": [
    " and the Van Genuchten parameters, that are different for the three scenarios, e.g. loam over sand is given by:"
   ]
  },
  {
   "cell_type": "markdown",
   "metadata": {},
   "source": [
    "```\n",
    "[VanGenuchten]  \n",
    "Qr = 0.08  0.045\t\n",
    "Qs = 0.43 0.43\n",
    "alpha = 0.04  0.15 # [1/cm] \n",
    "n = 1.6  3\n",
    "Ks = 5.7870e-06 1.1574e-04 # [m/s] \t\n",
    "```"
   ]
  },
  {
   "cell_type": "markdown",
   "metadata": {},
   "source": [
    "To simulate the three scenarios we run our Richards 1D code with the corresponding input files (you need to insert the right path in line 2 first)"
   ]
  },
  {
   "cell_type": "code",
   "execution_count": 6,
   "metadata": {
    "collapsed": true
   },
   "outputs": [],
   "source": [
    "import os\n",
    "wd = os.getcwd()\n",
    "os.chdir(path)\n",
    "os.system( \"./richards1d input/b1a.input\")\n",
    "os.system( \"./richards1d input/b1b.input\")\n",
    "os.system( \"./richards1d input/b1c.input\")\n",
    "os.chdir(wd)"
   ]
  },
  {
   "cell_type": "code",
   "execution_count": null,
   "metadata": {
    "collapsed": true,
    "scrolled": false
   },
   "outputs": [],
   "source": [
    "import matplotlib.pyplot as plt\n",
    "fig, (ax1, ax2, ax3) = plt.subplots(1, 3, figsize=(14, 7)) \n",
    "pa_ = read1D_vtp_data(path+\"benchmark1a-00001.vtp\", False)\n",
    "pb_ = read1D_vtp_data(path+\"benchmark1b-00001.vtp\", False)\n",
    "pc_ = read1D_vtp_data(path+\"benchmark1c-00001.vtp\", False)\n",
    "z_ = np.linspace(0,-200,len(pa_))\n",
    "ax1.plot(toHead(pa_),z_, \"r+\")\n",
    "ax2.plot(toHead(pb_),z_, \"r+\")\n",
    "ax3.plot(toHead(pc_),z_, \"r+\")\n",
    "ax1.set_xlabel('$\\psi$ (cm)')\n",
    "ax1.set_ylabel('Depth (cm)')\n",
    "ax1. set_xlim(-50,-10)\n",
    "ax1.set_ylim(-100,0)\n",
    "ax2.set_xlabel('$\\psi$ (cm)')\n",
    "ax2.set_xlim(-50,-10)\n",
    "ax2.set_ylim(-60,-40)\n",
    "ax3.set_xlabel('$\\psi$ (cm)')\n",
    "ax3.set_xlim(-28,-8)\n",
    "ax3.set_ylim(-100,0)\n",
    "# for automatic evalutation\n",
    "np.savetxt(\"soil_water_flow/b1/dumux1\", np.vstack((z_,toHead(pa_))),delimiter=',')\n",
    "np.savetxt(\"soil_water_flow/b1/dumux2\", np.vstack((z_,toHead(pb_))),delimiter=',')\n",
    "np.savetxt(\"soil_water_flow/b1/dumux3\", np.vstack((z_,toHead(pc_))),delimiter=',')\n",
    "plt.show()"
   ]
  },
  {
   "cell_type": "markdown",
   "metadata": {},
   "source": [
    "looks nice!\n",
    "\n",
    "TODO we want to create an extra jupyter notebook to compare to the analytic solution"
   ]
  },
  {
   "cell_type": "markdown",
   "metadata": {},
   "source": [
    "### Benchmark 2"
   ]
  },
  {
   "cell_type": "markdown",
   "metadata": {},
   "source": [
    "We first crate the geometry with initial data linearly decreasing from 0 cm to -54 cm soil matric potential. "
   ]
  },
  {
   "cell_type": "code",
   "execution_count": 8,
   "metadata": {
    "collapsed": true
   },
   "outputs": [],
   "source": [
    "createDGF_1D(path+\"grids/b2.dgf\",55,.54,-0,-54,np.ones(55,))"
   ]
  },
  {
   "cell_type": "markdown",
   "metadata": {},
   "source": [
    "and choose the right boundary conditions, and Van Genuchten parameters in the input file"
   ]
  },
  {
   "cell_type": "markdown",
   "metadata": {},
   "source": [
    "```\n",
    "[VanGenuchten] \n",
    "# Loam: \n",
    "Qr = 0.08 \n",
    "Qs = 0.43 \n",
    "alpha = 0.04  # [1/cm] \n",
    "n = 1.6 \n",
    "Ks = 5.7870e-06 # [m/s] hydrus verdoppelt\n",
    "\n",
    "[BC_Top]\n",
    "Type = 2 # constant flux\n",
    "Value = -0.5 # [cm day-1]\n",
    "\n",
    "[BC_Bot]\n",
    "Type = 1 # constant pressure head\n",
    "Value = 0 # [cm] fully saturated\n",
    "```"
   ]
  },
  {
   "cell_type": "markdown",
   "metadata": {},
   "source": [
    "Finally, we can simulate Benchmark 2, "
   ]
  },
  {
   "cell_type": "code",
   "execution_count": 9,
   "metadata": {
    "collapsed": true
   },
   "outputs": [],
   "source": [
    "wd = os.getcwd()\n",
    "os.chdir(path)\n",
    "os.system( \"./richards1d input/b2.input\")\n",
    "os.chdir(wd)"
   ]
  },
  {
   "cell_type": "markdown",
   "metadata": {},
   "source": [
    "and visualize the results: "
   ]
  },
  {
   "cell_type": "code",
   "execution_count": 10,
   "metadata": {},
   "outputs": [
    {
     "data": {
      "image/png": "[encoded data removed]",
      "text/plain": [
       "<matplotlib.figure.Figure at 0x7f970ccc3710>"
      ]
     },
     "metadata": {},
     "output_type": "display_data"
    }
   ],
   "source": [
    "fig=plt.figure(figsize=(7, 7))\n",
    "p_ = read1D_vtp_data(path+\"benchmark2-00001.vtp\", False)\n",
    "z_ = np.linspace(0,-54,len(p_))\n",
    "plt.plot(toHead(p_),z_, \"r+\") \n",
    "plt.xlabel('$\\psi$ (cm)');\n",
    "plt.ylabel('Depth (cm)');\n",
    "plt.xlim(-300,0)\n",
    "plt.ylim(-60,0)\n",
    "np.savetxt(\"soil_water_flow/b2/dumux\", np.vstack((z_,toHead(p_))),delimiter=',')\n",
    "plt.show()"
   ]
  },
  {
   "cell_type": "markdown",
   "metadata": {},
   "source": [
    "### Benchmark 3"
   ]
  },
  {
   "cell_type": "markdown",
   "metadata": {},
   "source": [
    "The three scenarios of Benchmark 3 have all the same geometry (2 m soil profile, -400 cm intial matric potential)"
   ]
  },
  {
   "cell_type": "code",
   "execution_count": 11,
   "metadata": {
    "collapsed": true
   },
   "outputs": [],
   "source": [
    "createDGF_1D(path+\"grids/b3.dgf\",201,2.,-400,-400.,np.ones(201,))"
   ]
  },
  {
   "cell_type": "markdown",
   "metadata": {},
   "source": [
    "Simulate Benchmark 3 "
   ]
  },
  {
   "cell_type": "code",
   "execution_count": 12,
   "metadata": {
    "collapsed": true
   },
   "outputs": [],
   "source": [
    "os.chdir(path)\n",
    "os.system( \"./richards1d input/b3a.input\")\n",
    "os.system( \"./richards1d input/b3b.input\")\n",
    "os.system( \"./richards1d input/b3c.input\")\n",
    "os.chdir(wd)"
   ]
  },
  {
   "cell_type": "markdown",
   "metadata": {},
   "source": [
    "Open results and prepare plot "
   ]
  },
  {
   "cell_type": "code",
   "execution_count": 20,
   "metadata": {},
   "outputs": [
    {
     "ename": "AttributeError",
     "evalue": "'NoneType' object has no attribute 'GetNumberOfTuples'",
     "output_type": "error",
     "traceback": [
      "\u001b[0;31m---------------------------------------------------------------------------\u001b[0m",
      "\u001b[0;31mAttributeError\u001b[0m                            Traceback (most recent call last)",
      "\u001b[0;32m<ipython-input-20-46c46442d879>\u001b[0m in \u001b[0;36m<module>\u001b[0;34m()\u001b[0m\n\u001b[1;32m     31\u001b[0m \u001b[0;31m# Figure 4c\u001b[0m\u001b[0;34m\u001b[0m\u001b[0;34m\u001b[0m\u001b[0m\n\u001b[1;32m     32\u001b[0m \u001b[0;32mfor\u001b[0m \u001b[0mi\u001b[0m \u001b[0;32min\u001b[0m \u001b[0mrange\u001b[0m\u001b[0;34m(\u001b[0m\u001b[0;36m0\u001b[0m\u001b[0;34m,\u001b[0m\u001b[0;36m3\u001b[0m\u001b[0;34m)\u001b[0m\u001b[0;34m:\u001b[0m\u001b[0;34m\u001b[0m\u001b[0m\n\u001b[0;32m---> 33\u001b[0;31m     \u001b[0mp_\u001b[0m \u001b[0;34m=\u001b[0m \u001b[0mread1D_vtp_data\u001b[0m\u001b[0;34m(\u001b[0m\u001b[0mpath\u001b[0m\u001b[0;34m+\u001b[0m\u001b[0;34m\"benchmark3c-0000\"\u001b[0m\u001b[0;34m+\u001b[0m\u001b[0mstr\u001b[0m\u001b[0;34m(\u001b[0m\u001b[0mi\u001b[0m\u001b[0;34m+\u001b[0m\u001b[0;36m1\u001b[0m\u001b[0;34m)\u001b[0m\u001b[0;34m+\u001b[0m\u001b[0;34m\".vtp\"\u001b[0m\u001b[0;34m,\u001b[0m \u001b[0;32mFalse\u001b[0m\u001b[0;34m)\u001b[0m\u001b[0;34m\u001b[0m\u001b[0m\n\u001b[0m\u001b[1;32m     34\u001b[0m     \u001b[0mh_\u001b[0m \u001b[0;34m=\u001b[0m \u001b[0mtoHead\u001b[0m\u001b[0;34m(\u001b[0m\u001b[0mp_\u001b[0m\u001b[0;34m)\u001b[0m\u001b[0;34m\u001b[0m\u001b[0m\n\u001b[1;32m     35\u001b[0m     \u001b[0mtheta_\u001b[0m\u001b[0;34m[\u001b[0m\u001b[0mi\u001b[0m\u001b[0;34m]\u001b[0m \u001b[0;34m=\u001b[0m \u001b[0mwater_content\u001b[0m\u001b[0;34m(\u001b[0m\u001b[0mh_\u001b[0m\u001b[0;34m,\u001b[0m \u001b[0mclay\u001b[0m\u001b[0;34m)\u001b[0m\u001b[0;34m\u001b[0m\u001b[0m\n",
      "\u001b[0;32m<ipython-input-3-d75029cdc12b>\u001b[0m in \u001b[0;36mread1D_vtp_data\u001b[0;34m(name, cell)\u001b[0m\n\u001b[1;32m     16\u001b[0m     \u001b[0mnocd\u001b[0m \u001b[0;34m=\u001b[0m \u001b[0mdata\u001b[0m\u001b[0;34m.\u001b[0m\u001b[0mGetNumberOfArrays\u001b[0m\u001b[0;34m(\u001b[0m\u001b[0;34m)\u001b[0m\u001b[0;34m\u001b[0m\u001b[0m\n\u001b[1;32m     17\u001b[0m     \u001b[0mp\u001b[0m \u001b[0;34m=\u001b[0m \u001b[0mdata\u001b[0m\u001b[0;34m.\u001b[0m\u001b[0mGetArray\u001b[0m\u001b[0;34m(\u001b[0m\u001b[0;36m2\u001b[0m\u001b[0;34m)\u001b[0m \u001b[0;31m# pressure\u001b[0m\u001b[0;34m\u001b[0m\u001b[0m\n\u001b[0;32m---> 18\u001b[0;31m     \u001b[0mnoa\u001b[0m \u001b[0;34m=\u001b[0m \u001b[0mp\u001b[0m\u001b[0;34m.\u001b[0m\u001b[0mGetNumberOfTuples\u001b[0m\u001b[0;34m(\u001b[0m\u001b[0;34m)\u001b[0m\u001b[0;34m\u001b[0m\u001b[0m\n\u001b[0m\u001b[1;32m     19\u001b[0m     \u001b[0mp_\u001b[0m \u001b[0;34m=\u001b[0m \u001b[0mnp\u001b[0m\u001b[0;34m.\u001b[0m\u001b[0mones\u001b[0m\u001b[0;34m(\u001b[0m\u001b[0mnoa\u001b[0m\u001b[0;34m,\u001b[0m\u001b[0;34m)\u001b[0m\u001b[0;34m\u001b[0m\u001b[0m\n\u001b[1;32m     20\u001b[0m     \u001b[0;32mfor\u001b[0m \u001b[0mi\u001b[0m \u001b[0;32min\u001b[0m \u001b[0mrange\u001b[0m\u001b[0;34m(\u001b[0m\u001b[0;36m0\u001b[0m\u001b[0;34m,\u001b[0m\u001b[0mnoa\u001b[0m\u001b[0;34m)\u001b[0m\u001b[0;34m:\u001b[0m\u001b[0;34m\u001b[0m\u001b[0m\n",
      "\u001b[0;31mAttributeError\u001b[0m: 'NoneType' object has no attribute 'GetNumberOfTuples'"
     ]
    },
    {
     "data": {
      "image/png": "[encoded data removed]",
      "text/plain": [
       "<matplotlib.figure.Figure at 0x7f9701288a90>"
      ]
     },
     "metadata": {},
     "output_type": "display_data"
    }
   ],
   "source": [
    "os.chdir(\"/home/daniel/Dokumente/Jupyter/Benchmarking\")\n",
    "fig, (ax1, ax2, ax3) = plt.subplots(1, 3, figsize=(14, 7))\n",
    "ax = [ax1,ax2,ax3]\n",
    "for a in ax:\n",
    "    a.set_xlabel(r'$\\theta$')\n",
    "    a.set_xlim(0,0.5)\n",
    "\n",
    "ax1.set_ylabel('Depth (cm)')\n",
    "ax1.set_ylim(-150,0)\n",
    "ax2.set_ylim(-200,0)\n",
    "ax3.set_ylim(-120,0)\n",
    "\n",
    "z_ = np.linspace(0,-200,201)\n",
    "theta_ = [[] for i in range(3)] \n",
    "# Figure 4a\n",
    "for i in range(0,3):\n",
    "    p_ = read1D_vtp_data(path+\"benchmark3a-0000\"+str(i+1)+\".vtp\", False)\n",
    "    h_ = toHead(p_) \n",
    "    theta_[i] = water_content(h_, sand)\n",
    "    ax1.plot(theta_[i],z_, \"r+\")   \n",
    "np.savetxt(\"soil_water_flow/b3/dumux1\", np.vstack((z_,theta_[0],theta_[1],theta_[2])),delimiter=',')\n",
    "\n",
    "# Figure 4b\n",
    "for i in range(0,3):\n",
    "    p_ = read1D_vtp_data(path+\"benchmark3b-0000\"+str(i+1)+\".vtp\", False)\n",
    "    h_ = toHead(p_) \n",
    "    theta_[i] = water_content(h_, loam)\n",
    "    ax2.plot(theta_[i],z_, \"r+\")\n",
    "np.savetxt(\"soil_water_flow/b3/dumux2\", np.vstack((z_,theta_[0],theta_[1],theta_[2])),delimiter=',')\n",
    "    \n",
    "# Figure 4c\n",
    "for i in range(0,3):\n",
    "    p_ = read1D_vtp_data(path+\"benchmark3c-0000\"+str(i+1)+\".vtp\", False)\n",
    "    h_ = toHead(p_) \n",
    "    theta_[i] = water_content(h_, clay)\n",
    "    ax3.plot(theta_[i],z_, \"r+\")\n",
    "np.savetxt(\"soil_water_flow/b3/dumux3\", np.vstack((z_,theta_[0],theta_[1],theta_[2])),delimiter=',')\n",
    "    \n",
    "plt.show()"
   ]
  },
  {
   "cell_type": "markdown",
   "metadata": {},
   "source": []
  },
  {
   "cell_type": "markdown",
   "metadata": {
    "collapsed": true
   },
   "source": [
    "### Benchmark 4"
   ]
  },
  {
   "cell_type": "markdown",
   "metadata": {},
   "source": [
    "The four scenarios of Benchmark 4 have all the same geometry (2 m soil profile), but different initial matric potential (-40 cm sand, -200 for the others), and two resolutions (1 cm, and 0.25 cm)"
   ]
  },
  {
   "cell_type": "code",
   "execution_count": 21,
   "metadata": {
    "collapsed": true
   },
   "outputs": [],
   "source": [
    "    # Benchmark 4, for Figure 5abcd\n",
    "    createDGF_1D(path+\"/grids/b4.dgf\",201,2.,-200,-200.,np.ones(201,))\n",
    "    createDGF_1D(path+\"/grids/b4sand.dgf\",201,2.,-40,-40.,np.ones(201,))\n",
    "    # Benchmark 4, for Figure 5abcd\n",
    "    createDGF_1D(path+\"/grids/b4hr.dgf\",801,2.,-200,-200.,np.ones(801,))\n",
    "    createDGF_1D(path+\"/grids/b4hr_sand.dgf\",801,2.,-40,-40.,np.ones(801,))"
   ]
  },
  {
   "cell_type": "markdown",
   "metadata": {
    "collapsed": true
   },
   "source": [
    "Simulate Benchmark 4 (run 8 simulations): "
   ]
  },
  {
   "cell_type": "code",
   "execution_count": 22,
   "metadata": {},
   "outputs": [
    {
     "data": {
      "text/plain": [
       "768"
      ]
     },
     "execution_count": 22,
     "metadata": {},
     "output_type": "execute_result"
    }
   ],
   "source": [
    "# run dumux \n",
    "os.chdir(path)\n",
    "os.system(\"./richards1d input/b4a_hr.input\")\n",
    "os.system(\"./richards1d input/b4b_hr.input\")\n",
    "os.system(\"./richards1d input/b4c_hr.input\")\n",
    "os.system(\"./richards1d input/b4d_hr.input\")\n",
    "os.system(\"./richards1d input/b4a.input\")\n",
    "os.system(\"./richards1d input/b4b.input\")\n",
    "os.system(\"./richards1d input/b4c.input\")\n",
    "os.system(\"./richards1d input/b4d.input\")"
   ]
  },
  {
   "cell_type": "markdown",
   "metadata": {},
   "source": [
    "The evaporation over time is written in a text file, we can open this file and plot the results"
   ]
  },
  {
   "cell_type": "code",
   "execution_count": null,
   "metadata": {
    "collapsed": true
   },
   "outputs": [],
   "source": [
    "os.chdir(path)\n",
    "num = ['a','b','c','d', 'ahr','bhr','chr','dhr']\n",
    "t = []\n",
    "y = []\n",
    "\n",
    "for n in num: \n",
    "    with open(\"benchmark4\"+n+\".txt\",'r') as f: \n",
    "        d = np.loadtxt(f, delimiter=',')\n",
    "    t_ = d[:,0]/(24*3600)\n",
    "    f_ = d[:,1]*(24*3600)/1000*100; # from kg/(s m²) to cm/day\n",
    "    t.append(t_)\n",
    "    y.append(f_)\n",
    "\n",
    "# prepare plot    \n",
    "fig, ((ax1, ax2), (ax3, ax4)) = plt.subplots(2, 2, figsize=(14, 14))\n",
    "axis = [ax1, ax2, ax3, ax4, ax1, ax2, ax3, ax4]\n",
    "lt = [\"r:\",\"r:\",\"r:\",\"r:\",\"r--\",\"r--\",\"r--\",\"r--\"]\n",
    "for i,a in enumerate(axis):\n",
    "        a.plot(t[i],y[i],lt[i])\n",
    "    \n",
    "ax1.set_ylabel('$E_{act}$ (cm day$^{-1}$)')\n",
    "ax1.set_xlim(0,1)\n",
    "ax1.set_title(\"Sand\")\n",
    "ax2.set_xlim(0,10)\n",
    "ax2.set_title(\"Loam\")\n",
    "ax3.set_xlabel('$t$ (days)')\n",
    "ax3.set_ylabel('$E_{act}$ (cm day$^{-1}$)')\n",
    "ax3.set_xlim(0,2)\n",
    "ax3.set_title(\"Loam\")\n",
    "ax4.set_xlabel('$t$ (days)')\n",
    "ax4.set_xlim(0,6)\n",
    "ax4.set_title(\"Clay\")  \n",
    "        \n",
    "plt.show()"
   ]
  },
  {
   "cell_type": "code",
   "execution_count": null,
   "metadata": {
    "collapsed": true
   },
   "outputs": [],
   "source": []
  },
  {
   "cell_type": "code",
   "execution_count": null,
   "metadata": {
    "collapsed": true
   },
   "outputs": [],
   "source": []
  },
  {
   "cell_type": "code",
   "execution_count": null,
   "metadata": {
    "collapsed": true
   },
   "outputs": [],
   "source": []
  }
 ],
 "metadata": {
  "kernelspec": {
   "display_name": "Python 3",
   "language": "python",
   "name": "python3"
  },
  "language_info": {
   "codemirror_mode": {
    "name": "ipython",
    "version": 3
   },
   "file_extension": ".py",
   "mimetype": "text/x-python",
   "name": "python",
   "nbconvert_exporter": "python",
   "pygments_lexer": "ipython3",
   "version": "3.6.3"
  },
  "latex_envs": {
   "LaTeX_envs_menu_present": true,
   "autoclose": false,
   "autocomplete": true,
   "bibliofile": "biblio.bib",
   "cite_by": "apalike",
   "current_citInitial": 1,
   "eqLabelWithNumbers": true,
   "eqNumInitial": 1,
   "hotkeys": {
    "equation": "Ctrl-E",
    "itemize": "Ctrl-I"
   },
   "labels_anchors": false,
   "latex_user_defs": false,
   "report_style_numbering": false,
   "user_envs_cfg": false
  }
 },
 "nbformat": 4,
 "nbformat_minor": 2
}
