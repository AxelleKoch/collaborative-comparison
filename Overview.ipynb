{
 "cells": [
  {
   "cell_type": "code",
   "execution_count": null,
   "metadata": {
    "code_folding": [],
    "slideshow": {
     "slide_type": "skip"
    }
   },
   "outputs": [],
   "source": [
    "%%javascript\n",
    "MathJax.Hub.Config({\n",
    "  TeX: { equationNumbers: { autoNumber: \"AMS\" } }\n",
    "});\n",
    ";"
   ]
  },
  {
   "cell_type": "code",
   "execution_count": 2,
   "metadata": {},
   "outputs": [
    {
     "data": {
      "application/javascript": [
       "$.getScript('https://kmahelona.github.io/ipython_notebook_goodies/ipython_notebook_toc.js')"
      ],
      "text/plain": [
       "<IPython.core.display.Javascript object>"
      ]
     },
     "metadata": {},
     "output_type": "display_data"
    }
   ],
   "source": [
    "%%javascript\n",
    "$.getScript('https://kmahelona.github.io/ipython_notebook_goodies/ipython_notebook_toc.js')"
   ]
  },
  {
   "cell_type": "markdown",
   "metadata": {},
   "source": [
    "<h1 id=\"tocheading\">Table of Contents</h1>\n",
    "<div id=\"toc\"></div>"
   ]
  },
  {
   "cell_type": "markdown",
   "metadata": {},
   "source": [
    "# Comparison of root architecture and water uptake models 17 May 2018. Workshop Root architecture and water uptake, 17 May 2018 at Forschungszentrum Jülich\n",
    "\n",
    "Convenors: Andrea Schnepf, Guillaume Lobet, Mathieu Javaux\n",
    "\n",
    "Authors: Andrea Schnepf, Daniel Leitner\n",
    "\n",
    "Three–dimensional models of root growth, architecture and function are currently evolving as they are becoming important tools that aid in the design of agricultural management schemes and in the selection of root traits for improving plant performance in specific environments. However, while benchmarking is generally common for water and solute transport models in soil, 3D root-soil interaction models have never been systematically analysed. Several interacting processes might induce discrepancy between models: (1) root growth, (2) sink term definitions of root water and solute uptake, (3) representation of the rhizosphere. The extent of potential inaccuracies is currently unknown.\n",
    "\n",
    "We propose to define a common framework for quantitatively comparing our model outputs on two different aspects, 3D root growth and root water uptake. The strategy of how to do the model comparisons will be the outcome of the workshop.\n",
    " ***"
   ]
  },
  {
   "cell_type": "markdown",
   "metadata": {},
   "source": [
    "## Benchmarking root architecture models\n",
    "\n",
    "* Parameterisation of RSA models (Todo Guillaume)\n",
    "* Scenarios (Todo Guillaume)\n",
    "\n",
    "* [Comparison of RSA models with ArchiDart](Benchmarking root architecture models.ipynb)"
   ]
  },
  {
   "cell_type": "markdown",
   "metadata": {},
   "source": [
    "## Benchmarking root water uptake models\n",
    "\n",
    "* [Water flow in soil (no root uptake)](Soil water flow.ipynb)\n",
    "* [Water flow in roots only (static soil conditions)](Xylem flux.ipynb)\n",
    "* [Roots in dynamic soil](Dynamic RWU)"
   ]
  },
  {
   "cell_type": "markdown",
   "metadata": {},
   "source": [
    "\n",
    "## Benchmarking root solute uptake models\n",
    "Text to explain the root solute uptake benchmarking.\n",
    "The following code is the analytical solution of the 1D radially symmetric root nutrient uptake model (Roose et al. 2001).\n",
    "\n",
    "* [Description of root solute uptake benchmarking](Roose_analytical_solution.ipynb)"
   ]
  },
  {
   "cell_type": "code",
   "execution_count": null,
   "metadata": {},
   "outputs": [],
   "source": []
  }
 ],
 "metadata": {
  "celltoolbar": "Slideshow",
  "kernelspec": {
   "display_name": "Python 3",
   "language": "python",
   "name": "python3"
  },
  "language_info": {
   "codemirror_mode": {
    "name": "ipython",
    "version": 3
   },
   "file_extension": ".py",
   "mimetype": "text/x-python",
   "name": "python",
   "nbconvert_exporter": "python",
   "pygments_lexer": "ipython3",
   "version": "3.6.4"
  },
  "latex_envs": {
   "LaTeX_envs_menu_present": true,
   "autoclose": false,
   "autocomplete": true,
   "bibliofile": "biblio.bib",
   "cite_by": "apalike",
   "current_citInitial": 1,
   "eqLabelWithNumbers": true,
   "eqNumInitial": 1,
   "hotkeys": {
    "equation": "Ctrl-E",
    "itemize": "Ctrl-I"
   },
   "labels_anchors": false,
   "latex_user_defs": false,
   "report_style_numbering": false,
   "user_envs_cfg": false
  }
 },
 "nbformat": 4,
 "nbformat_minor": 2
}
