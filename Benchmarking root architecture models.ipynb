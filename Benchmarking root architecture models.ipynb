{
 "cells": [
  {
   "cell_type": "markdown",
   "metadata": {},
   "source": [
    "# Benchmarking of root architecture models\n",
    "\n",
    "This notebook describes methods and tools available in the R package archiDART for the benchmarking of root architecture models."
   ]
  },
  {
   "cell_type": "markdown",
   "metadata": {},
   "source": [
    "Using the methods provided in archiDART, simulations produced by various root architecture models can be compared in three main ways:\n",
    "\n",
    "1. **_Qualitatively_**, using advanced plotting functions provided in the ggplot2 R package;\n",
    "\n",
    "2. **_Quantitatively_**, by computing traits at the plant or root level;\n",
    "\n",
    "3. **_Quantitatively_**, by analysing the topology of plant root systems using persistent homology.\n",
    "\n",
    "In the next sections, we will describe how each root system simulations can be compared using the approaches listed above."
   ]
  },
  {
   "cell_type": "markdown",
   "metadata": {},
   "source": [
    "## Installing archiDART\n",
    "\n",
    "Although archiDART is available on CRAN, the latest version (under development) is available on GitHub. To install archiDART from GitHub, use the following code:"
   ]
  },
  {
   "cell_type": "code",
   "execution_count": 3,
   "metadata": {},
   "outputs": [],
   "source": [
    "#library(devtools)\n",
    "#install_github(\"archidart/archidart\")"
   ]
  },
  {
   "cell_type": "markdown",
   "metadata": {},
   "source": [
    "Now, load the package in your R session."
   ]
  },
  {
   "cell_type": "code",
   "execution_count": 1,
   "metadata": {},
   "outputs": [],
   "source": [
    "library(archiDART)"
   ]
  },
  {
   "cell_type": "markdown",
   "metadata": {},
   "source": [
    "## Import RSML files into R\n",
    "\n",
    "The first step is to import all the RSML files produced by each root architecture model into R. This can be done using the `rsmlToTable`function of archiDART. In the next sections, I will suppose that all simulations of a root architecture model have been saved in one directory, and that the outputs of different models have been saved in different directories. "
   ]
  },
  {
   "cell_type": "code",
   "execution_count": null,
   "metadata": {},
   "outputs": [],
   "source": []
  }
 ],
 "metadata": {
  "kernelspec": {
   "display_name": "R",
   "language": "R",
   "name": "ir"
  },
  "language_info": {
   "codemirror_mode": "r",
   "file_extension": ".r",
   "mimetype": "text/x-r-source",
   "name": "R",
   "pygments_lexer": "r",
   "version": "3.4.3"
  }
 },
 "nbformat": 4,
 "nbformat_minor": 2
}
