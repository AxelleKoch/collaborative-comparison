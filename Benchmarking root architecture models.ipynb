{
 "cells": [
  {
   "cell_type": "markdown",
   "metadata": {},
   "source": [
    "# Benchmarking of root architecture models\n",
    "\n",
    "Author: Benjamin Delory\n",
    "\n",
    "This notebook describes methods and tools available in the R package archiDART for the benchmarking of root architecture models.\n",
    "IRkernel must be installed in order to run the code provided in this notebook."
   ]
  },
  {
   "cell_type": "markdown",
   "metadata": {},
   "source": [
    "Using the methods provided in archiDART, simulations produced by various root architecture models can be compared in three main ways:\n",
    "\n",
    "1. **_Qualitatively_**, using advanced plotting functions provided in the ggplot2 R package;\n",
    "\n",
    "2. **_Quantitatively_**, by computing traits at the plant or root level;\n",
    "\n",
    "3. **_Quantitatively_**, by analysing the topology of plant root systems using persistent homology.\n",
    "\n",
    "In the next sections, we will describe how root system simulations can be compared using the approaches listed above."
   ]
  },
  {
   "cell_type": "markdown",
   "metadata": {},
   "source": [
    "## Installing archiDART\n",
    "\n",
    "Although archiDART is available on [CRAN](https://cran.r-project.org/package=archiDART), the latest version (under development) is available on GitHub. To install archiDART from GitHub, use the following code:"
   ]
  },
  {
   "cell_type": "code",
   "execution_count": null,
   "metadata": {},
   "outputs": [],
   "source": [
    "#library(devtools)\n",
    "#install_github(\"archidart/archidart\")"
   ]
  },
  {
   "cell_type": "markdown",
   "metadata": {},
   "source": [
    "Now, load the package in your R session."
   ]
  },
  {
   "cell_type": "code",
   "execution_count": null,
   "metadata": {},
   "outputs": [],
   "source": [
    "library(archiDART)"
   ]
  },
  {
   "cell_type": "markdown",
   "metadata": {},
   "source": [
    "## Importing RSML files into R\n",
    "\n",
    "The first step is to import all the RSML files produced by each root architecture model into R. This can be done using the `rsmlToTable`function of archiDART. In the next sections, I will suppose that all simulations of a root architecture model have been saved in one directory, and that the outputs of different models have been saved in different directories.\n",
    "\n",
    "`rsmlToTable`creates a data frame (rsmlToTable object). Each line of the data frame gives the attributes of 1 segment."
   ]
  },
  {
   "cell_type": "markdown",
   "metadata": {},
   "source": [
    "**What are the paths to the folders containing the RSML files?**\n",
    "\n",
    "Do not forget: use \"/\" instead of \"\\\" in the character strings."
   ]
  },
  {
   "cell_type": "code",
   "execution_count": null,
   "metadata": {},
   "outputs": [],
   "source": [
    "path1<-\"C:/Users/benjamindelory/Documents/Some RSMLs/ArchiSimple\"\n",
    "path2<-\"C:/Users/benjamindelory/Documents/Some RSMLs/CRootBox\""
   ]
  },
  {
   "cell_type": "markdown",
   "metadata": {},
   "source": [
    "**Do you want to physically connect daughter roots to their mother?**\n",
    "\n",
    "Yes is TRUE, No is FALSE.\n",
    "In order to use the persistent homology analysis pipeline, daugther roots must be physically attached to their mother. That is a prerequisite for the computation of geodesic distances."
   ]
  },
  {
   "cell_type": "code",
   "execution_count": null,
   "metadata": {},
   "outputs": [],
   "source": [
    "connect<-TRUE"
   ]
  },
  {
   "cell_type": "markdown",
   "metadata": {},
   "source": [
    "**What unit of length should be used to express the results?**\n",
    "\n",
    "\"px\" is for pixels, \"cm\" is for centimetres, and \"mm\" is for millimetres."
   ]
  },
  {
   "cell_type": "code",
   "execution_count": null,
   "metadata": {},
   "outputs": [],
   "source": [
    "unit<-\"cm\""
   ]
  },
  {
   "cell_type": "markdown",
   "metadata": {},
   "source": [
    "**If the root system age is stored as a continuous function along the root segments, what is the name of that function?**"
   ]
  },
  {
   "cell_type": "code",
   "execution_count": null,
   "metadata": {},
   "outputs": [],
   "source": [
    "date1<-\"age\"\n",
    "date2<-\"emergence_time\""
   ]
  },
  {
   "cell_type": "markdown",
   "metadata": {},
   "source": [
    "**What is the vertical axis?**\n",
    "\n",
    "The vertical axis is the one that has the same direction as the gravity vector."
   ]
  },
  {
   "cell_type": "code",
   "execution_count": null,
   "metadata": {},
   "outputs": [],
   "source": [
    "vertical1<-\"y\"\n",
    "vertical2<-\"z\""
   ]
  },
  {
   "cell_type": "markdown",
   "metadata": {},
   "source": [
    "**Now, use `rsmlToTable` to import the RSML files into R.**"
   ]
  },
  {
   "cell_type": "code",
   "execution_count": null,
   "metadata": {},
   "outputs": [],
   "source": [
    "table1<-rsmlToTable(inputrsml=path1, unitlength=unit, rsml.connect=connect, rsml.date=date1, vertical3d=vertical1)\n",
    "table2<-rsmlToTable(inputrsml=path2, unitlength=unit, rsml.connect=connect, rsml.date=date2, vertical3d=vertical2)"
   ]
  },
  {
   "cell_type": "markdown",
   "metadata": {},
   "source": [
    "**Let's have a look at the content of a rsmlToTable object**"
   ]
  },
  {
   "cell_type": "code",
   "execution_count": null,
   "metadata": {},
   "outputs": [],
   "source": [
    "head(table1)"
   ]
  },
  {
   "cell_type": "markdown",
   "metadata": {},
   "source": [
    "## First approach: using plotting functions to qualitatively compare root systems\n",
    "\n",
    "archiDART contains several graphical tools to plot root systems. When all data are stored in a rsmlToTable object, the functions of the ggplot2 package are certainly the best option to display root systems and visually compare outputs from different root architecture models."
   ]
  },
  {
   "cell_type": "code",
   "execution_count": null,
   "metadata": {},
   "outputs": [],
   "source": []
  }
 ],
 "metadata": {
  "kernelspec": {
   "display_name": "R",
   "language": "R",
   "name": "ir"
  },
  "language_info": {
   "codemirror_mode": "r",
   "file_extension": ".r",
   "mimetype": "text/x-r-source",
   "name": "R",
   "pygments_lexer": "r",
   "version": "3.4.3"
  }
 },
 "nbformat": 4,
 "nbformat_minor": 2
}
