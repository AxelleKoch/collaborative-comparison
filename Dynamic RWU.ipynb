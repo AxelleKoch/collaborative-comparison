{
 "cells": [
  {
   "cell_type": "markdown",
   "metadata": {},
   "source": [
    "## Roots in soil \n",
    "\n",
    "### Benchmark 1: Static root system in soil coupled with a sink term \n",
    "\n",
    "There are no analytic examples, furthermore different approaches of coupling via the sink term will lead to slightly different results. We could discuss pros and cons of different approaches. \n",
    "\n",
    "Compare the results of different numerical codes for the exact same soil and root system.  \n",
    "\n",
    "In the evaluation of the most feasible sink term for a certain scenario a comparison to a full explicit 3D model would be of high interest. This is technically feasible for small root systems (e.g. using Comsol). Maybe someone could prepare an example?\n",
    "\n",
    "\n",
    "### Benchmark 2: Growing root system in soil coupled with a sink term \n",
    "\n",
    "Same points of interest like in Scenario 1. \n",
    "\n",
    "Additionally, we could focus on the analysis of dynamic effects, and the modelling of root responses (e.g. hydrotropism, or adaption of conductivities) \n"
   ]
  },
  {
   "cell_type": "code",
   "execution_count": null,
   "metadata": {
    "collapsed": true
   },
   "outputs": [],
   "source": []
  },
  {
   "cell_type": "code",
   "execution_count": null,
   "metadata": {
    "collapsed": true
   },
   "outputs": [],
   "source": []
  },
  {
   "cell_type": "code",
   "execution_count": null,
   "metadata": {
    "collapsed": true
   },
   "outputs": [],
   "source": []
  },
  {
   "cell_type": "code",
   "execution_count": null,
   "metadata": {
    "collapsed": true
   },
   "outputs": [],
   "source": []
  }
 ],
 "metadata": {
  "kernelspec": {
   "display_name": "Python 3",
   "language": "python",
   "name": "python3"
  },
  "language_info": {
   "codemirror_mode": {
    "name": "ipython",
    "version": 3
   },
   "file_extension": ".py",
   "mimetype": "text/x-python",
   "name": "python",
   "nbconvert_exporter": "python",
   "pygments_lexer": "ipython3",
   "version": "3.6.4"
  },
  "latex_envs": {
   "LaTeX_envs_menu_present": true,
   "autoclose": false,
   "autocomplete": true,
   "bibliofile": "biblio.bib",
   "cite_by": "apalike",
   "current_citInitial": 1,
   "eqLabelWithNumbers": true,
   "eqNumInitial": 1,
   "hotkeys": {
    "equation": "Ctrl-E",
    "itemize": "Ctrl-I"
   },
   "labels_anchors": false,
   "latex_user_defs": false,
   "report_style_numbering": false,
   "user_envs_cfg": false
  }
 },
 "nbformat": 4,
 "nbformat_minor": 2
}
