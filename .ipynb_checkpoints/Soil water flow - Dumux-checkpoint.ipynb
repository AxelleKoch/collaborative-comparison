{
 "cells": [
  {
   "cell_type": "markdown",
   "metadata": {},
   "source": [
    "# Water flow in soil - Numerical solutions in DuMu${}^x$\n",
    "\n",
    "_by Daniel Leitner, Timo Koch, Andrea Schnepf_"
   ]
  },
  {
   "cell_type": "markdown",
   "metadata": {},
   "source": [
    "In the following we will give some hints how to solve Benchmarks 1-4, using [DuMu${}^x$](www.dumux.org). The source code of the following 1D benchmarking examples is available on [Github](https://github.com/Plant-Root-Soil-Interactions-Modelling/dumux-rosi.git), in the folder dumux-rosi/rosi_benchmarking/soil/ (run the sripts dumux-rosi/rosi_benchmarking/soil/python/dumux_1d*.py)\n",
    "\n",
    "## Theory\n",
    "\n",
    "We base our Dumux implementation on the [Richards Problem](http://www.dumux.uni-stuttgart.de/doxygen-stable/html-2.12/a01911.php) which states the Richards equation in the following form:\n",
    "\\begin{eqnarray} \n",
    "\\frac{\\partial}{\\partial t} \\left( \\phi S \\rho \\right) - \\frac{\\partial}{\\partial z}  \\left[\\rho \\frac{\\kappa}{\\mu} K_s \\left(\\frac{\\partial \\psi}{\\partial z} - \\rho g \\right) \\right] = 0,\n",
    "\\end{eqnarray}\n",
    "where $\\rho$ is the fluid density, $S$ is the fluid saturation, $\\phi$ is the porosity, $\\kappa$ is the relative permeability, $\\mu$ the dynamic viscosity, $K_s$ the intrinsic permeability, $\\psi$ the fluid pressure and $g$ the gravitational acceleration. The quantities $S$ and $\\psi$ are related by the water retention curve, i.e. $S=f^{-1}(\\psi_{ref}-\\psi) $\n",
    "\n",
    "Introducing the hydraulic conductivity $K_c = K \\ \\rho \\ g / \\mu$, with $K = \\kappa \\ K_s$, and the water content $\\theta = \\phi \\ S$ the equation takes the form \n",
    "\\begin{eqnarray} \n",
    "\\frac{\\partial}{\\partial t} \\left( \\rho \\theta \\right) = \\frac{\\partial}{\\partial z}  \\left[ K_c \\frac{1}{g} \\left(\\frac{\\partial \\psi}{\\partial z} - \\rho g \\right) \\right].\n",
    "\\end{eqnarray}\n",
    "\n",
    "Using the pressure head $h = (\\psi-\\psi_{ref})/(\\rho \\ g)$ leads to\n",
    "\\begin{eqnarray} \n",
    "\\frac{\\partial}{\\partial t} \\left( \\rho \\theta \\right) = \\frac{\\partial}{\\partial z}  \\left[ \\rho K_c \\left(\\frac{\\partial h}{\\partial z} - 1 \\right) \\right],\n",
    "\\end{eqnarray}\n",
    "and dividing the equation by $\\rho$ leads to the Richards equation, as presented in [Water flow in soil](Soil water flow.ipynb) (the fluid density $\\rho$ must be constant in space and time). \n",
    "\n",
    "## Implementation\n",
    "\n",
    "For implementation of the Benchmarks 1-4, we have to convert the parameters, overwrite the problem class defining initial conditions and boundary conditions, and manage the parameters using an input file. \n",
    "\n",
    "TODO description of relevant C++ code pieces "
   ]
  },
  {
   "cell_type": "markdown",
   "metadata": {},
   "source": [
    "## 1D"
   ]
  },
  {
   "cell_type": "markdown",
   "metadata": {},
   "source": [
    "\n",
    "### Compile program\n",
    "We compile the program by calling 'make richards1d' in the folder dumux-rosi/build-cmake/rosi_benchmarking/soil.\n",
    "\n",
    "\n",
    "\n",
    "### Run benchmarks\n",
    "All benchmarks can be simulated by just changing the Dumux .input files. The specific benchmarks can be started by Python scripts located in the folder dumux-rosi/build-cmake/rosi_benchmarking/soil/python\n",
    "\n",
    "### Input files\n",
    "\n",
    "The input files for benchmarks 1-4 are located in dumux-rosi/build-cmake/rosi_benchmarking/soil/benchmarks_1d/. Most important components are \n",
    "\n",
    "[Problem] *Name* name of the simulation\n",
    "\n",
    "[Grid] *UpperRight* in 1d actually just the upper coordinate (= 0 in all benchmarks), *LowerLeft* lower coordinate (in meter) *Cells* Number of cells = dof-1\n",
    "\n",
    "or\n",
    "\n",
    "[Grid] *File* name of the 1d dune grid file (dgf)\n",
    "\n",
    "[Soil.BC.Top] *Type* Type of the top boundary condition (1 dirichlet, 2 neumann, 4 atmospheric). *Value* of the boundary condition in pressure head (for type 1) and (cm per day for type 2 & 4). \n",
    "\n",
    "[Soil.BC.Bot] Like top boundary condition, but without type 4, but additionally free drainage as type 5. \n",
    "\n",
    "[Soil.VanGenuchten] The set of Van Genuchten parameters: *Qr*, *Qs*, *Alpha*, *N*, and *Ks*. If there are multiple soil layers, each parameter is given by multiple values (i.e. one value per soil layer). \n",
    "\n",
    "[Soil.IC] *Pressure* If it is one value, constant pressure (in cm) is assumed. If there are more values and additionally *Z* values, tabular linear interpolated data is assumed (*Z* values must be ascending). If there are more values and no *Z* values, the pressure is assumed to be given per soil layer.\n",
    "\n",
    "[Soil.Layer] Optionally, multiple soil layers can be defined. Either by tabular data (linear interpolated and rounded to integer values): *Z* are ascending soil coordinates (in meters), and *Number* is the soil layer number. Or, the layer number is given within the grid file as first parameter. In this case we do not need to set the [Soil.Layer] tag, but presence of grid data is indicated by multiple VanGenuchten parameters.\n",
    "\n"
   ]
  },
  {
   "cell_type": "markdown",
   "metadata": {},
   "source": [
    "### Benchmark 1"
   ]
  },
  {
   "cell_type": "markdown",
   "metadata": {},
   "source": [
    "looks nice!"
   ]
  },
  {
   "cell_type": "markdown",
   "metadata": {},
   "source": [
    "### Benchmark 2"
   ]
  },
  {
   "cell_type": "markdown",
   "metadata": {},
   "source": [
    "We first crate the geometry with initial data linearly decreasing from 0 cm to -54 cm soil matric potential. "
   ]
  },
  {
   "cell_type": "markdown",
   "metadata": {},
   "source": [
    "### Benchmark 3"
   ]
  },
  {
   "cell_type": "markdown",
   "metadata": {},
   "source": [
    "The three scenarios of Benchmark 3 have all the same geometry (2 m soil profile, -400 cm intial matric potential)"
   ]
  },
  {
   "cell_type": "markdown",
   "metadata": {
    "collapsed": true
   },
   "source": [
    "### Benchmark 4"
   ]
  },
  {
   "cell_type": "markdown",
   "metadata": {},
   "source": [
    "The four scenarios of Benchmark 4 have all the same geometry (2 m soil profile), but different initial matric potential (-40 cm sand, -200 for the others), and two resolutions (1 cm, and 0.25 cm)"
   ]
  }
 ],
 "metadata": {
  "kernelspec": {
   "display_name": "Python 3",
   "language": "python",
   "name": "python3"
  },
  "language_info": {
   "codemirror_mode": {
    "name": "ipython",
    "version": 3
   },
   "file_extension": ".py",
   "mimetype": "text/x-python",
   "name": "python",
   "nbconvert_exporter": "python",
   "pygments_lexer": "ipython3",
   "version": "3.6.5"
  },
  "latex_envs": {
   "LaTeX_envs_menu_present": true,
   "autoclose": false,
   "autocomplete": true,
   "bibliofile": "biblio.bib",
   "cite_by": "apalike",
   "current_citInitial": 1,
   "eqLabelWithNumbers": true,
   "eqNumInitial": 1,
   "hotkeys": {
    "equation": "Ctrl-E",
    "itemize": "Ctrl-I"
   },
   "labels_anchors": false,
   "latex_user_defs": false,
   "report_style_numbering": false,
   "user_envs_cfg": false
  }
 },
 "nbformat": 4,
 "nbformat_minor": 2
}
