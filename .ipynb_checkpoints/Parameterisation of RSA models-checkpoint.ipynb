{
 "cells": [
  {
   "cell_type": "markdown",
   "metadata": {},
   "source": [
    "# Scenarios for the comparison of RSA models\n",
    "\n",
    "    Authors: Guillaume Lobet, Magdalena Landl\n",
    "    \n",
    "\n",
    "The aim of this notebook is to define which scenarios will be used to compare root system architecture models. The main difficulty here is that we do not have a exact solution for the simulation of root system architecture. We can only compare the models between them and see wether we observe variations between them. Here, the idea is not to use pre-defined parameters sets for eahc model, but the start from the experimental data. \n",
    "\n",
    "\n",
    "\n"
   ]
  },
  {
   "cell_type": "markdown",
   "metadata": {},
   "source": [
    "## Modelling root system from 2D images \n",
    "\n",
    "In the first scenario, we will use here 2D image data, that were already digitalized and stored as RSML files [Lobet et al. 2015]. 2D data have been recentyl shown to be suitable for the parametrisation of 3D architecture models [Landl et al. 2018]. \n",
    "\n",
    "\n"
   ]
  },
  {
   "cell_type": "markdown",
   "metadata": {},
   "source": [
    "## Modelling root systems from root lenght density profiles\n",
    "\n",
    "In the second scenario, we will \n",
    "\n"
   ]
  },
  {
   "cell_type": "markdown",
   "metadata": {},
   "source": [
    "## Bibliography \n",
    "\n",
    "Landl M, Schnepf A, Vanderborght J, Bengough AG, Bauke SL, Lobet G, et al. Measuring root system traits of wheat in 2D images to parameterize 3D root architecture models. Plant Soil. 2018; doi:10.1007/s11104-018-3595-8\n",
    "\n",
    "Lobet G, Pound MP, Diener J, Pradal C, Draye X, Godin C, et al. Root System Markup Language: Toward a Unified Root Architecture Description Language. Plant Physiol. American Society of Plant Biologists; 2015;167: 617–627. Available: http://www.plantphysiol.org/lookup/doi/10.1104/pp.114.253625\n"
   ]
  }
 ],
 "metadata": {
  "kernelspec": {
   "display_name": "Python 3",
   "language": "python",
   "name": "python3"
  },
  "language_info": {
   "codemirror_mode": {
    "name": "ipython",
    "version": 3
   },
   "file_extension": ".py",
   "mimetype": "text/x-python",
   "name": "python",
   "nbconvert_exporter": "python",
   "pygments_lexer": "ipython3",
   "version": "3.6.3"
  }
 },
 "nbformat": 4,
 "nbformat_minor": 2
}
