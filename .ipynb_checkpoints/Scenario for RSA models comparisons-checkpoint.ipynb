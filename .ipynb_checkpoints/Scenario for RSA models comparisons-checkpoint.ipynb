{
 "cells": [
  {
   "cell_type": "markdown",
   "metadata": {},
   "source": [
    "# Scenarios for the comparison of RSA models\n",
    "\n",
    "    Authors: Guillaume Lobet, Magdalena Landl\n",
    "    \n"
   ]
  },
  {
   "cell_type": "markdown",
   "metadata": {},
   "source": [
    "\n",
    "## Introduction\n",
    "\n",
    "The aim of this notebook is to define which scenarios will be used to compare root system architecture models. The main difficulty here is that we do not have a exact solution for the simulation of root system architecture. We can only compare the models between them and see wether we observe variations between them. Here, the idea is not to use pre-defined parameters sets for eahc model, but the start from the experimental data. \n"
   ]
  },
  {
   "cell_type": "markdown",
   "metadata": {},
   "source": [
    "## Model descriptions\n",
    "\n",
    "Each model should have a basic description of its mechanisms\n",
    "\n",
    "- item 1\n",
    "- item 2\n",
    "\n"
   ]
  },
  {
   "cell_type": "markdown",
   "metadata": {},
   "source": [
    "## Model outputs\n",
    "\n",
    "The output of the architectural models should be in RSML format [Lobet et al. 2015]. More information about the RSML format can be found on the [official webpage of the project](http://rootsystemml.github.io/). Like this, we will be able to process all the output data at once using the archiDART R package [Delory et al. 2016, Delory et al. 2018]\n",
    "\n"
   ]
  },
  {
   "cell_type": "markdown",
   "metadata": {},
   "source": [
    "## Modelling root system from 2D images \n",
    "\n",
    "In the first scenario, we will use here 2D image data, that were already digitalized and stored as RSML files. 2D data have been recentyl shown to be suitable for the parametrisation of 3D architecture models [Landl et al. 2018]. the chose images will be coming from young plants, mainly because it is easier to extract the informations than for mature plants. \n",
    "\n",
    "![test](img/root_examples.png)\n",
    "\n",
    "We will then be able to compare the output of the model both at the time corresponding to the image and later in the development. \n",
    "\n",
    "    TODO: discuss with Magdalena about the images we could use, from her paper\n",
    "    \n",
    "For each model, we should do the follow:\n",
    "\n",
    "1. create input files from the images or from the RSML files.\n",
    "2. run the model for 60 days\n",
    "\n",
    "\n"
   ]
  },
  {
   "cell_type": "markdown",
   "metadata": {},
   "source": [
    "## Modelling root systems from root lenght density profiles\n",
    "\n",
    "In the second scenario, we will parametrise the root models from incomplete data. The idea here is to use an inverse modelling approach to fit the model output to root length density data acquired in the field. \n",
    "\n",
    "    TODO need to find the data to use here\n",
    "\n"
   ]
  },
  {
   "cell_type": "markdown",
   "metadata": {},
   "source": [
    "## Bibliography \n",
    "\n",
    "- Delory BM, Baudson C, Brostaux Y, Lobet G, du Jardin P, Pagès L, et al. archiDART: an R package for the automated computation of plant root architectural traits. Plant Soil. Springer International Publishing; 2016;398: 351–365. doi:10.1007/s11104-015-2673-4\n",
    "\n",
    "- Delory BM, Li M, Topp CN, Lobet G. archiDART v3.0: A new data analysis pipeline allowing the topological analysis of plant root systems. F1000Res. 2018;7. doi:10.12688/f1000research.13541.1\n",
    "\n",
    "- Landl M, Schnepf A, Vanderborght J, Bengough AG, Bauke SL, Lobet G, et al. Measuring root system traits of wheat in 2D images to parameterize 3D root architecture models. Plant Soil. 2018; doi:10.1007/s11104-018-3595-8\n",
    "\n",
    "- Lobet G, Pound MP, Diener J, Pradal C, Draye X, Godin C, et al. Root System Markup Language: Toward a Unified Root Architecture Description Language. Plant Physiol. American Society of Plant Biologists; 2015;167: 617–627. Available: http://www.plantphysiol.org/lookup/doi/10.1104/pp.114.253625\n"
   ]
  },
  {
   "cell_type": "code",
   "execution_count": null,
   "metadata": {
    "collapsed": true
   },
   "outputs": [],
   "source": []
  }
 ],
 "metadata": {
  "kernelspec": {
   "display_name": "Python 3",
   "language": "python",
   "name": "python3"
  },
  "language_info": {
   "codemirror_mode": {
    "name": "ipython",
    "version": 3
   },
   "file_extension": ".py",
   "mimetype": "text/x-python",
   "name": "python",
   "nbconvert_exporter": "python",
   "pygments_lexer": "ipython3",
   "version": "3.6.3"
  }
 },
 "nbformat": 4,
 "nbformat_minor": 2
}
