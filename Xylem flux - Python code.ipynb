{
 "cells": [
  {
   "cell_type": "markdown",
   "metadata": {},
   "source": [
    "# Water flux within the root - Numerical solutions in Pyhton\n",
    "\n",
    "by Daniel Leitner, Andrea Schnepf\n",
    "\n",
    "In the following we will first describe the derivation of the numerical method (based on Schnepf et al. ), the resulting Python code (available as single file at the CRootBox git repository), and finally we demonstrate Benchmark 1 and 2."
   ]
  },
  {
   "cell_type": "markdown",
   "metadata": {},
   "source": [
    "## Numerical derivation\n",
    "\n",
    "In the graph the pressure $p_i$ is defined for each node $n_i$.  The edges at node $n_i$ are denoted as $e_{ij}$ with $j \\in N(i)$, where $N(i)$ are the indices of the neighbouring nodes.  Thus, the edge $e_{ij}$ connects node $n_i$ and node $n_j$ for each $j \\in N(i)$. \\\\\n",
    "\n",
    "For each edge $e_{ij}$ the axial water flux from $n_i$ to $n_j$ is \n",
    "\\begin{eqnarray}\n",
    "q_{z,ij} = - k_z ( \\frac{p_j-p_i}{l_{ij}} - \\rho g v_{ij,3} ),\n",
    "\\end{eqnarray}\n",
    "and the radial flux from segment $e_{ij}$ into the soil is \n",
    "\\begin{eqnarray}\n",
    "q_{r,ij} = - 2 a_{ij} \\pi l_{ij} k_r (p_s - p_{ij}), \n",
    "\\end{eqnarray}\n",
    "where $l_{ij}$ is the length, $v_{ij}$ the normed direction, $a_{ij}$ the radius, $p_{ij}$ is the mean edge pressure ($p_{ij} = \\frac{p_i+p_j}{2}$) of the edge $e_{ij}$. \n",
    "The value $p_s$ is the soil potential, surrounding the edge $e_{ij}$. \n",
    "The, net flux of a node is the sum of all axial fluxes $q_{z,ij}$ and half of the radial fluxes $q_{r,ij}$:\n",
    "\\begin{eqnarray}\n",
    "q_{ij} &=&  - a_{ij} \\pi l_{ij} k_r p_s + k_z \\rho g v_{ij,3}  \\nonumber \\\\ \n",
    "& & \\frac 1 2 a_{ij} \\pi l_{ij} k_r p_i + \\frac{1}{l_{ij}} k_z p_i  \\nonumber \\\\\n",
    "& & \\frac 1 2 a_{ij} \\pi l_{ij} k_r p_j - \\frac{1}{l_{ij}} k_z  p_j.   \\label{netflux}\n",
    "\\end{eqnarray} \\\\\n",
    "\n",
    "The first Kirchhoff law states that all fluxes into each node cancel out. This can be presented as a linear equation  \n",
    "\\begin{eqnarray}\n",
    "\\left( C p \\right)_i =  \\sum_{j \\in N(i)} c_{ii} p_i + c_{ij} p_j = b_i, \\label{linearsystem}\n",
    "\\end{eqnarray}\n",
    "where each row $i$ of $C$ represents the linear equation for node $i$. \n",
    "The diagonal elements of $C$ are derived by the second line of Eqn (\\ref{netflux}):\n",
    "\\begin{eqnarray}\n",
    "c_{ii} := \\sum_{j \\in N(i)} \\frac 1 2 a_{ij} \\pi l_{ij} k_r + \\frac{1}{l_{ij}} k_z, \n",
    "\\end{eqnarray}\n",
    "with $c_{ii}=c_{jj}$, and the other entries by the third line of Eqn (\\ref{netflux}):\n",
    "\\begin{eqnarray}\n",
    "c_{ij} := \\sum_{j \\in N(i)} \\frac 1 2  a_{ij} \\pi l_{ij} k_r - \\frac{1}{l_{ij}} k_z, \n",
    "\\end{eqnarray}\n",
    "with $c_{ij}=c_{ji}$. \n",
    "The value $b_i$ is derived from first line of Eqn (\\ref{netflux}): \n",
    "\\begin{eqnarray}\n",
    "b_i := \\sum_{j \\in N(i)} a_{ij} \\pi l_{ij} k_r p_s - k_z \\rho g v_{ij,3},\n",
    "\\end{eqnarray}\n",
    "and \n",
    "\\begin{eqnarray}\n",
    "b_j := \\sum_{j \\in N(i)} a_{ij} \\pi l_{ij} k_r p_s + k_z \\rho g v_{ij,3},\n",
    "\\end{eqnarray}\n",
    "because $v_{ij,3} = - v_{ji,3}$. This yields the linear system $Cp = b$ of Eqn (\\ref{linearsystem}). \\\\\n",
    "\n",
    "Note that $C$ is symmetric (since the graph is undirected) and sparse (most $c_{ij}$ are zero, since all $c_{ij}$ are zero where node $i$ and node$j$ are not connected by an edge). \n",
    "The soil matric potential $p_s$ and the direction of the edges $v_{ij}$ only enter the equation on the rhs affecting $b_i$.\n",
    "\n",
    "### Dirichlet\n",
    "\n",
    "The simplest way to implement a fixed pressure at node i, is to replace row i in the matrix $C$ by $e_i^T$, and $b_i$ by the desired matric potential. In this way the equation for node i of the linear equation $C p = b$ reads $p_i = h_i$.\t\n",
    "\n",
    "### Neumann\n",
    "\n",
    "Neumann boundary condition is implemented, by adding the flux $f_i$ to the specific node $i$ by adding it to the right hand side (i.e. $b_i := b_i + f_i$) of the linear equation."
   ]
  },
  {
   "cell_type": "markdown",
   "metadata": {},
   "source": [
    "## Implementation in Python "
   ]
  },
  {
   "cell_type": "markdown",
   "metadata": {},
   "source": [
    "We start wtih some imports..."
   ]
  },
  {
   "cell_type": "code",
   "execution_count": 1,
   "metadata": {
    "collapsed": true
   },
   "outputs": [],
   "source": [
    "from math import *\n",
    "import numpy as np\n",
    "from numpy.linalg.linalg import norm\n",
    "import matplotlib.pylab as plt\n",
    "from scipy import sparse\n",
    "import scipy.sparse.linalg as LA"
   ]
  },
  {
   "cell_type": "markdown",
   "metadata": {},
   "source": [
    "### Creating the linear system \n",
    "\n",
    "The following code builds the linear system as described above. Therefore we loop over each segment $e_{ij}$, and add its share to the system (i.e. $c_{ii}, c_{ij}, c_{jj}, c_{ji}, b_{i}, b_{j}$)\n",
    "\n",
    "The inputs are all parameters that are needed: \n",
    "* `seg`: numpy array ($N_s$,2) of segment indices [1]\n",
    "* `nodes`: numpy array ($N$,3) of the node coordinates [L]\n",
    "* `radius`: segment radii [L]\n",
    "* `kr` radial conductivity for each segment [L2 T M−1]\n",
    "* `kz` axial conductivity for each segment [L5 T M-1]\n",
    "* `rho` density of soil water [M L-3]\n",
    "* `g` gravitational acceleration [L T−2]\n",
    "* `soil_p` lambda function returning the soil matric potential at a given location, p=soil_p(x,y,z) [M L−1 T−2]\n",
    " \n",
    "The output is the linear system $Qx=b$"
   ]
  },
  {
   "cell_type": "code",
   "execution_count": 2,
   "metadata": {
    "collapsed": true
   },
   "outputs": [],
   "source": [
    "def linear_system(seg, nodes, radius, kr, kz, rho, g, soil_p):\n",
    "    \n",
    "    Ns = seg.shape[0]\n",
    "    N = nodes.shape[0]\n",
    "    I = np.zeros(4*Ns)\n",
    "    J = np.zeros(4*Ns)    \n",
    "    V = np.zeros(4*Ns)\n",
    "    b = np.zeros(N)    \n",
    "    \n",
    "    k = 0     \n",
    "    for c in range(0,Ns):        \n",
    "        \n",
    "        i = seg[c,0]\n",
    "        j = seg[c,1]        \n",
    "        n1 = nodes[i,:]\n",
    "        n2 = nodes[j,:]       \n",
    "        mid = 0.5*(n1+n2)        \n",
    "        p_s = soil_p(mid[0],mid[1],mid[2]) # evaluate soil matric potential\n",
    "        v = n2-n1\n",
    "        l = norm(v)        \n",
    "        vz = v[2] / l # normed direction                \n",
    "        a = radius[c]\n",
    "        \n",
    "        cii = a*pi*l*kr[c]/2 + kz[c]/l # Eqn (5)\n",
    "        cij = a*pi*l*kr[c]/2 - kz[c]/l # Eqn (6)\n",
    "        bi = a*pi*l*kr[c]*p_s # first term of Eqn (7) & (8)            \n",
    "        \n",
    "        # edge ij\n",
    "        b[i] +=  ( bi + kz[c]*rho*g*vz )  # Eqn (7)             \n",
    "        I[k] = i\n",
    "        J[k] = i     \n",
    "        V[k] += cii\n",
    "        k += 1                        \n",
    "        I[k] = i\n",
    "        J[k] = j        \n",
    "        V[k] += cij\n",
    "        k += 1 \n",
    "        \n",
    "        # edge ji\n",
    "        i, j = j, i\n",
    "        b[i] += ( bi - kz[c]*rho*g*vz ) # Eqn (8) \n",
    "        I[k] = i\n",
    "        J[k] = i  \n",
    "        V[k] += cii    \n",
    "        k += 1                          \n",
    "        I[k] = i\n",
    "        J[k] = j        \n",
    "        V[k] += cij        \n",
    "        k += 1 \n",
    "         \n",
    "    Q = sparse.coo_matrix((V,(I,J)))    \n",
    "    Q = sparse.csr_matrix(Q)     \n",
    "    return (Q, b)"
   ]
  },
  {
   "cell_type": "markdown",
   "metadata": {},
   "source": [
    "Modifies the linear system $Q, b$ to describe Diriclet boundary conditions at the node indices `n0` as described above.\n",
    "\n",
    "Input parameter are \n",
    "* `n0`: node indices where to apply the boundary condition\n",
    "* `d`: fixed potential at n0"
   ]
  },
  {
   "cell_type": "code",
   "execution_count": 3,
   "metadata": {
    "collapsed": true
   },
   "outputs": [],
   "source": [
    "def bc_dirichlet(Q, b, n0, d):\n",
    "    c = 0\n",
    "    for c in range(0, len(n0)):\n",
    "        i = n0[c]          \n",
    "        e0 = np.zeros((1,Q.shape[1])) # build zero vector\n",
    "        Q[i,:] = sparse.csr_matrix(e0) # replace row i with ei\n",
    "        Q[i,i] = 1\n",
    "        b[i] = d[c]    \n",
    "    return Q, b "
   ]
  },
  {
   "cell_type": "markdown",
   "metadata": {},
   "source": [
    "Modifies the linear system $Q, b$ to describe a Neumann boundary conditions at the node indices `n0` as described above.\n",
    "\n",
    "Input parameter are \n",
    "* `n0`: node indices where to apply the boundary condition\n",
    "* `f`: flux at n0"
   ]
  },
  {
   "cell_type": "code",
   "execution_count": 4,
   "metadata": {
    "collapsed": true
   },
   "outputs": [],
   "source": [
    "def bc_neumann(Q, b, n0, f):\n",
    "    c = 0\n",
    "    for c in range(0, len(n0)):                \n",
    "        i = n0[c]  # print(\"Neumann BC at node \"+str(i))       \n",
    "        b[i] += f[c]        \n",
    "    return Q, b "
   ]
  },
  {
   "cell_type": "markdown",
   "metadata": {},
   "source": [
    "## Benchmark 1 \n",
    "\n",
    "We compare the Pyhton numerical implementation to the analytical solution"
   ]
  },
  {
   "cell_type": "markdown",
   "metadata": {},
   "source": [
    "### Scenario 1"
   ]
  },
  {
   "cell_type": "markdown",
   "metadata": {},
   "source": [
    "First, some additional definitions"
   ]
  },
  {
   "cell_type": "code",
   "execution_count": 5,
   "metadata": {
    "collapsed": true
   },
   "outputs": [],
   "source": [
    "g = 9.81                 # gravitational acceleration (m/s^2)   \n",
    "rho = 1.e3               # density of water, (kg/m^3)      \n",
    "ref = 1.e5               # reference pressure (kg/ (m s^2))\n",
    "\n",
    "def toPa(ph): # cm pressure head to Pascal (kg/ (m s^2))\n",
    "    return ref + ph/100. * rho * g\n",
    "\n",
    "def toHead(pa): # Pascal (kg/ (m s^2)) to cm pressure head\n",
    "    return (pa-ref) * 100 / rho / g"
   ]
  },
  {
   "cell_type": "markdown",
   "metadata": {
    "collapsed": true
   },
   "source": [
    "Next we pick the parameters "
   ]
  },
  {
   "cell_type": "code",
   "execution_count": 6,
   "metadata": {
    "collapsed": true
   },
   "outputs": [],
   "source": [
    "# Parameters\n",
    "L = 0.5                # length of single straight root (m)\n",
    "a = 2.e-3              # radius (m)\n",
    "kz = 5.e-13            # axial conductivity (m^5 s / kg) (mal rho ergibt die alten einheiten)\n",
    "kr = 2.e-9             # radial conductivity per root type (m^2 s / kg) \n",
    "p_s = toPa(-200)       # static soil pressure (cm) \n",
    "p0 = toPa(-1000)       # dircichlet bc at top\n",
    "pL = toPa(-500)        # dircichlet bc at bot"
   ]
  },
  {
   "cell_type": "markdown",
   "metadata": {},
   "source": [
    "And we create the analytical solution for later comparison"
   ]
  },
  {
   "cell_type": "code",
   "execution_count": 7,
   "metadata": {},
   "outputs": [],
   "source": [
    "# Analytical solution\n",
    "c = 2*a*pi*kr/kz\n",
    "p_r = lambda z: toHead( p_s + d[0]*exp(sqrt(c)*z) + d[1]*exp(-sqrt(c)*z) )\n",
    "# Boundary conditions\n",
    "AA = np.array([[1,1], [exp(-sqrt(c)*L), exp(sqrt(c)*L)] ]) # dirichlet top & bot\n",
    "bb = np.array([p0-p_s, pL-p_s]) \n",
    "d = np.linalg.solve(AA, bb) # compute constants d_1 and d_2 from bc\n",
    "# Evalutate function\n",
    "za_ = np.linspace(0,-L,100)\n",
    "pr = list(map(p_r, za_))"
   ]
  },
  {
   "cell_type": "markdown",
   "metadata": {},
   "source": [
    "For the numerical solution we first create a grid. `nnz` denotes the resolution."
   ]
  },
  {
   "cell_type": "code",
   "execution_count": 8,
   "metadata": {
    "collapsed": true
   },
   "outputs": [],
   "source": [
    "nnz = 100\n",
    "nodes = np.zeros((nnz,3))\n",
    "seg = np.zeros(((nnz-1),2), dtype=int) \n",
    "c = 0\n",
    "for i in range(1, nnz):\n",
    "    seg[c,0] = i-1\n",
    "    seg[c,1] = i\n",
    "    c += 1    \n",
    "    nodes[i,:] = [0.,0.,-i*L/(nnz-1)]"
   ]
  },
  {
   "cell_type": "markdown",
   "metadata": {},
   "source": [
    "Next we copy the constant values to lists, so that we have a value per segment, and create a call back function for the soil matric potential."
   ]
  },
  {
   "cell_type": "code",
   "execution_count": 9,
   "metadata": {
    "collapsed": true
   },
   "outputs": [],
   "source": [
    "kr_ = [kr] * (nnz-1)\n",
    "kz_ = [kz] * (nnz-1)\n",
    "a_ = [a] * (nnz-1)            \n",
    "soil = lambda x,y,z : p_s # call back function for soil potential"
   ]
  },
  {
   "cell_type": "markdown",
   "metadata": {},
   "source": [
    "Now we create the linear system, and apply the boundary conditions"
   ]
  },
  {
   "cell_type": "code",
   "execution_count": 10,
   "metadata": {
    "collapsed": true
   },
   "outputs": [],
   "source": [
    "Q, b = linear_system(seg, nodes, a_, kr_, kz_, rho, g, soil) \n",
    "Q, b = bc_dirichlet(Q, b, np.array([0,nnz-1]), np.array([p0,pL])) # dirichlet top and bot"
   ]
  },
  {
   "cell_type": "markdown",
   "metadata": {},
   "source": [
    "Next we solve it "
   ]
  },
  {
   "cell_type": "code",
   "execution_count": 11,
   "metadata": {
    "collapsed": true
   },
   "outputs": [],
   "source": [
    "x = LA.spsolve(Q, b, use_umfpack = True) # direct"
   ]
  },
  {
   "cell_type": "markdown",
   "metadata": {},
   "source": [
    "and we are done, finally we plot the results"
   ]
  },
  {
   "cell_type": "code",
   "execution_count": 12,
   "metadata": {},
   "outputs": [
    {
     "data": {
      "image/png": "[encoded data removed]",
      "text/plain": [
       "<matplotlib.figure.Figure at 0x7f0e002a1c18>"
      ]
     },
     "metadata": {},
     "output_type": "display_data"
    }
   ],
   "source": [
    "# plot results\n",
    "plt.plot(list(map(toHead, x)),za_,\"r*\")\n",
    "plt.plot(pr,za_)\n",
    "plt.xlabel(\"Xylem pressure (cm)\")\n",
    "plt.ylabel(\"Depth (m)\")\n",
    "plt.show()"
   ]
  },
  {
   "cell_type": "markdown",
   "metadata": {},
   "source": [
    "### Scenario 2\n",
    "\n",
    "All we need to do is to change the boundary conditions. "
   ]
  },
  {
   "cell_type": "markdown",
   "metadata": {},
   "source": [
    "First we recalculate the analytical solution (for later comparison)"
   ]
  },
  {
   "cell_type": "code",
   "execution_count": 13,
   "metadata": {},
   "outputs": [],
   "source": [
    "# Analytical solution\n",
    "c = 2*a*pi*kr/kz\n",
    "p_r = lambda z: toHead( p_s + d[0]*exp(sqrt(c)*z) + d[1]*exp(-sqrt(c)*z) )\n",
    "# Boundary conditions\n",
    "AA = np.array([[1,1], [sqrt(c)*exp(-sqrt(c)*L), -sqrt(c)*exp(sqrt(c)*L)] ]) # dirichlet top, neumann bot\n",
    "bb = np.array([p0-p_s, -rho*g]) #\n",
    "d = np.linalg.solve(AA, bb) # compute constants d_1 and d_2 from bc\n",
    "# Evaluate function\n",
    "za_ = np.linspace(0,-L,100)\n",
    "pr = list(map(p_r, za_))"
   ]
  },
  {
   "cell_type": "markdown",
   "metadata": {},
   "source": [
    "Now we create the linear system, and apply the boundary conditions"
   ]
  },
  {
   "cell_type": "code",
   "execution_count": 14,
   "metadata": {},
   "outputs": [],
   "source": [
    "Q, b = linear_system(seg, nodes, a_, kr_, kz_, rho, g, soil) #  \n",
    "\n",
    "Q, b = bc_dirichlet(Q, b, np.array([0]), np.array([p0])) # dirichlet top\n",
    "Q, b = bc_neumann(Q, b, [nnz-1], [0]) # neumann bot\n",
    "\n",
    "x = LA.spsolve(Q, b, use_umfpack = True) # direct"
   ]
  },
  {
   "cell_type": "markdown",
   "metadata": {},
   "source": [
    "And, the result:"
   ]
  },
  {
   "cell_type": "code",
   "execution_count": 15,
   "metadata": {},
   "outputs": [
    {
     "data": {
      "image/png": "[encoded data removed]",
      "text/plain": [
       "<matplotlib.figure.Figure at 0x7f0e0021a9e8>"
      ]
     },
     "metadata": {},
     "output_type": "display_data"
    }
   ],
   "source": [
    "plt.plot(list(map(toHead, x)),za_,\"r*\")\n",
    "plt.plot(pr,za_)\n",
    "plt.xlabel(\"Xylem pressure (cm)\")\n",
    "plt.ylabel(\"Depth (m)\")\n",
    "plt.show()"
   ]
  },
  {
   "cell_type": "markdown",
   "metadata": {
    "collapsed": true
   },
   "source": [
    "## Benchmark 2\n",
    "\n",
    "\n",
    "The benchmark is given by a static small root system, age dependent conductivities, a predefined pressure (-500 cm) at the root collar, and no-flux at the root tips."
   ]
  },
  {
   "cell_type": "code",
   "execution_count": 16,
   "metadata": {
    "collapsed": true
   },
   "outputs": [],
   "source": [
    "nodes = [ [0.00,0.00,-2.9], [0.00,0.00,-3.00], [-0.00,-0.01,-3.48], [-0.85,0.48,-3.71], [-1.69,0.99,-3.90], [-2.58,1.32,-4.21], [-3.48,1.67,-4.49], [-4.38,2.00,-4.77], [-5.24,2.40,-5.09], [-6.08,2.82,-5.42], [-6.93,3.27,-5.69], [-6.96,3.29,-5.70], [-0.00,0.01,-3.97], [0.20,-0.95,-4.20], [0.43,-1.88,-4.49], [0.65,-2.81,-4.77], [0.84,-3.75,-5.06], [1.04,-4.70,-5.31], [1.27,-5.64,-5.54], [1.43,-6.58,-5.84], [1.48,-6.91,-5.94], [-0.01,0.03,-4.45], [0.75,0.68,-4.48], [1.52,1.32,-4.50], [2.30,1.94,-4.46], [3.07,2.58,-4.41], [3.88,3.16,-4.46], [4.73,3.69,-4.50], [5.34,4.05,-4.53], [-0.03,0.06,-4.97], [-0.73,0.63,-5.40], [-1.46,1.20,-5.79], [-2.15,1.80,-6.18], [-2.76,2.48,-6.59], [-3.16,3.16,-7.21], [-3.63,3.90,-7.64], [-0.06,0.07,-5.42], [0.07,1.04,-5.61], [0.23,2.00,-5.82], [0.46,2.93,-6.11], [0.72,3.85,-6.40], [0.99,4.77,-6.69], [1.06,5.11,-6.78], [-0.10,0.08,-5.96], [0.35,0.90,-6.31], [0.80,1.72,-6.65], [1.23,2.55,-7.01], [1.62,3.41,-7.34], [1.70,3.58,-7.41], [-0.14,0.10,-6.46], [0.05,-0.81,-6.83], [0.29,-1.72,-7.18], [0.43,-2.62,-7.59], [0.50,-3.12,-7.84], [-0.19,0.12,-7.02], [0.32,0.98,-7.03], [0.82,1.84,-6.95], [1.07,2.23,-6.88], [-0.23,0.17,-7.56], [0.68,-0.18,-7.80], [1.12,-0.35,-7.93], [-0.24,0.21,-8.14], [-0.01,0.36,-8.22], [-0.25,0.24,-8.69], [-0.24,0.25,-9.25], [-0.24,0.26,-9.71], [-0.26,0.26,-10.09], [-0.28,0.25,-10.57], [-0.26,0.24,-11.05], [-0.26,0.21,-11.58], [-0.25,0.19,-12.06], [-0.25,0.17,-12.55], [-0.23,0.15,-13.00], [-0.23,0.12,-13.46], [-0.22,0.12,-13.99], [-0.21,0.15,-14.54], [-0.19,0.20,-15.07], [-0.17,0.24,-15.60], [-0.17,0.31,-16.17], [-0.15,0.36,-16.64], [-0.12,0.43,-17.18], [-0.11,0.48,-17.70], [-0.07,0.52,-18.23], [-0.06,0.53,-18.53] ]\n",
    "seg = [ [0,1], [1,2], [2,12], [12,21], [21,29], [29,36], [36,43], [43,49], [49,54], [54,58], [58,61], [61,63], [63,64], [64,65], [65,66], [66,67], [67,68], [68,69], [69,70], [70,71], [71,72], [72,73], [73,74], [74,75], [75,76], [76,77], [77,78], [78,79], [79,80], [80,81], [81,82], [82,83], [2,3], [3,4], [4,5], [5,6], [6,7], [7,8], [8,9], [9,10], [10,11], [12,13], [13,14], [14,15], [15,16], [16,17], [17,18], [18,19], [19,20], [21,22], [22,23], [23,24], [24,25], [25,26], [26,27], [27,28], [29,30], [30,31], [31,32], [32,33], [33,34], [34,35], [36,37], [37,38], [38,39], [39,40], [40,41], [41,42], [43,44], [44,45], [45,46], [46,47], [47,48], [49,50], [50,51], [51,52], [52,53], [54,55], [55,56], [56,57], [58,59], [59,60], [61,62] ]\n",
    "age = [ 8,7.76,7.52,7.29,7.03,6.80,6.53,6.28,6.00,5.73,5.43,5.16,4.87,4.64,4.44,4.20,3.95,3.68,3.43,3.17,2.94,2.70,2.42,2.14,1.85,1.57,1.27,1.02,0.73,0.45,0.16,-0.00,2.29,2.02,1.74,1.43,1.11,0.77,0.41,0.01,0.00,2.04,1.77,1.48,1.18,0.85,0.51,0.14,0.00,1.78,1.51,1.22,0.92,0.60,0.26,0.00,1.51,1.24,0.96,0.66,0.34,0.00,1.28,1.01,0.73,0.43,0.12,0.00,0.97,0.69,0.39,0.07,0.00,0.72,0.45,0.17,0.00,0.41,0.14,0.00,0.13,0.00,0.00 ]\n",
    "types = [ 1,1,1,1,1,1,1,1,1,1,1,1,1,1,1,1,1,1,1,1,1,1,1,1,1,1,1,1,1,1,1,1,2,2,2,2,2,2,2,2,2,2,2,2,2,2,2,2,2,2,2,2,2,2,2,2,2,2,2,2,2,2,2,2,2,2,2,2,2,2,2,2,2,2,2,2,2,2,2,2,2,2,2 ]\n",
    "\n",
    "a_tap = 0.2 # tap root radius (cm)\n",
    "a_lateral = 0.1 # lateral root radius (cm)\n",
    "\n",
    "kz0, kz1 = 0.5e-19, 1.e-18 # m^4 / (Pa s)\n",
    "kr0, kr1 = 1.7e-13, 0.2e-13 # m / (Pa s)\n",
    "kz = lambda age: kz0*(age<=3)+kz1*(age>3)\n",
    "kr = lambda age: kr0*(age<=3)+kr1*(age>3)"
   ]
  },
  {
   "cell_type": "markdown",
   "metadata": {
    "collapsed": true
   },
   "source": [
    "We prepare the parameters to use the aboves numerical scheme, and create the linear system:"
   ]
  },
  {
   "cell_type": "code",
   "execution_count": 17,
   "metadata": {
    "collapsed": true
   },
   "outputs": [],
   "source": [
    "# Parameter\n",
    "aa = lambda t: 1.e-2*(a_tap*(t==1)+a_lateral*(t==2)) # cm->m \n",
    "a_ = list(map(aa, types)) \n",
    "kr_ =  list(map(kr, age)) # m / (Pa s)\n",
    "kz_ = list(map(kz, age)) # m^4 / (Pa s)\n",
    "p_s = toPa(-200) # cm->Pa\n",
    "soil = lambda x,y,z : p_s # cm pressure head\n",
    "rho = 1.e3 # kg/m^3\n",
    "g = 9.81 # m/s^2 \n",
    "rs_nodes = np.array(nodes)*1.e-2 # cm->m, and convert from list to numpy array\n",
    "rs_seg = np.array(seg) # convert from list to numpy array \n",
    "    \n",
    "#  Create linear system\n",
    "Q, b = linear_system(rs_seg, rs_nodes, a_, kr_, kz_, rho, g, soil) "
   ]
  },
  {
   "cell_type": "markdown",
   "metadata": {},
   "source": [
    "Next, we need to set the boundary conditions by modifying the linear system:"
   ]
  },
  {
   "cell_type": "code",
   "execution_count": 18,
   "metadata": {
    "collapsed": true
   },
   "outputs": [],
   "source": [
    "tips = [11,20,28,35,42,48,53,57,60,62,83] # are precomputed in Benchmark 2\n",
    "\n",
    "p0 = toPa(-1000) # cm->Pa, pressure at root collar \n",
    "\n",
    "Q, b = bc_dirichlet(Q, b, np.array([0]), np.array([p0])) # dirichlet top\n",
    "Q, b = bc_neumann(Q, b, np.array(tips), np.zeros(len(tips))) # neumann at tips"
   ]
  },
  {
   "cell_type": "markdown",
   "metadata": {},
   "source": [
    "Finally, we can solve the system"
   ]
  },
  {
   "cell_type": "code",
   "execution_count": 19,
   "metadata": {},
   "outputs": [
    {
     "name": "stdout",
     "output_type": "stream",
     "text": [
      "net collar flux is -3.43255211652 mm^3/day;  axial -1.66541077277 , radial -1.76714134375\n"
     ]
    }
   ],
   "source": [
    "x = LA.spsolve(Q, b, use_umfpack = True) # direct\n",
    "x = toHead(x)\n",
    "qz = -kz1*((x[1]-x[0])/0.001-rho*g) *24*3600*1e9 # m^3 s^-1 -> mm^3 day^-1 \n",
    "qr = -0.001*2*pi*a_tap*1.e-2*kr1*(p_s-x[0]) *24*3600*1e9 # m^3 s^-1 -> mm^3 day^-1 \n",
    "print(\"net collar flux is\", qr+qz, \"mm^3/day; \", \"axial\", qz, \", radial\", qr) "
   ]
  },
  {
   "cell_type": "markdown",
   "metadata": {},
   "source": [
    "and plot the final result:"
   ]
  },
  {
   "cell_type": "code",
   "execution_count": 20,
   "metadata": {},
   "outputs": [
    {
     "name": "stdout",
     "output_type": "stream",
     "text": [
      "from  -1000.0 to -199.518081808  cm pressure head\n"
     ]
    },
    {
     "data": {
      "image/png": "[encoded data removed]",
      "text/plain": [
       "<matplotlib.figure.Figure at 0x7f0dd0694128>"
      ]
     },
     "metadata": {},
     "output_type": "display_data"
    }
   ],
   "source": [
    "xmin = min(x)\n",
    "xmax = max(x)\n",
    "print(\"from \", xmin, \"to\", xmax, \" cm pressure head\")\n",
    "\n",
    "for i,s in enumerate(seg): \n",
    "    n1 = nodes[s[0]]\n",
    "    n2 = nodes[s[1]]\n",
    "    c = (x[s[0]]-xmin)/(xmax-xmin)\n",
    "    plt.plot([n1[0], n1[0]], [n1[2], n1[2]], \"*\", color = plt.cm.jet(c))    \n",
    "plt.axis('equal')\n",
    "plt.xlabel(\"cm\")\n",
    "plt.ylabel(\"cm\")\n",
    "plt.show()"
   ]
  },
  {
   "cell_type": "markdown",
   "metadata": {},
   "source": [
    "for discussion: i don't think the value >-200 is an error, but due to gravitation (this will lead to small loss of water) "
   ]
  },
  {
   "cell_type": "code",
   "execution_count": null,
   "metadata": {
    "collapsed": true
   },
   "outputs": [],
   "source": []
  }
 ],
 "metadata": {
  "kernelspec": {
   "display_name": "Python 3",
   "language": "python",
   "name": "python3"
  },
  "language_info": {
   "codemirror_mode": {
    "name": "ipython",
    "version": 3
   },
   "file_extension": ".py",
   "mimetype": "text/x-python",
   "name": "python",
   "nbconvert_exporter": "python",
   "pygments_lexer": "ipython3",
   "version": "3.6.3"
  },
  "latex_envs": {
   "LaTeX_envs_menu_present": true,
   "autoclose": false,
   "autocomplete": true,
   "bibliofile": "biblio.bib",
   "cite_by": "apalike",
   "current_citInitial": 1,
   "eqLabelWithNumbers": true,
   "eqNumInitial": 1,
   "hotkeys": {
    "equation": "Ctrl-E",
    "itemize": "Ctrl-I"
   },
   "labels_anchors": false,
   "latex_user_defs": false,
   "report_style_numbering": false,
   "user_envs_cfg": false
  }
 },
 "nbformat": 4,
 "nbformat_minor": 2
}
