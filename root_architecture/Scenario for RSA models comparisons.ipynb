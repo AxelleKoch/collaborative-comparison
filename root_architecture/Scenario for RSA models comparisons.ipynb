{
 "cells": [
  {
   "cell_type": "markdown",
   "metadata": {},
   "source": [
    "# Scenarios for the comparison of RSA models\n",
    "\n",
    "> Guillaume **Lobet**, Benjamin **Delory**\n",
    "    \n"
   ]
  },
  {
   "cell_type": "markdown",
   "metadata": {},
   "source": [
    "\n",
    "## Introduction\n",
    "\n",
    "The aim of this notebook is to define which scenarios will be used to compare root system architecture models. The main difficulty here is that we do not have a exact solution for the simulation of root system architecture. We can only compare the models between them and see wether we observe variations between them. Here, the idea is not to use pre-defined parameters sets for eahc model, but the start from the experimental data. \n",
    "\n",
    "The benchmarking of structural root architecture models will be performed in 4 steps: (1) parameterize the root system architecture models  using a common set of metrics, coming from experimental data, (2) simulate a set of root systems for two different plant species (one dicotyledon and one monocotyledon) and different benchmark scenarios, (3) export and store the simulated root systems as Root System Markup Language (RSML) files, and (4) analyse the results using the pipelines available in the associated Jupyter notebook. It as to be noited that the following benchmark problems focus on root architecture dynamics modelling only, neglecting the effect of soil properties on root growth. \n"
   ]
  },
  {
   "cell_type": "markdown",
   "metadata": {},
   "source": [
    "## Benchmarking dataset description\n",
    "\n",
    "Two distinct datasets were assembled to form the root architecture benchmarking dataset. First, to analyse the capability of root models to represent the growth of dicot root systems , we analyzed images of lupin plants (*Lupinus ablus*) grown for 10 days in an aeroponic setup. Second, for monocot root systems, we analyzed images of maize plants (*Zea mays*) grown for 10 days on filter paper (pouches). for both plants, the images were analysed using the semi-automated root analysis software SmartRoot. The root tracing were stored as RSML data files for further analysis. For each root system, different type of informatio were extracted: summary metric at the root system level, such as the number of lateral roots or the total length of the root system, and detailed metrics at the root level, such as the lenght of each individual root, their insertion angle of insertion position on their parent. these two type of informations should help modellers parametrize their respective architectural model. \n",
    "\n",
    "![test](img/root-fig.png)\n",
    "\n"
   ]
  },
  {
   "cell_type": "markdown",
   "metadata": {},
   "source": [
    "## Model outputs\n",
    "\n",
    "The output of the architectural models should be in RSML format [Lobet et al. 2015]. More information about the RSML format can be found on the [official webpage of the project](http://rootsystemml.github.io/). Like this, we will be able to process all the output data at once using the archiDART R package [Delory et al. 2016, Delory et al. 2018]\n",
    "\n",
    "The outputs should be stored in the folder structure in the github repo:\n",
    "\n",
    "    - root_architecture\n",
    "        |\n",
    "         results\n",
    "             |\n",
    "             scenario_1\n",
    "                 |\n",
    "                 model_1\n",
    "                     |\n",
    "                     output_1.rsml\n",
    "                     output_2.rsml\n",
    "                     ...\n",
    "                 model_2\n",
    "                 model_3\n",
    "                 ...\n",
    "             |\n",
    "             scenario_2\n",
    "                 |\n",
    "                 model_1\n",
    "                     |\n",
    "                     output_1.rsml\n",
    "                     output_2.rsml\n",
    "                     ...\n",
    "                 model_2\n",
    "                 model_3\n",
    "                 ...\n",
    "                 \n",
    "By structuring the results like this, it will be easy to automatically compare them using archiDART. It will also be easy for future model to add their results to the existing ones and re-run the comparison."
   ]
  },
  {
   "cell_type": "markdown",
   "metadata": {},
   "source": [
    "## Benchmark B1: Reproducing root systems of 2D images\n",
    "\n",
    "The aim of this benchmarking exercise is to see if models are able to reproduce realistic root architectures based on a given experimental dataset. Each model has to be parametrized using the experimental data described in the previous section. Then, the model needs to simulate the growth of the root system for 10 days (duration of the experimental dataset)\n",
    "\n",
    "To do for this benchmark:\n",
    "\n",
    "1. create input files from the images or from the RSML files.\n",
    "2. run the model for **10** days\n",
    "3. output an RSML file every **1** days, to allow for a comparison over time\n"
   ]
  },
  {
   "cell_type": "markdown",
   "metadata": {},
   "source": [
    "## Benchmark B2: Longer simulation times than B1\n",
    "\n",
    "In this benchmark, simulations with same input parameter set as B1 but with longer simulation time than the duration of the experimental dataset. the aim of this exercise is to assess if the different model diverge on longer simulation time period. For this benchmark, the comparison can not be done with the experimental data anymore. the comparison is only done between the different models.\n",
    "\n",
    "To do for this benchmark:\n",
    "\n",
    "1. create input files from the images or from the RSML files.\n",
    "2. run the model for **60** days\n",
    "3. output an RSML file every **5** days, to allow for a comparison over time\n"
   ]
  },
  {
   "cell_type": "markdown",
   "metadata": {},
   "source": [
    "## Bibliography \n",
    "\n",
    "- Delory BM, Baudson C, Brostaux Y, Lobet G, du Jardin P, Pagès L, et al. archiDART: an R package for the automated computation of plant root architectural traits. Plant Soil. Springer International Publishing; 2016;398: 351–365. doi:10.1007/s11104-015-2673-4\n",
    "\n",
    "- Delory BM, Li M, Topp CN, Lobet G. archiDART v3.0: A new data analysis pipeline allowing the topological analysis of plant root systems. F1000Res. 2018;7. doi:10.12688/f1000research.13541.1\n",
    "\n",
    "- Landl M, Schnepf A, Vanderborght J, Bengough AG, Bauke SL, Lobet G, et al. Measuring root system traits of wheat in 2D images to parameterize 3D root architecture models. Plant Soil. 2018; doi:10.1007/s11104-018-3595-8\n",
    "\n",
    "- Lobet G, Pound MP, Diener J, Pradal C, Draye X, Godin C, et al. Root System Markup Language: Toward a Unified Root Architecture Description Language. Plant Physiol. American Society of Plant Biologists; 2015;167: 617–627. Available: http://www.plantphysiol.org/lookup/doi/10.1104/pp.114.253625\n"
   ]
  },
  {
   "cell_type": "code",
   "execution_count": null,
   "metadata": {
    "collapsed": true
   },
   "outputs": [],
   "source": []
  }
 ],
 "metadata": {
  "kernelspec": {
   "display_name": "Python 3",
   "language": "python",
   "name": "python3"
  },
  "language_info": {
   "codemirror_mode": {
    "name": "ipython",
    "version": 3
   },
   "file_extension": ".py",
   "mimetype": "text/x-python",
   "name": "python",
   "nbconvert_exporter": "python",
   "pygments_lexer": "ipython3",
   "version": "3.7.2"
  }
 },
 "nbformat": 4,
 "nbformat_minor": 2
}
