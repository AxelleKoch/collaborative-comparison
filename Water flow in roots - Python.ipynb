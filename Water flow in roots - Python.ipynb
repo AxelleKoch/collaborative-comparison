{
 "cells": [
  {
   "cell_type": "markdown",
   "metadata": {},
   "source": [
    "# Water flow in roots - Numerical solutions in Pyhton\n",
    "\n",
    "by Daniel Leitner, Andrea Schnepf\n",
    "\n",
    "In the following we will first describe the derivation of the numerical method (based on Schnepf et al. ), the resulting Python code (available as single file at the CRootBox git repository), and finally we demonstrate Benchmark 1 and 2."
   ]
  },
  {
   "cell_type": "markdown",
   "metadata": {},
   "source": [
    "## Numerical derivation\n",
    "\n",
    "In the graph the pressure $p_i$ is defined for each node $n_i$.  The edges at node $n_i$ are denoted as $e_{ij}$ with $j \\in N(i)$, where $N(i)$ are the indices of the neighbouring nodes.  Thus, the edge $e_{ij}$ connects node $n_i$ and node $n_j$ for each $j \\in N(i)$. \\\\\n",
    "\n",
    "For each edge $e_{ij}$ the axial water flux from $n_i$ to $n_j$ is \n",
    "\\begin{eqnarray}\n",
    "q_{z,ij} = - k_z ( \\frac{p_j-p_i}{l_{ij}} +\\rho g v_{ij,3} ),\n",
    "\\end{eqnarray}\n",
    "and the radial flux from segment $e_{ij}$ into the soil is \n",
    "\\begin{eqnarray}\n",
    "q_{r,ij} = - 2 a_{ij} \\pi l_{ij} k_r (p_s - p_{ij}), \n",
    "\\end{eqnarray}\n",
    "where $l_{ij}$ is the length, $v_{ij}$ the normed direction, $a_{ij}$ the radius, $p_{ij}$ is the mean edge pressure ($p_{ij} = \\frac{p_i+p_j}{2}$) of the edge $e_{ij}$. \n",
    "The value $p_s$ is the soil potential, surrounding the edge $e_{ij}$. \n",
    "The, net flux of a node is the sum of all axial fluxes $q_{z,ij}$ and half of the radial fluxes $q_{r,ij}$:\n",
    "\\begin{eqnarray}\n",
    "q_{ij} &=&  - a_{ij} \\pi l_{ij} k_r p_s - k_z \\rho g v_{ij,3}  \\nonumber \\\\ \n",
    "& & \\frac 1 2 a_{ij} \\pi l_{ij} k_r p_i + \\frac{1}{l_{ij}} k_z p_i  \\nonumber \\\\\n",
    "& & \\frac 1 2 a_{ij} \\pi l_{ij} k_r p_j - \\frac{1}{l_{ij}} k_z  p_j.   \\label{netflux}\n",
    "\\end{eqnarray} \\\\\n",
    "\n",
    "The first Kirchhoff law states that all fluxes into each node cancel out. This can be presented as a linear equation  \n",
    "\\begin{eqnarray}\n",
    "\\left( C p \\right)_i =  \\sum_{j \\in N(i)} c_{ii} p_i + c_{ij} p_j = b_i, \\label{linearsystem}\n",
    "\\end{eqnarray}\n",
    "where each row $i$ of $C$ represents the linear equation for node $i$. \n",
    "The diagonal elements of $C$ are derived by the second line of Eqn (\\ref{netflux}):\n",
    "\\begin{eqnarray}\n",
    "c_{ii} := \\sum_{j \\in N(i)} \\frac 1 2 a_{ij} \\pi l_{ij} k_r + \\frac{1}{l_{ij}} k_z, \n",
    "\\end{eqnarray}\n",
    "with $c_{ii}=c_{jj}$, and the other entries by the third line of Eqn (\\ref{netflux}):\n",
    "\\begin{eqnarray}\n",
    "c_{ij} := \\sum_{j \\in N(i)} \\frac 1 2  a_{ij} \\pi l_{ij} k_r - \\frac{1}{l_{ij}} k_z, \n",
    "\\end{eqnarray}\n",
    "with $c_{ij}=c_{ji}$. \n",
    "The value $b_i$ is derived from first line of Eqn (\\ref{netflux}): \n",
    "\\begin{eqnarray}\n",
    "b_i := \\sum_{j \\in N(i)} a_{ij} \\pi l_{ij} k_r p_s + k_z \\rho g v_{ij,3},\n",
    "\\end{eqnarray}\n",
    "and \n",
    "\\begin{eqnarray}\n",
    "b_j := \\sum_{j \\in N(i)} a_{ij} \\pi l_{ij} k_r p_s - k_z \\rho g v_{ij,3},\n",
    "\\end{eqnarray}\n",
    "because $v_{ij,3} = - v_{ji,3}$. This yields the linear system $Cp = b$ of Eqn (\\ref{linearsystem}). \\\\\n",
    "\n",
    "Note that $C$ is symmetric (since the graph is undirected) and sparse (most $c_{ij}$ are zero, since all $c_{ij}$ are zero where node $i$ and node$j$ are not connected by an edge). \n",
    "The soil matric potential $p_s$ and the direction of the edges $v_{ij}$ only enter the equation on the rhs affecting $b_i$.\n",
    "\n",
    "### Dirichlet\n",
    "\n",
    "The simplest way to implement a fixed pressure at node i, is to replace row i in the matrix $C$ by $e_i^T$, and $b_i$ by the desired matric potential. In this way the equation for node i of the linear equation $C p = b$ reads $p_i = h_i$.\t\n",
    "\n",
    "### Neumann\n",
    "\n",
    "Neumann boundary condition is implemented, by adding the flux $f_i$ to the specific node $i$ by adding it to the right hand side (i.e. $b_i := b_i + f_i$) of the linear equation."
   ]
  },
  {
   "cell_type": "markdown",
   "metadata": {},
   "source": [
    "## Implementation in Python "
   ]
  },
  {
   "cell_type": "markdown",
   "metadata": {},
   "source": [
    "We start wtih some imports:"
   ]
  },
  {
   "cell_type": "code",
   "execution_count": 326,
   "metadata": {},
   "outputs": [],
   "source": [
    "from math import *\n",
    "import numpy as np\n",
    "from numpy.linalg.linalg import norm\n",
    "import matplotlib.pylab as plt\n",
    "from scipy import sparse\n",
    "import scipy.sparse.linalg as LA\n",
    "from rsml import * # located in the same directory "
   ]
  },
  {
   "cell_type": "markdown",
   "metadata": {},
   "source": [
    "### Creating the linear system \n",
    "\n",
    "The following code builds the linear system as described above. Therefore we loop over each segment $e_{ij}$, and add its share to the system (i.e. $c_{ii}, c_{ij}, c_{jj}, c_{ji}, b_{i}, b_{j}$)\n",
    "\n",
    "The inputs are all parameters that are needed: \n",
    "* `seg`: numpy array ($N_s$,2) of segment indices [1]\n",
    "* `nodes`: numpy array ($N$,3) of the node coordinates [L]\n",
    "* `radius`: segment radii [L]\n",
    "* `kr` radial conductivity for each segment [L2 T M−1]\n",
    "* `kz` axial conductivity for each segment [L5 T M-1]\n",
    "* `rho` density of soil water [M L-3]\n",
    "* `g` gravitational acceleration [L T−2]\n",
    "* `soil_p` lambda function returning the soil matric potential at a given location, p=soil_p(x,y,z) [M L−1 T−2]\n",
    " \n",
    "The output is the linear system $Qx=b$"
   ]
  },
  {
   "cell_type": "code",
   "execution_count": 327,
   "metadata": {},
   "outputs": [],
   "source": [
    "def linear_system(seg, nodes, radius, kr, kz, rho, g, soil_p):\n",
    "    \n",
    "    Ns, N = seg.shape[0], nodes.shape[0]\n",
    "    I,J = np.zeros(4*Ns, dtype = np.int64), np.zeros(4*Ns, dtype = np.int64)    \n",
    "    V = np.zeros(4*Ns)\n",
    "    b = np.zeros(N)        \n",
    "    k = 0 # entry counter\n",
    "    \n",
    "    for c in range(0, Ns):        \n",
    "        \n",
    "        i,j = seg[c,0], seg[c,1]\n",
    "        n1, n2 = nodes[i,:], nodes[j,:]\n",
    "        mid = 0.5*(n1+n2)        \n",
    "        p_s = soil_p(mid[0],mid[1],mid[2]) # evaluate soil matric potential\n",
    "        v = n2-n1\n",
    "        l = norm(v)        \n",
    "        vz = v[2] / l # normed direction                \n",
    "        a = radius[c]\n",
    "        \n",
    "        cii = a*pi*l*kr[c]/2 + kz[c]/l # Eqn (5)\n",
    "        cij = a*pi*l*kr[c]/2 - kz[c]/l # Eqn (6)\n",
    "        bi = a*pi*l*kr[c]*p_s # first term of Eqn (7) & (8)            \n",
    "        \n",
    "        # edge ij\n",
    "        b[i] +=  ( bi + kz[c]*rho*g*vz )  # Eqn (7)             \n",
    "        I[k], J[k], V[k]  = i, i, cii\n",
    "        k += 1                        \n",
    "        I[k], J[k], V[k]  = i, j, cij\n",
    "        k += 1         \n",
    "        # edge ji\n",
    "        i, j = j, i\n",
    "        b[i] += ( bi - kz[c]*rho*g*vz ) # Eqn (8) \n",
    "        I[k], J[k], V[k]  = i, i, cii\n",
    "        k += 1                          \n",
    "        I[k], J[k], V[k]  = i, j, cij\n",
    "        k += 1 \n",
    "         \n",
    "    Q = sparse.coo_matrix((V,(I,J)))    \n",
    "    Q = sparse.csr_matrix(Q)     \n",
    "    return (Q, b)"
   ]
  },
  {
   "cell_type": "markdown",
   "metadata": {},
   "source": [
    "Modifies the linear system $Q, b$ to describe Diriclet boundary conditions at the node indices `n0` as described above.\n",
    "\n",
    "Input parameter are \n",
    "* `n0`: node indices where to apply the boundary condition\n",
    "* `d`: fixed potential at n0"
   ]
  },
  {
   "cell_type": "code",
   "execution_count": 328,
   "metadata": {},
   "outputs": [],
   "source": [
    "def bc_dirichlet(Q, b, n0, d):\n",
    "    c = 0\n",
    "    for c in range(0, len(n0)):\n",
    "        i = n0[c]          \n",
    "        e0 = np.zeros((1,Q.shape[1])) # build zero vector\n",
    "        Q[i,:] = sparse.csr_matrix(e0) # replace row i with ei\n",
    "        Q[i,i] = 1\n",
    "        b[i] = d[c]    \n",
    "    return Q, b "
   ]
  },
  {
   "cell_type": "markdown",
   "metadata": {},
   "source": [
    "Modifies the linear system $Q, b$ to describe a Neumann boundary conditions at the node indices `n0` as described above.\n",
    "\n",
    "Input parameter are \n",
    "* `n0`: node indices where to apply the boundary condition\n",
    "* `f`: flux at n0"
   ]
  },
  {
   "cell_type": "code",
   "execution_count": 329,
   "metadata": {},
   "outputs": [],
   "source": [
    "def bc_neumann(Q, b, n0, f):\n",
    "    c = 0\n",
    "    for c in range(0, len(n0)):                \n",
    "        i = n0[c]  # print(\"Neumann BC at node \"+str(i))       \n",
    "        b[i] += f[c]        \n",
    "    return Q, b "
   ]
  },
  {
   "cell_type": "markdown",
   "metadata": {},
   "source": [
    "## Benchmark 1 \n",
    "\n",
    "We compare the Pyhton numerical implementation to the analytical solution. First, some additional definitions"
   ]
  },
  {
   "cell_type": "code",
   "execution_count": 330,
   "metadata": {},
   "outputs": [],
   "source": [
    "g = 9.81                 # gravitational acceleration (m/s^2)   \n",
    "rho = 1.e3               # density of water, (kg/m^3)      \n",
    "ref = 1.e5               # reference pressure (kg/ (m s^2))\n",
    "\n",
    "def toPa(ph): # cm pressure head to Pascal (kg/ (m s^2))\n",
    "    return ref + ph / 100. * rho * g\n",
    "\n",
    "def toHead(pa): # Pascal (kg/ (m s^2)) to cm pressure head\n",
    "    return (pa-ref) * 100. / rho / g"
   ]
  },
  {
   "cell_type": "markdown",
   "metadata": {
    "collapsed": true
   },
   "source": [
    "Next we pick the parameters "
   ]
  },
  {
   "cell_type": "code",
   "execution_count": 331,
   "metadata": {},
   "outputs": [
    {
     "name": "stdout",
     "output_type": "stream",
     "text": [
      "kz 5.096839959225281e-17\n",
      "kr 2.038735983690112e-13\n"
     ]
    }
   ],
   "source": [
    "# Parameters\n",
    "L = 0.5                          # length of single straight root (m)\n",
    "a = 2.e-3                        # radius (m)\n",
    "kz0 = 4.32e-2                    # cm^3 day-1\n",
    "kz = 1e-6*kz0/(rho*g)/(24*3600)  # axial conductivity (m^5 s / kg) (mal rho ergibt die alten einheiten)\n",
    "kr0 = 1.728e-4                   # 1/day\n",
    "kr = kr0/(rho*g)/(24* 3600)      # radial conductivity per root type (m^2 s / kg) \n",
    "p_s = toPa(-200)                 # static soil pressure (cm) \n",
    "p0 = toPa(-1000)                 # dircichlet bc at top\n",
    "print(\"kz\", kz)\n",
    "print(\"kr\", kr)"
   ]
  },
  {
   "cell_type": "markdown",
   "metadata": {},
   "source": [
    "First we recalculate the analytical solution (for later comparison)"
   ]
  },
  {
   "cell_type": "code",
   "execution_count": 332,
   "metadata": {},
   "outputs": [],
   "source": [
    "# Analytical solution\n",
    "c = 2*a*pi*kr/kz\n",
    "p_r = lambda z: toHead( p_s + d[0]*exp(sqrt(c)*z) + d[1]*exp(-sqrt(c)*z) )\n",
    "# Boundary conditions\n",
    "AA = np.array([[1,1], [sqrt(c)*exp(-sqrt(c)*L), -sqrt(c)*exp(sqrt(c)*L)] ]) # dirichlet top, neumann bot\n",
    "bb = np.array([p0-p_s, -rho*g]) #\n",
    "d = np.linalg.solve(AA, bb) # compute constants d_1 and d_2 from bc\n",
    "# Evaluate function\n",
    "za_ = np.linspace(0,-L,100)\n",
    "pr = list(map(p_r, za_))"
   ]
  },
  {
   "cell_type": "markdown",
   "metadata": {},
   "source": [
    "For the numerical solution we first create a grid. nnz denotes the resolution."
   ]
  },
  {
   "cell_type": "code",
   "execution_count": 333,
   "metadata": {},
   "outputs": [],
   "source": [
    "nnz = 100\n",
    "nodes = np.zeros((nnz,3))\n",
    "seg = np.zeros(((nnz-1),2), dtype=int) \n",
    "c = 0\n",
    "for i in range(1, nnz):\n",
    "    seg[c,0] = i-1\n",
    "    seg[c,1] = i\n",
    "    c += 1    \n",
    "    nodes[i,:] = [0.,0.,-i*L/(nnz-1)]"
   ]
  },
  {
   "cell_type": "markdown",
   "metadata": {},
   "source": [
    "Next we copy the constant values to lists, so that we have a value per segment, and create a call back function for the soil matric potential."
   ]
  },
  {
   "cell_type": "code",
   "execution_count": 334,
   "metadata": {},
   "outputs": [],
   "source": [
    "kr_ = [kr] * (nnz-1)\n",
    "kz_ = [kz] * (nnz-1)\n",
    "a_ = [a] * (nnz-1)            \n",
    "soil = lambda x,y,z : p_s # call back function for soil potential"
   ]
  },
  {
   "cell_type": "markdown",
   "metadata": {},
   "source": [
    "Now we create the linear system, and apply the boundary conditions"
   ]
  },
  {
   "cell_type": "code",
   "execution_count": 335,
   "metadata": {},
   "outputs": [],
   "source": [
    "Q, b = linear_system(seg, nodes, a_, kr_, kz_, rho, g, soil) #  \n",
    "\n",
    "Q, b = bc_dirichlet(Q, b, np.array([0]), np.array([p0])) # dirichlet top\n",
    "Q, b = bc_neumann(Q, b, [nnz-1], [0]) # neumann bot\n",
    "\n",
    "x = LA.spsolve(Q, b, use_umfpack = True) # direct"
   ]
  },
  {
   "cell_type": "markdown",
   "metadata": {},
   "source": [
    "And, the result:"
   ]
  },
  {
   "cell_type": "code",
   "execution_count": 336,
   "metadata": {},
   "outputs": [
    {
     "data": {
      "image/png": "[encoded data removed]",
      "text/plain": [
       "<Figure size 504x504 with 1 Axes>"
      ]
     },
     "metadata": {
      "needs_background": "light"
     },
     "output_type": "display_data"
    }
   ],
   "source": [
    "fig=plt.figure(figsize=(7, 7))\n",
    "plt.plot(list(map(toHead, x)),za_,\"r*\")\n",
    "plt.plot(pr,za_)\n",
    "plt.xlabel(\"Xylem pressure (cm)\")\n",
    "plt.ylabel(\"Depth (m)\")\n",
    "# for automatic evalutation\n",
    "np.savetxt(\"xylem_flux/b1/python\", np.vstack((za_,list(map(toHead, x)))),delimiter=',')\n",
    "plt.show()"
   ]
  },
  {
   "cell_type": "markdown",
   "metadata": {
    "collapsed": true
   },
   "source": [
    "## Benchmark 2\n",
    "\n",
    "\n",
    "The benchmark is given by a static small root system, static conductivities, a predefined pressure (-1000 cm) at the root collar, and no-flux at the root tips."
   ]
  },
  {
   "cell_type": "code",
   "execution_count": 337,
   "metadata": {},
   "outputs": [
    {
     "name": "stdout",
     "output_type": "stream",
     "text": [
      "nodes: (2882, 3)\n",
      "segs (2881, 2)\n"
     ]
    }
   ],
   "source": [
    "simtime = 14 # dasys\n",
    "polylines, props, funcs = read_rsml(\"root_grid/RootSystem.rsml\")\n",
    "nodes, segs = get_segments(polylines, props)     \n",
    "nodes = np.array(nodes)*1.e-3 # mm->m, and convert from list to numpy array\n",
    "segs = np.array(segs, dtype = np.int64) # convert from list to numpy array \n",
    "print(\"nodes:\", nodes.shape)\n",
    "print(\"segs\", segs.shape)\n",
    "radii, cts, types = get_parameter(polylines, funcs, props)\n",
    "radii = np.array(radii)*1.e-3 # mm->m\n",
    "age = 14 - np.array(cts)"
   ]
  },
  {
   "cell_type": "markdown",
   "metadata": {
    "collapsed": true
   },
   "source": [
    "We prepare the parameters to use the aboves numerical scheme, and create the linear system:"
   ]
  },
  {
   "cell_type": "code",
   "execution_count": 338,
   "metadata": {},
   "outputs": [],
   "source": [
    "# Parameter\n",
    "kx = 5.e-13 / (rho*g)\n",
    "kr = 2.e-9 / (rho*g)\n",
    "kx_ = [kx] * (len(age))\n",
    "kr_ = [kr] * (len(age))\n",
    "p_s = toPa(-200) # cm->Pa\n",
    "soil = lambda x,y,z : p_s # cm pressure head\n",
    "rho = 1.e3 # kg/m^3\n",
    "g = 9.81 # m/s^2     \n",
    "#  Create linear system\n",
    "Q, b = linear_system(segs, nodes, radii, kr_, kx_, rho, g, soil) "
   ]
  },
  {
   "cell_type": "markdown",
   "metadata": {},
   "source": [
    "Next, we need to set the boundary conditions by modifying the linear system:"
   ]
  },
  {
   "cell_type": "code",
   "execution_count": 339,
   "metadata": {},
   "outputs": [],
   "source": [
    "tips = [len(polylines[0])-1]\n",
    "for p in polylines[1:]:\n",
    "    tips.append(tips[-1]+1+len(p)-1)\n",
    "\n",
    "p0 = toPa(-500) # cm->Pa, pressure at root collar \n",
    "\n",
    "Q, b = bc_dirichlet(Q, b, np.array([0]), np.array([p0])) # dirichlet top\n",
    "Q, b = bc_neumann(Q, b, np.array(tips), np.zeros(len(tips))) # neumann at tips"
   ]
  },
  {
   "cell_type": "markdown",
   "metadata": {},
   "source": [
    "Finally, we can solve the system"
   ]
  },
  {
   "cell_type": "code",
   "execution_count": 340,
   "metadata": {},
   "outputs": [
    {
     "name": "stdout",
     "output_type": "stream",
     "text": [
      "net collar flux is 29.182934502613016 mm^3/day;  axial 29.333315816207982 , radial -0.15038131359496612\n"
     ]
    }
   ],
   "source": [
    "x = LA.spsolve(Q, b, use_umfpack = True) # direct\n",
    "x = toHead(x)\n",
    "\n",
    "qz = -kx*((x[1]-x[0])/0.001-rho*g) *24*3600*1e9 # m^3 s^-1 -> mm^3 day^-1 \n",
    "qr = -0.001*2*pi*radii[0]*1.e-2*kr*(p_s-x[0]) *24*3600*1e9 # m^3 s^-1 -> mm^3 day^-1 \n",
    "print(\"net collar flux is\", qr+qz, \"mm^3/day; \", \"axial\", qz, \", radial\", qr) "
   ]
  },
  {
   "cell_type": "markdown",
   "metadata": {},
   "source": [
    "and plot the final result:"
   ]
  },
  {
   "cell_type": "code",
   "execution_count": 341,
   "metadata": {},
   "outputs": [
    {
     "name": "stdout",
     "output_type": "stream",
     "text": [
      "from  -500.0 to -240.8156139015563  cm pressure head\n"
     ]
    },
    {
     "data": {
      "image/png": "[encoded data removed]",
      "text/plain": [
       "<Figure size 504x504 with 1 Axes>"
      ]
     },
     "metadata": {
      "needs_background": "light"
     },
     "output_type": "display_data"
    }
   ],
   "source": [
    "xmin, xmax = min(x), max(x)\n",
    "print(\"from \", xmin, \"to\", xmax, \" cm pressure head\")\n",
    "# Plot\n",
    "nodes_ = np.array(nodes)\n",
    "fig=plt.figure(figsize=(7, 7))\n",
    "y_ = []\n",
    "x_ = []\n",
    "for i,s in enumerate(segs): \n",
    "    n = 0.5*(nodes_[s[0]]+nodes_[s[1]]) # mid point\n",
    "    c = (x[s[0]]-xmin)/(xmax-xmin)\n",
    "    plt.plot([n[0]*100, n[0]*100], [n[2]*100, n[2]*100], \"*\", color = plt.cm.jet(c))    \n",
    "    nn=n[2]*100;\n",
    "    y_.append(nn) # todo \n",
    "    x_.append(x[s[0]])\n",
    "plt.axis('equal')\n",
    "plt.xlabel(\"cm\")\n",
    "plt.ylabel(\"cm\")\n",
    "plt.show()\n",
    "# Save file\n",
    "np.savetxt(\"root_water_flow/M32a/python_\", np.vstack((y_,x_)),delimiter=',')"
   ]
  },
  {
   "cell_type": "markdown",
   "metadata": {
    "collapsed": true
   },
   "source": [
    "## Benchmark 3\n",
    "\n",
    "\n",
    "Same as before but with age depending conductivities:"
   ]
  },
  {
   "cell_type": "code",
   "execution_count": 342,
   "metadata": {},
   "outputs": [
    {
     "name": "stdout",
     "output_type": "stream",
     "text": [
      "net collar flux is [[ 1.11560109e+02 -1.16544003e+09]\n",
      " [-7.37620343e+11 -1.23182586e+09]\n",
      " [-1.47524069e+12 -1.30558790e+09]\n",
      " [-2.21286103e+12 -1.37934993e+09]\n",
      " [-2.95048137e+12 -1.46048817e+09]\n",
      " [-3.68810172e+12 -1.54162641e+09]\n",
      " [-4.42572206e+12 -1.63014085e+09]\n",
      " [-5.16334240e+12 -1.72603149e+09]\n",
      " [-5.90096275e+12 -1.82929834e+09]\n",
      " [-6.63858309e+12 -1.93256519e+09]\n",
      " [-7.37620343e+12 -2.04320824e+09]\n",
      " [-8.11382377e+12 -2.16122749e+09]\n",
      " [-8.85144412e+12 -2.28662295e+09]\n",
      " [-9.58906446e+12 -2.41939461e+09]\n",
      " [-1.03266848e+13 -2.55954248e+09]\n",
      " [-1.10643051e+13 -2.70706655e+09]\n",
      " [-1.18019255e+13 -2.86934302e+09]\n",
      " [-1.25395458e+13 -3.03161950e+09]] mm^3/day;  axial 111.56010919933199 , radial [[-0.00000000e+00 -1.16544014e+09]\n",
      " [-7.37620343e+11 -1.23182597e+09]\n",
      " [-1.47524069e+12 -1.30558801e+09]\n",
      " [-2.21286103e+12 -1.37935004e+09]\n",
      " [-2.95048137e+12 -1.46048828e+09]\n",
      " [-3.68810172e+12 -1.54162652e+09]\n",
      " [-4.42572206e+12 -1.63014096e+09]\n",
      " [-5.16334240e+12 -1.72603160e+09]\n",
      " [-5.90096275e+12 -1.82929845e+09]\n",
      " [-6.63858309e+12 -1.93256530e+09]\n",
      " [-7.37620343e+12 -2.04320835e+09]\n",
      " [-8.11382378e+12 -2.16122761e+09]\n",
      " [-8.85144412e+12 -2.28662306e+09]\n",
      " [-9.58906446e+12 -2.41939473e+09]\n",
      " [-1.03266848e+13 -2.55954259e+09]\n",
      " [-1.10643051e+13 -2.70706666e+09]\n",
      " [-1.18019255e+13 -2.86934313e+09]\n",
      " [-1.25395458e+13 -3.03161961e+09]]\n"
     ]
    }
   ],
   "source": [
    "from scipy import interpolate\n",
    "#kx0 = np.array([[0,0], [1,0], [3,0.43], [5, 4.3]])\n",
    "#kr0 = np.array([[0,1.7e-4], [5,1.7e-4], [10,6e-5], [15,6e-5], [20,1e-5]])\n",
    "#kx1 = np.array([[0,0], [5,0], [10,1e-4], [12,6e-4], [23,1.7e-3]])\n",
    "#kr1 = np.array([[0,2e-4], [10,2e-4], [15,0]])\n",
    "kx0 = np.array([[0,3.57E-01],[2,3.21E-01],[4,2.90E-01],[6,2.61E-01],[8,2.35E-01],[10,2.12E-01],[12,1.91E-01],[14,1.72E-01],[16,1.55E-01],[18,1.40E-01],[20,1.26E-01],[22,1.13E-01],[24,1.02E-01],[26,9.21E-02], [28,8.30E-02],[30,7.48E-02],[32,6.74E-02]])\n",
    "kr0 = np.array([[0,5.17E-04],[2,5.43E-04],[4,5.70E-04],[6,5.99E-04],[8,6.30E-04],[10,6.62E-04],[12,6.95E-04],[14,7.30E-04],[16,7.67E-04],[18,8.06E-04],[20,8.47E-04],[22,8.90E-04],[24,9.35E-04],[26,9.83E-04],[28,1.03E-03],[30,1.09E-03],[32,1.14E-03]])\n",
    "kx1 = np.array([[0,1.36E-02],[1,1.11E-02],[2,9.03E-03],[3,7.34E-03],[4,5.97E-03],[5,4.86E-03],[6,3.95E-03],[7,3.21E-03],[8,2.61E-03],[9,2.12E-03],[10,1.73E-03],[11,1.41E-03],[12,1.14E-03],[13,9.30E-04],[14,7.56E-04],[15,6.15E-04],[16,5.00E-04],[17,4.07E-04]])\n",
    "kr1 = np.array([[0,1.58E-03],[1,1.67E-03],[2,1.77E-03],[3,1.87E-03],[4,1.98E-03],[5,2.09E-03],[6,2.21E-03],[7,2.34E-03],[8,2.48E-03],[9,2.62E-03],[10,2.77E-03],[11,2.93E-03],[12,3.10E-03],[13,3.28E-03],[14,3.47E-03],[15,3.67E-03],[16,3.89E-03],[17,4.11E-03]])\n",
    "kx0_ = interpolate.interp1d(kx0[:,0], kx0[:,1], fill_value = 4.3, bounds_error = False)\n",
    "kr0_ = interpolate.interp1d(kr0[:,0], kr0[:,1], fill_value = 1e-5, bounds_error = False)\n",
    "kx1_ = interpolate.interp1d(kx1[:,0], kx1[:,1], fill_value = 1.7e-3, bounds_error = False)\n",
    "kr1_ = interpolate.interp1d(kr1[:,0], kr1[:,1], fill_value = 0, bounds_error = False)\n",
    "\n",
    "kx_ = np.zeros(len(segs))\n",
    "kr_ = np.zeros(len(segs))\n",
    "for i in range(0, len(segs)):\n",
    "    if types[i]==1:\n",
    "        kx_[i] = kx0_(age[i]) /(24*3600) /1e6/ (rho*g)\n",
    "        kr_[i] = kr0_(age[i]) /(24*3600) / (rho*g)\n",
    "    else:\n",
    "        kx_[i] = kx1_(age[i]) /(24*3600) /1e6/ (rho*g)\n",
    "        kr_[i] = kr1_(age[i]) /(24*3600) / (rho*g)\n",
    "    \n",
    "#  Create linear system\n",
    "Q, b = linear_system(segs, nodes, radii, kr_, kx_, rho, g, soil) \n",
    "\n",
    "# BC\n",
    "p0 = toPa(-500) # cm->Pa, pressure at root collar \n",
    "Q, b = bc_dirichlet(Q, b, np.array([0]), np.array([p0])) # dirichlet top\n",
    "Q, b = bc_neumann(Q, b, np.array(tips), np.zeros(len(tips))) # neumann at tips\n",
    "\n",
    "x = LA.spsolve(Q, b, use_umfpack = True) # direct\n",
    "x = toHead(x)\n",
    "\n",
    "qz = -kx_[0]*((x[1]-x[0])/0.001-rho*g) *24*3600*1e9 # m^3 s^-1 -> mm^3 day^-1 \n",
    "qr = -0.001*2*pi*radii[0]*1.e-2*kr1*(p_s-x[0]) *24*3600*1e9 # m^3 s^-1 -> mm^3 day^-1 \n",
    "print(\"net collar flux is\", qr+qz, \"mm^3/day; \", \"axial\", qz, \", radial\", qr) "
   ]
  },
  {
   "cell_type": "code",
   "execution_count": 343,
   "metadata": {},
   "outputs": [
    {
     "name": "stdout",
     "output_type": "stream",
     "text": [
      "from  -500.0 to -197.38274261936363  cm pressure head\n"
     ]
    },
    {
     "data": {
      "image/png": "[encoded data removed]",
      "text/plain": [
       "<Figure size 504x504 with 1 Axes>"
      ]
     },
     "metadata": {
      "needs_background": "light"
     },
     "output_type": "display_data"
    }
   ],
   "source": [
    "xmin = min(x)\n",
    "xmax = max(x)\n",
    "print(\"from \", xmin, \"to\", xmax, \" cm pressure head\")\n",
    "# Plot\n",
    "nodes_ = np.array(nodes)\n",
    "fig=plt.figure(figsize=(7, 7))\n",
    "y_ = []\n",
    "x_ = []\n",
    "for i,s in enumerate(segs): \n",
    "    n = 0.5*(nodes_[s[0]]+nodes_[s[1]]) # mid point\n",
    "    c = (x[s[0]]-xmin)/(xmax-xmin)\n",
    "    plt.plot([n[0]*100, n[0]*100], [n[2]*100, n[2]*100], \"*\", color = plt.cm.jet(c))  \n",
    "    nn=n[2]*100;\n",
    "    y_.append(nn) # todo     \n",
    "    x_.append(x[s[0]])\n",
    "plt.axis('equal')\n",
    "plt.xlabel(\"cm\")\n",
    "plt.ylabel(\"cm\")\n",
    "plt.show()\n",
    "# Save file\n",
    "np.savetxt(\"root_water_flow/M32b/python_\", np.vstack((y_,x_)),delimiter=',')"
   ]
  },
  {
   "cell_type": "markdown",
   "metadata": {},
   "source": [
    "## References\n",
    "\n",
    "Schnepf, A., Leitner, D., Landl, M., Lobet, G., Mai, T.H., Morandage S., Sheng, C., Zoerner, M., Vanderborght, J., Vereecken, H. (2018) CRootBox: a structural-functional modelling framework for root systems. *Annals of Botany*, 121 (5), 1033-1053\n"
   ]
  },
  {
   "cell_type": "code",
   "execution_count": null,
   "metadata": {},
   "outputs": [],
   "source": []
  }
 ],
 "metadata": {
  "kernelspec": {
   "display_name": "Python 3",
   "language": "python",
   "name": "python3"
  },
  "language_info": {
   "codemirror_mode": {
    "name": "ipython",
    "version": 3
   },
   "file_extension": ".py",
   "mimetype": "text/x-python",
   "name": "python",
   "nbconvert_exporter": "python",
   "pygments_lexer": "ipython3",
   "version": "3.6.8"
  },
  "latex_envs": {
   "LaTeX_envs_menu_present": true,
   "autoclose": false,
   "autocomplete": true,
   "bibliofile": "biblio.bib",
   "cite_by": "apalike",
   "current_citInitial": 1,
   "eqLabelWithNumbers": true,
   "eqNumInitial": 1,
   "hotkeys": {
    "equation": "Ctrl-E",
    "itemize": "Ctrl-I"
   },
   "labels_anchors": false,
   "latex_user_defs": false,
   "report_style_numbering": false,
   "user_envs_cfg": false
  }
 },
 "nbformat": 4,
 "nbformat_minor": 2
}
