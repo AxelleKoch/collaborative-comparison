{
 "cells": [
  {
   "cell_type": "markdown",
   "metadata": {},
   "source": [
    "# Module 2: Water flow in soil (steady state) \n",
    "\n",
    "*by Daniel Leitner, Andrea Schnepf, Valentin Couvreur, Axelle Koch*"
   ]
  },
  {
   "cell_type": "markdown",
   "metadata": {},
   "source": [
    "## Theory\n",
    "\n",
    "\n",
    "Water flow in soil is described by the Richards equation, which is given by \n",
    "\\begin{eqnarray} \\label{eq:rich1d}\n",
    "\\frac{\\partial \\theta}{\\partial t}=  \\nabla \\cdot\\left( K_c(\\theta) \\left( \\nabla \\psi_s - e_3 \\right) \\right),\n",
    "\\end{eqnarray}\n",
    "in three dimesnions, where $\\theta$ is the water content [1], $K_c$ is the hydraulic conductivity [cm / day], and  $\\psi_s$ is the soil matric potential [cm]. \n",
    "\n",
    "\n",
    "The relationship between soil water potential and water content is generally described by the water retention curve. In the following we will use the Mualem Van Genuchten model (Van Genuchten, 1980) to describe this curve specifying the soil moisture characteristic of specific soils. "
   ]
  },
  {
   "cell_type": "markdown",
   "metadata": {},
   "source": [
    "## Benchmarks\n",
    "\n",
    "\n",
    "Benchmarks for water movement in soil were developed by Vanderborght et al. (2005). In the following we will shortly describe the steady state benchmarks and their analytical solutions. The derivation is given by Vanderborght et al. (2005).  \n",
    "\n",
    "In the following benchmarks soil properties are described by the van Genuchten model (Van Genuchten, 1980). In the following we first import libraries and define some auxiliary functions:"
   ]
  },
  {
   "cell_type": "code",
   "execution_count": 41,
   "metadata": {},
   "outputs": [],
   "source": [
    "import numpy as np\n",
    "from scipy import optimize\n",
    "from scipy import integrate\n",
    "from scipy.interpolate import interp1d\n",
    "import matplotlib.pyplot as plt\n",
    "from math import * \n",
    "import os\n",
    "import ast"
   ]
  },
  {
   "cell_type": "code",
   "execution_count": 42,
   "metadata": {},
   "outputs": [],
   "source": [
    "# Mualem - van Genuchten model, equations from van Genuchten, MT (1980)\n",
    "\n",
    "# class containing the van genuchten parameters\n",
    "class Parameters:\n",
    "    def __init__(self, R, S, alpha, n, Ksat):\n",
    "        self.theta_R = R\n",
    "        self.theta_S = S        \n",
    "        self.alpha = alpha # [1/cm]         \n",
    "        self.n = n\n",
    "        self.m = 1.-1./n\n",
    "        self.Ksat = Ksat       \n",
    "\n",
    "# returns the volumetric water content at a given pressure head  according to the van genuchten model (Eqn 21)\n",
    "def water_content(h, sp):\n",
    "    return sp.theta_R + (sp.theta_S-sp.theta_R)/pow(1. + pow(sp.alpha*abs(h),sp.n),sp.m)\n",
    "\n",
    "# returns pressure head at a given volumetric water content according to the van genuchten model\n",
    "def pressure_head(theta, sp): \n",
    "    theta = min(theta,sp.theta_S) # saturated water conent is the maximum \n",
    "    return - pow( pow( (sp.theta_S - sp.theta_R)/(theta - sp.theta_R), (1./sp.m))-1., 1./sp.n) / sp.alpha\n",
    "\n",
    "# returns the effective saturation according to the van genuchten model (dimensionless water content, Eqn 2)\n",
    "def effective_saturation(h,sp):\n",
    "    h = min(h,0) # pressure head is negative, zero the maximum\n",
    "    theta = water_content(h,sp)\n",
    "    se = (theta-sp.theta_R)/(sp.theta_S-sp.theta_R)\n",
    "    return se\n",
    "\n",
    "# returns the hydraulic conductivity according to the van genuchten model (Eqn 8)\n",
    "def hydraulic_conductivity(h,sp):\n",
    "    se = effective_saturation(h,sp) \n",
    "    K = sp.Ksat*sqrt(se)*( (1. - pow(1. - pow(se, 1. / sp.m),sp.m)) ** 2 )\n",
    "    return K \n",
    "\n",
    "# returns the specific moisture storage according to the van genuchten model\n",
    "def specific_moisture_storage(h,sp):\n",
    "    C = -sp.alpha*sp.n*np.sign(h)*(1. / sp.n - 1.) * pow(sp.alpha*abs(h), sp.n-1.) * (sp.theta_R-sp.theta_S) * pow(pow(sp.alpha*abs(h),sp.n) + 1., 1./sp.n-2.)\n",
    "    return C\n",
    "\n",
    "# returns the water diffusivity (Eqn 11)\n",
    "def water_diffusivity(TH, theta_i, theta_sur, sp):\n",
    "    theta = TH * (theta_i - theta_sur) + theta_sur\n",
    "    Se = (theta - sp.theta_R) / (sp.theta_S - sp.theta_R)\n",
    "    m = sp.m\n",
    "    D = (1 - m) * sp.Ksat / (sp.alpha * m * (sp.theta_S - sp.theta_R)) * pow(Se, 0.5 - 1. / m) * (pow(1 - pow(Se, 1. / m), -m) + pow(1 - pow(Se, 1 / m), m) - 2)\n",
    "    return D"
   ]
  },
  {
   "cell_type": "markdown",
   "metadata": {},
   "source": [
    "The benchmarks use the following soil types (from the soil catalogue of Hydrus 1D), the parameters are $\\theta_r$, $\\theta_s$, $\\alpha$, $n$, and $K_s$:"
   ]
  },
  {
   "cell_type": "code",
   "execution_count": 43,
   "metadata": {},
   "outputs": [],
   "source": [
    "sand = Parameters(0.045, 0.43, 0.15, 3, 1000) \n",
    "loam = Parameters(0.08, 0.43, 0.04, 1.6, 50)\n",
    "clay = Parameters(0.1, 0.4, 0.01, 1.1, 10)"
   ]
  },
  {
   "cell_type": "markdown",
   "metadata": {},
   "source": [
    "### 1 Steady state flux in a layered soil profile\n",
    "\n",
    "\n",
    "The soil consists of two layers, a top layer between 0 and -50 cm, and a bottom layer from -50 to -200 cm. We assume three scenarios: loam over sand, sand over loam, clay over sand.\n",
    "\n",
    "The initial condition are -200 cm in both layers. At top we assume an influx of 0.5 cm/day and at the bottom free drainage."
   ]
  },
  {
   "cell_type": "markdown",
   "metadata": {},
   "source": [
    "The analytical solution is calculated by the following code and reproduces Figure 2abc from Vanderborght et al. (2005). "
   ]
  },
  {
   "cell_type": "code",
   "execution_count": 49,
   "metadata": {},
   "outputs": [
    {
     "data": {
      "image/png": "[encoded data removed]",
      "text/plain": [
       "<Figure size 1008x504 with 3 Axes>"
      ]
     },
     "metadata": {
      "needs_background": "light"
     },
     "output_type": "display_data"
    }
   ],
   "source": [
    "Jw = 0.5;  # constant downward flow rate [cm/d]\n",
    "\n",
    "# The lower part (constant pressure)\n",
    "Ks = lambda psi: hydraulic_conductivity(psi,sand)-Jw\n",
    "Kl = lambda psi: hydraulic_conductivity(psi,loam)-Jw\n",
    "Kc = lambda psi: hydraulic_conductivity(psi,clay)-Jw\n",
    "psi_s = optimize.brentq(Ks, -100, 0)\n",
    "psi_l = optimize.brentq(Kl, -100, 0)\n",
    "psi_c = optimize.brentq(Kc, -100, 0)\n",
    "\n",
    "# The upper part\n",
    "Ks = lambda psi: hydraulic_conductivity(psi,sand)\n",
    "Kl = lambda psi: hydraulic_conductivity(psi,loam)\n",
    "Kc = lambda psi: hydraulic_conductivity(psi,clay)\n",
    "Fs = lambda psi: 1./(Jw/Ks(psi) - 1.) # integrand Eqn [14]\n",
    "Fl = lambda psi: 1./(Jw/Kl(psi) - 1.)\n",
    "Fc = lambda psi: 1./(Jw/Kc(psi) - 1.)\n",
    "    \n",
    "N = 1000 # resolution\n",
    "dz = np.ones(N,)\n",
    "eps = 1.e-5 # to avoid quadrature warnings\n",
    "    \n",
    "psi1A = np.linspace(psi_l+eps,psi_s,N) # loam (on sand)\n",
    "for i in range(0,N):\n",
    "    dz[i], err = integrate.quad(Fl,psi_s, psi1A[i])\n",
    "z1A = dz - 50.      \n",
    "psi1B = np.linspace(psi_l,psi_s-eps,N) # sand (on loam)\n",
    "for  i in range(0,N):\n",
    "    dz[i], err = integrate.quad(Fs,psi_l,psi1B[i])\n",
    "z1B = dz -50;         \n",
    "psi1C = np.linspace(psi_s,psi_c-eps,N); # clay (on sand)\n",
    "for  i in range(0,N):    \n",
    "    dz[i], err = integrate.quad(Fc,psi_s,psi1C[i]) \n",
    "z1C = dz -50;\n",
    "\n",
    "z_ = np.linspace(-50,-100,2) # attach lower const part\n",
    "z1A = np.hstack((z1A, z_))\n",
    "psi1A = np.hstack((psi1A, np.array([psi_s,psi_s])))\n",
    "z1B = np.hstack((z_,z1B))\n",
    "psi1B = np.hstack((np.array([psi_l,psi_l]), psi1B))\n",
    "z1C = np.hstack((z_, z1C))\n",
    "psi1C = np.hstack((np.array([psi_s,psi_s]), psi1C))\n",
    "\n",
    "# prepare plots\n",
    "fig, (ax1, ax2, ax3) = plt.subplots(1, 3, figsize=(14, 7))    \n",
    "ax1.plot(psi1A,z1A,'b');\n",
    "ax1.set_xlabel('$\\psi$ [cm]')\n",
    "ax1.set_ylabel('Depth [cm]')\n",
    "ax1. set_xlim(-50,-10)\n",
    "ax1.set_ylim(-100,0)    \n",
    "ax2.plot(psi1B,z1B,'b');\n",
    "ax2.set_xlabel('$\\psi$ [cm]')\n",
    "ax2.set_xlim(-50,-10)\n",
    "ax2.set_ylim(-60,-40)    \n",
    "ax3.plot(psi1C,z1C,'b');\n",
    "ax3.set_xlabel('$\\psi$ [cm]')\n",
    "ax3.set_xlim(-28,-8)\n",
    "ax3.set_ylim(-100,0)\n",
    "plt.show()"
   ]
  },
  {
   "cell_type": "markdown",
   "metadata": {},
   "source": [
    "### 2 Steady state evaporation\n",
    "\n",
    "\n",
    "We consider a loamy soil profile from 0 to -53 cm. Initial condition are $\\psi(z,t=0) = -z - 53$ cm ($z$ positive upwards, $z=0$ cm at soil surface, i.e. $\\psi(0)=-53$ cm, $\\psi(-53) = 0$ cm) \n",
    "\n",
    "As boundary conditions we prescribe an eflux of 0.5 cm/day at top and full saturation at the bottom "
   ]
  },
  {
   "cell_type": "markdown",
   "metadata": {},
   "source": [
    "The analytical solution is calculated by the following code and reproduces Figure 3 from Vanderborght et al. (2005). "
   ]
  },
  {
   "cell_type": "code",
   "execution_count": 50,
   "metadata": {},
   "outputs": [
    {
     "data": {
      "image/png": "[encoded data removed]",
      "text/plain": [
       "<Figure size 504x504 with 1 Axes>"
      ]
     },
     "metadata": {
      "needs_background": "light"
     },
     "output_type": "display_data"
    }
   ],
   "source": [
    "Jw = -0.5 # cm/day\n",
    "\n",
    "K = lambda psi: hydraulic_conductivity(psi,loam)\n",
    "F = lambda psi: 1./(Jw/K(psi) - 1.) # Eqn 14\n",
    "\n",
    "psi2 = np.linspace(0,-300,1000) # psi(-53) = 0\n",
    "dz = np.zeros(len(psi2),)\n",
    "for i in range(0, len(psi2)):\n",
    "    dz[i],err = integrate.quad(F,0,psi2[i])\n",
    "z2 = dz - 53\n",
    "\n",
    "fig2 = plt.figure(figsize=(7, 7))\n",
    "plt.plot(psi2, z2,'b')\n",
    "plt.xlabel('$\\psi$ [cm]')\n",
    "plt.ylabel('Depth [cm]')\n",
    "plt.xlim(-300,0)\n",
    "plt.ylim(-60,0)\n",
    "plt.show()"
   ]
  },
  {
   "cell_type": "markdown",
   "metadata": {},
   "source": [
    "## Comparison to numerical solutions\n",
    "\n",
    "The steady state benchmarks were also evaluated for *Macro*, *Hydrus1D*, *Swap*, *Marthe*, and *Wave* in Vanderborght et al. 2005. \n",
    "\n",
    "There are many softwares solving Richards equation. What are the most important features, and which softwares are most suitable for a specific purpose. \n",
    "\n",
    "* Availability and license \n",
    "* Dimensions: 1D, 1D axial symmetric, 3D\n",
    "* Mass conservation\n",
    "* Parallel computing\n",
    "* Support of unstructured meshes and adaptive refinement\n"
   ]
  },
  {
   "cell_type": "markdown",
   "metadata": {},
   "source": [
    "### 1 Steady state flux in a layered soil profile\n",
    "\n",
    "For an automatic comparison of the numerical results, save the results in a text file with two rows for each subplot (i.e. six rows), containing comma separated depth values (cm) in the first, and pressure head (cm) in the second. Copy the file to folder /soil_water_flow/b1/."
   ]
  },
  {
   "cell_type": "code",
   "execution_count": 56,
   "metadata": {},
   "outputs": [
    {
     "name": "stdout",
     "output_type": "stream",
     "text": [
      "hello\n"
     ]
    }
   ],
   "source": [
    "i1 = interp1d(z1A/100, psi1A, kind='linear', fill_value='extrapolate' ) # analytic solution\n",
    "i2 = interp1d(z1B/100, psi1B, kind='linear', fill_value='extrapolate' ) \n",
    "i3 = interp1d(z1C/100, psi1C, kind='linear', fill_value='extrapolate' ) \n",
    "interp = [i1,i2,i3]\n",
    "\n",
    "for dirname, dirnames, filenames in os.walk('soil_water_flow/b1/.)'):\n",
    "    filenames.sort()\n",
    "    for i,f in enumerate(filenames):      \n",
    "        print(f,\":\\n\")        \n",
    "        data = np.loadtxt(f,delimiter=',')        \n",
    "        fig, ax = plt.subplots(1, 3, figsize=(14, 7))       \n",
    "        \n",
    "        for j in range(0,3):\n",
    "            z = data[2*j, :]\n",
    "            psi = data[2*j+1, :]        \n",
    "            psi_a = interp[j](sorted(z))\n",
    "            \n",
    "            ax[j].plot(psi_a,sorted(z),'b') # analytical solution\n",
    "            ax[j].plot(psi,z,'r*') # numeric solution\n",
    "            ax[j].set_xlabel(\"$\\Psi$ [cm])\")\n",
    "            ax[j].set_ylabel(\"Depth [cm]\")\n",
    "                       \n",
    "            n = len(z)  # calculate R^2\n",
    "            r = 1 - ( np.sum(np.square(psi_a-psi)) / (np.sum(np.square(psi_a))-np.square(np.sum(psi_a))/n) )    \n",
    "            print(\"R² =\", r ,\"( N =\", n, \")\\n\")\n",
    "            \n",
    "        plt.title(f)                           \n",
    "        plt.show()"
   ]
  },
  {
   "cell_type": "markdown",
   "metadata": {
    "collapsed": true
   },
   "source": [
    "### 2 Steady state evaporation\n",
    "\n",
    "For an automatic comparison of the numerical results, save the results in a text file with two rows containing comma separated depth values (cm) in the first, and pressure head (cm) in the second. Copy the fileto the folder /soil_water_flow/b2/."
   ]
  },
  {
   "cell_type": "code",
   "execution_count": 52,
   "metadata": {},
   "outputs": [],
   "source": [
    "interp = interp1d(z2/100, psi2, kind='linear', fill_value='extrapolate' ) # analytic solution\n",
    "\n",
    "for dirname, dirnames, filenames in os.walk('soil_water_flow/b2'):\n",
    "    filenames.sort()\n",
    "    for i,f in enumerate(filenames):      \n",
    "\n",
    "        print(f,\":\\n\")\n",
    "        \n",
    "        data = np.loadtxt(f,delimiter=',')        \n",
    "        z = data[0, :]\n",
    "        psi = data[1, :]        \n",
    "        psi_a = interp(z)\n",
    "\n",
    "        fig = plt.figure(figsize=(7, 7))      \n",
    "                    \n",
    "        plt.plot(psi_a,z,'b') # analytical solution\n",
    "        plt.plot(psi,z,'r*') # numeric solution\n",
    "        plt.xlabel(\"$\\Psi$ [cm]\")\n",
    "        plt.ylabel(\"Depth [cm]\")\n",
    "                        \n",
    "        n = len(z) # calculate R^2\n",
    "        r = 1 - ( np.sum(np.square(psi_a-psi)) / (np.sum(np.square(psi_a))-np.square(np.sum(psi_a))/n) )    \n",
    "        print(\"R² =\", r ,\"( N =\", n, \")\\n\")\n",
    "\n",
    "            \n",
    "        plt.title(f)                           \n",
    "        plt.show()"
   ]
  },
  {
   "cell_type": "markdown",
   "metadata": {
    "collapsed": true
   },
   "source": [
    "## References\n",
    "\n",
    "Vanderborght, J and Kasteel, R and Herbst, M and Javaux, M and Thiery, D and Vanclooster, M and Mouvet, C and Vereecken, H (2005) A set of analytical benchmarks to test numerical models of flow and transport in soils. *Vadose Zone Journal*, 4(1):206-221\n",
    "\n",
    "Van Genuchten, MT (1980) Closed-form equation for predicting the hydraulic conductivity of unsaturated soils. *Soil Science Society of America Journal* 44(5):892-898\n"
   ]
  },
  {
   "cell_type": "code",
   "execution_count": null,
   "metadata": {},
   "outputs": [],
   "source": []
  }
 ],
 "metadata": {
  "kernelspec": {
   "display_name": "Python 3",
   "language": "python",
   "name": "python3"
  },
  "language_info": {
   "codemirror_mode": {
    "name": "ipython",
    "version": 3
   },
   "file_extension": ".py",
   "mimetype": "text/x-python",
   "name": "python",
   "nbconvert_exporter": "python",
   "pygments_lexer": "ipython3",
   "version": "3.6.8"
  },
  "latex_envs": {
   "LaTeX_envs_menu_present": true,
   "autoclose": false,
   "autocomplete": true,
   "bibliofile": "biblio.bib",
   "cite_by": "apalike",
   "current_citInitial": 1,
   "eqLabelWithNumbers": true,
   "eqNumInitial": 1,
   "hotkeys": {
    "equation": "Ctrl-E",
    "itemize": "Ctrl-I"
   },
   "labels_anchors": false,
   "latex_user_defs": false,
   "report_style_numbering": false,
   "user_envs_cfg": false
  }
 },
 "nbformat": 4,
 "nbformat_minor": 2
}
