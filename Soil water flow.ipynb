{
 "cells": [
  {
   "cell_type": "markdown",
   "metadata": {},
   "source": [
    "# Water flow in soil (no root uptake) \n",
    "\n",
    "*by Daniel Leitner, Andrea Schnepf*\n",
    "\n",
    "\n",
    "Water flow in soil is described by the Richards equation \n",
    "\\begin{eqnarray} \\label{eq:rich1d}\n",
    "\\frac{\\partial \\theta}{\\partial t}= \\frac{\\partial}{\\partial z}  \\left[ K_c(\\theta) \\left( \\frac{\\partial h}{\\partial z} -1 \\right) \\right],\n",
    "\\end{eqnarray}\n",
    "where $\\theta$ is the water content [1], $K_c$ is the hydraulic conductivity [m s$^{-1}$], $h$ is the pressure head [m]. "
   ]
  },
  {
   "cell_type": "markdown",
   "metadata": {},
   "source": [
    "## 1D\n",
    "\n",
    "In one dimension benchmarks for water movment in soil were developed by Vanderborght et al. (2005). In the following we will shortly describe the benchmarks and implement their analytical solutions in the notebook. The analytical solutions are derived in Vanderborght et al. (2005).  "
   ]
  },
  {
   "cell_type": "markdown",
   "metadata": {},
   "source": [
    "In the following benchmarks soil properties are described by the van Genuchten model (Van Genuchten, 1980). In the following we first import libraries and define some auxiliary functions:"
   ]
  },
  {
   "cell_type": "code",
   "execution_count": 266,
   "metadata": {},
   "outputs": [],
   "source": [
    "import numpy as np\n",
    "from scipy import optimize\n",
    "from scipy import integrate\n",
    "import matplotlib.pyplot as plt\n",
    "from math import * "
   ]
  },
  {
   "cell_type": "code",
   "execution_count": 267,
   "metadata": {},
   "outputs": [],
   "source": [
    "# Mualem - van Genuchten model, equations from van Genuchten, MT (1980)\n",
    "\n",
    "# class containing the van genuchten parameters\n",
    "class Parameters:\n",
    "    def __init__(self, R, S, alpha, n, Ksat):\n",
    "        self.theta_R = R\n",
    "        self.theta_S = S        \n",
    "        self.alpha = alpha # [1/cm]         \n",
    "        self.n = n\n",
    "        self.m = 1.-1./n\n",
    "        self.Ksat = Ksat       \n",
    "\n",
    "# returns the volumetric water content at a given pressure head  according to the van genuchten model (Eqn 21)\n",
    "def water_content(h, sp):\n",
    "    return sp.theta_R + (sp.theta_S-sp.theta_R)/pow(1. + pow(sp.alpha*abs(h),sp.n),sp.m)\n",
    "\n",
    "# returns pressure head at a given volumetric water content according to the van genuchten model\n",
    "def pressure_head(theta, sp): \n",
    "    theta = min(theta,sp.theta_S) # saturated water conent is the maximum \n",
    "    return - pow( pow( (sp.theta_S - sp.theta_R)/(theta - sp.theta_R), (1./sp.m))-1., 1./sp.n) / sp.alpha\n",
    "\n",
    "# returns the effective saturation according to the van genuchten model (dimensionless water content, Eqn 2)\n",
    "def effective_saturation(h,sp):\n",
    "    h = min(h,0) # pressure head is negative, zero the maximum\n",
    "    theta = water_content(h,sp)\n",
    "    se = (theta-sp.theta_R)/(sp.theta_S-sp.theta_R)\n",
    "    return se\n",
    "\n",
    "# returns the hydraulic conductivity according to the van genuchten model (Eqn 8)\n",
    "def hydraulic_conductivity(h,sp):\n",
    "    se = effective_saturation(h,sp) \n",
    "    K = sp.Ksat*sqrt(se)*( (1. - pow(1. - pow(se, 1. / sp.m),sp.m)) ** 2 )\n",
    "    return K \n",
    "\n",
    "# returns the specific moisture storage according to the van genuchten model\n",
    "def specific_moisture_storage(h,sp):\n",
    "    C = -sp.alpha*sp.n*np.sign(h)*(1. / sp.n - 1.) * pow(sp.alpha*abs(h), sp.n-1.) * (sp.theta_R-sp.theta_S) * pow(pow(sp.alpha*abs(h),sp.n) + 1., 1./sp.n-2.)\n",
    "    return C\n",
    "\n",
    "# returns the water diffusivity (Eqn 11]\n",
    "def water_diffusivity(TH,theta_i,sp):\n",
    "    theta=TH*(theta_i-sp.theta_S) + sp.theta_S\n",
    "    Se = (theta-sp.theta_R)/(sp.theta_S-sp.theta_R)\n",
    "    m = sp.m\n",
    "    D=(1-m)*sp.Ksat/(sp.alpha*m*(sp.theta_S-sp.theta_R)) * pow(Se,0.5-1./m) * (pow(1-pow(Se,1./m),-m) + pow(1-pow(Se,1/m),m)-2)\n",
    "    #D = ((1-m)*sp.Ksat)/(sp.alpha*m*(sp.theta_S-sp.theta_R)) * pow(theta, 0.5-1./m)* (pow(1-pow(theta,1./m),-m) +pow(1-pow(theta,1./m),m) - 2)\n",
    "    return D"
   ]
  },
  {
   "cell_type": "markdown",
   "metadata": {},
   "source": [
    "The benchmarks use the following soil types (from the soil catalogue of Hydrus 1D), the parameters are $\\theta_r$, $\\theta_s$, $\\alpha$, $n$, and $K_s$:"
   ]
  },
  {
   "cell_type": "code",
   "execution_count": 268,
   "metadata": {},
   "outputs": [],
   "source": [
    "sand = Parameters(0.045, 0.43, 0.15, 3, 1000) \n",
    "loam = Parameters(0.08, 0.43, 0.04, 1.6, 50)\n",
    "clay = Parameters(0.1, 0.4, 0.01, 1.1, 10)"
   ]
  },
  {
   "cell_type": "markdown",
   "metadata": {},
   "source": [
    "### Benchmark 1: Steady state flux in a layered soil profile\n",
    "\n",
    "\n",
    "*Soil*: \n",
    "\n",
    "Two layers: 0-50 cm, and 50-200 cm  Three scenarios: loam over sand, sand over loam, clay over sand \n",
    "\n",
    "*Initial condition*: \n",
    "\n",
    "-200 cm in both layers. \n",
    "\n",
    "*Boundary conditions*: \n",
    "\n",
    "Influx of 0.5 cm d$^{-1}$ at top and free drainage at the bottom\n"
   ]
  },
  {
   "cell_type": "markdown",
   "metadata": {},
   "source": [
    "The analytical solution of Benchmark 1 is calculated by the following code and reproduces Figure 2abc from Vanderborght et al. (2005). "
   ]
  },
  {
   "cell_type": "code",
   "execution_count": 269,
   "metadata": {},
   "outputs": [
    {
     "data": {
      "image/png": "[encoded data removed]",
      "text/plain": [
       "<matplotlib.figure.Figure at 0xb373e10>"
      ]
     },
     "metadata": {},
     "output_type": "display_data"
    }
   ],
   "source": [
    "Jw = 0.5;  # constant downward flow rate [cm/d]\n",
    "\n",
    "# The lower part (constant pressure)\n",
    "Ks = lambda psi: hydraulic_conductivity(psi,sand)-Jw\n",
    "Kl = lambda psi: hydraulic_conductivity(psi,loam)-Jw\n",
    "Kc = lambda psi: hydraulic_conductivity(psi,clay)-Jw\n",
    "psi_s = optimize.brentq(Ks, -100, 0);\n",
    "psi_l = optimize.brentq(Kl, -100, 0);\n",
    "psi_c = optimize.brentq(Kc, -100, 0);\n",
    "\n",
    "# The upper part\n",
    "Ks = lambda psi: hydraulic_conductivity(psi,sand)\n",
    "Kl = lambda psi: hydraulic_conductivity(psi,loam)\n",
    "Kc = lambda psi: hydraulic_conductivity(psi,clay)\n",
    "Fs = lambda psi: 1./(Jw/Ks(psi) - 1.) # integrand Eqn [14]\n",
    "Fl = lambda psi: 1./(Jw/Kl(psi) - 1.)\n",
    "Fc = lambda psi: 1./(Jw/Kc(psi) - 1.)\n",
    "    \n",
    "N = 1000 # resolution\n",
    "dz = np.ones(N,)\n",
    "eps = 1.e-5 # to avoid quadrature warnings\n",
    "    \n",
    "psiA = np.linspace(psi_l+eps,psi_s,N) # loam (on sand)\n",
    "for i in range(0,N):\n",
    "    ans, err = integrate.quad(Fl,psi_s, psiA[i])\n",
    "    dz[i] = ans\n",
    "zA = dz - 50. \n",
    "     \n",
    "psiB = np.linspace(psi_l,psi_s-eps,N) # sand (on loam)\n",
    "for  i in range(0,N):\n",
    "    ans, err = integrate.quad(Fs,psi_l,psiB[i])\n",
    "    dz[i] = ans\n",
    "zB = dz + -50;\n",
    "         \n",
    "psiC = np.linspace(psi_s,psi_c-eps,N); # clay (on sand)\n",
    "for  i in range(0,N):    \n",
    "    ans, err = integrate.quad(Fc,psi_s,psiC[i])\n",
    "    dz[i] = ans    \n",
    "zC = dz + (-50);\n",
    "        \n",
    "# prepare plots\n",
    "fig, (ax1, ax2, ax3) = plt.subplots(1, 3, figsize=(14, 7))    \n",
    "z_ = np.linspace(-50,-100,2)\n",
    "ax1.plot([psi_s,psi_s],z_,'b') \n",
    "ax1.plot(psiA,zA,'b');\n",
    "ax1.set_xlabel('$\\psi$ (cm)')\n",
    "ax1.set_ylabel('Depth (cm)')\n",
    "ax1. set_xlim(-50,-10)\n",
    "ax1.set_ylim(-100,0)    \n",
    "ax2.plot([psi_l,psi_l],z_,'b')\n",
    "ax2.plot(psiB,zB,'b');\n",
    "ax2.set_xlabel('$\\psi$ (cm)')\n",
    "ax2.set_xlim(-50,-10)\n",
    "ax2.set_ylim(-60,-40)    \n",
    "ax3.plot([psi_s,psi_s],z_,'b') \n",
    "ax3.plot(psiC,zC,'b');\n",
    "ax3.set_xlabel('$\\psi$ (cm)')\n",
    "ax3.set_xlim(-28,-8)\n",
    "ax3.set_ylim(-100,0)\n",
    "plt.show()"
   ]
  },
  {
   "cell_type": "markdown",
   "metadata": {},
   "source": [
    "### Benchmark 2: Steady state evaporation from a water table\n",
    "\n",
    "\n",
    "*Soil*: \n",
    "\n",
    "loamy soil profile 0-45 cm \n",
    "\n",
    "*Initial condition*: \n",
    "\n",
    "$\\psi(z,t=0) = z - 54$ cm \n",
    "\n",
    "*Boundary conditions*: \n",
    "\n",
    "Eflux of 0.5 cm d$^{-1}$ at top and full saturation at the bottom \n"
   ]
  },
  {
   "cell_type": "markdown",
   "metadata": {},
   "source": [
    "The analytical solution of Benchmark 2 is calculated by the following code and reproduces Figure 3 from Vanderborght et al. (2005). "
   ]
  },
  {
   "cell_type": "code",
   "execution_count": 270,
   "metadata": {},
   "outputs": [
    {
     "data": {
      "image/png": "[encoded data removed]",
      "text/plain": [
       "<matplotlib.figure.Figure at 0x9d1c438>"
      ]
     },
     "metadata": {},
     "output_type": "display_data"
    }
   ],
   "source": [
    "Jw = -0.5 # cm/day\n",
    "\n",
    "K = lambda psi: hydraulic_conductivity(psi,loam)\n",
    "F = lambda psi: 1./(Jw/K(psi) - 1.)\n",
    "\n",
    "psi_ = np.linspace(0,-300,300) # psi(-54) = 0\n",
    "dz = np.zeros(len(psi_),)\n",
    "for i in range(0, len(psi_)):\n",
    "    ans,err = integrate.quad(F,0,psi_[i])\n",
    "    dz[i] = ans\n",
    "\n",
    "z1 = dz + (-53.5)\n",
    "\n",
    "fig=plt.figure(figsize=(7, 7))\n",
    "plt.plot(psi_, z1,'b')\n",
    "plt.xlabel('\\psi (cm)')\n",
    "plt.ylabel('Depth (cm)')\n",
    "plt.xlim(-300,0)\n",
    "plt.ylim(-60,0)\n",
    "plt.show()"
   ]
  },
  {
   "cell_type": "markdown",
   "metadata": {},
   "source": [
    "### Benchmark 3: Infiltration in an initially dry soil\n",
    "\n",
    "\n",
    "*Soil*: \n",
    "\n",
    "Three scenarios: sand, loam, and clay, all 0-200 cm \n",
    "\n",
    "*Initial condition*: \n",
    "\n",
    "-400 cm \n",
    "\n",
    "*Boundary conditions*: \n",
    "\n",
    "At top an influx of 100 cm d$^{-1}$ if $\\psi(z=0)< 0$ cm, else full saturation. At bottom free drainage."
   ]
  },
  {
   "cell_type": "markdown",
   "metadata": {},
   "source": [
    "The analytical solution of Benchmark 3 is calculated by the following code and reproduces Figure 4abc from Vanderborght et al. (2005). "
   ]
  },
  {
   "cell_type": "code",
   "execution_count": 271,
   "metadata": {},
   "outputs": [
    {
     "data": {
      "image/png": "[encoded data removed]",
      "text/plain": [
       "<matplotlib.figure.Figure at 0x9e76978>"
      ]
     },
     "metadata": {},
     "output_type": "display_data"
    }
   ],
   "source": [
    "fig, (ax1, ax2, ax3) = plt.subplots(1, 3, figsize=(14, 7))\n",
    "ax = [ax1,ax2,ax3]\n",
    "\n",
    "for i, soil in enumerate([sand, loam, clay]): # make three subplots\n",
    "        \n",
    "    if soil==sand:\n",
    "        theta_sur = 0.2824 # ?\n",
    "    else:\n",
    "        theta_sur = soil.theta_S\n",
    "            \n",
    "    theta_i = water_content(-400,soil);\n",
    "        \n",
    "    K_sur = hydraulic_conductivity( pressure_head(theta_sur,soil), soil);\n",
    "    K_i = hydraulic_conductivity(-400, soil)\n",
    "    psi = lambda theta: pressure_head(theta,soil)\n",
    "    K = lambda psi: hydraulic_conductivity(psi,soil)\n",
    "    Dw = lambda psi: K(psi)/(specific_moisture_storage(psi,soil))            \n",
    "    F = lambda theta:  Dw(psi(theta)) / ( (K_sur - K_i)*(theta - theta_i) - (K(psi(theta)) - K_i)*(theta_sur - theta_i) ) \n",
    "    \n",
    "    theta_a = (theta_sur+theta_i)/2\n",
    "    theta_ = np.linspace (theta_i+1e-3,theta_sur-1e-3,300)\n",
    "\n",
    "    delta_eta = np.zeros(len(theta_),)\n",
    "    for j in range(0,len(theta_)):\n",
    "        ans, err = integrate.quad(F,theta_[j],theta_a)\n",
    "        delta_eta[j] = ans\n",
    "    \n",
    "    delta_eta = delta_eta * (theta_sur - theta_i)\n",
    "    \n",
    "    tv=[ [0.1, 0.2, 0.3], [0.2, 0.5, 1.0], [0.1, 0.2, 0.5] ] # time values (days)\n",
    "\n",
    "    x_aa = [43, 41, 27.5] # how to choose reference water content and its position ?\n",
    "    x_a = x_aa[i]\n",
    "    \n",
    "    t_a2 = [0.1, 0.2, 0.1] \n",
    "    t_a = t_a2[i]\n",
    "        \n",
    "    eta_a = x_a - (K_sur-K_i)/(theta_sur - theta_i)*t_a\n",
    "    eta = delta_eta + eta_a\n",
    "\n",
    "    # finally, plot the thing    \n",
    "    for j in range(0,len(tv[0])):\n",
    "        t = tv[i][j]\n",
    "        x = eta  + (K_sur - K_i) * t / (theta_sur - theta_i);\n",
    "        ax[i].plot(theta_,-x,'b-')    \n",
    "    ax[i].set_xlabel(r'$\\theta$')\n",
    "    ax[i].set_xlim(0,0.5)\n",
    "\n",
    "ax1.set_ylabel('Depth (cm)')\n",
    "ax1.set_ylim(-150,0)\n",
    "ax2.set_ylim(-200,0)\n",
    "ax3.set_ylim(-120,0)\n",
    "plt.show()"
   ]
  },
  {
   "cell_type": "markdown",
   "metadata": {},
   "source": [
    "### Benchmark 4: Transient evaporation from a soil profile\n",
    "\n",
    "\n",
    "*Soil*: \n",
    "\n",
    "Four scenarios: sand, loam, loam, and clay, all 0-100 cm \n",
    "\n",
    "*Initial condition*: \n",
    "\n",
    "-200 cm \n",
    "\n",
    "*Boundary conditions*: \n",
    "\n",
    "At top an eflux of 0.3 cm d$^{-1}$ if $\\psi(z=0)< -10000$ cm, else $\\psi(z=0) = -10000$ cm.\n",
    "No flux at the bottom."
   ]
  },
  {
   "cell_type": "markdown",
   "metadata": {},
   "source": [
    "The analytical solution of Benchmark 4 is calculated by the following code and reproduces Figure 5abcd from Vanderborght et al. (2005). \n"
   ]
  },
  {
   "cell_type": "code",
   "execution_count": 272,
   "metadata": {},
   "outputs": [
    {
     "name": "stdout",
     "output_type": "stream",
     "text": [
      "Scenario  0  tpot 0.2326592932705023\n",
      "Scenario  1  tpot 1251.2004975916695\n",
      "Scenario  2  tpot 139.02227751018555\n",
      "Scenario  3  tpot 54.381574672371435\n"
     ]
    },
    {
     "data": {
      "image/png": "[encoded data removed]",
      "text/plain": [
       "<matplotlib.figure.Figure at 0xb3370f0>"
      ]
     },
     "metadata": {},
     "output_type": "display_data"
    }
   ],
   "source": [
    "jwpot_ = [-0.1, -0.1, -0.3, -0.3]\n",
    "\n",
    "N = 1000\n",
    "y = np.zeros((N,4))\n",
    "t = np.linspace(0,10,N) # days\n",
    "\n",
    "for i,soil in enumerate([sand, loam, loam, clay]):\n",
    "    \n",
    "    theta_i = water_content(-200,soil) # initial theta  \n",
    "    theta_sur = water_content(-10000,soil) # critical vaule \n",
    "    jwpot = jwpot_[i]   \n",
    "    \n",
    "    #TH = (theta-theta_sur)/(theta_i-theta_sur)\n",
    "    dw = lambda TH: water_diffusivity(TH,theta_i, soil)    \n",
    "    int_dw, err = integrate.quad(dw,0,1)    \n",
    "\n",
    "    theta_dw = lambda TH: TH*water_diffusivity(TH,theta_i, soil)       \n",
    "    int_theta_dw, err = integrate.quad(theta_dw,0,1)\n",
    "    beta = pow(int_theta_dw/int_dw,2) # 43\n",
    "\n",
    "    fun_dw = lambda TH: pow(1-TH*beta,2)*dw(TH)\n",
    "    alpha, err = integrate.quad(fun_dw,0,1)\n",
    "    alpha /= int_dw # 42\n",
    "\n",
    "    mu = ( 3*beta*(1+sqrt(1-(14/9)*(1-alpha/pow(1-beta,2)) ) ) ) / ( 2*(1-beta)*(alpha/pow(1-beta,2)-1) ) # eq 41\n",
    "\n",
    "    sw = lambda theta_sur, theta_i: (theta_i-theta_sur)*sqrt((4/mu)*int_dw) # eq 39\n",
    "  \n",
    "    tdash = (sw(theta_sur, theta_i)*sw(theta_sur, theta_i)) / (4*jwpot*jwpot) # eq 44\n",
    "    tpot =  (sw(theta_sur, theta_i)*sw(theta_sur, theta_i)) / (2*jwpot*jwpot) # eq 45\n",
    "    print(\"Scenario \", i, \" tpot\", tpot)\n",
    "    \n",
    "    jw = lambda t: (t<tpot)*jwpot+(t>=tpot)*sw(theta_sur, theta_i)/(2*sqrt(abs(tdash+t-tpot))) # eq 46 & 47\n",
    "\n",
    "    y[:,i] = list(map(jw,t))  # evaluate\n",
    "\n",
    "#\n",
    "# prepare plot\n",
    "#\n",
    "fig, ((ax1, ax2), (ax3, ax4)) = plt.subplots(2, 2, figsize=(14, 14))\n",
    "    \n",
    "ax1.plot(t,abs(y[:,0]),'b')\n",
    "ax1.set_ylabel('$E_{act}$ (cm day$^{-1}$)')\n",
    "ax1.set_xlim(0,1)\n",
    "ax1.set_title(\"Sand\")\n",
    "\n",
    "ax2.plot(t,abs(y[:,1]),'b')\n",
    "#ax2.set_xlim(0,10)\n",
    "ax2.set_title(\"Loam\")\n",
    "\n",
    "ax3.plot(t,abs(y[:,2]),'b')\n",
    "ax3.set_xlabel('$t$ (days)')\n",
    "ax3.set_ylabel('$E_{act}$ (cm day$^{-1}$)')\n",
    "# ax3.set_xlim(0,2)\n",
    "ax3.set_title(\"Loam\")\n",
    "\n",
    "ax4.plot(t,abs(y[:,3]),'b')\n",
    "ax4.set_xlabel('$t$ (days)')\n",
    "ax4.set_xlim(0,6)\n",
    "ax4.set_title(\"Clay\")\n",
    "plt.show()"
   ]
  },
  {
   "cell_type": "markdown",
   "metadata": {},
   "source": [
    "## 3D\n",
    "\n",
    "Suitable benchmarks could be discussed or developed at the workshop"
   ]
  },
  {
   "cell_type": "markdown",
   "metadata": {},
   "source": [
    "## Discussion\n",
    "\n",
    "There are many softwares solving Richards equation. What are the most important features, and which softwares are most suitable for a specific purpose. \n",
    "\n",
    "* Availability and license \n",
    "* Dimensions: 1D, 1D axial symmetric, 3D\n",
    "* Mass conservation\n",
    "* Parallel computing\n",
    "* Support of unstructured meshes and adaptive refinement"
   ]
  },
  {
   "cell_type": "markdown",
   "metadata": {},
   "source": [
    "## Comparison to numerical solutions\n",
    "\n",
    "Benchmark 1-4 was evaluated for *Macro*, *Hydrus1D*, *Swap*, *Marthe*, and *Wave* in Vanderborght et al. 2005. \n",
    "\n",
    "We plan to validate additional numerical codes by solving the benchmarking problems 1-4 and the ones we will develop for 3D. In the following we link to notebooks, containing all or some of above benchmarks: \n",
    "\n",
    "* [Dumux](Soil water flow - Dumux.ipynb)\n"
   ]
  },
  {
   "cell_type": "markdown",
   "metadata": {
    "collapsed": true
   },
   "source": [
    "## References\n",
    "\n",
    "Vanderborght, J and Kasteel, R and Herbst, M and Javaux, M and Thiery, D and Vanclooster, M and Mouvet, C and Vereecken, H (2005) A set of analytical benchmarks to test numerical models of flow and transport in soils. *Vadose Zone Journal*, 4(1):206-221\n",
    "\n",
    "Van Genuchten, MT (1980) Closed-form equation for predicting the hydraulic conductivity of unsaturated soils. *Soil Science Society of America Journal* 44(5):892-898\n"
   ]
  }
 ],
 "metadata": {
  "kernelspec": {
   "display_name": "Python 3",
   "language": "python",
   "name": "python3"
  },
  "language_info": {
   "codemirror_mode": {
    "name": "ipython",
    "version": 3
   },
   "file_extension": ".py",
   "mimetype": "text/x-python",
   "name": "python",
   "nbconvert_exporter": "python",
   "pygments_lexer": "ipython3",
   "version": "3.6.4"
  },
  "latex_envs": {
   "LaTeX_envs_menu_present": true,
   "autoclose": false,
   "autocomplete": true,
   "bibliofile": "biblio.bib",
   "cite_by": "apalike",
   "current_citInitial": 1,
   "eqLabelWithNumbers": true,
   "eqNumInitial": 1,
   "hotkeys": {
    "equation": "Ctrl-E",
    "itemize": "Ctrl-I"
   },
   "labels_anchors": false,
   "latex_user_defs": false,
   "report_style_numbering": false,
   "user_envs_cfg": false
  }
 },
 "nbformat": 4,
 "nbformat_minor": 2
}
