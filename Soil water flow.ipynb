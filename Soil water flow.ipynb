{
 "cells": [
  {
   "cell_type": "markdown",
   "metadata": {},
   "source": [
    "# Water flow in soil (no root uptake) \n",
    "\n",
    "*by Daniel Leitner, Andrea Schnepf*\n",
    "\n",
    "\n",
    "Water flow in soil is described by the Richards equation \n",
    "\\begin{eqnarray} \\label{eq:rich1d}\n",
    "\\frac{\\partial \\theta}{\\partial t}= \\frac{\\partial}{\\partial z}  \\left[ K_c(\\theta) \\left( \\frac{\\partial h}{\\partial z} -1 \\right) \\right],\n",
    "\\end{eqnarray}\n",
    "where $\\theta$ is the water content [1], $K_c$ is the hydraulic conductivity [m s$^{-1}$], $h$ is the pressure head [m]. "
   ]
  },
  {
   "cell_type": "markdown",
   "metadata": {},
   "source": [
    "## 1D\n",
    "\n",
    "In one dimension benchmarks for water movment in soil were developed by Vanderborght et al. (2005). In the following we will shortly describe the benchmarks and implement their analytical solutions in the notebook. The analytical solutions are derived in Vanderborght et al. (2005).  "
   ]
  },
  {
   "cell_type": "markdown",
   "metadata": {},
   "source": [
    "In the following benchmarks soil properties are described by the van Genuchten model (Van Genuchten, 1980). In the following we first import libraries and define some auxiliary functions:"
   ]
  },
  {
   "cell_type": "code",
   "execution_count": 1,
   "metadata": {
    "collapsed": true
   },
   "outputs": [],
   "source": [
    "import numpy as np\n",
    "from scipy import optimize\n",
    "from scipy import integrate\n",
    "import matplotlib.pyplot as plt\n",
    "import math"
   ]
  },
  {
   "cell_type": "code",
   "execution_count": 2,
   "metadata": {
    "collapsed": true
   },
   "outputs": [],
   "source": [
    "# Mualem - van Genuchten model, equations from van Genuchten, MT 1980 \n",
    "\n",
    "# pascal to pressure head, converts a numpy array \n",
    "def pa2head(pa_, pnref = 1.e5, g = 9.81):\n",
    "    h = np.zeros(len(pa_))\n",
    "    for i,p in enumerate(pa_):\n",
    "        h[i] = (p-pnref) * 100/1000/g\n",
    "    return h\n",
    "   \n",
    "# pressure to pascal, converts a numpy array       \n",
    "def head2pa(h_, pnref = 1.e5, g = 9.81):\n",
    "    pa = np.zeros(len(h_))\n",
    "    for i,h in enumerate(h_):\n",
    "        pa[i] =  ref + h/100.*1000.*g\n",
    "    return pnref+pa\n",
    "\n",
    "# class containing the van genuchten parameters\n",
    "class Parameters:\n",
    "    def __init__(self, R, S, alpha, n, Ksat):\n",
    "        self.theta_R = R\n",
    "        self.theta_S = S        \n",
    "        self.alpha = alpha # [1/cm]         \n",
    "        self.n = n\n",
    "        self.m = 1.-1./n\n",
    "        self.Ksat = Ksat       \n",
    "\n",
    "# returns the volumetric water content at a given pressure head  according to the van genuchten model (Eqn 21)\n",
    "def water_content(h, sp):\n",
    "    return sp.theta_R + (sp.theta_S-sp.theta_R)/pow(1. + pow(sp.alpha*abs(h),sp.n),sp.m)\n",
    "\n",
    "# returns pressure head at a given volumetric water content according to the van genuchten model\n",
    "def pressure_head(theta, sp): \n",
    "    theta = min(theta,sp.theta_S) # saturated water conent is the maximum \n",
    "    return - pow( pow( (sp.theta_S - sp.theta_R)/(theta - sp.theta_R), (1./sp.m))-1., 1./sp.n) / sp.alpha\n",
    "\n",
    "# returns the effective saturation according to the van genuchten model (dimensionless water content, Eqn 2)\n",
    "def effective_saturation(h,sp):\n",
    "    h = min(h,0) # pressure head is negative, zero the maximum\n",
    "    theta = water_content(h,sp)\n",
    "    se = (theta-sp.theta_R)/(sp.theta_S-sp.theta_R)\n",
    "    return se\n",
    "\n",
    "# returns the hydraulic conductivity according to the van genuchten model (Eqn 8)\n",
    "def hydraulic_conductivity(h,sp):\n",
    "    se = effective_saturation(h,sp) \n",
    "    K = sp.Ksat*math.sqrt(se)*( (1. - pow(1. - pow(se, 1. / sp.m),sp.m)) ** 2 )\n",
    "    return K \n",
    "\n",
    "# returns the specific moisture storage according to the van genuchten model\n",
    "def specific_moisture_storage(h,sp):\n",
    "    C = -sp.alpha*sp.n*np.sign(h)*(1. / sp.n - 1.) * pow(sp.alpha*abs(h), sp.n-1.) * (sp.theta_R-sp.theta_S) * pow(pow(sp.alpha*abs(h),sp.n) + 1., 1./sp.n-2.)\n",
    "    return C"
   ]
  },
  {
   "cell_type": "markdown",
   "metadata": {},
   "source": [
    "The benchmarks use the following soil types (from the soil catalogue of Hydrus 1D), the parameters are $\\theta_r$, $\\theta_s$, $\\alpha$, $n$, and $K_s$:"
   ]
  },
  {
   "cell_type": "code",
   "execution_count": 3,
   "metadata": {
    "collapsed": true
   },
   "outputs": [],
   "source": [
    "sand = Parameters(0.045, 0.43, 0.15, 3, 1000) \n",
    "loam = Parameters(0.08, 0.43, 0.04, 1.6, 50)\n",
    "clay = Parameters(0.1, 0.4, 0.01, 1.1, 10)"
   ]
  },
  {
   "cell_type": "markdown",
   "metadata": {},
   "source": [
    "### Benchmark 1: Steady state flux in a layered soil profile\n",
    "\n",
    "\n",
    "*Soil*: \n",
    "\n",
    "Two layers: 0-50 cm, and 50-200 cm  Three scenarios: loam over sand, sand over loam, clay over sand \n",
    "\n",
    "*Initial condition*: \n",
    "\n",
    "-200 cm in both layers. \n",
    "\n",
    "*Boundary conditions*: \n",
    "\n",
    "Influx of 0.5 cm d$^{-1}$ at top and free drainage at the bottom\n"
   ]
  },
  {
   "cell_type": "markdown",
   "metadata": {},
   "source": [
    "The analytical solution of Benchmark 1 is calculated by the following code and reproduces Figure 2abc from Vanderborght et al. (2005). "
   ]
  },
  {
   "cell_type": "code",
   "execution_count": 24,
   "metadata": {},
   "outputs": [
    {
     "data": {
      "image/png": "[encoded data removed]",
      "text/plain": [
       "<matplotlib.figure.Figure at 0x7f644d28ebe0>"
      ]
     },
     "metadata": {},
     "output_type": "display_data"
    }
   ],
   "source": [
    "Jw = 0.5;  # constant downward flow rate [cm/d]\n",
    "\n",
    "# The lower part (constant pressure)\n",
    "Ks = lambda psi: hydraulic_conductivity(psi,sand)-Jw\n",
    "Kl = lambda psi: hydraulic_conductivity(psi,loam)-Jw\n",
    "Kc = lambda psi: hydraulic_conductivity(psi,clay)-Jw\n",
    "psi_s = optimize.brentq(Ks, -100, 0);\n",
    "psi_l = optimize.brentq(Kl, -100, 0);\n",
    "psi_c = optimize.brentq(Kc, -100, 0);\n",
    "\n",
    "# The upper part\n",
    "Ks = lambda psi: hydraulic_conductivity(psi,sand)\n",
    "Kl = lambda psi: hydraulic_conductivity(psi,loam)\n",
    "Kc = lambda psi: hydraulic_conductivity(psi,clay)\n",
    "Fs = lambda psi: 1./(Jw/Ks(psi) - 1.) # integrand Eqn [14]\n",
    "Fl = lambda psi: 1./(Jw/Kl(psi) - 1.)\n",
    "Fc = lambda psi: 1./(Jw/Kc(psi) - 1.)\n",
    "    \n",
    "N = 1000 # resolution\n",
    "dz = np.ones(N,)\n",
    "eps = 1.e-5 # to avoid quadrature warnings\n",
    "    \n",
    "psiA = np.linspace(psi_l+eps,psi_s,N) # loam (on sand)\n",
    "for i in range(0,N):\n",
    "    ans, err = integrate.quad(Fl,psi_s, psiA[i])\n",
    "    dz[i] = ans\n",
    "zA = dz - 50. \n",
    "     \n",
    "psiB = np.linspace(psi_l,psi_s-eps,N) # sand (on loam)\n",
    "for  i in range(0,N):\n",
    "    ans, err = integrate.quad(Fs,psi_l,psiB[i])\n",
    "    dz[i] = ans\n",
    "zB = dz + -50;\n",
    "         \n",
    "psiC = np.linspace(psi_s,psi_c-eps,N); # clay (on sand)\n",
    "for  i in range(0,N):    \n",
    "    ans, err = integrate.quad(Fc,psi_s,psiC[i])\n",
    "    dz[i] = ans    \n",
    "zC = dz + (-50);\n",
    "        \n",
    "# prepare plots\n",
    "fig, (ax1, ax2, ax3) = plt.subplots(1, 3, figsize=(14, 7))    \n",
    "z_ = np.linspace(-50,-100,2)\n",
    "ax1.plot([psi_s,psi_s],z_,'b') \n",
    "ax1.plot(psiA,zA,'b');\n",
    "ax1.set_xlabel('$\\psi$ (cm)')\n",
    "ax1.set_ylabel('Depth (cm)')\n",
    "ax1. set_xlim(-50,-10)\n",
    "ax1.set_ylim(-100,0)    \n",
    "ax2.plot([psi_l,psi_l],z_,'b')\n",
    "ax2.plot(psiB,zB,'b');\n",
    "ax2.set_xlabel('$\\psi$ (cm)')\n",
    "ax2.set_xlim(-50,-10)\n",
    "ax2.set_ylim(-60,-40)    \n",
    "ax3.plot([psi_s,psi_s],z_,'b') \n",
    "ax3.plot(psiC,zC,'b');\n",
    "ax3.set_xlabel('$\\psi$ (cm)')\n",
    "ax3.set_xlim(-28,-8)\n",
    "ax3.set_ylim(-100,0)\n",
    "plt.show()"
   ]
  },
  {
   "cell_type": "markdown",
   "metadata": {},
   "source": [
    "### Benchmark 2: Steady state evaporation from a water table\n",
    "\n",
    "\n",
    "*Soil*: \n",
    "\n",
    "loamy soil profile 0-45 cm \n",
    "\n",
    "*Initial condition*: \n",
    "\n",
    "$\\psi(z,t=0) = z - 54$ cm \n",
    "\n",
    "*Boundary conditions*: \n",
    "\n",
    "Eflux of 0.5 cm d$^{-1}$ at top and full saturation at the bottom \n"
   ]
  },
  {
   "cell_type": "markdown",
   "metadata": {},
   "source": [
    "The analytical solution of Benchmark 2 is calculated by the following code and reproduces Figure 3 from Vanderborght et al. (2005). "
   ]
  },
  {
   "cell_type": "code",
   "execution_count": 27,
   "metadata": {},
   "outputs": [
    {
     "data": {
      "image/png": "[encoded data removed]",
      "text/plain": [
       "<matplotlib.figure.Figure at 0x7f644d4cff60>"
      ]
     },
     "metadata": {},
     "output_type": "display_data"
    }
   ],
   "source": [
    "Jw = -0.5 # cm/day\n",
    "\n",
    "K = lambda psi: hydraulic_conductivity(psi,loam)\n",
    "F = lambda psi: 1./(Jw/K(psi) - 1.)\n",
    "\n",
    "psi_ = np.linspace(0,-300,300) # psi(-54) = 0\n",
    "dz = np.zeros(len(psi_),)\n",
    "for i in range(0, len(psi_)):\n",
    "    ans,err = integrate.quad(F,0,psi_[i])\n",
    "    dz[i] = ans\n",
    "\n",
    "z1 = dz + (-53.5)\n",
    "\n",
    "fig=plt.figure(figsize=(7, 7))\n",
    "plt.plot(psi_, z1,'b')\n",
    "plt.xlabel('\\psi (cm)')\n",
    "plt.ylabel('Depth (cm)')\n",
    "plt.xlim(-300,0)\n",
    "plt.ylim(-60,0)\n",
    "plt.show()"
   ]
  },
  {
   "cell_type": "markdown",
   "metadata": {},
   "source": [
    "### Benchmark 3: Infiltration in an initially dry soil\n",
    "\n",
    "\n",
    "*Soil*: \n",
    "\n",
    "Three scenarios: sand, loam, and clay, all 0-200 cm \n",
    "\n",
    "*Initial condition*: \n",
    "\n",
    "-400 cm \n",
    "\n",
    "*Boundary conditions*: \n",
    "\n",
    "At top an influx of 100 cm d$^{-1}$ if $\\psi(z=0)< 0$ cm, else full saturion. At bottom free drainage."
   ]
  },
  {
   "cell_type": "markdown",
   "metadata": {},
   "source": [
    "The analytical solution of Benchmark 3 is calculated by the following code and reproduces Figure 4abc from Vanderborght et al. (2005). "
   ]
  },
  {
   "cell_type": "code",
   "execution_count": 26,
   "metadata": {},
   "outputs": [
    {
     "data": {
      "image/png": "[encoded data removed]",
      "text/plain": [
       "<matplotlib.figure.Figure at 0x7f644d4b2320>"
      ]
     },
     "metadata": {},
     "output_type": "display_data"
    }
   ],
   "source": [
    "fig, (ax1, ax2, ax3) = plt.subplots(1, 3, figsize=(14, 7))\n",
    "ax = [ax1,ax2,ax3]\n",
    "\n",
    "for i, soil in enumerate([sand, loam, clay]): # make three subplots\n",
    "        \n",
    "    if soil==sand:\n",
    "        theta_sur = 0.2824 # ?\n",
    "    else:\n",
    "        theta_sur = soil.theta_S\n",
    "            \n",
    "    theta_i = water_content(-400,soil);\n",
    "        \n",
    "    K_sur = hydraulic_conductivity( pressure_head(theta_sur,soil), soil);\n",
    "    K_i = hydraulic_conductivity(-400, soil)\n",
    "    psi = lambda theta: pressure_head(theta,soil)\n",
    "    K = lambda psi: hydraulic_conductivity(psi,soil)\n",
    "    Dw = lambda psi: K(psi)/(specific_moisture_storage(psi,soil))\n",
    "            \n",
    "    F = lambda theta:  Dw(psi(theta)) / ( (K_sur - K_i)*(theta - theta_i) - (K(psi(theta)) - K_i)*(theta_sur - theta_i) ) \n",
    "    \n",
    "    theta_a = (theta_sur+theta_i)/2\n",
    "    theta_ = np.linspace (theta_i+1e-3,theta_sur-1e-3,300)\n",
    "\n",
    "    delta_eta = np.zeros(len(theta_),)\n",
    "    for j in range(0,len(theta_)):\n",
    "        ans, err = integrate.quad(F,theta_[j],theta_a)\n",
    "        delta_eta[j] = ans\n",
    "    \n",
    "    delta_eta = delta_eta * (theta_sur - theta_i)\n",
    "    \n",
    "    tv=[ [0.1, 0.2, 0.3], [0.2, 0.5, 1.0], [0.1, 0.2, 0.5] ] # time values (days)\n",
    "\n",
    "    x_aa = [43, 41, 27.5] # how to choose reference water content and its position ?\n",
    "    x_a = x_aa[i]\n",
    "    \n",
    "    t_a2 = [0.1, 0.2, 0.1] \n",
    "    t_a = t_a2[i]\n",
    "        \n",
    "    eta_a = x_a - (K_sur-K_i)/(theta_sur - theta_i)*t_a\n",
    "    eta = delta_eta + eta_a\n",
    "\n",
    "    # finally, plot the thing    \n",
    "    for j in range(0,len(tv[0])):\n",
    "        t = tv[i][j]\n",
    "        x = eta  + (K_sur - K_i) * t / (theta_sur - theta_i);\n",
    "        ax[i].plot(theta_,-x,'b-')    \n",
    "    ax[i].set_xlabel(r'$\\theta$')\n",
    "    ax[i].set_xlim(0,0.5)\n",
    "\n",
    "ax1.set_ylabel('Depth (cm)')\n",
    "ax1.set_xlabel(r'$\\theta$')\n",
    "ax1.set_xlim(0,0.5)\n",
    "ax1.set_ylim(-150,0)\n",
    "ax2.set_xlabel(r'$\\theta$')\n",
    "ax2.set_xlim(0,0.5)\n",
    "ax2.set_ylim(-200,0)\n",
    "ax3.set_xlabel(r'$\\theta$')\n",
    "ax3.set_xlim(0,0.5)\n",
    "ax3.set_ylim(-120,0)\n",
    "plt.show()"
   ]
  },
  {
   "cell_type": "markdown",
   "metadata": {},
   "source": [
    "### Benchmark 4: Transient evaporation from a soil profile\n",
    "\n",
    "\n",
    "*Soil*: \n",
    "\n",
    "Four scenarios: sand, loam, loam, and clay, all 0-100 cm \n",
    "\n",
    "*Initial condition*: \n",
    "\n",
    "-200 cm \n",
    "\n",
    "*Boundary conditions*: \n",
    "\n",
    "At top an eflux of 0.3 cm d$^{-1}$ if $\\psi(z=0)< -10000$ cm, else $\\psi(z=0) = -10000$ cm.\n",
    "No flux at the bottom."
   ]
  },
  {
   "cell_type": "markdown",
   "metadata": {},
   "source": [
    "The analytical solution of Benchmark 4 is calculated by the following code and reproduces Figure 5abcd from Vanderborght et al. (2005). \n"
   ]
  },
  {
   "cell_type": "markdown",
   "metadata": {},
   "source": [
    "TODO this was not yet implemented by me. Has Jan Matlab code for this?"
   ]
  },
  {
   "cell_type": "markdown",
   "metadata": {},
   "source": [
    "## 3D\n",
    "\n",
    "Suitable benchmarks could be discussed or developed at the workshop."
   ]
  },
  {
   "cell_type": "markdown",
   "metadata": {},
   "source": [
    "## Discussion\n",
    "\n",
    "There are many softwares solving Richards equation. \n",
    "\n",
    "TODO What are the most important features?\n",
    "* Availability, license \n",
    "* supported dimensions: 1D, 1D axial symmetric, 3D\n",
    "* mass conservative method \n",
    "* runs parallel\n",
    "* unstructured meshes \n",
    "* supports mesh refinement "
   ]
  },
  {
   "cell_type": "markdown",
   "metadata": {},
   "source": [
    "## Comparison to numerical solutions\n",
    "\n",
    "Benchmark 1-4 was evaluated for *Macro*, *Hydrus1D*, *Swap*, *Marthe*, and *Wave* in Vanderborght et al. 2005. \n",
    "\n",
    "We plan to validate numerical codes by solving the benchmarking problems 1-4 and the ones we will develop for 3D. In the following we link to notebooks, containing all or some of above benchmarks: \n",
    "\n",
    "* [Dumux](Soil water flow - Dumux.ipynb)\n"
   ]
  },
  {
   "cell_type": "markdown",
   "metadata": {
    "collapsed": true
   },
   "source": [
    "## References\n",
    "\n",
    "Vanderborght, J and Kasteel, R and Herbst, M and Javaux, M and Thiery, D and Vanclooster, M and Mouvet, C and Vereecken, H (2005) A set of analytical benchmarks to test numerical models of flow and transport in soils. *Vadose Zone Journal*, 4(1):206-221\n",
    "\n",
    "Van Genuchten, MT (1980) Closed-form equation for predicting the hydraulic conductivity of unsaturated soils. *Soil Science Society of America Journal* 44(5):892-898\n"
   ]
  }
 ],
 "metadata": {
  "kernelspec": {
   "display_name": "Python 3",
   "language": "python",
   "name": "python3"
  },
  "language_info": {
   "codemirror_mode": {
    "name": "ipython",
    "version": 3
   },
   "file_extension": ".py",
   "mimetype": "text/x-python",
   "name": "python",
   "nbconvert_exporter": "python",
   "pygments_lexer": "ipython3",
   "version": "3.6.3"
  },
  "latex_envs": {
   "LaTeX_envs_menu_present": true,
   "autoclose": false,
   "autocomplete": true,
   "bibliofile": "biblio.bib",
   "cite_by": "apalike",
   "current_citInitial": 1,
   "eqLabelWithNumbers": true,
   "eqNumInitial": 1,
   "hotkeys": {
    "equation": "Ctrl-E",
    "itemize": "Ctrl-I"
   },
   "labels_anchors": false,
   "latex_user_defs": false,
   "report_style_numbering": false,
   "user_envs_cfg": false
  }
 },
 "nbformat": 4,
 "nbformat_minor": 2
}
